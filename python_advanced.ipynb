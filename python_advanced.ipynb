{
 "cells": [
  {
   "cell_type": "markdown",
   "metadata": {},
   "source": [
    "# https://www.geeksforgeeks.org/python/advanced-python-tutorials/"
   ]
  },
  {
   "cell_type": "markdown",
   "metadata": {},
   "source": [
    "# Advanced Conditional Statements"
   ]
  },
  {
   "cell_type": "markdown",
   "metadata": {},
   "source": [
    "**reduce() in Python**"
   ]
  },
  {
   "cell_type": "code",
   "execution_count": 2,
   "metadata": {},
   "outputs": [
    {
     "name": "stdout",
     "output_type": "stream",
     "text": [
      "15\n"
     ]
    }
   ],
   "source": [
    "from functools import reduce\n",
    "def add(x,y):\n",
    "    return x + y\n",
    "a = [1,2,3,4,5]\n",
    "print(reduce(add, a))"
   ]
  },
  {
   "cell_type": "code",
   "execution_count": 4,
   "metadata": {},
   "outputs": [
    {
     "name": "stdout",
     "output_type": "stream",
     "text": [
      "120\n"
     ]
    }
   ],
   "source": [
    "from functools import reduce\n",
    "def mul(x, y):\n",
    "    return x*y\n",
    "a = [1,2,3,4,5]\n",
    "print(reduce(mul, a))"
   ]
  },
  {
   "cell_type": "markdown",
   "metadata": {},
   "source": [
    "**syntax of reduce**"
   ]
  },
  {
   "cell_type": "markdown",
   "metadata": {},
   "source": [
    "*functools.reduce(function, iterable[, initializer])*"
   ]
  },
  {
   "cell_type": "markdown",
   "metadata": {},
   "source": [
    "function: A function that takes two arguments and performs an operation on them.\n",
    "\n",
    "iterable: An iterable whose elements are processed by the function.\n",
    "\n",
    "initializer (optional): A starting value for the operation. If provided, it is placed before the first element in the iterable."
   ]
  },
  {
   "cell_type": "markdown",
   "metadata": {},
   "source": [
    "**Using reduce() with lambda**"
   ]
  },
  {
   "cell_type": "code",
   "execution_count": 12,
   "metadata": {},
   "outputs": [
    {
     "name": "stdout",
     "output_type": "stream",
     "text": [
      "10\n"
     ]
    }
   ],
   "source": [
    "from functools import reduce\n",
    "\n",
    "b = [1,2,3,4]    \n",
    "print(reduce(lambda x,y: x+y, b)) \n"
   ]
  },
  {
   "cell_type": "markdown",
   "metadata": {},
   "source": [
    "**Using reduce() with operator functions**"
   ]
  },
  {
   "cell_type": "code",
   "execution_count": 20,
   "metadata": {},
   "outputs": [
    {
     "name": "stdout",
     "output_type": "stream",
     "text": [
      "20\n",
      "24\n",
      "bobbili sarath kumar\n"
     ]
    }
   ],
   "source": [
    "import functools\n",
    "import operator\n",
    "\n",
    "a = [2,3,5,2,3,5]\n",
    "print(functools.reduce(operator.add, a))\n",
    "print(functools.reduce(operator.mul, b))\n",
    "print(functools.reduce(operator.add, ['bobbili', ' sarath', ' kumar']))"
   ]
  },
  {
   "cell_type": "markdown",
   "metadata": {},
   "source": [
    "**Difference Between reduce() and accumulate()**"
   ]
  },
  {
   "cell_type": "markdown",
   "metadata": {},
   "source": [
    "**The accumulate() function from the itertools module also performs cumulative operations, but it returns an iterator containing intermediate results, unlike reduce(), which returns a single final value.**"
   ]
  },
  {
   "cell_type": "code",
   "execution_count": 5,
   "metadata": {},
   "outputs": [
    {
     "name": "stdout",
     "output_type": "stream",
     "text": [
      "[1, 3, 6, 11, 17]\n",
      "[1, 2, 6, 30, 180]\n",
      "['a', 'ab', 'abc']\n"
     ]
    }
   ],
   "source": [
    "from itertools import accumulate\n",
    "from operator import add, mul\n",
    "\n",
    "a = [1,2,3,5,6]\n",
    "print(list(accumulate(a, add)))\n",
    "print(list(accumulate(a, mul)))\n",
    "b = ['a', 'b', 'c']\n",
    "print(list(accumulate(b, add)))"
   ]
  },
  {
   "cell_type": "markdown",
   "metadata": {},
   "source": [
    "**Recursion in Python**"
   ]
  },
  {
   "cell_type": "code",
   "execution_count": 6,
   "metadata": {},
   "outputs": [
    {
     "name": "stdout",
     "output_type": "stream",
     "text": [
      "6\n"
     ]
    }
   ],
   "source": [
    "def factor(n):\n",
    "    if n == 0:\n",
    "        return 1\n",
    "    else:\n",
    "        return n * factor(n-1)\n",
    "\n",
    "print(factor(3))"
   ]
  },
  {
   "cell_type": "markdown",
   "metadata": {},
   "source": [
    "**Base Case and Recursive Case**"
   ]
  },
  {
   "cell_type": "markdown",
   "metadata": {},
   "source": [
    "Base Case: This is the condition under which the recursion stops. It is crucial to prevent infinite loops and to ensure that each recursive call reduces the problem in some manner. In the factorial example, the base case is n == 1.\n",
    "\n",
    "Recursive Case: This is the part of the function that includes the call to itself. It must eventually lead to the base case. In the factorial example, the recursive case is return n * factorial(n-1)."
   ]
  },
  {
   "cell_type": "code",
   "execution_count": 2,
   "metadata": {},
   "outputs": [
    {
     "data": {
      "text/plain": [
       "2"
      ]
     },
     "execution_count": 2,
     "metadata": {},
     "output_type": "execute_result"
    }
   ],
   "source": [
    "def fibonaci(n):\n",
    "    if n == 0:\n",
    "        return 0\n",
    "    if n == 1:\n",
    "        return 1\n",
    "    else:\n",
    "        return fibonaci(n-1) + fibonaci(n-2)\n",
    "\n",
    "fibonaci(3)"
   ]
  },
  {
   "cell_type": "markdown",
   "metadata": {},
   "source": [
    "**1. If we not do the recursion properly, it will end up in infinit loop.**\n",
    "\n",
    "**2. So we need to plan the proper loop breaking**\n",
    "\n",
    "**3. Need to plan the recursion to achieve the goal**"
   ]
  },
  {
   "cell_type": "markdown",
   "metadata": {},
   "source": [
    "# OOPs"
   ]
  },
  {
   "cell_type": "markdown",
   "metadata": {},
   "source": [
    "**Class:** A class in Python is a user-defined template for creating objects"
   ]
  },
  {
   "cell_type": "code",
   "execution_count": 7,
   "metadata": {},
   "outputs": [
    {
     "name": "stdout",
     "output_type": "stream",
     "text": [
      "bark\n"
     ]
    }
   ],
   "source": [
    "# Let's create an object from the Dog class.\n",
    "# This is a Dog class template\n",
    "class Dog:\n",
    "    sound = \"bark\" \n",
    "\n",
    "# Here the instance of a Dog is created which is a object\n",
    "dog1 = Dog()\n",
    "\n",
    "# Accessing the element or data in the object\n",
    "print(dog1.sound)"
   ]
  },
  {
   "cell_type": "markdown",
   "metadata": {},
   "source": [
    "**Using __init__() Function**"
   ]
  },
  {
   "cell_type": "code",
   "execution_count": 31,
   "metadata": {},
   "outputs": [
    {
     "data": {
      "text/plain": [
       "'hyd'"
      ]
     },
     "execution_count": 31,
     "metadata": {},
     "output_type": "execute_result"
    }
   ],
   "source": [
    "# Name of the class\n",
    "class Person:\n",
    "    # Location of the where the class is working, this is a class varible common to all the object created\n",
    "    location = 'hyd'\n",
    "    def __init__(self, name, years): # This function is used to create the instance of a object\n",
    "        self.person_name = name\n",
    "        self.age = years\n",
    "        \n",
    "person1 = Person(\"Bob\", 24) # Abject is created by out of a class templete\n",
    "person1.person_name         # Here are accessing a fields in the object\n",
    "person1.age\n",
    "person1.location            # Accessingt "
   ]
  },
  {
   "cell_type": "markdown",
   "metadata": {},
   "source": [
    "**Self Parameter**: it represents the current instance of the class, it helps to access the attributes and methods.\n",
    "\n",
    "When we call dog1.bark(), Python automatically passes dog1 as self, allowing access to its attributes."
   ]
  },
  {
   "cell_type": "code",
   "execution_count": 13,
   "metadata": {},
   "outputs": [
    {
     "name": "stdout",
     "output_type": "stream",
     "text": [
      "I am leo barking!\n",
      "I will have water every day\n",
      "I am puppy barking!\n",
      "I will have milk every day\n",
      "We trust worthy dog\n"
     ]
    }
   ],
   "source": [
    "class Dog:\n",
    "    def __init__(self, name, bread):\n",
    "        self.name = name\n",
    "        self.bread = bread\n",
    "        \n",
    "    def bark(self):\n",
    "        print(f\"I am {self.name} barking!\")\n",
    "    \n",
    "    def eats(self):\n",
    "        print(f\"I will have {self.bread} every day\")\n",
    "        \n",
    "    def general():\n",
    "        print(\"We trust worthy dog\")\n",
    "\n",
    "dog  = Dog('leo','water')\n",
    "dog1 = Dog('puppy', 'milk')\n",
    "dog.bark()\n",
    "dog.eats()\n",
    "dog1.bark()\n",
    "dog1.eats()\n",
    "Dog.general()"
   ]
  },
  {
   "cell_type": "markdown",
   "metadata": {},
   "source": [
    "**__str__() Method**: __str__ method in Python allows us to define a custom string representation of an object."
   ]
  },
  {
   "cell_type": "code",
   "execution_count": 8,
   "metadata": {},
   "outputs": [
    {
     "name": "stdout",
     "output_type": "stream",
     "text": [
      "I am sarath, my age is 28\n"
     ]
    }
   ],
   "source": [
    "class Person:\n",
    "    def __init__(self, name, age):\n",
    "        self.name = name\n",
    "        self.age = age\n",
    "        \n",
    "#     def __str__(self):\n",
    "#         return f\"I am {self.name}, my age is {self.age}\"\n",
    "\n",
    "person1 = Person('sarath', 28)\n",
    "print(person1)"
   ]
  },
  {
   "cell_type": "markdown",
   "metadata": {},
   "source": [
    "**Common Predefined Magic Methods:** Magic methods are part of how Python is designed. Even built-in types like int, list, etc. use magic methods behind the scenes."
   ]
  },
  {
   "cell_type": "markdown",
   "metadata": {},
   "source": [
    "| Magic Method             | Purpose                           | Example Trigger                      |\n",
    "| ------------------------ | --------------------------------- | ------------------------------------ |\n",
    "| `__init__`               | Constructor (object creation)     | `MyClass()`                          |\n",
    "| `__str__`                | String representation             | `print(obj)`                         |\n",
    "| `__repr__`               | Developer-friendly representation | `repr(obj)` or just `obj` in console |\n",
    "| `__len__`                | Length of object                  | `len(obj)`                           |\n",
    "| `__getitem__`            | Indexing                          | `obj[0]`                             |\n",
    "| `__setitem__`            | Assigning to an index             | `obj[0] = value`                     |\n",
    "| `__iter__`               | Make object iterable              | `for x in obj:`                      |\n",
    "| `__next__`               | Next item in iteration            | `next(obj)`                          |\n",
    "| `__enter__` / `__exit__` | Context manager support (`with`)  | `with obj:`                          |\n",
    "| `__add__`                | Addition (`+`)                    | `obj1 + obj2`                        |\n",
    "| `__eq__`                 | Equality comparison (`==`)        | `obj1 == obj2`                       |\n",
    "| `__lt__`, `__gt__`       | Less/greater than comparisons     | `obj1 < obj2`, `obj1 > obj2`         |"
   ]
  },
  {
   "cell_type": "markdown",
   "metadata": {},
   "source": [
    "Yes, absolutely! ✅ A programmer can define and override magic methods in Python — and that's exactly how you customize how your class behaves in different situations.\n",
    "\n",
    "But — you can only use the magic method names that Python has already defined (like __init__, __str__, __len__, etc.). You cannot invent your own magic method like __magicmove__ unless Python already supports it."
   ]
  },
  {
   "cell_type": "code",
   "execution_count": 30,
   "metadata": {},
   "outputs": [
    {
     "name": "stdout",
     "output_type": "stream",
     "text": [
      "The Emotional Intelligence has 300 pages\n",
      "300\n"
     ]
    }
   ],
   "source": [
    "class Book:\n",
    "    def __init__(self, name, pages):\n",
    "        self.book_name = name\n",
    "        self.pages = pages\n",
    "        \n",
    "    def __str__(self):\n",
    "        return f\"The {self.book_name} has {self.pages} pages\"\n",
    "    \n",
    "    def __len__(self):\n",
    "        return self.pages\n",
    "    \n",
    "    def __sarat__(self):\n",
    "        return self.book_name\n",
    "    \n",
    "book1 = Book('Emotional Intelligence', 300)\n",
    "print(book1)\n",
    "print(len(book1))\n",
    "# print(sarat(book1))"
   ]
  },
  {
   "cell_type": "markdown",
   "metadata": {},
   "source": [
    "**Class and Instance Variables in Python**"
   ]
  },
  {
   "cell_type": "code",
   "execution_count": 64,
   "metadata": {},
   "outputs": [
    {
     "name": "stdout",
     "output_type": "stream",
     "text": [
      "Canine\n",
      "blue\n",
      "Canine\n",
      "Red\n",
      "local_bread\n",
      "local_bread\n",
      "local_bread\n",
      "local_bread\n",
      "puppy\n",
      "local_bread\n",
      "puppy\n",
      "Pug\n"
     ]
    }
   ],
   "source": [
    "class Dog:\n",
    "    species = \"Canine\"\n",
    "    \n",
    "    def __init__(self, name, age):\n",
    "        self.name = name\n",
    "        self.age = age\n",
    "\n",
    "dog1 = Dog('blue', 6)\n",
    "dog2 = Dog('Red', 8)\n",
    "\n",
    "print(dog1.species) # Class variable\n",
    "print(dog1.name)    # Instance variable\n",
    "# print(dog1.age)     # Instance variable\n",
    "# print('\\n')\n",
    "print(dog2.species) # Class variable\n",
    "print(dog2.name)    # Instance variable\n",
    "# print(dog2.age)     # Instance variable\n",
    "\n",
    "Dog.species = \"local_bread\" # Changing the class variable with instance\n",
    "print(dog1.species)\n",
    "print(dog2.species)\n",
    "print(Dog.species)\n",
    "\n",
    "dog1.species = 'puppy'  # This adds new variable in the dog1 obj a variable in the __init__\n",
    "print(dog2.species)\n",
    "print(dog1.species)\n",
    "print(Dog.species)\n",
    "\n",
    "Dog.species = 'Pug'\n",
    "print(dog1.species)\n",
    "print(dog2.species)"
   ]
  },
  {
   "cell_type": "markdown",
   "metadata": {},
   "source": [
    "**Additional Important Concepts in Python Classes and Objects**"
   ]
  },
  {
   "cell_type": "markdown",
   "metadata": {},
   "source": [
    "Getter and Setter methods provide controlled access to an object's attributes. In Python, these methods are used to retrieve (getter) or modify (setter) the values of private attributes, allowing for data encapsulation.\n",
    "\n",
    "Python doesn't have explicit get and set methods like other languages, but it supports this functionality using property decorators."
   ]
  },
  {
   "cell_type": "markdown",
   "metadata": {},
   "source": [
    "**Yes — in Python, property is indeed used as a built-in decorator that turns a method in a class into a managed attribute.**"
   ]
  },
  {
   "cell_type": "markdown",
   "metadata": {},
   "source": [
    "**Yes — @staticmethod and @classmethod are also predefined (built-in) decorators in Python, just like @property.**"
   ]
  },
  {
   "cell_type": "code",
   "execution_count": 10,
   "metadata": {},
   "outputs": [
    {
     "name": "stdout",
     "output_type": "stream",
     "text": [
      "leo\n",
      "dogs are loyal animals\n",
      "puppy\n",
      "This is from class method\n"
     ]
    }
   ],
   "source": [
    "class Dog():\n",
    "    species = \"puppy\"\n",
    "    @staticmethod\n",
    "    def info(name):\n",
    "        print(name)\n",
    "        print(\"dogs are loyal animals\")\n",
    "    \n",
    "    @classmethod\n",
    "    def count(cls):\n",
    "        print(cls.species)\n",
    "        print(\"This is from class method\")\n",
    "        \n",
    "dog = Dog();\n",
    "dog.info(\"leo\")\n",
    "dog.count()"
   ]
  },
  {
   "cell_type": "markdown",
   "metadata": {},
   "source": [
    "**Abstract Classes and Interfaces**"
   ]
  },
  {
   "cell_type": "markdown",
   "metadata": {},
   "source": [
    "*1. Abstract classes provide a template for other classes*\n",
    "\n",
    "*2. These classes can't be instantiated directly.*\n",
    "\n",
    "*3. They contain abstract methods, which are methods that must be implemented by subclasses*"
   ]
  },
  {
   "cell_type": "markdown",
   "metadata": {},
   "source": [
    "*4. Abstract classes are defined using the abc module in Python*"
   ]
  },
  {
   "cell_type": "code",
   "execution_count": 21,
   "metadata": {},
   "outputs": [
    {
     "name": "stdout",
     "output_type": "stream",
     "text": [
      "bow bow bow ....\n",
      "I eat pedigree\n"
     ]
    }
   ],
   "source": [
    "from abc import ABC, abstractmethod\n",
    "class Animal(ABC):\n",
    "    @abstractmethod\n",
    "    def sound(self):\n",
    "        pass\n",
    "    \n",
    "    @abstractmethod\n",
    "    def food(self):\n",
    "        pass\n",
    "\n",
    "class Dog(Animal):\n",
    "    def sound(self):\n",
    "        print(\"bow bow bow ....\")\n",
    "    \n",
    "    def food(self):\n",
    "        print(\"I eat pedigree\")\n",
    "        \n",
    "dog = Dog();\n",
    "dog.sound()\n",
    "dog.food()"
   ]
  },
  {
   "cell_type": "markdown",
   "metadata": {},
   "source": [
    "*1. When you make a class inherit from ABC and mark methods with @abstractmethod, Python enforces that all abstract \n",
    "*methods must be overridden in any concrete subclass before you can create an instance.*"
   ]
  },
  {
   "cell_type": "markdown",
   "metadata": {},
   "source": [
    "When you create a subclass of an ABC, Python checks:\n",
    "\n",
    "If all abstract methods are overridden → ✅ subclass can be instantiated.\n",
    "\n",
    "If any abstract method is missing → ❌ raises TypeError on instantiation."
   ]
  },
  {
   "cell_type": "markdown",
   "metadata": {},
   "source": [
    "# Inheritance"
   ]
  },
  {
   "cell_type": "code",
   "execution_count": 22,
   "metadata": {},
   "outputs": [],
   "source": [
    "class Parentclass():\n",
    "#     attributs\n",
    "#     methods\n",
    "    pass\n",
    "class Childernclass(Parentclass):\n",
    "#     attrubutes\n",
    "#     methods\n",
    "    pass"
   ]
  },
  {
   "cell_type": "code",
   "execution_count": 35,
   "metadata": {},
   "outputs": [
    {
     "name": "stdout",
     "output_type": "stream",
     "text": [
      "Bob 234\n"
     ]
    }
   ],
   "source": [
    "# A python program to demonistrate inheritance\n",
    "class Person(object):\n",
    "    # This is a constructor\n",
    "    def __init__(self, name, id):\n",
    "        self.name = name\n",
    "        self.id = id\n",
    "        \n",
    "    # To check this person is a employ or not\n",
    "    def Display(self):\n",
    "        print(self.name, self.id)\n",
    "\n",
    "# Driver code\n",
    "emp = Person(\"Bob\", 234)\n",
    "emp.Display()"
   ]
  },
  {
   "cell_type": "markdown",
   "metadata": {},
   "source": [
    "**Create a child class**"
   ]
  },
  {
   "cell_type": "code",
   "execution_count": 38,
   "metadata": {},
   "outputs": [
    {
     "name": "stdout",
     "output_type": "stream",
     "text": [
      "Employ class called\n",
      "Mayank 124\n"
     ]
    }
   ],
   "source": [
    "class Emp(Person):\n",
    "    \n",
    "    def Print(self):\n",
    "        print(\"Employ class called\")\n",
    "\n",
    "emp = Emp(\"Mayank\", 124)\n",
    "emp.Print()\n",
    "emp.Display()"
   ]
  },
  {
   "cell_type": "code",
   "execution_count": 42,
   "metadata": {},
   "outputs": [],
   "source": [
    "class Person:\n",
    "    def __init__(self, name, idnumber):\n",
    "        self.name = name\n",
    "        self.idnumber = idnumber\n",
    "        \n",
    "    def Display(self):\n",
    "        print(self.name, self.idnumber)\n",
    "        \n",
    "def Employee(Person):\n",
    "    def __init__(self, name, idnumber, salary, loc):\n",
    "        super().__init__(name, idnumber)\n",
    "        self.salary = salary\n",
    "        self.location = loc"
   ]
  },
  {
   "cell_type": "markdown",
   "metadata": {},
   "source": [
    "**Types of Python Inheritance:**\n",
    "    \n",
    "*Single Inheritance:* A child class inherits from one parent class.\n",
    "\n",
    "*Multiple Inheritance:* A child class inherits from more than one parent class.\n",
    "\n",
    "*Multilevel Inheritance:* A class is derived from a class which is also derived from another class.\n",
    "\n",
    "*Hierarchical Inheritance:* Multiple classes inherit from a single parent class.\n",
    "\n",
    "*Hybrid Inheritance:* A combination of more than one type of inheritance."
   ]
  },
  {
   "cell_type": "code",
   "execution_count": null,
   "metadata": {},
   "outputs": [],
   "source": []
  },
  {
   "cell_type": "code",
   "execution_count": 76,
   "metadata": {},
   "outputs": [
    {
     "name": "stdout",
     "output_type": "stream",
     "text": [
      "Bob\n",
      "Bob 1500000\n",
      "Bob 1500000 MS/ECL\n",
      "Bob 1500000 15\n",
      "Bob 1500000 MS/ECL2 15\n"
     ]
    }
   ],
   "source": [
    "# Single Inheritance\n",
    "class Person:\n",
    "\n",
    "    def __init__(self, name):\n",
    "        self.name = name\n",
    "#         self.place = place\n",
    "#         self.height = height\n",
    "#         self.weight = weight\n",
    "        \n",
    "#     def bmi(self):\n",
    "#         return 10*self.height+self.weight\n",
    "\n",
    "class Employee(Person):\n",
    "    \n",
    "    def __init__(self, name, salary):\n",
    "        super().__init__(name)\n",
    "        self.salary = salary\n",
    "\n",
    "class Job:\n",
    "    \n",
    "    def __init__(self, salary):\n",
    "        self.salary = salary\n",
    "        \n",
    "# Multiple Inheritance\n",
    "class EmployPersonJob(Employee, Job):\n",
    "    \n",
    "    def __init__(self, name, salary):\n",
    "        Employee.__init__(self, name, salary)\n",
    "        Job.__init__(self, salary)\n",
    "        \n",
    "# eng = EmployPersonJob(\"Bob\", \"15lpa\")\n",
    "# print(eng.name, eng.salary)\n",
    "\n",
    "# Multilevel Inheritance\n",
    "class Manager(EmployPersonJob):\n",
    "    def __init__(self, name, salary, department):\n",
    "        EmployPersonJob.__init__(self, name, salary)\n",
    "        self.department = department\n",
    "\n",
    "# 4. Hierarchical Inheritance\n",
    "class AssistantManager(EmployPersonJob):\n",
    "    def __init__(self, name, salary, team_size):\n",
    "        EmployPersonJob.__init__(self, name, salary)\n",
    "        self.team_size = team_size\n",
    "     \n",
    "# 5. Hybrid Inheritance (Multiple + Multilevel)\n",
    "class SeniorManager(Manager, AssistantManager):\n",
    "    \n",
    "    def __init__(self, name, salary, department, team_size):\n",
    "        Manager.__init__(self, name, salary, department)\n",
    "        AssistantManager.__init__(self, name, salary, team_size)\n",
    "\n",
    "# Creating objects to show inheritance\n",
    "\n",
    "person =  Person(\"Bob\")\n",
    "print(person.name)\n",
    "\n",
    "emp =  EmployPersonJob(\"Bob\", 1500000)\n",
    "print(emp.name, emp.salary)\n",
    "\n",
    "manager = Manager(\"Bob\", 1500000, \"MS/ECL\")\n",
    "print(manager.name, manager.salary, manager.department)\n",
    "\n",
    "assmanager = AssistantManager(\"Bob\", 1500000, 15) \n",
    "print(assmanager.name, assmanager.salary, assmanager.team_size)\n",
    "\n",
    "seniormanager = SeniorManager(\"Bob\", 1500000, \"MS/ECL2\", 15)\n",
    "print(seniormanager.name, seniormanager.salary, seniormanager.department, seniormanager.team_size)"
   ]
  },
  {
   "cell_type": "markdown",
   "metadata": {},
   "source": [
    "# Encapsulation in Python"
   ]
  },
  {
   "cell_type": "markdown",
   "metadata": {},
   "source": [
    "1. Technically, encapsulation is an object-oriented programming principle where data (variables) and methods (functions) are bundled together in a class.\n",
    "\n",
    "2. means hiding internal details of a class and only exposing what’s necessary. It helps to protect important data from being changed directly and keeps the code secure and organized.\n",
    "\n",
    "3. Example of Encapsulation\n",
    "\n",
    "    Encapsulation in Python is like having a bank account system where your account balance (data) is kept private. You can't directly change your balance by accessing account database.\n",
    "    Instead, bank provides you with methods (functions) like deposit and withdraw to modify your balance safely.\n",
    "\n",
    "    Private Data (Balance): Your balance is stored securely. Direct access from outside is not allowed, ensuring data is protected from unauthorized changes.\n",
    "    Public Methods (Deposit and Withdraw): These are the only ways to modify your balance. They check if your requests (like withdrawing money) \n",
    "    follow the rules (e.g., you have enough balance) before allowing changes."
   ]
  },
  {
   "cell_type": "markdown",
   "metadata": {},
   "source": [
    "**Access Specifiers in Python**"
   ]
  },
  {
   "cell_type": "markdown",
   "metadata": {},
   "source": [
    "public, private and protected."
   ]
  },
  {
   "cell_type": "markdown",
   "metadata": {},
   "source": [
    "*Public:* members are variables or methods that can be accessed from anywhere inside the class, outside the class or from other modules. By default, all members in Python are public.\n",
    "\n",
    "They are defined without any underscore prefix (e.g., self.name)"
   ]
  },
  {
   "cell_type": "code",
   "execution_count": 1,
   "metadata": {},
   "outputs": [
    {
     "name": "stdout",
     "output_type": "stream",
     "text": [
      "Bob\n",
      "Bob\n"
     ]
    }
   ],
   "source": [
    "class Person:\n",
    "    def __init__(self, name):\n",
    "        self.name = name        # public attribute\n",
    "        \n",
    "    def display_name(self):     # public method\n",
    "        print(self.name)\n",
    "\n",
    "person =  Person('Bob')\n",
    "print(person.name)\n",
    "person.display_name()"
   ]
  },
  {
   "cell_type": "markdown",
   "metadata": {},
   "source": [
    "**Protected members**"
   ]
  },
  {
   "cell_type": "markdown",
   "metadata": {},
   "source": [
    "1. Protected members are variables or methods that are intended to be accessed only within the class and its subclasses. They are not strictly private but should be treated as internal. \n",
    "In Python, protected members are defined with a single underscore prefix (e.g., self._name)."
   ]
  },
  {
   "cell_type": "code",
   "execution_count": 10,
   "metadata": {},
   "outputs": [
    {
     "name": "stdout",
     "output_type": "stream",
     "text": [
      "20\n"
     ]
    },
    {
     "data": {
      "text/plain": [
       "20"
      ]
     },
     "execution_count": 10,
     "metadata": {},
     "output_type": "execute_result"
    }
   ],
   "source": [
    "class Protected:\n",
    "    def __init__(self, age):\n",
    "        self._age = age\n",
    "        \n",
    "class Person(Protected):\n",
    "    \n",
    "    def __init__(self, name,  age):\n",
    "        super().__init__(age)\n",
    "        self.name = 'bob'\n",
    "\n",
    "    def display_age(self):\n",
    "        print(self._age)\n",
    "\n",
    "person = Person('bob',20)\n",
    "person.display_age()\n",
    "person._age"
   ]
  },
  {
   "cell_type": "markdown",
   "metadata": {},
   "source": [
    "2. Why _age is accessible\n",
    "_age is a protected attribute (single underscore).\n",
    "Python does not enforce access control — it’s just a naming convention meaning “you probably shouldn’t touch this from outside the class unless you have a good reason.”"
   ]
  },
  {
   "cell_type": "markdown",
   "metadata": {},
   "source": [
    "**Private members**"
   ]
  },
  {
   "cell_type": "markdown",
   "metadata": {},
   "source": [
    "1. Private members are variables or methods that cannot be accessed directly from outside the class. They are used to restrict access and protect internal data.\n",
    "\n",
    "2. In Python, private members are defined with a double underscore prefix (e.g., self.__salary). Python applies name mangling by internally renaming them \n",
    "(e.g., __salary becomes _ClassName__salary) to prevent direct access."
   ]
  },
  {
   "cell_type": "code",
   "execution_count": 26,
   "metadata": {},
   "outputs": [
    {
     "ename": "AttributeError",
     "evalue": "'Employ' object has no attribute '_Employ__salary'",
     "output_type": "error",
     "traceback": [
      "\u001b[1;31m---------------------------------------------------------------------------\u001b[0m",
      "\u001b[1;31mAttributeError\u001b[0m                            Traceback (most recent call last)",
      "\u001b[1;32m<ipython-input-26-ce4f84956b89>\u001b[0m in \u001b[0;36m<module>\u001b[1;34m\u001b[0m\n\u001b[0;32m     14\u001b[0m \u001b[1;33m\u001b[0m\u001b[0m\n\u001b[0;32m     15\u001b[0m \u001b[0mprv\u001b[0m \u001b[1;33m=\u001b[0m \u001b[0mEmploy\u001b[0m\u001b[1;33m(\u001b[0m\u001b[1;36m40\u001b[0m\u001b[1;33m)\u001b[0m\u001b[1;33m\u001b[0m\u001b[0m\n\u001b[1;32m---> 16\u001b[1;33m \u001b[0mprv\u001b[0m\u001b[1;33m.\u001b[0m\u001b[0memp_details\u001b[0m\u001b[1;33m(\u001b[0m\u001b[1;33m)\u001b[0m\u001b[1;33m\u001b[0m\u001b[0m\n\u001b[0m",
      "\u001b[1;32m<ipython-input-26-ce4f84956b89>\u001b[0m in \u001b[0;36memp_details\u001b[1;34m(self)\u001b[0m\n\u001b[0;32m     11\u001b[0m \u001b[1;33m\u001b[0m\u001b[0m\n\u001b[0;32m     12\u001b[0m     \u001b[1;32mdef\u001b[0m \u001b[0memp_details\u001b[0m\u001b[1;33m(\u001b[0m\u001b[0mself\u001b[0m\u001b[1;33m)\u001b[0m\u001b[1;33m:\u001b[0m\u001b[1;33m\u001b[0m\u001b[0m\n\u001b[1;32m---> 13\u001b[1;33m         \u001b[0mprint\u001b[0m\u001b[1;33m(\u001b[0m\u001b[0mself\u001b[0m\u001b[1;33m.\u001b[0m\u001b[0m__salary\u001b[0m\u001b[1;33m)\u001b[0m\u001b[1;33m\u001b[0m\u001b[0m\n\u001b[0m\u001b[0;32m     14\u001b[0m \u001b[1;33m\u001b[0m\u001b[0m\n\u001b[0;32m     15\u001b[0m \u001b[0mprv\u001b[0m \u001b[1;33m=\u001b[0m \u001b[0mEmploy\u001b[0m\u001b[1;33m(\u001b[0m\u001b[1;36m40\u001b[0m\u001b[1;33m)\u001b[0m\u001b[1;33m\u001b[0m\u001b[0m\n",
      "\u001b[1;31mAttributeError\u001b[0m: 'Employ' object has no attribute '_Employ__salary'"
     ]
    }
   ],
   "source": [
    "class Private:\n",
    "    def __init__(self, salary):\n",
    "        self.__salary = salary\n",
    "\n",
    "    def Salary(self):\n",
    "        print(self.__salary)\n",
    "        \n",
    "class Employ(Private):\n",
    "    def __init__(self, salary):\n",
    "        super().__init__(salary)\n",
    "    \n",
    "    def emp_details(self):\n",
    "        print(self.__salary)\n",
    "\n",
    "prv = Employ(40)\n",
    "prv.emp_details()"
   ]
  },
  {
   "cell_type": "markdown",
   "metadata": {},
   "source": [
    "**Declaring Protected and Private Methods**"
   ]
  },
  {
   "cell_type": "code",
   "execution_count": 29,
   "metadata": {},
   "outputs": [
    {
     "name": "stdout",
     "output_type": "stream",
     "text": [
      "Balance: ₹30000\n",
      "Balance: ₹30200\n"
     ]
    }
   ],
   "source": [
    "class BankAccount:\n",
    "    def __init__(self):\n",
    "        self.balance = 30000\n",
    "        \n",
    "    def _show_balance(self):\n",
    "        print(f\"Balance: ₹{self.balance}\")\n",
    "    \n",
    "    def __update_balance(self, amount):\n",
    "        self.balance += amount\n",
    "    \n",
    "    def deposit(self, amount):\n",
    "        if amount > 0:\n",
    "            self.__update_balance(amount)\n",
    "            self._show_balance()\n",
    "        \n",
    "        else:\n",
    "            print(\"Invalid deposit amount\")\n",
    "            \n",
    "account = BankAccount()\n",
    "account._show_balance()\n",
    "# account.__update_balance(500)\n",
    "account.deposit(200)"
   ]
  },
  {
   "cell_type": "markdown",
   "metadata": {},
   "source": [
    "Getter and Setter Methods\n",
    "In Python, getter and setter methods are used to access and modify private attributes safely. Instead of accessing private data directly, these methods provide controlled access, allowing you to:\n",
    "\n",
    "Read data using a getter method.\n",
    "Update data using a setter method with optional validation or restrictions."
   ]
  },
  {
   "cell_type": "code",
   "execution_count": 35,
   "metadata": {},
   "outputs": [
    {
     "data": {
      "text/plain": [
       "34000"
      ]
     },
     "execution_count": 35,
     "metadata": {},
     "output_type": "execute_result"
    }
   ],
   "source": [
    "class Employee:\n",
    "    def __init__(self):\n",
    "        self.__salary = 30000\n",
    "    \n",
    "    def get_salary(self):\n",
    "        return self.__salary\n",
    "    \n",
    "    def set_salary(self, amount):\n",
    "        self.__salary = amount\n",
    "      \n",
    "emp = Employee()\n",
    "emp.get_salary()\n",
    "emp.set_salary(34000)\n",
    "emp.get_salary()"
   ]
  },
  {
   "cell_type": "markdown",
   "metadata": {},
   "source": [
    "# Polymorphism in Python"
   ]
  },
  {
   "cell_type": "markdown",
   "metadata": {},
   "source": [
    "Polymorphism means \"many forms\". It refers to the ability of an entity (like a function or object) to perform different actions based on the context."
   ]
  },
  {
   "cell_type": "markdown",
   "metadata": {},
   "source": [
    "Technically, in Python, polymorphism allows same method, function or operator to behave differently depending on object it is working with. This makes code more flexible and reusable."
   ]
  },
  {
   "cell_type": "markdown",
   "metadata": {},
   "source": [
    "Example of Polymorphism\n",
    "A remote control can operate multiple devices like a TV, AC or music system. You press the power button and each device responds differently TV turns on, AC starts cooling, music system plays music.\n",
    "\n",
    "Polymorphism here means same interface (power button), but different behavior based on device (object)."
   ]
  },
  {
   "cell_type": "markdown",
   "metadata": {},
   "source": [
    "**Types of Polymorphism**"
   ]
  },
  {
   "cell_type": "markdown",
   "metadata": {},
   "source": [
    "1. Compile time\n",
    "\n",
    "2. Runtime"
   ]
  },
  {
   "cell_type": "markdown",
   "metadata": {},
   "source": [
    "1. In python the types are decided at the run time, so there is no compile time polymorphism in python\n",
    "\n",
    "2. Python does not have compile-time polymorphism. It only supports runtime polymorphism.\n",
    "\n",
    "3. Dynamically typed means you don’t have to declare a variable’s type before using it — Python figures out the type at runtime, based on the value you assign.\n",
    "\n",
    "4. Languages like Java or C++ support this. But Python doesn’t because it’s dynamically typed it resolves method calls at runtime, not during compilation. \n",
    "   So, true method overloading isn’t supported in Python, though similar behavior can be achieved using default or variable arguments.\n",
    "\n",
    "5. So, true method overloading isn’t supported in Python, though similar behavior can be achieved using default or variable arguments."
   ]
  },
  {
   "cell_type": "code",
   "execution_count": 7,
   "metadata": {},
   "outputs": [
    {
     "name": "stdout",
     "output_type": "stream",
     "text": [
      "1\n",
      "4\n"
     ]
    },
    {
     "data": {
      "text/plain": [
       "24"
      ]
     },
     "execution_count": 7,
     "metadata": {},
     "output_type": "execute_result"
    }
   ],
   "source": [
    "class Calculator:\n",
    "    def multiply(self, a=1, b=1, *args):\n",
    "        result  = a * b\n",
    "        for num in args:\n",
    "            result *=num\n",
    "        return result\n",
    "\n",
    "calc = Calculator()\n",
    "#Using default args\n",
    "print(calc.multiply())\n",
    "print(calc.multiply(4))\n",
    "\n",
    "#Using variable length argument\n",
    "calc.multiply(1,2)\n",
    "calc.multiply(1,2,3)\n",
    "calc.multiply(1,2,3,4)"
   ]
  },
  {
   "cell_type": "markdown",
   "metadata": {},
   "source": [
    "**Runtime Polymorphism (Overriding)**"
   ]
  },
  {
   "cell_type": "markdown",
   "metadata": {},
   "source": [
    "1. Runtime polymorphism means that the behavior of a method is decided while program is running, based on the object calling it.\n",
    "2. In Python, this happens through Method Overriding a child class provides its own version of a method already defined in the parent class.\n",
    "   Since Python is dynamic, it supports this, allowing same method call to behave differently for different object types."
   ]
  },
  {
   "cell_type": "code",
   "execution_count": 9,
   "metadata": {},
   "outputs": [
    {
     "name": "stdout",
     "output_type": "stream",
     "text": [
      "Meow\n",
      "Bark\n",
      "Amma\n"
     ]
    }
   ],
   "source": [
    "class Animal:\n",
    "    def sound(self):\n",
    "        return \"Amma\"\n",
    "        \n",
    "class Cat(Animal):\n",
    "    def sound(self):\n",
    "        return \"Meow\"\n",
    "\n",
    "class Dog(Animal):\n",
    "    def sound(self):\n",
    "        return \"Bark\"\n",
    "            \n",
    "animals = [Cat(), Dog(), Animal()]\n",
    "\n",
    "for animal in animals:\n",
    "    print(animal.sound())"
   ]
  },
  {
   "cell_type": "markdown",
   "metadata": {},
   "source": [
    "**Polymorphism in Built-in Functions** python build in functions like len, max ... etc"
   ]
  },
  {
   "cell_type": "code",
   "execution_count": 14,
   "metadata": {},
   "outputs": [
    {
     "name": "stdout",
     "output_type": "stream",
     "text": [
      "11\n",
      "5\n",
      "z\n",
      "4\n"
     ]
    }
   ],
   "source": [
    "print(len(\"hello world\"))\n",
    "print(len([1,2,3,4,5]))\n",
    "\n",
    "print(max(\"helloz\"))\n",
    "print(max([1,2,3,4]))"
   ]
  },
  {
   "cell_type": "code",
   "execution_count": 22,
   "metadata": {},
   "outputs": [
    {
     "name": "stdout",
     "output_type": "stream",
     "text": [
      "6\n",
      "20\n",
      "3\n",
      "sarath kumar\n",
      "2.59\n"
     ]
    }
   ],
   "source": [
    "def poly(a, b, c=None):\n",
    "    if c is not None:\n",
    "        return a+b+c\n",
    "    else:\n",
    "        return a*b\n",
    "    \n",
    "print(poly(1,2,3))\n",
    "print(poly(4,5))\n",
    "\n",
    "print(add(1,2))\n",
    "print(add(\"sarath \", \"kumar\"))\n",
    "print(add(1.245, 1.345))"
   ]
  },
  {
   "cell_type": "markdown",
   "metadata": {},
   "source": [
    "**def add(a, b):**\n",
    "    **return a+b**\n",
    "\n",
    "**This is more like a generic function and it is doing polymornphism but at run time. we are not defining multiple function like c++.**\n",
    "**But we can do the same thing in c++ using templates but that can be resolved at compile time as we know the type info at compile time.**"
   ]
  },
  {
   "cell_type": "markdown",
   "metadata": {},
   "source": [
    "| Aspect              | Python `add(a, b)`           | C++ Template `add<T>(a, b)`                |\n",
    "| ------------------- | ---------------------------- | ------------------------------------------ |\n",
    "| Typing              | Dynamic, resolved at runtime | Static, resolved at compile time           |\n",
    "| Polymorphism type   | Runtime polymorphism         | Compile-time polymorphism                  |\n",
    "| Number of functions | One generic function         | Multiple generated functions for each type |\n"
   ]
  },
  {
   "cell_type": "markdown",
   "metadata": {},
   "source": [
    "**Polymorphism in Functions**"
   ]
  },
  {
   "cell_type": "code",
   "execution_count": 24,
   "metadata": {},
   "outputs": [
    {
     "name": "stdout",
     "output_type": "stream",
     "text": [
      "writing\n",
      "removing\n"
     ]
    }
   ],
   "source": [
    "class Pen:\n",
    "    def use(self):\n",
    "        return 'writing'\n",
    "    \n",
    "class Erager:\n",
    "    def use(self):\n",
    "        return 'removing'\n",
    "\n",
    "def perform_task(tool):\n",
    "    print(tool.use())\n",
    "    \n",
    "pen = Pen()\n",
    "ers = Erager()\n",
    "perform_task(pen)\n",
    "perform_task(ers)"
   ]
  },
  {
   "cell_type": "markdown",
   "metadata": {},
   "source": [
    "**Polymorphism in Operators**"
   ]
  },
  {
   "cell_type": "markdown",
   "metadata": {},
   "source": [
    "In Python, same operator (+) can perform different tasks depending on operand types. This is known as operator overloading.\n",
    "This flexibility is a key aspect of polymorphism in Python."
   ]
  },
  {
   "cell_type": "code",
   "execution_count": 27,
   "metadata": {},
   "outputs": [
    {
     "name": "stdout",
     "output_type": "stream",
     "text": [
      "4\n",
      "hello world\n",
      "[1, 2, 3, 4, 5, 6]\n"
     ]
    }
   ],
   "source": [
    "print(1 + 3) # Integer addition\n",
    "print(\"hello\" + \" world\") # String concatination\n",
    "print([1, 2, 3] + [4, 5, 6]) # List concatination"
   ]
  }
 ],
 "metadata": {
  "kernelspec": {
   "display_name": "Python 3",
   "language": "python",
   "name": "python3"
  },
  "language_info": {
   "codemirror_mode": {
    "name": "ipython",
    "version": 3
   },
   "file_extension": ".py",
   "mimetype": "text/x-python",
   "name": "python",
   "nbconvert_exporter": "python",
   "pygments_lexer": "ipython3",
   "version": "3.6.6"
  }
 },
 "nbformat": 4,
 "nbformat_minor": 4
}
