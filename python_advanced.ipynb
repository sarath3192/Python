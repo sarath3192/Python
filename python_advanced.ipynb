{
 "cells": [
  {
   "cell_type": "markdown",
   "metadata": {},
   "source": [
    "# https://www.geeksforgeeks.org/python/advanced-python-tutorials/"
   ]
  },
  {
   "cell_type": "markdown",
   "metadata": {},
   "source": [
    "# Advanced Conditional Statements"
   ]
  },
  {
   "cell_type": "markdown",
   "metadata": {},
   "source": [
    "**reduce() in Python**"
   ]
  },
  {
   "cell_type": "code",
   "execution_count": 2,
   "metadata": {},
   "outputs": [
    {
     "name": "stdout",
     "output_type": "stream",
     "text": [
      "15\n"
     ]
    }
   ],
   "source": [
    "from functools import reduce\n",
    "def add(x,y):\n",
    "    return x + y\n",
    "a = [1,2,3,4,5]\n",
    "print(reduce(add, a))"
   ]
  },
  {
   "cell_type": "code",
   "execution_count": 4,
   "metadata": {},
   "outputs": [
    {
     "name": "stdout",
     "output_type": "stream",
     "text": [
      "120\n"
     ]
    }
   ],
   "source": [
    "from functools import reduce\n",
    "def mul(x, y):\n",
    "    return x*y\n",
    "a = [1,2,3,4,5]\n",
    "print(reduce(mul, a))"
   ]
  },
  {
   "cell_type": "markdown",
   "metadata": {},
   "source": [
    "**syntax of reduce**"
   ]
  },
  {
   "cell_type": "markdown",
   "metadata": {},
   "source": [
    "*functools.reduce(function, iterable[, initializer])*"
   ]
  },
  {
   "cell_type": "markdown",
   "metadata": {},
   "source": [
    "function: A function that takes two arguments and performs an operation on them.\n",
    "\n",
    "iterable: An iterable whose elements are processed by the function.\n",
    "\n",
    "initializer (optional): A starting value for the operation. If provided, it is placed before the first element in the iterable."
   ]
  },
  {
   "cell_type": "markdown",
   "metadata": {},
   "source": [
    "**Using reduce() with lambda**"
   ]
  },
  {
   "cell_type": "code",
   "execution_count": 12,
   "metadata": {},
   "outputs": [
    {
     "name": "stdout",
     "output_type": "stream",
     "text": [
      "10\n"
     ]
    }
   ],
   "source": [
    "from functools import reduce\n",
    "\n",
    "b = [1,2,3,4]    \n",
    "print(reduce(lambda x,y: x+y, b)) \n"
   ]
  },
  {
   "cell_type": "markdown",
   "metadata": {},
   "source": [
    "**Using reduce() with operator functions**"
   ]
  },
  {
   "cell_type": "code",
   "execution_count": 20,
   "metadata": {},
   "outputs": [
    {
     "name": "stdout",
     "output_type": "stream",
     "text": [
      "20\n",
      "24\n",
      "bobbili sarath kumar\n"
     ]
    }
   ],
   "source": [
    "import functools\n",
    "import operator\n",
    "\n",
    "a = [2,3,5,2,3,5]\n",
    "print(functools.reduce(operator.add, a))\n",
    "print(functools.reduce(operator.mul, b))\n",
    "print(functools.reduce(operator.add, ['bobbili', ' sarath', ' kumar']))"
   ]
  },
  {
   "cell_type": "markdown",
   "metadata": {},
   "source": [
    "**Difference Between reduce() and accumulate()**"
   ]
  },
  {
   "cell_type": "markdown",
   "metadata": {},
   "source": [
    "**The accumulate() function from the itertools module also performs cumulative operations, but it returns an iterator containing intermediate results, unlike reduce(), which returns a single final value.**"
   ]
  },
  {
   "cell_type": "code",
   "execution_count": 5,
   "metadata": {},
   "outputs": [
    {
     "name": "stdout",
     "output_type": "stream",
     "text": [
      "[1, 3, 6, 11, 17]\n",
      "[1, 2, 6, 30, 180]\n",
      "['a', 'ab', 'abc']\n"
     ]
    }
   ],
   "source": [
    "from itertools import accumulate\n",
    "from operator import add, mul\n",
    "\n",
    "a = [1,2,3,5,6]\n",
    "print(list(accumulate(a, add)))\n",
    "print(list(accumulate(a, mul)))\n",
    "b = ['a', 'b', 'c']\n",
    "print(list(accumulate(b, add)))"
   ]
  },
  {
   "cell_type": "markdown",
   "metadata": {},
   "source": [
    "**Recursion in Python**"
   ]
  },
  {
   "cell_type": "code",
   "execution_count": 6,
   "metadata": {},
   "outputs": [
    {
     "name": "stdout",
     "output_type": "stream",
     "text": [
      "6\n"
     ]
    }
   ],
   "source": [
    "def factor(n):\n",
    "    if n == 0:\n",
    "        return 1\n",
    "    else:\n",
    "        return n * factor(n-1)\n",
    "\n",
    "print(factor(3))"
   ]
  },
  {
   "cell_type": "markdown",
   "metadata": {},
   "source": [
    "**Base Case and Recursive Case**"
   ]
  },
  {
   "cell_type": "markdown",
   "metadata": {},
   "source": [
    "Base Case: This is the condition under which the recursion stops. It is crucial to prevent infinite loops and to ensure that each recursive call reduces the problem in some manner. In the factorial example, the base case is n == 1.\n",
    "\n",
    "Recursive Case: This is the part of the function that includes the call to itself. It must eventually lead to the base case. In the factorial example, the recursive case is return n * factorial(n-1)."
   ]
  },
  {
   "cell_type": "code",
   "execution_count": 2,
   "metadata": {},
   "outputs": [
    {
     "data": {
      "text/plain": [
       "2"
      ]
     },
     "execution_count": 2,
     "metadata": {},
     "output_type": "execute_result"
    }
   ],
   "source": [
    "def fibonaci(n):\n",
    "    if n == 0:\n",
    "        return 0\n",
    "    if n == 1:\n",
    "        return 1\n",
    "    else:\n",
    "        return fibonaci(n-1) + fibonaci(n-2)\n",
    "\n",
    "fibonaci(3)"
   ]
  },
  {
   "cell_type": "markdown",
   "metadata": {},
   "source": [
    "**1. If we not do the recursion properly, it will end up in infinit loop.**\n",
    "\n",
    "**2. So we need to plan the proper loop breaking**\n",
    "\n",
    "**3. Need to plan the recursion to achieve the goal**"
   ]
  },
  {
   "cell_type": "markdown",
   "metadata": {},
   "source": [
    "# OOPs"
   ]
  },
  {
   "cell_type": "markdown",
   "metadata": {},
   "source": [
    "**Class:** A class in Python is a user-defined template for creating objects"
   ]
  },
  {
   "cell_type": "code",
   "execution_count": 7,
   "metadata": {},
   "outputs": [
    {
     "name": "stdout",
     "output_type": "stream",
     "text": [
      "bark\n"
     ]
    }
   ],
   "source": [
    "# Let's create an object from the Dog class.\n",
    "# This is a Dog class template\n",
    "class Dog:\n",
    "    sound = \"bark\" \n",
    "\n",
    "# Here the instance of a Dog is created which is a object\n",
    "dog1 = Dog()\n",
    "\n",
    "# Accessing the element or data in the object\n",
    "print(dog1.sound)"
   ]
  },
  {
   "cell_type": "markdown",
   "metadata": {},
   "source": [
    "**Using __init__() Function**"
   ]
  },
  {
   "cell_type": "code",
   "execution_count": 31,
   "metadata": {},
   "outputs": [
    {
     "data": {
      "text/plain": [
       "'hyd'"
      ]
     },
     "execution_count": 31,
     "metadata": {},
     "output_type": "execute_result"
    }
   ],
   "source": [
    "# Name of the class\n",
    "class Person:\n",
    "    # Location of the where the class is working, this is a class varible common to all the object created\n",
    "    location = 'hyd'\n",
    "    def __init__(self, name, years): # This function is used to create the instance of a object\n",
    "        self.person_name = name\n",
    "        self.age = years\n",
    "        \n",
    "person1 = Person(\"Bob\", 24) # Abject is created by out of a class templete\n",
    "person1.person_name         # Here are accessing a fields in the object\n",
    "person1.age\n",
    "person1.location            # Accessingt "
   ]
  },
  {
   "cell_type": "markdown",
   "metadata": {},
   "source": [
    "**Self Parameter**: it represents the current instance of the class, it helps to access the attributes and methods.\n",
    "\n",
    "When we call dog1.bark(), Python automatically passes dog1 as self, allowing access to its attributes."
   ]
  },
  {
   "cell_type": "code",
   "execution_count": 13,
   "metadata": {},
   "outputs": [
    {
     "name": "stdout",
     "output_type": "stream",
     "text": [
      "I am leo barking!\n",
      "I will have water every day\n",
      "I am puppy barking!\n",
      "I will have milk every day\n",
      "We trust worthy dog\n"
     ]
    }
   ],
   "source": [
    "class Dog:\n",
    "    def __init__(self, name, bread):\n",
    "        self.name = name\n",
    "        self.bread = bread\n",
    "        \n",
    "    def bark(self):\n",
    "        print(f\"I am {self.name} barking!\")\n",
    "    \n",
    "    def eats(self):\n",
    "        print(f\"I will have {self.bread} every day\")\n",
    "        \n",
    "    def general():\n",
    "        print(\"We trust worthy dog\")\n",
    "\n",
    "dog  = Dog('leo','water')\n",
    "dog1 = Dog('puppy', 'milk')\n",
    "dog.bark()\n",
    "dog.eats()\n",
    "dog1.bark()\n",
    "dog1.eats()\n",
    "Dog.general()"
   ]
  },
  {
   "cell_type": "markdown",
   "metadata": {},
   "source": [
    "**__str__() Method**: __str__ method in Python allows us to define a custom string representation of an object."
   ]
  },
  {
   "cell_type": "code",
   "execution_count": 8,
   "metadata": {},
   "outputs": [
    {
     "name": "stdout",
     "output_type": "stream",
     "text": [
      "I am sarath, my age is 28\n"
     ]
    }
   ],
   "source": [
    "class Person:\n",
    "    def __init__(self, name, age):\n",
    "        self.name = name\n",
    "        self.age = age\n",
    "        \n",
    "#     def __str__(self):\n",
    "#         return f\"I am {self.name}, my age is {self.age}\"\n",
    "\n",
    "person1 = Person('sarath', 28)\n",
    "print(person1)"
   ]
  },
  {
   "cell_type": "markdown",
   "metadata": {},
   "source": [
    "**Common Predefined Magic Methods:** Magic methods are part of how Python is designed. Even built-in types like int, list, etc. use magic methods behind the scenes."
   ]
  },
  {
   "cell_type": "markdown",
   "metadata": {},
   "source": [
    "| Magic Method             | Purpose                           | Example Trigger                      |\n",
    "| ------------------------ | --------------------------------- | ------------------------------------ |\n",
    "| `__init__`               | Constructor (object creation)     | `MyClass()`                          |\n",
    "| `__str__`                | String representation             | `print(obj)`                         |\n",
    "| `__repr__`               | Developer-friendly representation | `repr(obj)` or just `obj` in console |\n",
    "| `__len__`                | Length of object                  | `len(obj)`                           |\n",
    "| `__getitem__`            | Indexing                          | `obj[0]`                             |\n",
    "| `__setitem__`            | Assigning to an index             | `obj[0] = value`                     |\n",
    "| `__iter__`               | Make object iterable              | `for x in obj:`                      |\n",
    "| `__next__`               | Next item in iteration            | `next(obj)`                          |\n",
    "| `__enter__` / `__exit__` | Context manager support (`with`)  | `with obj:`                          |\n",
    "| `__add__`                | Addition (`+`)                    | `obj1 + obj2`                        |\n",
    "| `__eq__`                 | Equality comparison (`==`)        | `obj1 == obj2`                       |\n",
    "| `__lt__`, `__gt__`       | Less/greater than comparisons     | `obj1 < obj2`, `obj1 > obj2`         |"
   ]
  },
  {
   "cell_type": "markdown",
   "metadata": {},
   "source": [
    "Yes, absolutely! ✅ A programmer can define and override magic methods in Python — and that's exactly how you customize how your class behaves in different situations.\n",
    "\n",
    "But — you can only use the magic method names that Python has already defined (like __init__, __str__, __len__, etc.). You cannot invent your own magic method like __magicmove__ unless Python already supports it."
   ]
  },
  {
   "cell_type": "code",
   "execution_count": 30,
   "metadata": {},
   "outputs": [
    {
     "name": "stdout",
     "output_type": "stream",
     "text": [
      "The Emotional Intelligence has 300 pages\n",
      "300\n"
     ]
    }
   ],
   "source": [
    "class Book:\n",
    "    def __init__(self, name, pages):\n",
    "        self.book_name = name\n",
    "        self.pages = pages\n",
    "        \n",
    "    def __str__(self):\n",
    "        return f\"The {self.book_name} has {self.pages} pages\"\n",
    "    \n",
    "    def __len__(self):\n",
    "        return self.pages\n",
    "    \n",
    "    def __sarat__(self):\n",
    "        return self.book_name\n",
    "    \n",
    "book1 = Book('Emotional Intelligence', 300)\n",
    "print(book1)\n",
    "print(len(book1))\n",
    "# print(sarat(book1))"
   ]
  },
  {
   "cell_type": "markdown",
   "metadata": {},
   "source": [
    "**Class and Instance Variables in Python**"
   ]
  },
  {
   "cell_type": "code",
   "execution_count": 64,
   "metadata": {},
   "outputs": [
    {
     "name": "stdout",
     "output_type": "stream",
     "text": [
      "Canine\n",
      "blue\n",
      "Canine\n",
      "Red\n",
      "local_bread\n",
      "local_bread\n",
      "local_bread\n",
      "local_bread\n",
      "puppy\n",
      "local_bread\n",
      "puppy\n",
      "Pug\n"
     ]
    }
   ],
   "source": [
    "class Dog:\n",
    "    species = \"Canine\"\n",
    "    \n",
    "    def __init__(self, name, age):\n",
    "        self.name = name\n",
    "        self.age = age\n",
    "\n",
    "dog1 = Dog('blue', 6)\n",
    "dog2 = Dog('Red', 8)\n",
    "\n",
    "print(dog1.species) # Class variable\n",
    "print(dog1.name)    # Instance variable\n",
    "# print(dog1.age)     # Instance variable\n",
    "# print('\\n')\n",
    "print(dog2.species) # Class variable\n",
    "print(dog2.name)    # Instance variable\n",
    "# print(dog2.age)     # Instance variable\n",
    "\n",
    "Dog.species = \"local_bread\" # Changing the class variable with instance\n",
    "print(dog1.species)\n",
    "print(dog2.species)\n",
    "print(Dog.species)\n",
    "\n",
    "dog1.species = 'puppy'  # This adds new variable in the dog1 obj a variable in the __init__\n",
    "print(dog2.species)\n",
    "print(dog1.species)\n",
    "print(Dog.species)\n",
    "\n",
    "Dog.species = 'Pug'\n",
    "print(dog1.species)\n",
    "print(dog2.species)"
   ]
  },
  {
   "cell_type": "markdown",
   "metadata": {},
   "source": [
    "**Additional Important Concepts in Python Classes and Objects**"
   ]
  },
  {
   "cell_type": "markdown",
   "metadata": {},
   "source": [
    "Getter and Setter methods provide controlled access to an object's attributes. In Python, these methods are used to retrieve (getter) or modify (setter) the values of private attributes, allowing for data encapsulation.\n",
    "\n",
    "Python doesn't have explicit get and set methods like other languages, but it supports this functionality using property decorators."
   ]
  },
  {
   "cell_type": "markdown",
   "metadata": {},
   "source": [
    "**Yes — in Python, property is indeed used as a built-in decorator that turns a method in a class into a managed attribute.**"
   ]
  },
  {
   "cell_type": "markdown",
   "metadata": {},
   "source": [
    "**Yes — @staticmethod and @classmethod are also predefined (built-in) decorators in Python, just like @property.**"
   ]
  },
  {
   "cell_type": "code",
   "execution_count": 10,
   "metadata": {},
   "outputs": [
    {
     "name": "stdout",
     "output_type": "stream",
     "text": [
      "leo\n",
      "dogs are loyal animals\n",
      "puppy\n",
      "This is from class method\n"
     ]
    }
   ],
   "source": [
    "class Dog():\n",
    "    species = \"puppy\"\n",
    "    @staticmethod\n",
    "    def info(name):\n",
    "        print(name)\n",
    "        print(\"dogs are loyal animals\")\n",
    "    \n",
    "    @classmethod\n",
    "    def count(cls):\n",
    "        print(cls.species)\n",
    "        print(\"This is from class method\")\n",
    "        \n",
    "dog = Dog();\n",
    "dog.info(\"leo\")\n",
    "dog.count()"
   ]
  },
  {
   "cell_type": "markdown",
   "metadata": {},
   "source": [
    "**Abstract Classes and Interfaces**"
   ]
  },
  {
   "cell_type": "markdown",
   "metadata": {},
   "source": [
    "*1. Abstract classes provide a template for other classes*\n",
    "\n",
    "*2. These classes can't be instantiated directly.*\n",
    "\n",
    "*3. They contain abstract methods, which are methods that must be implemented by subclasses*"
   ]
  },
  {
   "cell_type": "markdown",
   "metadata": {},
   "source": [
    "*4. Abstract classes are defined using the abc module in Python*"
   ]
  },
  {
   "cell_type": "code",
   "execution_count": 21,
   "metadata": {},
   "outputs": [
    {
     "name": "stdout",
     "output_type": "stream",
     "text": [
      "bow bow bow ....\n",
      "I eat pedigree\n"
     ]
    }
   ],
   "source": [
    "from abc import ABC, abstractmethod\n",
    "class Animal(ABC):\n",
    "    @abstractmethod\n",
    "    def sound(self):\n",
    "        pass\n",
    "    \n",
    "    @abstractmethod\n",
    "    def food(self):\n",
    "        pass\n",
    "\n",
    "class Dog(Animal):\n",
    "    def sound(self):\n",
    "        print(\"bow bow bow ....\")\n",
    "    \n",
    "    def food(self):\n",
    "        print(\"I eat pedigree\")\n",
    "        \n",
    "dog = Dog();\n",
    "dog.sound()\n",
    "dog.food()"
   ]
  },
  {
   "cell_type": "markdown",
   "metadata": {},
   "source": [
    "*1. When you make a class inherit from ABC and mark methods with @abstractmethod, Python enforces that all abstract \n",
    "*methods must be overridden in any concrete subclass before you can create an instance.*"
   ]
  },
  {
   "cell_type": "markdown",
   "metadata": {},
   "source": [
    "When you create a subclass of an ABC, Python checks:\n",
    "\n",
    "If all abstract methods are overridden → ✅ subclass can be instantiated.\n",
    "\n",
    "If any abstract method is missing → ❌ raises TypeError on instantiation."
   ]
  },
  {
   "cell_type": "markdown",
   "metadata": {},
   "source": [
    "# Inheritance"
   ]
  },
  {
   "cell_type": "code",
   "execution_count": 22,
   "metadata": {},
   "outputs": [],
   "source": [
    "class Parentclass():\n",
    "#     attributs\n",
    "#     methods\n",
    "    pass\n",
    "class Childernclass(Parentclass):\n",
    "#     attrubutes\n",
    "#     methods\n",
    "    pass"
   ]
  },
  {
   "cell_type": "code",
   "execution_count": 35,
   "metadata": {},
   "outputs": [
    {
     "name": "stdout",
     "output_type": "stream",
     "text": [
      "Bob 234\n"
     ]
    }
   ],
   "source": [
    "# A python program to demonistrate inheritance\n",
    "class Person(object):\n",
    "    # This is a constructor\n",
    "    def __init__(self, name, id):\n",
    "        self.name = name\n",
    "        self.id = id\n",
    "        \n",
    "    # To check this person is a employ or not\n",
    "    def Display(self):\n",
    "        print(self.name, self.id)\n",
    "\n",
    "# Driver code\n",
    "emp = Person(\"Bob\", 234)\n",
    "emp.Display()"
   ]
  },
  {
   "cell_type": "markdown",
   "metadata": {},
   "source": [
    "**Create a child class**"
   ]
  },
  {
   "cell_type": "code",
   "execution_count": 38,
   "metadata": {},
   "outputs": [
    {
     "name": "stdout",
     "output_type": "stream",
     "text": [
      "Employ class called\n",
      "Mayank 124\n"
     ]
    }
   ],
   "source": [
    "class Emp(Person):\n",
    "    \n",
    "    def Print(self):\n",
    "        print(\"Employ class called\")\n",
    "\n",
    "emp = Emp(\"Mayank\", 124)\n",
    "emp.Print()\n",
    "emp.Display()"
   ]
  },
  {
   "cell_type": "code",
   "execution_count": 42,
   "metadata": {},
   "outputs": [],
   "source": [
    "class Person:\n",
    "    def __init__(self, name, idnumber):\n",
    "        self.name = name\n",
    "        self.idnumber = idnumber\n",
    "        \n",
    "    def Display(self):\n",
    "        print(self.name, self.idnumber)\n",
    "        \n",
    "def Employee(Person):\n",
    "    def __init__(self, name, idnumber, salary, loc):\n",
    "        super().__init__(name, idnumber)\n",
    "        self.salary = salary\n",
    "        self.location = loc"
   ]
  },
  {
   "cell_type": "markdown",
   "metadata": {},
   "source": [
    "**Types of Python Inheritance:**\n",
    "    \n",
    "*Single Inheritance:* A child class inherits from one parent class.\n",
    "\n",
    "*Multiple Inheritance:* A child class inherits from more than one parent class.\n",
    "\n",
    "*Multilevel Inheritance:* A class is derived from a class which is also derived from another class.\n",
    "\n",
    "*Hierarchical Inheritance:* Multiple classes inherit from a single parent class.\n",
    "\n",
    "*Hybrid Inheritance:* A combination of more than one type of inheritance."
   ]
  },
  {
   "cell_type": "code",
   "execution_count": null,
   "metadata": {},
   "outputs": [],
   "source": []
  },
  {
   "cell_type": "code",
   "execution_count": 76,
   "metadata": {},
   "outputs": [
    {
     "name": "stdout",
     "output_type": "stream",
     "text": [
      "Bob\n",
      "Bob 1500000\n",
      "Bob 1500000 MS/ECL\n",
      "Bob 1500000 15\n",
      "Bob 1500000 MS/ECL2 15\n"
     ]
    }
   ],
   "source": [
    "# Single Inheritance\n",
    "class Person:\n",
    "\n",
    "    def __init__(self, name):\n",
    "        self.name = name\n",
    "#         self.place = place\n",
    "#         self.height = height\n",
    "#         self.weight = weight\n",
    "        \n",
    "#     def bmi(self):\n",
    "#         return 10*self.height+self.weight\n",
    "\n",
    "class Employee(Person):\n",
    "    \n",
    "    def __init__(self, name, salary):\n",
    "        super().__init__(name)\n",
    "        self.salary = salary\n",
    "\n",
    "class Job:\n",
    "    \n",
    "    def __init__(self, salary):\n",
    "        self.salary = salary\n",
    "        \n",
    "# Multiple Inheritance\n",
    "class EmployPersonJob(Employee, Job):\n",
    "    \n",
    "    def __init__(self, name, salary):\n",
    "        Employee.__init__(self, name, salary)\n",
    "        Job.__init__(self, salary)\n",
    "        \n",
    "# eng = EmployPersonJob(\"Bob\", \"15lpa\")\n",
    "# print(eng.name, eng.salary)\n",
    "\n",
    "# Multilevel Inheritance\n",
    "class Manager(EmployPersonJob):\n",
    "    def __init__(self, name, salary, department):\n",
    "        EmployPersonJob.__init__(self, name, salary)\n",
    "        self.department = department\n",
    "\n",
    "# 4. Hierarchical Inheritance\n",
    "class AssistantManager(EmployPersonJob):\n",
    "    def __init__(self, name, salary, team_size):\n",
    "        EmployPersonJob.__init__(self, name, salary)\n",
    "        self.team_size = team_size\n",
    "     \n",
    "# 5. Hybrid Inheritance (Multiple + Multilevel)\n",
    "class SeniorManager(Manager, AssistantManager):\n",
    "    \n",
    "    def __init__(self, name, salary, department, team_size):\n",
    "        Manager.__init__(self, name, salary, department)\n",
    "        AssistantManager.__init__(self, name, salary, team_size)\n",
    "\n",
    "# Creating objects to show inheritance\n",
    "\n",
    "person =  Person(\"Bob\")\n",
    "print(person.name)\n",
    "\n",
    "emp =  EmployPersonJob(\"Bob\", 1500000)\n",
    "print(emp.name, emp.salary)\n",
    "\n",
    "manager = Manager(\"Bob\", 1500000, \"MS/ECL\")\n",
    "print(manager.name, manager.salary, manager.department)\n",
    "\n",
    "assmanager = AssistantManager(\"Bob\", 1500000, 15) \n",
    "print(assmanager.name, assmanager.salary, assmanager.team_size)\n",
    "\n",
    "seniormanager = SeniorManager(\"Bob\", 1500000, \"MS/ECL2\", 15)\n",
    "print(seniormanager.name, seniormanager.salary, seniormanager.department, seniormanager.team_size)"
   ]
  },
  {
   "cell_type": "markdown",
   "metadata": {},
   "source": [
    "# Encapsulation in Python"
   ]
  },
  {
   "cell_type": "markdown",
   "metadata": {},
   "source": [
    "1. Technically, encapsulation is an object-oriented programming principle where data (variables) and methods (functions) are bundled together in a class.\n",
    "\n",
    "2. means hiding internal details of a class and only exposing what’s necessary. It helps to protect important data from being changed directly and keeps the code secure and organized.\n",
    "\n",
    "3. Example of Encapsulation\n",
    "\n",
    "    Encapsulation in Python is like having a bank account system where your account balance (data) is kept private. You can't directly change your balance by accessing account database.\n",
    "    Instead, bank provides you with methods (functions) like deposit and withdraw to modify your balance safely.\n",
    "\n",
    "    Private Data (Balance): Your balance is stored securely. Direct access from outside is not allowed, ensuring data is protected from unauthorized changes.\n",
    "    Public Methods (Deposit and Withdraw): These are the only ways to modify your balance. They check if your requests (like withdrawing money) \n",
    "    follow the rules (e.g., you have enough balance) before allowing changes."
   ]
  },
  {
   "cell_type": "markdown",
   "metadata": {},
   "source": [
    "**Access Specifiers in Python**"
   ]
  },
  {
   "cell_type": "markdown",
   "metadata": {},
   "source": [
    "public, private and protected."
   ]
  },
  {
   "cell_type": "markdown",
   "metadata": {},
   "source": [
    "*Public:* members are variables or methods that can be accessed from anywhere inside the class, outside the class or from other modules. By default, all members in Python are public.\n",
    "\n",
    "They are defined without any underscore prefix (e.g., self.name)"
   ]
  },
  {
   "cell_type": "code",
   "execution_count": 1,
   "metadata": {},
   "outputs": [
    {
     "name": "stdout",
     "output_type": "stream",
     "text": [
      "Bob\n",
      "Bob\n"
     ]
    }
   ],
   "source": [
    "class Person:\n",
    "    def __init__(self, name):\n",
    "        self.name = name        # public attribute\n",
    "        \n",
    "    def display_name(self):     # public method\n",
    "        print(self.name)\n",
    "\n",
    "person =  Person('Bob')\n",
    "print(person.name)\n",
    "person.display_name()"
   ]
  },
  {
   "cell_type": "markdown",
   "metadata": {},
   "source": [
    "**Protected members**"
   ]
  },
  {
   "cell_type": "markdown",
   "metadata": {},
   "source": [
    "1. Protected members are variables or methods that are intended to be accessed only within the class and its subclasses. They are not strictly private but should be treated as internal. \n",
    "In Python, protected members are defined with a single underscore prefix (e.g., self._name)."
   ]
  },
  {
   "cell_type": "code",
   "execution_count": 10,
   "metadata": {},
   "outputs": [
    {
     "name": "stdout",
     "output_type": "stream",
     "text": [
      "20\n"
     ]
    },
    {
     "data": {
      "text/plain": [
       "20"
      ]
     },
     "execution_count": 10,
     "metadata": {},
     "output_type": "execute_result"
    }
   ],
   "source": [
    "class Protected:\n",
    "    def __init__(self, age):\n",
    "        self._age = age\n",
    "        \n",
    "class Person(Protected):\n",
    "    \n",
    "    def __init__(self, name,  age):\n",
    "        super().__init__(age)\n",
    "        self.name = 'bob'\n",
    "\n",
    "    def display_age(self):\n",
    "        print(self._age)\n",
    "\n",
    "person = Person('bob',20)\n",
    "person.display_age()\n",
    "person._age"
   ]
  },
  {
   "cell_type": "markdown",
   "metadata": {},
   "source": [
    "2. Why _age is accessible\n",
    "_age is a protected attribute (single underscore).\n",
    "Python does not enforce access control — it’s just a naming convention meaning “you probably shouldn’t touch this from outside the class unless you have a good reason.”"
   ]
  },
  {
   "cell_type": "markdown",
   "metadata": {},
   "source": [
    "**Private members**"
   ]
  },
  {
   "cell_type": "markdown",
   "metadata": {},
   "source": [
    "1. Private members are variables or methods that cannot be accessed directly from outside the class. They are used to restrict access and protect internal data.\n",
    "\n",
    "2. In Python, private members are defined with a double underscore prefix (e.g., self.__salary). Python applies name mangling by internally renaming them \n",
    "(e.g., __salary becomes _ClassName__salary) to prevent direct access."
   ]
  },
  {
   "cell_type": "code",
   "execution_count": 26,
   "metadata": {},
   "outputs": [
    {
     "ename": "AttributeError",
     "evalue": "'Employ' object has no attribute '_Employ__salary'",
     "output_type": "error",
     "traceback": [
      "\u001b[1;31m---------------------------------------------------------------------------\u001b[0m",
      "\u001b[1;31mAttributeError\u001b[0m                            Traceback (most recent call last)",
      "\u001b[1;32m<ipython-input-26-ce4f84956b89>\u001b[0m in \u001b[0;36m<module>\u001b[1;34m\u001b[0m\n\u001b[0;32m     14\u001b[0m \u001b[1;33m\u001b[0m\u001b[0m\n\u001b[0;32m     15\u001b[0m \u001b[0mprv\u001b[0m \u001b[1;33m=\u001b[0m \u001b[0mEmploy\u001b[0m\u001b[1;33m(\u001b[0m\u001b[1;36m40\u001b[0m\u001b[1;33m)\u001b[0m\u001b[1;33m\u001b[0m\u001b[0m\n\u001b[1;32m---> 16\u001b[1;33m \u001b[0mprv\u001b[0m\u001b[1;33m.\u001b[0m\u001b[0memp_details\u001b[0m\u001b[1;33m(\u001b[0m\u001b[1;33m)\u001b[0m\u001b[1;33m\u001b[0m\u001b[0m\n\u001b[0m",
      "\u001b[1;32m<ipython-input-26-ce4f84956b89>\u001b[0m in \u001b[0;36memp_details\u001b[1;34m(self)\u001b[0m\n\u001b[0;32m     11\u001b[0m \u001b[1;33m\u001b[0m\u001b[0m\n\u001b[0;32m     12\u001b[0m     \u001b[1;32mdef\u001b[0m \u001b[0memp_details\u001b[0m\u001b[1;33m(\u001b[0m\u001b[0mself\u001b[0m\u001b[1;33m)\u001b[0m\u001b[1;33m:\u001b[0m\u001b[1;33m\u001b[0m\u001b[0m\n\u001b[1;32m---> 13\u001b[1;33m         \u001b[0mprint\u001b[0m\u001b[1;33m(\u001b[0m\u001b[0mself\u001b[0m\u001b[1;33m.\u001b[0m\u001b[0m__salary\u001b[0m\u001b[1;33m)\u001b[0m\u001b[1;33m\u001b[0m\u001b[0m\n\u001b[0m\u001b[0;32m     14\u001b[0m \u001b[1;33m\u001b[0m\u001b[0m\n\u001b[0;32m     15\u001b[0m \u001b[0mprv\u001b[0m \u001b[1;33m=\u001b[0m \u001b[0mEmploy\u001b[0m\u001b[1;33m(\u001b[0m\u001b[1;36m40\u001b[0m\u001b[1;33m)\u001b[0m\u001b[1;33m\u001b[0m\u001b[0m\n",
      "\u001b[1;31mAttributeError\u001b[0m: 'Employ' object has no attribute '_Employ__salary'"
     ]
    }
   ],
   "source": [
    "class Private:\n",
    "    def __init__(self, salary):\n",
    "        self.__salary = salary\n",
    "\n",
    "    def Salary(self):\n",
    "        print(self.__salary)\n",
    "        \n",
    "class Employ(Private):\n",
    "    def __init__(self, salary):\n",
    "        super().__init__(salary)\n",
    "    \n",
    "    def emp_details(self):\n",
    "        print(self.__salary)\n",
    "\n",
    "prv = Employ(40)\n",
    "prv.emp_details()"
   ]
  },
  {
   "cell_type": "markdown",
   "metadata": {},
   "source": [
    "**Declaring Protected and Private Methods**"
   ]
  },
  {
   "cell_type": "code",
   "execution_count": 29,
   "metadata": {},
   "outputs": [
    {
     "name": "stdout",
     "output_type": "stream",
     "text": [
      "Balance: ₹30000\n",
      "Balance: ₹30200\n"
     ]
    }
   ],
   "source": [
    "class BankAccount:\n",
    "    def __init__(self):\n",
    "        self.balance = 30000\n",
    "        \n",
    "    def _show_balance(self):\n",
    "        print(f\"Balance: ₹{self.balance}\")\n",
    "    \n",
    "    def __update_balance(self, amount):\n",
    "        self.balance += amount\n",
    "    \n",
    "    def deposit(self, amount):\n",
    "        if amount > 0:\n",
    "            self.__update_balance(amount)\n",
    "            self._show_balance()\n",
    "        \n",
    "        else:\n",
    "            print(\"Invalid deposit amount\")\n",
    "            \n",
    "account = BankAccount()\n",
    "account._show_balance()\n",
    "# account.__update_balance(500)\n",
    "account.deposit(200)"
   ]
  },
  {
   "cell_type": "markdown",
   "metadata": {},
   "source": [
    "Getter and Setter Methods\n",
    "In Python, getter and setter methods are used to access and modify private attributes safely. Instead of accessing private data directly, these methods provide controlled access, allowing you to:\n",
    "\n",
    "Read data using a getter method.\n",
    "Update data using a setter method with optional validation or restrictions."
   ]
  },
  {
   "cell_type": "code",
   "execution_count": 35,
   "metadata": {},
   "outputs": [
    {
     "data": {
      "text/plain": [
       "34000"
      ]
     },
     "execution_count": 35,
     "metadata": {},
     "output_type": "execute_result"
    }
   ],
   "source": [
    "class Employee:\n",
    "    def __init__(self):\n",
    "        self.__salary = 30000\n",
    "    \n",
    "    def get_salary(self):\n",
    "        return self.__salary\n",
    "    \n",
    "    def set_salary(self, amount):\n",
    "        self.__salary = amount\n",
    "      \n",
    "emp = Employee()\n",
    "emp.get_salary()\n",
    "emp.set_salary(34000)\n",
    "emp.get_salary()"
   ]
  },
  {
   "cell_type": "markdown",
   "metadata": {},
   "source": [
    "# Polymorphism in Python"
   ]
  },
  {
   "cell_type": "markdown",
   "metadata": {},
   "source": [
    "Polymorphism means \"many forms\". It refers to the ability of an entity (like a function or object) to perform different actions based on the context."
   ]
  },
  {
   "cell_type": "markdown",
   "metadata": {},
   "source": [
    "Technically, in Python, polymorphism allows same method, function or operator to behave differently depending on object it is working with. This makes code more flexible and reusable."
   ]
  },
  {
   "cell_type": "markdown",
   "metadata": {},
   "source": [
    "Example of Polymorphism\n",
    "A remote control can operate multiple devices like a TV, AC or music system. You press the power button and each device responds differently TV turns on, AC starts cooling, music system plays music.\n",
    "\n",
    "Polymorphism here means same interface (power button), but different behavior based on device (object)."
   ]
  },
  {
   "cell_type": "markdown",
   "metadata": {},
   "source": [
    "**Types of Polymorphism**"
   ]
  },
  {
   "cell_type": "markdown",
   "metadata": {},
   "source": [
    "1. Compile time\n",
    "\n",
    "2. Runtime"
   ]
  },
  {
   "cell_type": "markdown",
   "metadata": {},
   "source": [
    "1. In python the types are decided at the run time, so there is no compile time polymorphism in python\n",
    "\n",
    "2. Python does not have compile-time polymorphism. It only supports runtime polymorphism.\n",
    "\n",
    "3. Dynamically typed means you don’t have to declare a variable’s type before using it — Python figures out the type at runtime, based on the value you assign.\n",
    "\n",
    "4. Languages like Java or C++ support this. But Python doesn’t because it’s dynamically typed it resolves method calls at runtime, not during compilation. \n",
    "   So, true method overloading isn’t supported in Python, though similar behavior can be achieved using default or variable arguments.\n",
    "\n",
    "5. So, true method overloading isn’t supported in Python, though similar behavior can be achieved using default or variable arguments."
   ]
  },
  {
   "cell_type": "code",
   "execution_count": 7,
   "metadata": {},
   "outputs": [
    {
     "name": "stdout",
     "output_type": "stream",
     "text": [
      "1\n",
      "4\n"
     ]
    },
    {
     "data": {
      "text/plain": [
       "24"
      ]
     },
     "execution_count": 7,
     "metadata": {},
     "output_type": "execute_result"
    }
   ],
   "source": [
    "class Calculator:\n",
    "    def multiply(self, a=1, b=1, *args):\n",
    "        result  = a * b\n",
    "        for num in args:\n",
    "            result *=num\n",
    "        return result\n",
    "\n",
    "calc = Calculator()\n",
    "#Using default args\n",
    "print(calc.multiply())\n",
    "print(calc.multiply(4))\n",
    "\n",
    "#Using variable length argument\n",
    "calc.multiply(1,2)\n",
    "calc.multiply(1,2,3)\n",
    "calc.multiply(1,2,3,4)"
   ]
  },
  {
   "cell_type": "markdown",
   "metadata": {},
   "source": [
    "**Runtime Polymorphism (Overriding)**"
   ]
  },
  {
   "cell_type": "markdown",
   "metadata": {},
   "source": [
    "1. Runtime polymorphism means that the behavior of a method is decided while program is running, based on the object calling it.\n",
    "2. In Python, this happens through Method Overriding a child class provides its own version of a method already defined in the parent class.\n",
    "   Since Python is dynamic, it supports this, allowing same method call to behave differently for different object types."
   ]
  },
  {
   "cell_type": "code",
   "execution_count": 9,
   "metadata": {},
   "outputs": [
    {
     "name": "stdout",
     "output_type": "stream",
     "text": [
      "Meow\n",
      "Bark\n",
      "Amma\n"
     ]
    }
   ],
   "source": [
    "class Animal:\n",
    "    def sound(self):\n",
    "        return \"Amma\"\n",
    "        \n",
    "class Cat(Animal):\n",
    "    def sound(self):\n",
    "        return \"Meow\"\n",
    "\n",
    "class Dog(Animal):\n",
    "    def sound(self):\n",
    "        return \"Bark\"\n",
    "            \n",
    "animals = [Cat(), Dog(), Animal()]\n",
    "\n",
    "for animal in animals:\n",
    "    print(animal.sound())"
   ]
  },
  {
   "cell_type": "markdown",
   "metadata": {},
   "source": [
    "**Polymorphism in Built-in Functions** python build in functions like len, max ... etc"
   ]
  },
  {
   "cell_type": "code",
   "execution_count": 14,
   "metadata": {},
   "outputs": [
    {
     "name": "stdout",
     "output_type": "stream",
     "text": [
      "11\n",
      "5\n",
      "z\n",
      "4\n"
     ]
    }
   ],
   "source": [
    "print(len(\"hello world\"))\n",
    "print(len([1,2,3,4,5]))\n",
    "\n",
    "print(max(\"helloz\"))\n",
    "print(max([1,2,3,4]))"
   ]
  },
  {
   "cell_type": "code",
   "execution_count": 22,
   "metadata": {},
   "outputs": [
    {
     "name": "stdout",
     "output_type": "stream",
     "text": [
      "6\n",
      "20\n",
      "3\n",
      "sarath kumar\n",
      "2.59\n"
     ]
    }
   ],
   "source": [
    "def poly(a, b, c=None):\n",
    "    if c is not None:\n",
    "        return a+b+c\n",
    "    else:\n",
    "        return a*b\n",
    "    \n",
    "print(poly(1,2,3))\n",
    "print(poly(4,5))\n",
    "\n",
    "print(add(1,2))\n",
    "print(add(\"sarath \", \"kumar\"))\n",
    "print(add(1.245, 1.345))"
   ]
  },
  {
   "cell_type": "markdown",
   "metadata": {},
   "source": [
    "**def add(a, b):**\n",
    "    **return a+b**\n",
    "\n",
    "**This is more like a generic function and it is doing polymornphism but at run time. we are not defining multiple function like c++.**\n",
    "**But we can do the same thing in c++ using templates but that can be resolved at compile time as we know the type info at compile time.**"
   ]
  },
  {
   "cell_type": "markdown",
   "metadata": {},
   "source": [
    "| Aspect              | Python `add(a, b)`           | C++ Template `add<T>(a, b)`                |\n",
    "| ------------------- | ---------------------------- | ------------------------------------------ |\n",
    "| Typing              | Dynamic, resolved at runtime | Static, resolved at compile time           |\n",
    "| Polymorphism type   | Runtime polymorphism         | Compile-time polymorphism                  |\n",
    "| Number of functions | One generic function         | Multiple generated functions for each type |\n"
   ]
  },
  {
   "cell_type": "markdown",
   "metadata": {},
   "source": [
    "**Polymorphism in Functions**"
   ]
  },
  {
   "cell_type": "code",
   "execution_count": 24,
   "metadata": {},
   "outputs": [
    {
     "name": "stdout",
     "output_type": "stream",
     "text": [
      "writing\n",
      "removing\n"
     ]
    }
   ],
   "source": [
    "class Pen:\n",
    "    def use(self):\n",
    "        return 'writing'\n",
    "    \n",
    "class Erager:\n",
    "    def use(self):\n",
    "        return 'removing'\n",
    "\n",
    "def perform_task(tool):\n",
    "    print(tool.use())\n",
    "    \n",
    "pen = Pen()\n",
    "ers = Erager()\n",
    "perform_task(pen)\n",
    "perform_task(ers)"
   ]
  },
  {
   "cell_type": "markdown",
   "metadata": {},
   "source": [
    "**Polymorphism in Operators**"
   ]
  },
  {
   "cell_type": "markdown",
   "metadata": {},
   "source": [
    "In Python, same operator (+) can perform different tasks depending on operand types. This is known as operator overloading.\n",
    "This flexibility is a key aspect of polymorphism in Python."
   ]
  },
  {
   "cell_type": "code",
   "execution_count": 27,
   "metadata": {},
   "outputs": [
    {
     "name": "stdout",
     "output_type": "stream",
     "text": [
      "4\n",
      "hello world\n",
      "[1, 2, 3, 4, 5, 6]\n"
     ]
    }
   ],
   "source": [
    "print(1 + 3) # Integer addition\n",
    "print(\"hello\" + \" world\") # String concatination\n",
    "print([1, 2, 3] + [4, 5, 6]) # List concatination"
   ]
  },
  {
   "cell_type": "markdown",
   "metadata": {},
   "source": [
    "# Data Abstraction in Python"
   ]
  },
  {
   "cell_type": "markdown",
   "metadata": {},
   "source": [
    "1. Data abstraction means showing only the essential features and hiding the complex internal details.\n",
    "\n",
    "2. Technically, in Python abstraction is used to hide the implementation details from the user and expose only necessary parts, making the code simpler and easier to interact with. "
   ]
  },
  {
   "cell_type": "markdown",
   "metadata": {},
   "source": [
    "**Example of Data Abstraction:**\n",
    "\n",
    "    a. SmartPhones we use, call and take photos without knowing internal implementation because of abstraction.\n",
    "    \n",
    "    b. It hides internal logic and only shows the necessary details, making it easier to use complex systems."
   ]
  },
  {
   "cell_type": "markdown",
   "metadata": {},
   "source": [
    "**In Python, an Abstract Base Class (ABC) is used to achieve data abstraction by defining a common interface for its subclasses. It cannot be instantiated directly and serves as a blueprint for other classes.**"
   ]
  },
  {
   "cell_type": "code",
   "execution_count": 30,
   "metadata": {},
   "outputs": [
    {
     "name": "stdout",
     "output_type": "stream",
     "text": [
      "Hello from Python\n"
     ]
    }
   ],
   "source": [
    "from abc import ABC, abstractmethod\n",
    "\n",
    "class Greet(ABC):\n",
    "    @abstractmethod\n",
    "    def say_hello(self):\n",
    "        pass            # This the menthod to be implement by the imported class or subclass\n",
    "    \n",
    "class English(Greet):\n",
    "    def say_hello(self):\n",
    "        print(\"Hello from Python\")\n",
    "\n",
    "eng = English()\n",
    "eng.say_hello()"
   ]
  },
  {
   "cell_type": "markdown",
   "metadata": {},
   "source": [
    "**Components of Abstraction**"
   ]
  },
  {
   "cell_type": "markdown",
   "metadata": {},
   "source": [
    "1. Abstraction in Python is made up of key components like abstract methods, concrete methods, abstract properties and class instantiation rules. \n",
    "2. These elements work together to define a clear and enforced structure for subclasses while hiding unnecessary implementation details."
   ]
  },
  {
   "cell_type": "markdown",
   "metadata": {},
   "source": [
    "*Abstract Method*"
   ]
  },
  {
   "cell_type": "code",
   "execution_count": 33,
   "metadata": {},
   "outputs": [],
   "source": [
    "from abc import ABC, abstractmethod\n",
    "\n",
    "class Greet(ABC):\n",
    "    @abstractmethod\n",
    "    def say_hello(self):\n",
    "        return \"hello\""
   ]
  },
  {
   "cell_type": "markdown",
   "metadata": {},
   "source": [
    "*Concrete Method*"
   ]
  },
  {
   "cell_type": "code",
   "execution_count": 37,
   "metadata": {},
   "outputs": [],
   "source": [
    "from abc import ABC, abstractmethod\n",
    "\n",
    "class Animal(ABC):\n",
    "    def make_sound(self):\n",
    "        pass               # This is a abstract method which is to be implemented by the inherited subclass\n",
    "     \n",
    "    def move(self):\n",
    "        return \"moving`\"   # This one is no need to be implemented by the Subclass"
   ]
  },
  {
   "cell_type": "markdown",
   "metadata": {},
   "source": [
    "**NOTE: There are user defined and Built in Decorators in Python**\n",
    "\n",
    "**Built in Decorator example ( The name which start with @ are decorators in python)**\n",
    "\n",
    "**i.e: @property, @abstractmethod, @staticmethod etc**\n",
    "    "
   ]
  },
  {
   "cell_type": "markdown",
   "metadata": {},
   "source": [
    "**Abstract properties**"
   ]
  },
  {
   "cell_type": "code",
   "execution_count": 41,
   "metadata": {},
   "outputs": [
    {
     "name": "stdout",
     "output_type": "stream",
     "text": [
      "Canine\n"
     ]
    }
   ],
   "source": [
    "from abc import ABC, abstractmethod\n",
    "class Animal(ABC):\n",
    "    @property\n",
    "    @abstractmethod\n",
    "    def species(self):\n",
    "        pass            # Abstract property must be implemented by the sub class\n",
    "    \n",
    "class Dog(Animal):\n",
    "    @property\n",
    "    def species(self):\n",
    "        return \"Canine\"\n",
    "\n",
    "dog = Dog()\n",
    "print(dog.species)"
   ]
  },
  {
   "cell_type": "markdown",
   "metadata": {},
   "source": [
    "**Abstract Class Instantiation**"
   ]
  },
  {
   "cell_type": "markdown",
   "metadata": {},
   "source": [
    "Abstract classes cannot be instantiated directly. This is because they contain one or more abstract methods or properties that lack implementations. \n",
    "Attempting to instantiate an abstract class results in a TypeError."
   ]
  },
  {
   "cell_type": "code",
   "execution_count": 42,
   "metadata": {},
   "outputs": [
    {
     "ename": "TypeError",
     "evalue": "Can't instantiate abstract class Animal with abstract methods sound",
     "output_type": "error",
     "traceback": [
      "\u001b[1;31m---------------------------------------------------------------------------\u001b[0m",
      "\u001b[1;31mTypeError\u001b[0m                                 Traceback (most recent call last)",
      "\u001b[1;32m<ipython-input-42-aef8569e0a98>\u001b[0m in \u001b[0;36m<module>\u001b[1;34m\u001b[0m\n\u001b[0;32m      6\u001b[0m         \u001b[1;32mpass\u001b[0m\u001b[1;33m\u001b[0m\u001b[0m\n\u001b[0;32m      7\u001b[0m \u001b[1;33m\u001b[0m\u001b[0m\n\u001b[1;32m----> 8\u001b[1;33m \u001b[0mani\u001b[0m \u001b[1;33m=\u001b[0m \u001b[0mAnimal\u001b[0m\u001b[1;33m(\u001b[0m\u001b[1;33m)\u001b[0m\u001b[1;33m\u001b[0m\u001b[0m\n\u001b[0m",
      "\u001b[1;31mTypeError\u001b[0m: Can't instantiate abstract class Animal with abstract methods sound"
     ]
    }
   ],
   "source": [
    "from abc import ABC, abstractmethod\n",
    "\n",
    "class Animal(ABC):\n",
    "    @abstractmethod\n",
    "    def sound(self):\n",
    "        pass          \n",
    "    \n",
    "ani = Animal()"
   ]
  },
  {
   "cell_type": "markdown",
   "metadata": {},
   "source": [
    "# Operator Overloading in Python"
   ]
  },
  {
   "cell_type": "markdown",
   "metadata": {},
   "source": [
    "**In Python, every built-in numeric type like int, float, complex, decimal.Decimal, and even fractions.Fraction implements special methods such as __add__ for addition.**"
   ]
  },
  {
   "cell_type": "code",
   "execution_count": 5,
   "metadata": {},
   "outputs": [
    {
     "name": "stdout",
     "output_type": "stream",
     "text": [
      "<slot wrapper '__add__' of 'int' objects>\n",
      "<slot wrapper '__add__' of 'float' objects>\n",
      "3\n",
      "2.575\n"
     ]
    }
   ],
   "source": [
    "print(int.__add__)\n",
    "print(float.__add__)\n",
    "\n",
    "print(int.__add__(1,2))\n",
    "print(float.__add__(1.23, 1.345))"
   ]
  },
  {
   "cell_type": "code",
   "execution_count": null,
   "metadata": {},
   "outputs": [],
   "source": []
  },
  {
   "cell_type": "markdown",
   "metadata": {},
   "source": [
    "**Python’s operators (+, -, *, etc.) are just syntactic sugar for special (“magic”) methods.**\n",
    "\n",
    "a + b → a.__add__(b)\n",
    "\n",
    "a - b → a.__sub__(b)\n",
    "\n",
    "a * b → a.__mul__(b)"
   ]
  },
  {
   "cell_type": "markdown",
   "metadata": {},
   "source": [
    "All the magic methods for int"
   ]
  },
  {
   "cell_type": "code",
   "execution_count": null,
   "metadata": {},
   "outputs": [],
   "source": [
    "'__abs__', '__add__', '__and__', '__bool__', '__ceil__', '__divmod__',\n",
    "'__eq__', '__float__', '__floor__', '__floordiv__', '__format__',\n",
    "'__ge__', '__getattribute__', '__getnewargs__', '__gt__', '__hash__',\n",
    "'__index__', '__int__', '__invert__', '__le__', '__lshift__', '__lt__',\n",
    "'__mod__', '__mul__', '__ne__', '__neg__', '__or__', '__pos__',\n",
    "'__pow__', '__radd__', '__rand__', '__rdivmod__', '__repr__', '__rfloordiv__',\n",
    "'__rlshift__', '__rmod__', '__rmul__', '__ror__', '__round__', '__rpow__',\n",
    "'__rrshift__', '__rshift__', '__rsub__', '__rtruediv__', '__rxor__',\n",
    "'__sizeof__', '__sub__', '__truediv__', '__trunc__', '__xor__'"
   ]
  },
  {
   "cell_type": "code",
   "execution_count": 11,
   "metadata": {},
   "outputs": [
    {
     "name": "stdout",
     "output_type": "stream",
     "text": [
      "7\n"
     ]
    }
   ],
   "source": [
    "class MyNumber:\n",
    "    def __init__(self, value):\n",
    "        self.value = value\n",
    "\n",
    "    def __add__(self, other):\n",
    "        return self.value + other.value\n",
    "\n",
    "    def __repr__(self):\n",
    "        return f\"MyNumber({self.value})\"\n",
    "\n",
    "a = MyNumber(3)\n",
    "b = MyNumber(4)\n",
    "print(a + b)     # MyNumber(7)"
   ]
  },
  {
   "cell_type": "markdown",
   "metadata": {},
   "source": [
    "**Step-by-step execution:**\n",
    "\n",
    "Python spots the + operator between a and b.\n",
    "\n",
    "It calls the left operand’s __add__ method:\n",
    "a.__add__(b) \n",
    "\n",
    "a-> self\n",
    "\n",
    "b-> other object"
   ]
  },
  {
   "cell_type": "code",
   "execution_count": 1,
   "metadata": {},
   "outputs": [
    {
     "name": "stdout",
     "output_type": "stream",
     "text": [
      "3\n",
      "GreekFor\n",
      "12\n",
      "GreepGreepGreepGreep\n"
     ]
    }
   ],
   "source": [
    "print(1 + 2)\n",
    "\n",
    "print(\"Greek\"+ \"For\")\n",
    "\n",
    "print(3*4)\n",
    "\n",
    "print(\"Greep\"*4)"
   ]
  },
  {
   "cell_type": "markdown",
   "metadata": {},
   "source": [
    "**1. We have to add two objects with binary '+' operator it throws an error, because compiler don't know how to add two objects.**\n",
    "\n",
    "**2. So we define a method for an operator and that process is called operator overloading.**\n",
    "\n",
    "**3. We can overload all existing operators but we can't create a new operator**\n",
    "\n",
    "**4. To perform operator overloading, Python provides some special function or magic function that is automatically invoked when it is associated with that particular operator.**"
   ]
  },
  {
   "cell_type": "markdown",
   "metadata": {},
   "source": [
    "**NOTE:** For predefined types of classes the operator over loading is already provided. But if you create new classes and there types we need to define the magic methods(operator over loading).\n",
    "We can over load all the existing operators. But we can't create new ones. These magic methods automatically invoked."
   ]
  },
  {
   "cell_type": "code",
   "execution_count": 39,
   "metadata": {},
   "outputs": [
    {
     "name": "stdout",
     "output_type": "stream",
     "text": [
      "<__main__.A object at 0x000001B8F369D710>\n",
      "<__main__.A object at 0x000001B8F369D860>\n",
      "5\n",
      "1\n",
      "5\n",
      "1\n"
     ]
    }
   ],
   "source": [
    "class A:\n",
    "    def __init__(self, a):\n",
    "        self.a = a\n",
    "        \n",
    "    def __add__(self, obj):\n",
    "        return A(self.a + obj.a)\n",
    "    \n",
    "    def __sub__(self, obj):\n",
    "        return A(self.a - obj.a)\n",
    "\n",
    "ob1 = A(3)\n",
    "ob2 = A(2)\n",
    "ob3 = ob1 + ob2\n",
    "ob4 = ob3 - ob2\n",
    "print(ob3)\n",
    "print(ob4)\n",
    "\n",
    "# Actual Working\n",
    "print(A.__add__(ob1, ob2).a)\n",
    "print(A.__sub__(ob1, ob2).a)\n",
    "\n",
    "# Can also understood as\n",
    "print(ob1.__add__(ob2).a)\n",
    "print(ob1.__sub__(ob2).a)"
   ]
  },
  {
   "cell_type": "code",
   "execution_count": 43,
   "metadata": {},
   "outputs": [
    {
     "name": "stdout",
     "output_type": "stream",
     "text": [
      "(30+5j)\n"
     ]
    }
   ],
   "source": [
    "a =  10+2j\n",
    "b =  20+3j\n",
    "c = a + b\n",
    "print(c)"
   ]
  },
  {
   "cell_type": "code",
   "execution_count": 52,
   "metadata": {},
   "outputs": [
    {
     "name": "stdout",
     "output_type": "stream",
     "text": [
      "10 13\n",
      "6 8\n"
     ]
    }
   ],
   "source": [
    "class Complex:\n",
    "    def __init__(self, a, b):\n",
    "        self.a = a\n",
    "        self.b = b\n",
    "    \n",
    "    def __add__(self, obj):\n",
    "        return Complex(self.a + obj.a, self.b + obj.b)\n",
    "    \n",
    "    def __sub__(self, obj):\n",
    "        return Complex(self.a - obj.a, self.b - obj.b)\n",
    "    \n",
    "ob1 = Complex(2, 3)\n",
    "ob2 = Complex(4, 5)\n",
    "ob3 = ob1 + ob2\n",
    "ob4 = ob3 + ob2\n",
    "print(ob4.a, ob4.b)\n",
    "ob5 = ob4 - ob2\n",
    "print(ob5.a, ob5.b)"
   ]
  },
  {
   "cell_type": "code",
   "execution_count": 64,
   "metadata": {},
   "outputs": [
    {
     "name": "stdout",
     "output_type": "stream",
     "text": [
      "3 is equal to 3\n"
     ]
    }
   ],
   "source": [
    "# Comparision Operator >, <, ==\n",
    "class A:\n",
    "    def __init__(self, a):\n",
    "        self.a = a\n",
    "        \n",
    "    def __gt__(self, other):\n",
    "        if (self.a > other.a):\n",
    "            return True\n",
    "        else:\n",
    "            return False\n",
    "    def __lt__(self, other):\n",
    "        if (self.a < other.a):\n",
    "            return True\n",
    "        else:\n",
    "            return False\n",
    "    \n",
    "    def __eq__(self, other):\n",
    "        if self.a == other.a:\n",
    "            return True\n",
    "        else:\n",
    "            return False\n",
    "\n",
    "o1 = A(3)\n",
    "o2 = A(3)\n",
    "if o1>o2:\n",
    "    print(o1.a, \"is greater than the\", o2.a)\n",
    "elif o1<o2:\n",
    "    print(o1.a, \"is less than the\", o2.a)\n",
    "elif o1==o2:\n",
    "    print(o1.a, \"is equal to\", o2.a)"
   ]
  },
  {
   "cell_type": "markdown",
   "metadata": {},
   "source": [
    "**Note: It is not possible to change the number of operands of an operator.**\n",
    "**For example: If we can not overload a unary operator as a binary operator. The following code will throw a syntax error.**"
   ]
  },
  {
   "cell_type": "code",
   "execution_count": 67,
   "metadata": {},
   "outputs": [
    {
     "name": "stdout",
     "output_type": "stream",
     "text": [
      "This function is called\n",
      "-2\n"
     ]
    }
   ],
   "source": [
    "class A:\n",
    "    def __init__(self, a):\n",
    "        self.a = a\n",
    "    \n",
    "    def __invert__(self):\n",
    "        print(\"This function is called\")\n",
    "        return ~self.a\n",
    "\n",
    "ob1 = A(1)\n",
    "print(~ob1)"
   ]
  },
  {
   "cell_type": "code",
   "execution_count": 73,
   "metadata": {},
   "outputs": [
    {
     "name": "stdout",
     "output_type": "stream",
     "text": [
      "False\n"
     ]
    }
   ],
   "source": [
    "# operator overloading on Boolean values:\n",
    "\n",
    "class MyClass:\n",
    "    def __init__(self, boolion):\n",
    "        self.boolion = boolion\n",
    "        \n",
    "    def __and__(self, other):\n",
    "        return self.boolion and other.booolion\n",
    "    \n",
    "ob1 = MyClass(True)\n",
    "ob2 = MyClass(False)\n",
    "print(ob2 & ob1)"
   ]
  },
  {
   "cell_type": "markdown",
   "metadata": {},
   "source": [
    "**Advantages:**\n",
    "1. Improved readability:\n",
    "2. Consistency with built-in types:\n",
    "3. Operator overloading:\n",
    "4. Custom behavior:\n",
    "5. Enhanced functionality:"
   ]
  },
  {
   "cell_type": "markdown",
   "metadata": {},
   "source": [
    "# Iterators in Python"
   ]
  },
  {
   "cell_type": "markdown",
   "metadata": {},
   "source": [
    "An iterator in Python is an object used to traverse through all the elements of a collection (like lists, tuples, or dictionaries) one element at a time. \n",
    "It follows the iterator protocol, which involves two key methods:\n",
    "    \n",
    "__iter__(): Returns the iterator object itself.\n",
    "__next__(): Returns the next value from the sequence. Raises StopIteration when the sequence ends.\n",
    "    \n",
    "Why do we need iterators in Python:\n",
    "    \n",
    "Lazy Evaluation : Processes items only when needed, saving memory.\n",
    "\n",
    "Generator Integration : Pairs well with generators and functional tools.\n",
    "\n",
    "Stateful Traversal : Remembers position between calls.\n",
    "\n",
    "Uniform Looping : Works across data types with the same syntax.\n",
    "\n",
    "Composable Logic : Easily build complex pipelines using tools like itertools"
   ]
  },
  {
   "cell_type": "markdown",
   "metadata": {},
   "source": [
    "**Built-in types:**\n",
    "\n",
    "Types like list, tuple, str, dict, set already have __iter__ defined.\n",
    "\n",
    "You don’t need to define anything; iteration works automatically. "
   ]
  },
  {
   "cell_type": "markdown",
   "metadata": {},
   "source": [
    "**Iter in case of Basic type**"
   ]
  },
  {
   "cell_type": "code",
   "execution_count": 82,
   "metadata": {},
   "outputs": [
    {
     "name": "stdout",
     "output_type": "stream",
     "text": [
      "['a', 'b', 'c']\n",
      "a\n",
      "b\n",
      "c\n"
     ]
    }
   ],
   "source": [
    "List1 = ['a', 'b', 'c']\n",
    "\n",
    "print(List1)\n",
    "\n",
    "for K in List1: # this will become for K in iter(List1): iternally for basic types. It means no to define explicitly iter().\n",
    "    print(K)"
   ]
  },
  {
   "cell_type": "markdown",
   "metadata": {},
   "source": [
    "# iter()\n",
    "\n",
    "is a built-in function, not a class.\n",
    "\n",
    "It takes an iterable (like a list, tuple, string, etc.) and returns an **iterator object.**\n",
    "\n",
    "The iterator object is an instance of a class that implements the iterator protocol (--iter--() and --next--()).\n",
    " \n",
    "# Basic types that support iter():\n",
    "\n",
    "Sequences: list, tuple, str, bytes, range, etc.\n",
    "\n",
    "Set types: set, frozenset\n",
    "\n",
    "Mapping types: dict (iterates over keys by default)\n",
    "\n",
    "File objects: (iterates over lines)"
   ]
  },
  {
   "cell_type": "code",
   "execution_count": 89,
   "metadata": {},
   "outputs": [
    {
     "name": "stdout",
     "output_type": "stream",
     "text": [
      "True\n",
      "False\n",
      "True\n"
     ]
    }
   ],
   "source": [
    "my_list = [1, 2, 3]\n",
    "print('__iter__' in dir(my_list))  # True\n",
    "print('__next__' in dir(my_list))  # False\n",
    "\n",
    "it = iter(my_list)\n",
    "print('__next__' in dir(it))  # True"
   ]
  },
  {
   "cell_type": "markdown",
   "metadata": {},
   "source": [
    "**Iter in case of Custom type**"
   ]
  },
  {
   "cell_type": "code",
   "execution_count": 93,
   "metadata": {},
   "outputs": [
    {
     "name": "stdout",
     "output_type": "stream",
     "text": [
      "1\n",
      "2\n",
      "3\n"
     ]
    },
    {
     "data": {
      "text/plain": [
       "['__class__',\n",
       " '__delattr__',\n",
       " '__dir__',\n",
       " '__doc__',\n",
       " '__eq__',\n",
       " '__format__',\n",
       " '__ge__',\n",
       " '__getattribute__',\n",
       " '__gt__',\n",
       " '__hash__',\n",
       " '__init__',\n",
       " '__init_subclass__',\n",
       " '__iter__',\n",
       " '__le__',\n",
       " '__length_hint__',\n",
       " '__lt__',\n",
       " '__ne__',\n",
       " '__new__',\n",
       " '__next__',\n",
       " '__reduce__',\n",
       " '__reduce_ex__',\n",
       " '__repr__',\n",
       " '__setattr__',\n",
       " '__setstate__',\n",
       " '__sizeof__',\n",
       " '__str__',\n",
       " '__subclasshook__']"
      ]
     },
     "execution_count": 93,
     "metadata": {},
     "output_type": "execute_result"
    }
   ],
   "source": [
    "class MyCollection:\n",
    "    def __init__(self, items):\n",
    "        self.items = items\n",
    "\n",
    "    def __iter__(self):\n",
    "        # could return an iterator object\n",
    "        return iter(self.items)  # simplest way\n",
    "\n",
    "List = MyCollection([1,2,3])\n",
    "for L in List:\n",
    "    print(L)\n",
    "dir(iter([1,2]))"
   ]
  },
  {
   "cell_type": "markdown",
   "metadata": {},
   "source": [
    "**Iter is lazy because**"
   ]
  },
  {
   "cell_type": "markdown",
   "metadata": {},
   "source": [
    "**Case 1: Normal list (eager)**m"
   ]
  },
  {
   "cell_type": "code",
   "execution_count": 96,
   "metadata": {},
   "outputs": [],
   "source": [
    "nums = [x for x in range(1_000_000)]"
   ]
  },
  {
   "cell_type": "markdown",
   "metadata": {},
   "source": [
    "This builds all 1,000,000 numbers in memory at once.\n",
    "RAM usage can be very high (depends on object size)."
   ]
  },
  {
   "cell_type": "markdown",
   "metadata": {},
   "source": [
    "**Case 2: Generator (lazy, with iter/next)**"
   ]
  },
  {
   "cell_type": "code",
   "execution_count": 95,
   "metadata": {},
   "outputs": [
    {
     "name": "stdout",
     "output_type": "stream",
     "text": [
      "0\n",
      "1\n"
     ]
    }
   ],
   "source": [
    "nums = (x for x in range(1_000_000))  # generator expression\n",
    "it = iter(nums)\n",
    "\n",
    "print(next(it))  # computes only 0\n",
    "print(next(it))  # computes only 1"
   ]
  },
  {
   "cell_type": "markdown",
   "metadata": {},
   "source": [
    "Here, nothing is stored upfront.\n",
    "\n",
    "Each value is produced on demand.\n",
    "\n",
    "Memory stays tiny — just the generator object (a few bytes), no matter how many numbers are possible"
   ]
  },
  {
   "cell_type": "markdown",
   "metadata": {},
   "source": [
    "**Case 3: File reading**"
   ]
  },
  {
   "cell_type": "code",
   "execution_count": 97,
   "metadata": {},
   "outputs": [
    {
     "ename": "FileNotFoundError",
     "evalue": "[Errno 2] No such file or directory: 'bigfile.txt'",
     "output_type": "error",
     "traceback": [
      "\u001b[1;31m---------------------------------------------------------------------------\u001b[0m",
      "\u001b[1;31mFileNotFoundError\u001b[0m                         Traceback (most recent call last)",
      "\u001b[1;32m<ipython-input-97-b2704154bb93>\u001b[0m in \u001b[0;36m<module>\u001b[1;34m\u001b[0m\n\u001b[1;32m----> 1\u001b[1;33m \u001b[1;32mwith\u001b[0m \u001b[0mopen\u001b[0m\u001b[1;33m(\u001b[0m\u001b[1;34m\"bigfile.txt\"\u001b[0m\u001b[1;33m)\u001b[0m \u001b[1;32mas\u001b[0m \u001b[0mf\u001b[0m\u001b[1;33m:\u001b[0m\u001b[1;33m\u001b[0m\u001b[0m\n\u001b[0m\u001b[0;32m      2\u001b[0m     \u001b[1;32mfor\u001b[0m \u001b[0mline\u001b[0m \u001b[1;32min\u001b[0m \u001b[0mf\u001b[0m\u001b[1;33m:\u001b[0m  \u001b[1;31m# fetch one line at a time\u001b[0m\u001b[1;33m\u001b[0m\u001b[0m\n\u001b[0;32m      3\u001b[0m         \u001b[0mprocess\u001b[0m\u001b[1;33m(\u001b[0m\u001b[0mline\u001b[0m\u001b[1;33m)\u001b[0m\u001b[1;33m\u001b[0m\u001b[0m\n",
      "\u001b[1;31mFileNotFoundError\u001b[0m: [Errno 2] No such file or directory: 'bigfile.txt'"
     ]
    }
   ],
   "source": [
    "with open(\"bigfile.txt\") as f:\n",
    "    for line in f:  # fetch one line at a time\n",
    "        process(line)"
   ]
  },
  {
   "cell_type": "markdown",
   "metadata": {},
   "source": [
    "The whole file might be GBs in size, but only one line at a time is in memory.\n",
    "\n",
    "This is possible because iter(f) + next(f) fetch lazily."
   ]
  },
  {
   "cell_type": "markdown",
   "metadata": {},
   "source": [
    "👉 You are right:\n",
    "\n",
    "If you already have a list, tuple, set, or string, then all the data is already sitting in RAM.\n",
    "\n",
    "Calling iter() on such a collection does not make it memory-efficient or “truly lazy,” because the data was pre-allocated.\n",
    "\n",
    "The iterator only fetches elements one at a time, but it’s still walking through an object that’s fully in memory.\n",
    "\n",
    "🔹 So what’s “lazy” here?\n",
    "\n",
    "For lists/tuples/strings: iter() is sequential access (step-by-step), but not memory saving, since the data already exists in RAM.\n",
    "\n",
    "For files, generators, streams, ranges, custom iterators: iter() + next() becomes truly lazy, because values are produced or fetched on demand, without storing everything in memory (RAM)."
   ]
  },
  {
   "cell_type": "markdown",
   "metadata": {},
   "source": [
    "**Example: List (not truly lazy)**"
   ]
  },
  {
   "cell_type": "code",
   "execution_count": 98,
   "metadata": {},
   "outputs": [
    {
     "name": "stdout",
     "output_type": "stream",
     "text": [
      "1\n",
      "2\n"
     ]
    }
   ],
   "source": [
    "nums = [1, 2, 3, 4, 5]\n",
    "it = iter(nums)\n",
    "\n",
    "print(next(it))  # fetches from RAM\n",
    "print(next(it))  # still RAM"
   ]
  },
  {
   "cell_type": "markdown",
   "metadata": {},
   "source": [
    "**Example: Generator (truly lazy)**"
   ]
  },
  {
   "cell_type": "code",
   "execution_count": 99,
   "metadata": {},
   "outputs": [
    {
     "name": "stdout",
     "output_type": "stream",
     "text": [
      "1\n",
      "2\n",
      "3\n"
     ]
    }
   ],
   "source": [
    "def count_up():\n",
    "    n = 1\n",
    "    while True:\n",
    "        yield n   # produced only when asked\n",
    "        n += 1\n",
    "\n",
    "it = count_up()\n",
    "print(next(it))  # 1\n",
    "print(next(it))  # 2\n",
    "print(next(it))  # still generating..."
   ]
  },
  {
   "cell_type": "markdown",
   "metadata": {},
   "source": [
    "**Iterator Vs Generator**\n",
    "\n",
    "| Aspect             | **Iterator**                                                                         | **Generator**                                                                                    |\n",
    "| ------------------ | ------------------------------------------------------------------------------------ | ------------------------------------------------------------------------------------------------ |\n",
    "| **Definition**     | An object that implements `__iter__()` and `__next__()` methods (iterator protocol). | **A special type of iterator created by a **function with `yield`** or a** ****generator expression**. |\n",
    "| **Creation**       | Must define a class with `__iter__` and `__next__`.                                  | Just write a function with `yield`, Python does the heavy lifting.                               |\n",
    "| **Ease of Use**    | More boilerplate code.                                                               | Much simpler and shorter.                                                                        |\n",
    "| **State Handling** | Must manually manage state (index, counters, etc.).                                  | State is saved automatically between `yield` calls.                                              |\n",
    "| **Memory Usage**   | Depends on implementation; often needs to store collection.                          | Very memory efficient → generates values lazily, one at a time.                                  |\n",
    "| **Use Case**       | When you need fine control over iteration logic.                                     | When you want a simple, lazy producer of values.                                                 |\n"
   ]
  },
  {
   "cell_type": "markdown",
   "metadata": {},
   "source": [
    "# Generator: It is a special type of Iterator."
   ]
  },
  {
   "cell_type": "code",
   "execution_count": 101,
   "metadata": {},
   "outputs": [
    {
     "name": "stdout",
     "output_type": "stream",
     "text": [
      "0\n",
      "1\n",
      "2\n",
      "3\n",
      "4\n"
     ]
    }
   ],
   "source": [
    "def count_up(n): # the state of this function is saved every time it is called.\n",
    "    current = 0         \n",
    "    while current < n:\n",
    "        yield current   # This is lazy \n",
    "        current += 1\n",
    "\n",
    "gen = count_up(5)\n",
    "for num in gen:\n",
    "    print(num)"
   ]
  },
  {
   "cell_type": "markdown",
   "metadata": {},
   "source": [
    "**Does the generator will iternally implement the iter and next methods ?**\n",
    "\n",
    "When you write a function with a yield, Python automatically creates a generator object, and that object implements both:\n",
    "\n",
    "__iter__() → returns itself (so it can be used in a for loop or any place expecting an iterable).\n",
    "\n",
    "__next__() → resumes execution of the generator until the next yield (or raises StopIteration if finished)."
   ]
  },
  {
   "cell_type": "code",
   "execution_count": 25,
   "metadata": {},
   "outputs": [
    {
     "name": "stdout",
     "output_type": "stream",
     "text": [
      "True\n",
      "True\n",
      "True\n"
     ]
    }
   ],
   "source": [
    "def fun(max):\n",
    "    ct = 1\n",
    "    while ct <= 1:\n",
    "        yield ct\n",
    "        ct += 1\n",
    "\n",
    "cnt = fun(3)\n",
    "print(hasattr(cnt, '__iter__'))  # This shows that generator implements iter internally \n",
    "print(hasattr(cnt, '__next__'))  # This shows that generator implements next internally\n",
    "print(iter(cnt) is cnt)          # This shows that generator implements iter internally"
   ]
  },
  {
   "cell_type": "code",
   "execution_count": 36,
   "metadata": {},
   "outputs": [
    {
     "name": "stdout",
     "output_type": "stream",
     "text": [
      "Before yield\n",
      "1\n",
      "After yield\n",
      "Before yield\n",
      "2\n",
      "After yield\n",
      "Before yield\n",
      "3\n",
      "After yield\n",
      "Finished Generator\n"
     ]
    },
    {
     "ename": "StopIteration",
     "evalue": "",
     "output_type": "error",
     "traceback": [
      "\u001b[1;31m---------------------------------------------------------------------------\u001b[0m",
      "\u001b[1;31mStopIteration\u001b[0m                             Traceback (most recent call last)",
      "\u001b[1;32m<ipython-input-36-5a42f370e095>\u001b[0m in \u001b[0;36m<module>\u001b[1;34m\u001b[0m\n\u001b[0;32m     12\u001b[0m \u001b[0mprint\u001b[0m\u001b[1;33m(\u001b[0m\u001b[0mnext\u001b[0m\u001b[1;33m(\u001b[0m\u001b[0mc\u001b[0m\u001b[1;33m)\u001b[0m\u001b[1;33m)\u001b[0m\u001b[1;33m\u001b[0m\u001b[0m\n\u001b[0;32m     13\u001b[0m \u001b[0mprint\u001b[0m\u001b[1;33m(\u001b[0m\u001b[0mnext\u001b[0m\u001b[1;33m(\u001b[0m\u001b[0mc\u001b[0m\u001b[1;33m)\u001b[0m\u001b[1;33m)\u001b[0m\u001b[1;33m\u001b[0m\u001b[0m\n\u001b[1;32m---> 14\u001b[1;33m \u001b[0mprint\u001b[0m\u001b[1;33m(\u001b[0m\u001b[0mnext\u001b[0m\u001b[1;33m(\u001b[0m\u001b[0mc\u001b[0m\u001b[1;33m)\u001b[0m\u001b[1;33m)\u001b[0m\u001b[1;33m\u001b[0m\u001b[0m\n\u001b[0m\u001b[0;32m     15\u001b[0m \u001b[1;31m# for n in c:\u001b[0m\u001b[1;33m\u001b[0m\u001b[1;33m\u001b[0m\u001b[0m\n\u001b[0;32m     16\u001b[0m \u001b[1;31m#     print(n)\u001b[0m\u001b[1;33m\u001b[0m\u001b[1;33m\u001b[0m\u001b[0m\n",
      "\u001b[1;31mStopIteration\u001b[0m: "
     ]
    }
   ],
   "source": [
    "def fun(max):\n",
    "    cnt = 1\n",
    "    while cnt <= max:\n",
    "        print(\"Before yield\")\n",
    "        yield cnt\n",
    "        print(\"After yield\")\n",
    "        cnt += 1\n",
    "    print(\"Finished Generator\")\n",
    "\n",
    "c = fun(3)\n",
    "print(next(c))\n",
    "print(next(c))\n",
    "print(next(c))\n",
    "print(next(c))\n",
    "# for n in c:\n",
    "#     print(n)"
   ]
  },
  {
   "cell_type": "code",
   "execution_count": 50,
   "metadata": {},
   "outputs": [
    {
     "ename": "TypeError",
     "evalue": "__init__() missing 1 required positional argument: 'max_val'",
     "output_type": "error",
     "traceback": [
      "\u001b[1;31m---------------------------------------------------------------------------\u001b[0m",
      "\u001b[1;31mTypeError\u001b[0m                                 Traceback (most recent call last)",
      "\u001b[1;32m<ipython-input-50-6d001ba0f437>\u001b[0m in \u001b[0;36m<module>\u001b[1;34m\u001b[0m\n\u001b[0;32m     15\u001b[0m             \u001b[1;32mraise\u001b[0m \u001b[0mStopIteration\u001b[0m\u001b[1;33m\u001b[0m\u001b[0m\n\u001b[0;32m     16\u001b[0m \u001b[1;33m\u001b[0m\u001b[0m\n\u001b[1;32m---> 17\u001b[1;33m \u001b[0mcr\u001b[0m \u001b[1;33m=\u001b[0m \u001b[0mFunIterator\u001b[0m\u001b[1;33m.\u001b[0m\u001b[0m__init__\u001b[0m\u001b[1;33m(\u001b[0m\u001b[1;36m3\u001b[0m\u001b[1;33m)\u001b[0m\u001b[1;33m\u001b[0m\u001b[0m\n\u001b[0m\u001b[0;32m     18\u001b[0m \u001b[1;31m# ctr.__iter__()\u001b[0m\u001b[1;33m\u001b[0m\u001b[1;33m\u001b[0m\u001b[0m\n\u001b[0;32m     19\u001b[0m \u001b[1;31m# print(ctr.__next__())\u001b[0m\u001b[1;33m\u001b[0m\u001b[1;33m\u001b[0m\u001b[0m\n",
      "\u001b[1;31mTypeError\u001b[0m: __init__() missing 1 required positional argument: 'max_val'"
     ]
    }
   ],
   "source": [
    "class FunIterator:\n",
    "    def __init__(self, max_val):\n",
    "        self.max_val = max_val\n",
    "        self.cnt = 1\n",
    "    \n",
    "    def __iter__(self):\n",
    "        return self\n",
    "    \n",
    "    def __next__(self):\n",
    "        if self.cnt <= self.max_val:\n",
    "            value = self.cnt\n",
    "            self.cnt += 1\n",
    "            return value\n",
    "        else:\n",
    "            raise StopIteration\n",
    "\n",
    "cr = FunIterator.__init__(3)\n",
    "# ctr.__iter__()\n",
    "# print(ctr.__next__())\n",
    "# print(ctr.__next__())\n",
    "# print(ctr.__next__())\n",
    "ctr = iter(cr)\n",
    "for n in ctr:\n",
    "    print(n)"
   ]
  },
  {
   "cell_type": "markdown",
   "metadata": {},
   "source": [
    "**1. If the __iter__ is not defined the for loop iteration will fail, to verifi that comment out the __iter__ function inside**\n",
    "\n",
    "**2. If you try to call the __next__ iter is not needed**"
   ]
  },
  {
   "cell_type": "code",
   "execution_count": null,
   "metadata": {},
   "outputs": [],
   "source": [
    "# IMP NOTE:\n",
    "\n",
    "When we do next, we reed the data and process it. We are not storing on the RAM. Which is the Biggest Advantage.\n",
    "\n",
    "When you call next(it), Python asks the iterator for just one item.\n",
    "\n",
    "The iterator produces (yields) that value on demand.\n",
    "\n",
    "After returning it, Python forgets it unless you store it somewhere.\n",
    "\n",
    "The rest of the sequence is not generated or stored in RAM yet."
   ]
  },
  {
   "cell_type": "code",
   "execution_count": 51,
   "metadata": {},
   "outputs": [
    {
     "name": "stdout",
     "output_type": "stream",
     "text": [
      "0 999998000001\n"
     ]
    }
   ],
   "source": [
    "# Here 1 Billion parameter are stored on the RAM\n",
    "\n",
    "nums = [x*x for x in range(10**6)]  # builds 1 million squares in memory\n",
    "print(nums[0], nums[-1])"
   ]
  },
  {
   "cell_type": "code",
   "execution_count": 52,
   "metadata": {},
   "outputs": [
    {
     "name": "stdout",
     "output_type": "stream",
     "text": [
      "0\n",
      "1\n"
     ]
    }
   ],
   "source": [
    "def squares(n):\n",
    "    for i in range(n):\n",
    "        yield i*i\n",
    "\n",
    "gen = squares(10**6)\n",
    "print(next(gen))  # 0 (only computes 0*0)\n",
    "print(next(gen)) "
   ]
  },
  {
   "cell_type": "code",
   "execution_count": 45,
   "metadata": {},
   "outputs": [
    {
     "ename": "NameError",
     "evalue": "name 'obj' is not defined",
     "output_type": "error",
     "traceback": [
      "\u001b[1;31m---------------------------------------------------------------------------\u001b[0m",
      "\u001b[1;31mNameError\u001b[0m                                 Traceback (most recent call last)",
      "\u001b[1;32m<ipython-input-45-e4ecf980caea>\u001b[0m in \u001b[0;36m<module>\u001b[1;34m\u001b[0m\n\u001b[1;32m----> 1\u001b[1;33m \u001b[1;32mfor\u001b[0m \u001b[0mx\u001b[0m \u001b[1;32min\u001b[0m \u001b[0mobj\u001b[0m\u001b[1;33m:\u001b[0m\u001b[1;33m\u001b[0m\u001b[0m\n\u001b[0m\u001b[0;32m      2\u001b[0m     \u001b[0mprint\u001b[0m\u001b[1;33m(\u001b[0m\u001b[0mx\u001b[0m\u001b[1;33m)\u001b[0m\u001b[1;33m\u001b[0m\u001b[0m\n\u001b[0;32m      3\u001b[0m \u001b[1;33m\u001b[0m\u001b[0m\n\u001b[0;32m      4\u001b[0m \u001b[1;31m# Equalent of the above code\u001b[0m\u001b[1;33m\u001b[0m\u001b[1;33m\u001b[0m\u001b[0m\n\u001b[0;32m      5\u001b[0m \u001b[1;33m\u001b[0m\u001b[0m\n",
      "\u001b[1;31mNameError\u001b[0m: name 'obj' is not defined"
     ]
    }
   ],
   "source": [
    "# iterator with for loop\n",
    "for x in obj:\n",
    "    print(x)\n",
    "\n",
    "# Equalent of the above code\n",
    "\n",
    "iterator = iter(obj)   # calls obj.__iter__()\n",
    "while True:\n",
    "    try:\n",
    "        item = next(iterator)   # calls iterator.__next__()\n",
    "        print(item)\n",
    "    except StopIteration:\n",
    "        break\n"
   ]
  },
  {
   "cell_type": "code",
   "execution_count": 19,
   "metadata": {},
   "outputs": [
    {
     "name": "stdout",
     "output_type": "stream",
     "text": [
      "1\n",
      "2\n",
      "3\n"
     ]
    },
    {
     "ename": "StopIteration",
     "evalue": "",
     "output_type": "error",
     "traceback": [
      "\u001b[1;31m---------------------------------------------------------------------------\u001b[0m",
      "\u001b[1;31mStopIteration\u001b[0m                             Traceback (most recent call last)",
      "\u001b[1;32m<ipython-input-19-e82108377436>\u001b[0m in \u001b[0;36m<module>\u001b[1;34m\u001b[0m\n\u001b[0;32m      8\u001b[0m \u001b[0mprint\u001b[0m\u001b[1;33m(\u001b[0m\u001b[0mnext\u001b[0m\u001b[1;33m(\u001b[0m\u001b[0mctr\u001b[0m\u001b[1;33m)\u001b[0m\u001b[1;33m)\u001b[0m\u001b[1;33m\u001b[0m\u001b[0m\n\u001b[0;32m      9\u001b[0m \u001b[0mprint\u001b[0m\u001b[1;33m(\u001b[0m\u001b[0mnext\u001b[0m\u001b[1;33m(\u001b[0m\u001b[0mctr\u001b[0m\u001b[1;33m)\u001b[0m\u001b[1;33m)\u001b[0m\u001b[1;33m\u001b[0m\u001b[0m\n\u001b[1;32m---> 10\u001b[1;33m \u001b[0mprint\u001b[0m\u001b[1;33m(\u001b[0m\u001b[0mnext\u001b[0m\u001b[1;33m(\u001b[0m\u001b[0mctr\u001b[0m\u001b[1;33m)\u001b[0m\u001b[1;33m)\u001b[0m\u001b[1;33m\u001b[0m\u001b[0m\n\u001b[0m\u001b[0;32m     11\u001b[0m \u001b[1;32mfor\u001b[0m \u001b[0mn\u001b[0m \u001b[1;32min\u001b[0m \u001b[0mctr\u001b[0m\u001b[1;33m:\u001b[0m\u001b[1;33m\u001b[0m\u001b[0m\n\u001b[0;32m     12\u001b[0m     \u001b[0mprint\u001b[0m\u001b[1;33m(\u001b[0m\u001b[0mn\u001b[0m\u001b[1;33m)\u001b[0m\u001b[1;33m\u001b[0m\u001b[0m\n",
      "\u001b[1;31mStopIteration\u001b[0m: "
     ]
    }
   ],
   "source": [
    "def fun(max):\n",
    "    cnt = 1\n",
    "    while cnt <= max:\n",
    "        yield cnt\n",
    "        cnt += 1\n",
    "ctr = fun(3)\n",
    "print(next(ctr))\n",
    "print(next(ctr))\n",
    "print(next(ctr))\n",
    "print(next(ctr))\n",
    "for n in ctr:\n",
    "    print(n)"
   ]
  },
  {
   "cell_type": "markdown",
   "metadata": {},
   "source": [
    "# Memory Management in Python"
   ]
  },
  {
   "cell_type": "markdown",
   "metadata": {},
   "source": [
    "**Reference counting and Garbage Collection in Python**"
   ]
  },
  {
   "cell_type": "markdown",
   "metadata": {},
   "source": [
    "Garbage Collection in Python is an automatic process that handles memory allocation and deallocation, ensuring efficient use of memory. Unlike languages such as C or C++ where the programmer must manually allocate and deallocate memory, Python automatically manages memory through two primary strategies:\n",
    "1. Refence Counting\n",
    "2. Garbage Collection"
   ]
  },
  {
   "cell_type": "code",
   "execution_count": 5,
   "metadata": {},
   "outputs": [
    {
     "name": "stdout",
     "output_type": "stream",
     "text": [
      "2\n",
      "3\n",
      "2\n"
     ]
    }
   ],
   "source": [
    "import sys\n",
    "\n",
    "x = [1,3,4]\n",
    "print(sys.getrefcount(x))\n",
    "\n",
    "y = x\n",
    "print(sys.getrefcount(x))\n",
    "\n",
    "y = None\n",
    "print(sys.getrefcount(x))\n"
   ]
  },
  {
   "cell_type": "markdown",
   "metadata": {},
   "source": [
    "**Problem with Reference Counting**\n",
    "\n",
    "Reference counting fails in the presence of cyclic references i.e., objects that reference each other in a cycle."
   ]
  },
  {
   "cell_type": "code",
   "execution_count": 6,
   "metadata": {},
   "outputs": [
    {
     "name": "stdout",
     "output_type": "stream",
     "text": [
      "3\n",
      "3\n"
     ]
    }
   ],
   "source": [
    "x = [1,2,3]\n",
    "y = [4,5,6]\n",
    "x.append(y)\n",
    "y.append(x)\n",
    "print(sys.getrefcount(x))\n",
    "print(sys.getrefcount(y))"
   ]
  },
  {
   "cell_type": "markdown",
   "metadata": {},
   "source": [
    "**Garbage collection for Cyclic References**\n",
    "\n",
    "Garbage collection is a memory management technique used in programming languages to automatically reclaim memory that is no longer accessible or in use by the application. To handle such circular references, Python uses a Garbage Collector (GC) from the built-in gc module. This collector is able to detect and clean up objects involved in reference cycles."
   ]
  },
  {
   "cell_type": "markdown",
   "metadata": {},
   "source": [
    "**Generational Garbage Collection**\n",
    "\n",
    "Python’s Generational Garbage Collector is designed to deal with cyclic references. It organizes objects into three generations based on their lifespan:"
   ]
  },
  {
   "cell_type": "markdown",
   "metadata": {},
   "source": [
    "Generation 0: Newly created objects.\n",
    "\n",
    "Generation 1: Objects that survived one collection cycle.\n",
    "\n",
    "Generation 2: Long-lived object"
   ]
  },
  {
   "cell_type": "markdown",
   "metadata": {},
   "source": [
    "**Automatic Garbage Collection of Cycles**\n",
    "\n",
    "Garbage collection runs automatically when the number of allocations exceeds the number of deallocations by a certain threshold. This threshold can be inspected using the gc module."
   ]
  },
  {
   "cell_type": "code",
   "execution_count": 8,
   "metadata": {},
   "outputs": [
    {
     "name": "stdout",
     "output_type": "stream",
     "text": [
      "(700, 10, 10)\n"
     ]
    }
   ],
   "source": [
    "import gc\n",
    "print(gc.get_threshold())"
   ]
  },
  {
   "cell_type": "markdown",
   "metadata": {},
   "source": [
    "generation 0: 700\n",
    "\n",
    "generation 1: 10\n",
    "\n",
    "generation 2: 10"
   ]
  },
  {
   "cell_type": "raw",
   "metadata": {},
   "source": [
    "This means:\n",
    "\n",
    "700 (Gen 0 threshold) → Every time you allocate 700 new objects and there are more allocations than deallocations by 700, Python will run a Gen 0 collection.\n",
    "\n",
    "10 (Gen 1 threshold) → If Gen 0 collection has been triggered 10 times, then a Gen 1 collection runs (collects Gen 0 + Gen 1).\n",
    "\n",
    "10 (Gen 2 threshold) → If Gen 1 collection has been triggered 10 times, then a Gen 2 collection runs (collects everything: Gen 0 + Gen 1 + Gen 2)."
   ]
  },
  {
   "cell_type": "code",
   "execution_count": 11,
   "metadata": {},
   "outputs": [
    {
     "name": "stdout",
     "output_type": "stream",
     "text": [
      "(700, 10, 10)\n",
      "(205, 6, 9)\n"
     ]
    }
   ],
   "source": [
    "import gc\n",
    "\n",
    "print(gc.get_threshold())\n",
    "print(gc.get_count())"
   ]
  },
  {
   "cell_type": "code",
   "execution_count": 13,
   "metadata": {},
   "outputs": [
    {
     "name": "stdout",
     "output_type": "stream",
     "text": [
      "After reset (51, 0, 0)\n",
      "After Allocation: (80, 0, 0)\n"
     ]
    }
   ],
   "source": [
    "import gc\n",
    "\n",
    "#Reset Everything\n",
    "gc.collect()\n",
    "print(\"After reset\", gc.get_count())\n",
    "\n",
    "# Allocate many short lived objects\n",
    "\n",
    "for i in range(1000):\n",
    "    tmp = [j for j in range(100)] #Create and Discard\n",
    "\n",
    "print(\"After Allocation:\", gc.get_count())"
   ]
  },
  {
   "cell_type": "code",
   "execution_count": 16,
   "metadata": {},
   "outputs": [
    {
     "name": "stdout",
     "output_type": "stream",
     "text": [
      "New threshold: (50, 2, 2)\n",
      "Reset Count: (25, 1, 0)\n",
      "After loop: (14, 2, 0)\n"
     ]
    }
   ],
   "source": [
    "gc.set_threshold(50, 2, 2)\n",
    "gc.collect()\n",
    "\n",
    "print(\"New threshold:\", gc.get_threshold())\n",
    "print(\"Reset Count:\", gc.get_count())\n",
    "\n",
    "for i in range(500):\n",
    "    tmp = [j for j in range(100)]\n",
    "    \n",
    "print(\"After loop:\", gc.get_count())"
   ]
  },
  {
   "cell_type": "code",
   "execution_count": 19,
   "metadata": {},
   "outputs": [
    {
     "data": {
      "text/plain": [
       "range(0, 5)"
      ]
     },
     "execution_count": 19,
     "metadata": {},
     "output_type": "execute_result"
    }
   ],
   "source": [
    "range(5)"
   ]
  },
  {
   "cell_type": "code",
   "execution_count": 20,
   "metadata": {},
   "outputs": [
    {
     "name": "stdout",
     "output_type": "stream",
     "text": [
      "True\n",
      "False\n"
     ]
    }
   ],
   "source": [
    "r = range(5)\n",
    "\n",
    "print(hasattr(r, \"__iter__\"))  # True  -> it's iterable\n",
    "print(hasattr(r, \"__next__\"))  # False -> not an iterator / not a generator"
   ]
  },
  {
   "cell_type": "markdown",
   "metadata": {},
   "source": [
    "**Manual garbage collection**"
   ]
  },
  {
   "cell_type": "code",
   "execution_count": 23,
   "metadata": {},
   "outputs": [
    {
     "name": "stdout",
     "output_type": "stream",
     "text": [
      "8\n",
      "10\n"
     ]
    }
   ],
   "source": [
    "import gc\n",
    "\n",
    "def fun(i):\n",
    "    x ={}\n",
    "    x[i+1]=x\n",
    "    return x\n",
    "\n",
    "c = gc.collect()\n",
    "print(c)\n",
    "\n",
    "for i in range(10):\n",
    "    fun(i)\n",
    "\n",
    "c = gc.collect()\n",
    "print(c)"
   ]
  }
 ],
 "metadata": {
  "kernelspec": {
   "display_name": "Python 3",
   "language": "python",
   "name": "python3"
  },
  "language_info": {
   "codemirror_mode": {
    "name": "ipython",
    "version": 3
   },
   "file_extension": ".py",
   "mimetype": "text/x-python",
   "name": "python",
   "nbconvert_exporter": "python",
   "pygments_lexer": "ipython3",
   "version": "3.6.6"
  }
 },
 "nbformat": 4,
 "nbformat_minor": 4
}
