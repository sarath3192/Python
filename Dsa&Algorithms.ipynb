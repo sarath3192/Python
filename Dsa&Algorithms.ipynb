{
 "cells": [
  {
   "cell_type": "markdown",
   "metadata": {},
   "source": [
    "# https://www.geeksforgeeks.org/dsa/dsa-tutorial-learn-data-structures-and-algorithms/"
   ]
  },
  {
   "cell_type": "markdown",
   "metadata": {},
   "source": [
    "Data structures manage how data is stored and accessed, while Algorithms focus on processing this data.\n",
    "Examples of data structures are Array, Linked List, Tree and Heap, and examples of algorithms are Binary Search, Quick Sort and Merge Sort."
   ]
  },
  {
   "cell_type": "markdown",
   "metadata": {},
   "source": [
    "**1. Logic Building Problems**"
   ]
  },
  {
   "cell_type": "markdown",
   "metadata": {},
   "source": [
    "**Here are some tips for improving your programming logic:**\n",
    "\n",
    "1. Understand the problem: Read and understand the problem statement.\n",
    "2. Generate Examples: Create additional input and output cases for each problem.\n",
    "3. Draw observations: Draw observations and patterns based on the examples you created.\n",
    "4. Start with Basic: First, think of the basic way to solve the problem then optimize the solution."
   ]
  },
  {
   "cell_type": "code",
   "execution_count": 34,
   "metadata": {},
   "outputs": [
    {
     "name": "stdin",
     "output_type": "stream",
     "text": [
      "Please enter a number 2\n"
     ]
    },
    {
     "name": "stdout",
     "output_type": "stream",
     "text": [
      "2 is a even number\n"
     ]
    }
   ],
   "source": [
    "# cheking even or odd\n",
    "# 1. Normal way\n",
    "# 2. With function\n",
    "# 3. With Bitwise operation\n",
    "    \n",
    "# With a function\n",
    "def isEven(num):\n",
    "    if num%2 == 0:\n",
    "        return True\n",
    "    else:\n",
    "        return False\n",
    "\n",
    "# With bit wise operation\n",
    "def isEven1(num):\n",
    "    if (N & 1) == 0:\n",
    "        return True\n",
    "    else:\n",
    "        return False\n",
    "    \n",
    "# Bit wise with function\n",
    "\n",
    "# What does if __name__ == \"__main__\": mean?\n",
    "\n",
    "# Every Python file has a built-in variable called __name__.\n",
    "\n",
    "# If you run a file directly (like python myscript.py), Python sets\n",
    "# __name__ = \"__main__\".\n",
    "\n",
    "# If you import the file as a module into another script, then\n",
    "# __name__ is set to the module’s name (the filename without .py).\n",
    "\n",
    "# Why use it?\n",
    "\n",
    "# It lets you control whether some code should run:\n",
    "\n",
    "# Only when the file is executed directly ✅\n",
    "\n",
    "# Not when it’s imported ❌\n",
    "if __name__ == \"__main__\":\n",
    "    try:\n",
    "        N = int(input(\"Please enter a number\"))\n",
    "    except:\n",
    "        print(\"You have entered a character\")\n",
    "        \n",
    "    if isEven1(N) == True:\n",
    "        print(N, \"is a even number\")\n",
    "    else:\n",
    "        print(N, \"is a odd number\")"
   ]
  },
  {
   "cell_type": "code",
   "execution_count": null,
   "metadata": {},
   "outputs": [],
   "source": [
    "# Multiplication table\n",
    "# 1. Using for loop and Comprehensive for loop\n",
    "# 2. Using Recursion\n"
   ]
  },
  {
   "cell_type": "markdown",
   "metadata": {},
   "source": [
    "**2. Learn about Complexities**"
   ]
  },
  {
   "cell_type": "markdown",
   "metadata": {},
   "source": [
    "To analyze algorithms, we mainly measure order of growth of time or space taken in terms of input size.\n",
    "We do this in the worst case scenario in most of the cases. \n",
    "Please refer the below links for a clear understanding of these concepts."
   ]
  },
  {
   "cell_type": "code",
   "execution_count": null,
   "metadata": {},
   "outputs": [],
   "source": []
  },
  {
   "cell_type": "code",
   "execution_count": null,
   "metadata": {},
   "outputs": [],
   "source": []
  },
  {
   "cell_type": "markdown",
   "metadata": {},
   "source": [
    "**3. Array or list in Python**"
   ]
  },
  {
   "cell_type": "markdown",
   "metadata": {},
   "source": [
    "Array is a linear data structure where elements are allocated contiguous memory, allowing for constant-time access."
   ]
  },
  {
   "cell_type": "markdown",
   "metadata": {},
   "source": [
    "**23. Other Algorithms**"
   ]
  },
  {
   "cell_type": "markdown",
   "metadata": {},
   "source": [
    "Bitwise Algorithms: Operate on individual bits of numbers."
   ]
  },
  {
   "cell_type": "code",
   "execution_count": null,
   "metadata": {},
   "outputs": [],
   "source": []
  }
 ],
 "metadata": {
  "kernelspec": {
   "display_name": "Python 3",
   "language": "python",
   "name": "python3"
  },
  "language_info": {
   "codemirror_mode": {
    "name": "ipython",
    "version": 3
   },
   "file_extension": ".py",
   "mimetype": "text/x-python",
   "name": "python",
   "nbconvert_exporter": "python",
   "pygments_lexer": "ipython3",
   "version": "3.6.6"
  }
 },
 "nbformat": 4,
 "nbformat_minor": 4
}
