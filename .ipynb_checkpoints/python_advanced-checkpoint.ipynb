{
 "cells": [
  {
   "cell_type": "markdown",
   "metadata": {},
   "source": [
    "# https://www.geeksforgeeks.org/python/advanced-python-tutorials/"
   ]
  },
  {
   "cell_type": "markdown",
   "metadata": {},
   "source": [
    "# Advanced Conditional Statements"
   ]
  },
  {
   "cell_type": "markdown",
   "metadata": {},
   "source": [
    "**reduce() in Python**"
   ]
  },
  {
   "cell_type": "code",
   "execution_count": 2,
   "metadata": {},
   "outputs": [
    {
     "name": "stdout",
     "output_type": "stream",
     "text": [
      "15\n"
     ]
    }
   ],
   "source": [
    "from functools import reduce\n",
    "def add(x,y):\n",
    "    return x + y\n",
    "a = [1,2,3,4,5]\n",
    "print(reduce(add, a))"
   ]
  },
  {
   "cell_type": "code",
   "execution_count": 4,
   "metadata": {},
   "outputs": [
    {
     "name": "stdout",
     "output_type": "stream",
     "text": [
      "120\n"
     ]
    }
   ],
   "source": [
    "from functools import reduce\n",
    "def mul(x, y):\n",
    "    return x*y\n",
    "a = [1,2,3,4,5]\n",
    "print(reduce(mul, a))"
   ]
  },
  {
   "cell_type": "markdown",
   "metadata": {},
   "source": [
    "**syntax of reduce**"
   ]
  },
  {
   "cell_type": "markdown",
   "metadata": {},
   "source": [
    "*functools.reduce(function, iterable[, initializer])*"
   ]
  },
  {
   "cell_type": "markdown",
   "metadata": {},
   "source": [
    "function: A function that takes two arguments and performs an operation on them.\n",
    "\n",
    "iterable: An iterable whose elements are processed by the function.\n",
    "\n",
    "initializer (optional): A starting value for the operation. If provided, it is placed before the first element in the iterable."
   ]
  },
  {
   "cell_type": "markdown",
   "metadata": {},
   "source": [
    "**Using reduce() with lambda**"
   ]
  },
  {
   "cell_type": "code",
   "execution_count": 12,
   "metadata": {},
   "outputs": [
    {
     "name": "stdout",
     "output_type": "stream",
     "text": [
      "10\n"
     ]
    }
   ],
   "source": [
    "from functools import reduce\n",
    "\n",
    "b = [1,2,3,4]    \n",
    "print(reduce(lambda x,y: x+y, b)) \n"
   ]
  },
  {
   "cell_type": "markdown",
   "metadata": {},
   "source": [
    "**Using reduce() with operator functions**"
   ]
  },
  {
   "cell_type": "code",
   "execution_count": 20,
   "metadata": {},
   "outputs": [
    {
     "name": "stdout",
     "output_type": "stream",
     "text": [
      "20\n",
      "24\n",
      "bobbili sarath kumar\n"
     ]
    }
   ],
   "source": [
    "import functools\n",
    "import operator\n",
    "\n",
    "a = [2,3,5,2,3,5]\n",
    "print(functools.reduce(operator.add, a))\n",
    "print(functools.reduce(operator.mul, b))\n",
    "print(functools.reduce(operator.add, ['bobbili', ' sarath', ' kumar']))"
   ]
  },
  {
   "cell_type": "markdown",
   "metadata": {},
   "source": [
    "**Difference Between reduce() and accumulate()**"
   ]
  },
  {
   "cell_type": "markdown",
   "metadata": {},
   "source": [
    "**The accumulate() function from the itertools module also performs cumulative operations, but it returns an iterator containing intermediate results, unlike reduce(), which returns a single final value.**"
   ]
  },
  {
   "cell_type": "code",
   "execution_count": 5,
   "metadata": {},
   "outputs": [
    {
     "name": "stdout",
     "output_type": "stream",
     "text": [
      "[1, 3, 6, 11, 17]\n",
      "[1, 2, 6, 30, 180]\n",
      "['a', 'ab', 'abc']\n"
     ]
    }
   ],
   "source": [
    "from itertools import accumulate\n",
    "from operator import add, mul\n",
    "\n",
    "a = [1,2,3,5,6]\n",
    "print(list(accumulate(a, add)))\n",
    "print(list(accumulate(a, mul)))\n",
    "b = ['a', 'b', 'c']\n",
    "print(list(accumulate(b, add)))"
   ]
  },
  {
   "cell_type": "markdown",
   "metadata": {},
   "source": [
    "**Recursion in Python**"
   ]
  },
  {
   "cell_type": "code",
   "execution_count": 6,
   "metadata": {},
   "outputs": [
    {
     "name": "stdout",
     "output_type": "stream",
     "text": [
      "6\n"
     ]
    }
   ],
   "source": [
    "def factor(n):\n",
    "    if n == 0:\n",
    "        return 1\n",
    "    else:\n",
    "        return n * factor(n-1)\n",
    "\n",
    "print(factor(3))"
   ]
  },
  {
   "cell_type": "markdown",
   "metadata": {},
   "source": [
    "**Base Case and Recursive Case**"
   ]
  },
  {
   "cell_type": "markdown",
   "metadata": {},
   "source": [
    "Base Case: This is the condition under which the recursion stops. It is crucial to prevent infinite loops and to ensure that each recursive call reduces the problem in some manner. In the factorial example, the base case is n == 1.\n",
    "\n",
    "Recursive Case: This is the part of the function that includes the call to itself. It must eventually lead to the base case. In the factorial example, the recursive case is return n * factorial(n-1)."
   ]
  },
  {
   "cell_type": "code",
   "execution_count": 2,
   "metadata": {},
   "outputs": [
    {
     "data": {
      "text/plain": [
       "2"
      ]
     },
     "execution_count": 2,
     "metadata": {},
     "output_type": "execute_result"
    }
   ],
   "source": [
    "def fibonaci(n):\n",
    "    if n == 0:\n",
    "        return 0\n",
    "    if n == 1:\n",
    "        return 1\n",
    "    else:\n",
    "        return fibonaci(n-1) + fibonaci(n-2)\n",
    "\n",
    "fibonaci(3)"
   ]
  },
  {
   "cell_type": "markdown",
   "metadata": {},
   "source": [
    "**1. If we not do the recursion properly, it will end up in infinit loop.**\n",
    "\n",
    "**2. So we need to plan the proper loop breaking**\n",
    "\n",
    "**3. Need to plan the recursion to achieve the goal**"
   ]
  },
  {
   "cell_type": "markdown",
   "metadata": {},
   "source": [
    "# OOPs"
   ]
  },
  {
   "cell_type": "markdown",
   "metadata": {},
   "source": [
    "**Class:** A class in Python is a user-defined template for creating objects"
   ]
  },
  {
   "cell_type": "code",
   "execution_count": 7,
   "metadata": {},
   "outputs": [
    {
     "name": "stdout",
     "output_type": "stream",
     "text": [
      "bark\n"
     ]
    }
   ],
   "source": [
    "# Let's create an object from the Dog class.\n",
    "# This is a Dog class template\n",
    "class Dog:\n",
    "    sound = \"bark\" \n",
    "\n",
    "# Here the instance of a Dog is created which is a object\n",
    "dog1 = Dog()\n",
    "\n",
    "# Accessing the element or data in the object\n",
    "print(dog1.sound)"
   ]
  },
  {
   "cell_type": "markdown",
   "metadata": {},
   "source": [
    "**Using __init__() Function**"
   ]
  },
  {
   "cell_type": "code",
   "execution_count": 31,
   "metadata": {},
   "outputs": [
    {
     "data": {
      "text/plain": [
       "'hyd'"
      ]
     },
     "execution_count": 31,
     "metadata": {},
     "output_type": "execute_result"
    }
   ],
   "source": [
    "# Name of the class\n",
    "class Person:\n",
    "    # Location of the where the class is working, this is a class varible common to all the object created\n",
    "    location = 'hyd'\n",
    "    def __init__(self, name, years): # This function is used to create the instance of a object\n",
    "        self.person_name = name\n",
    "        self.age = years\n",
    "        \n",
    "person1 = Person(\"Bob\", 24) # Abject is created by out of a class templete\n",
    "person1.person_name         # Here are accessing a fields in the object\n",
    "person1.age\n",
    "person1.location            # Accessingt "
   ]
  },
  {
   "cell_type": "markdown",
   "metadata": {},
   "source": [
    "**Self Parameter**: it represents the current instance of the class, it helps to access the attributes and methods.\n",
    "\n",
    "When we call dog1.bark(), Python automatically passes dog1 as self, allowing access to its attributes."
   ]
  },
  {
   "cell_type": "code",
   "execution_count": 13,
   "metadata": {},
   "outputs": [
    {
     "name": "stdout",
     "output_type": "stream",
     "text": [
      "I am leo barking!\n",
      "I will have water every day\n",
      "I am puppy barking!\n",
      "I will have milk every day\n",
      "We trust worthy dog\n"
     ]
    }
   ],
   "source": [
    "class Dog:\n",
    "    def __init__(self, name, bread):\n",
    "        self.name = name\n",
    "        self.bread = bread\n",
    "        \n",
    "    def bark(self):\n",
    "        print(f\"I am {self.name} barking!\")\n",
    "    \n",
    "    def eats(self):\n",
    "        print(f\"I will have {self.bread} every day\")\n",
    "        \n",
    "    def general():\n",
    "        print(\"We trust worthy dog\")\n",
    "\n",
    "dog  = Dog('leo','water')\n",
    "dog1 = Dog('puppy', 'milk')\n",
    "dog.bark()\n",
    "dog.eats()\n",
    "dog1.bark()\n",
    "dog1.eats()\n",
    "Dog.general()"
   ]
  },
  {
   "cell_type": "markdown",
   "metadata": {},
   "source": [
    "**__str__() Method**: __str__ method in Python allows us to define a custom string representation of an object."
   ]
  },
  {
   "cell_type": "code",
   "execution_count": 8,
   "metadata": {},
   "outputs": [
    {
     "name": "stdout",
     "output_type": "stream",
     "text": [
      "I am sarath, my age is 28\n"
     ]
    }
   ],
   "source": [
    "class Person:\n",
    "    def __init__(self, name, age):\n",
    "        self.name = name\n",
    "        self.age = age\n",
    "        \n",
    "#     def __str__(self):\n",
    "#         return f\"I am {self.name}, my age is {self.age}\"\n",
    "\n",
    "person1 = Person('sarath', 28)\n",
    "print(person1)"
   ]
  },
  {
   "cell_type": "markdown",
   "metadata": {},
   "source": [
    "**Common Predefined Magic Methods:** Magic methods are part of how Python is designed. Even built-in types like int, list, etc. use magic methods behind the scenes."
   ]
  },
  {
   "cell_type": "markdown",
   "metadata": {},
   "source": [
    "| Magic Method             | Purpose                           | Example Trigger                      |\n",
    "| ------------------------ | --------------------------------- | ------------------------------------ |\n",
    "| `__init__`               | Constructor (object creation)     | `MyClass()`                          |\n",
    "| `__str__`                | String representation             | `print(obj)`                         |\n",
    "| `__repr__`               | Developer-friendly representation | `repr(obj)` or just `obj` in console |\n",
    "| `__len__`                | Length of object                  | `len(obj)`                           |\n",
    "| `__getitem__`            | Indexing                          | `obj[0]`                             |\n",
    "| `__setitem__`            | Assigning to an index             | `obj[0] = value`                     |\n",
    "| `__iter__`               | Make object iterable              | `for x in obj:`                      |\n",
    "| `__next__`               | Next item in iteration            | `next(obj)`                          |\n",
    "| `__enter__` / `__exit__` | Context manager support (`with`)  | `with obj:`                          |\n",
    "| `__add__`                | Addition (`+`)                    | `obj1 + obj2`                        |\n",
    "| `__eq__`                 | Equality comparison (`==`)        | `obj1 == obj2`                       |\n",
    "| `__lt__`, `__gt__`       | Less/greater than comparisons     | `obj1 < obj2`, `obj1 > obj2`         |"
   ]
  },
  {
   "cell_type": "markdown",
   "metadata": {},
   "source": [
    "Yes, absolutely! ✅ A programmer can define and override magic methods in Python — and that's exactly how you customize how your class behaves in different situations.\n",
    "\n",
    "But — you can only use the magic method names that Python has already defined (like __init__, __str__, __len__, etc.). You cannot invent your own magic method like __magicmove__ unless Python already supports it."
   ]
  },
  {
   "cell_type": "code",
   "execution_count": 30,
   "metadata": {},
   "outputs": [
    {
     "name": "stdout",
     "output_type": "stream",
     "text": [
      "The Emotional Intelligence has 300 pages\n",
      "300\n"
     ]
    }
   ],
   "source": [
    "class Book:\n",
    "    def __init__(self, name, pages):\n",
    "        self.book_name = name\n",
    "        self.pages = pages\n",
    "        \n",
    "    def __str__(self):\n",
    "        return f\"The {self.book_name} has {self.pages} pages\"\n",
    "    \n",
    "    def __len__(self):\n",
    "        return self.pages\n",
    "    \n",
    "    def __sarat__(self):\n",
    "        return self.book_name\n",
    "    \n",
    "book1 = Book('Emotional Intelligence', 300)\n",
    "print(book1)\n",
    "print(len(book1))\n",
    "# print(sarat(book1))"
   ]
  },
  {
   "cell_type": "markdown",
   "metadata": {},
   "source": [
    "**Class and Instance Variables in Python**"
   ]
  },
  {
   "cell_type": "code",
   "execution_count": 64,
   "metadata": {},
   "outputs": [
    {
     "name": "stdout",
     "output_type": "stream",
     "text": [
      "Canine\n",
      "blue\n",
      "Canine\n",
      "Red\n",
      "local_bread\n",
      "local_bread\n",
      "local_bread\n",
      "local_bread\n",
      "puppy\n",
      "local_bread\n",
      "puppy\n",
      "Pug\n"
     ]
    }
   ],
   "source": [
    "class Dog:\n",
    "    species = \"Canine\"\n",
    "    \n",
    "    def __init__(self, name, age):\n",
    "        self.name = name\n",
    "        self.age = age\n",
    "\n",
    "dog1 = Dog('blue', 6)\n",
    "dog2 = Dog('Red', 8)\n",
    "\n",
    "print(dog1.species) # Class variable\n",
    "print(dog1.name)    # Instance variable\n",
    "# print(dog1.age)     # Instance variable\n",
    "# print('\\n')\n",
    "print(dog2.species) # Class variable\n",
    "print(dog2.name)    # Instance variable\n",
    "# print(dog2.age)     # Instance variable\n",
    "\n",
    "Dog.species = \"local_bread\" # Changing the class variable with instance\n",
    "print(dog1.species)\n",
    "print(dog2.species)\n",
    "print(Dog.species)\n",
    "\n",
    "dog1.species = 'puppy'  # This adds new variable in the dog1 obj a variable in the __init__\n",
    "print(dog2.species)\n",
    "print(dog1.species)\n",
    "print(Dog.species)\n",
    "\n",
    "Dog.species = 'Pug'\n",
    "print(dog1.species)\n",
    "print(dog2.species)"
   ]
  },
  {
   "cell_type": "markdown",
   "metadata": {},
   "source": [
    "**Additional Important Concepts in Python Classes and Objects**"
   ]
  },
  {
   "cell_type": "markdown",
   "metadata": {},
   "source": [
    "Getter and Setter methods provide controlled access to an object's attributes. In Python, these methods are used to retrieve (getter) or modify (setter) the values of private attributes, allowing for data encapsulation.\n",
    "\n",
    "Python doesn't have explicit get and set methods like other languages, but it supports this functionality using property decorators."
   ]
  },
  {
   "cell_type": "markdown",
   "metadata": {},
   "source": [
    "**Yes — in Python, property is indeed used as a built-in decorator that turns a method in a class into a managed attribute.**"
   ]
  },
  {
   "cell_type": "markdown",
   "metadata": {},
   "source": [
    "**Yes — @staticmethod and @classmethod are also predefined (built-in) decorators in Python, just like @property.**"
   ]
  },
  {
   "cell_type": "code",
   "execution_count": 10,
   "metadata": {},
   "outputs": [
    {
     "name": "stdout",
     "output_type": "stream",
     "text": [
      "leo\n",
      "dogs are loyal animals\n",
      "puppy\n",
      "This is from class method\n"
     ]
    }
   ],
   "source": [
    "class Dog():\n",
    "    species = \"puppy\"\n",
    "    @staticmethod\n",
    "    def info(name):\n",
    "        print(name)\n",
    "        print(\"dogs are loyal animals\")\n",
    "    \n",
    "    @classmethod\n",
    "    def count(cls):\n",
    "        print(cls.species)\n",
    "        print(\"This is from class method\")\n",
    "        \n",
    "dog = Dog();\n",
    "dog.info(\"leo\")\n",
    "dog.count()"
   ]
  },
  {
   "cell_type": "markdown",
   "metadata": {},
   "source": [
    "**Abstract Classes and Interfaces**"
   ]
  },
  {
   "cell_type": "markdown",
   "metadata": {},
   "source": [
    "*1. Abstract classes provide a template for other classes*\n",
    "\n",
    "*2. These classes can't be instantiated directly.*\n",
    "\n",
    "*3. They contain abstract methods, which are methods that must be implemented by subclasses*"
   ]
  },
  {
   "cell_type": "markdown",
   "metadata": {},
   "source": [
    "*4. Abstract classes are defined using the abc module in Python*"
   ]
  },
  {
   "cell_type": "code",
   "execution_count": 21,
   "metadata": {},
   "outputs": [
    {
     "name": "stdout",
     "output_type": "stream",
     "text": [
      "bow bow bow ....\n",
      "I eat pedigree\n"
     ]
    }
   ],
   "source": [
    "from abc import ABC, abstractmethod\n",
    "class Animal(ABC):\n",
    "    @abstractmethod\n",
    "    def sound(self):\n",
    "        pass\n",
    "    \n",
    "    @abstractmethod\n",
    "    def food(self):\n",
    "        pass\n",
    "\n",
    "class Dog(Animal):\n",
    "    def sound(self):\n",
    "        print(\"bow bow bow ....\")\n",
    "    \n",
    "    def food(self):\n",
    "        print(\"I eat pedigree\")\n",
    "        \n",
    "dog = Dog();\n",
    "dog.sound()\n",
    "dog.food()"
   ]
  },
  {
   "cell_type": "markdown",
   "metadata": {},
   "source": [
    "*1. When you make a class inherit from ABC and mark methods with @abstractmethod, Python enforces that all abstract \n",
    "*methods must be overridden in any concrete subclass before you can create an instance.*"
   ]
  },
  {
   "cell_type": "markdown",
   "metadata": {},
   "source": [
    "When you create a subclass of an ABC, Python checks:\n",
    "\n",
    "If all abstract methods are overridden → ✅ subclass can be instantiated.\n",
    "\n",
    "If any abstract method is missing → ❌ raises TypeError on instantiation."
   ]
  },
  {
   "cell_type": "markdown",
   "metadata": {},
   "source": [
    "# Inheritance"
   ]
  },
  {
   "cell_type": "code",
   "execution_count": 22,
   "metadata": {},
   "outputs": [],
   "source": [
    "class Parentclass():\n",
    "#     attributs\n",
    "#     methods\n",
    "    pass\n",
    "class Childernclass(Parentclass):\n",
    "#     attrubutes\n",
    "#     methods\n",
    "    pass"
   ]
  },
  {
   "cell_type": "code",
   "execution_count": 35,
   "metadata": {},
   "outputs": [
    {
     "name": "stdout",
     "output_type": "stream",
     "text": [
      "Bob 234\n"
     ]
    }
   ],
   "source": [
    "# A python program to demonistrate inheritance\n",
    "class Person(object):\n",
    "    # This is a constructor\n",
    "    def __init__(self, name, id):\n",
    "        self.name = name\n",
    "        self.id = id\n",
    "        \n",
    "    # To check this person is a employ or not\n",
    "    def Display(self):\n",
    "        print(self.name, self.id)\n",
    "\n",
    "# Driver code\n",
    "emp = Person(\"Bob\", 234)\n",
    "emp.Display()"
   ]
  },
  {
   "cell_type": "markdown",
   "metadata": {},
   "source": [
    "**Create a child class**"
   ]
  },
  {
   "cell_type": "code",
   "execution_count": 38,
   "metadata": {},
   "outputs": [
    {
     "name": "stdout",
     "output_type": "stream",
     "text": [
      "Employ class called\n",
      "Mayank 124\n"
     ]
    }
   ],
   "source": [
    "class Emp(Person):\n",
    "    \n",
    "    def Print(self):\n",
    "        print(\"Employ class called\")\n",
    "\n",
    "emp = Emp(\"Mayank\", 124)\n",
    "emp.Print()\n",
    "emp.Display()"
   ]
  },
  {
   "cell_type": "code",
   "execution_count": 42,
   "metadata": {},
   "outputs": [],
   "source": [
    "class Person:\n",
    "    def __init__(self, name, idnumber):\n",
    "        self.name = name\n",
    "        self.idnumber = idnumber\n",
    "        \n",
    "    def Display(self):\n",
    "        print(self.name, self.idnumber)\n",
    "        \n",
    "def Employee(Person):\n",
    "    def __init__(self, name, idnumber, salary, loc):\n",
    "        super().__init__(name, idnumber)\n",
    "        self.salary = salary\n",
    "        self.location = loc"
   ]
  },
  {
   "cell_type": "markdown",
   "metadata": {},
   "source": [
    "**Types of Python Inheritance:**\n",
    "    \n",
    "*Single Inheritance:* A child class inherits from one parent class.\n",
    "\n",
    "*Multiple Inheritance:* A child class inherits from more than one parent class.\n",
    "\n",
    "*Multilevel Inheritance:* A class is derived from a class which is also derived from another class.\n",
    "\n",
    "*Hierarchical Inheritance:* Multiple classes inherit from a single parent class.\n",
    "\n",
    "*Hybrid Inheritance:* A combination of more than one type of inheritance."
   ]
  },
  {
   "cell_type": "code",
   "execution_count": null,
   "metadata": {},
   "outputs": [],
   "source": []
  },
  {
   "cell_type": "code",
   "execution_count": 76,
   "metadata": {},
   "outputs": [
    {
     "name": "stdout",
     "output_type": "stream",
     "text": [
      "Bob\n",
      "Bob 1500000\n",
      "Bob 1500000 MS/ECL\n",
      "Bob 1500000 15\n",
      "Bob 1500000 MS/ECL2 15\n"
     ]
    }
   ],
   "source": [
    "# Single Inheritance\n",
    "class Person:\n",
    "\n",
    "    def __init__(self, name):\n",
    "        self.name = name\n",
    "#         self.place = place\n",
    "#         self.height = height\n",
    "#         self.weight = weight\n",
    "        \n",
    "#     def bmi(self):\n",
    "#         return 10*self.height+self.weight\n",
    "\n",
    "class Employee(Person):\n",
    "    \n",
    "    def __init__(self, name, salary):\n",
    "        super().__init__(name)\n",
    "        self.salary = salary\n",
    "\n",
    "class Job:\n",
    "    \n",
    "    def __init__(self, salary):\n",
    "        self.salary = salary\n",
    "        \n",
    "# Multiple Inheritance\n",
    "class EmployPersonJob(Employee, Job):\n",
    "    \n",
    "    def __init__(self, name, salary):\n",
    "        Employee.__init__(self, name, salary)\n",
    "        Job.__init__(self, salary)\n",
    "        \n",
    "# eng = EmployPersonJob(\"Bob\", \"15lpa\")\n",
    "# print(eng.name, eng.salary)\n",
    "\n",
    "# Multilevel Inheritance\n",
    "class Manager(EmployPersonJob):\n",
    "    def __init__(self, name, salary, department):\n",
    "        EmployPersonJob.__init__(self, name, salary)\n",
    "        self.department = department\n",
    "\n",
    "# 4. Hierarchical Inheritance\n",
    "class AssistantManager(EmployPersonJob):\n",
    "    def __init__(self, name, salary, team_size):\n",
    "        EmployPersonJob.__init__(self, name, salary)\n",
    "        self.team_size = team_size\n",
    "     \n",
    "# 5. Hybrid Inheritance (Multiple + Multilevel)\n",
    "class SeniorManager(Manager, AssistantManager):\n",
    "    \n",
    "    def __init__(self, name, salary, department, team_size):\n",
    "        Manager.__init__(self, name, salary, department)\n",
    "        AssistantManager.__init__(self, name, salary, team_size)\n",
    "\n",
    "# Creating objects to show inheritance\n",
    "\n",
    "person =  Person(\"Bob\")\n",
    "print(person.name)\n",
    "\n",
    "emp =  EmployPersonJob(\"Bob\", 1500000)\n",
    "print(emp.name, emp.salary)\n",
    "\n",
    "manager = Manager(\"Bob\", 1500000, \"MS/ECL\")\n",
    "print(manager.name, manager.salary, manager.department)\n",
    "\n",
    "assmanager = AssistantManager(\"Bob\", 1500000, 15) \n",
    "print(assmanager.name, assmanager.salary, assmanager.team_size)\n",
    "\n",
    "seniormanager = SeniorManager(\"Bob\", 1500000, \"MS/ECL2\", 15)\n",
    "print(seniormanager.name, seniormanager.salary, seniormanager.department, seniormanager.team_size)"
   ]
  },
  {
   "cell_type": "code",
   "execution_count": null,
   "metadata": {},
   "outputs": [],
   "source": []
  }
 ],
 "metadata": {
  "kernelspec": {
   "display_name": "Python 3",
   "language": "python",
   "name": "python3"
  },
  "language_info": {
   "codemirror_mode": {
    "name": "ipython",
    "version": 3
   },
   "file_extension": ".py",
   "mimetype": "text/x-python",
   "name": "python",
   "nbconvert_exporter": "python",
   "pygments_lexer": "ipython3",
   "version": "3.6.6"
  }
 },
 "nbformat": 4,
 "nbformat_minor": 4
}
