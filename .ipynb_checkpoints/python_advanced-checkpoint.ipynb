{
 "cells": [
  {
   "cell_type": "markdown",
   "metadata": {},
   "source": [
    "# Advanced Conditional Statements"
   ]
  },
  {
   "cell_type": "markdown",
   "metadata": {},
   "source": [
    "**reduce() in Python**"
   ]
  },
  {
   "cell_type": "code",
   "execution_count": 4,
   "metadata": {},
   "outputs": [
    {
     "name": "stdout",
     "output_type": "stream",
     "text": [
      "15\n"
     ]
    }
   ],
   "source": [
    "from functools import reduce\n",
    "def add(x,y):\n",
    "    return x + y\n",
    "\n",
    "a = [1,2,3,4,5]\n",
    "\n",
    "print(reduce(add, a))"
   ]
  },
  {
   "cell_type": "code",
   "execution_count": 5,
   "metadata": {},
   "outputs": [
    {
     "name": "stdout",
     "output_type": "stream",
     "text": [
      "120\n"
     ]
    }
   ],
   "source": [
    "from functools import reduce\n",
    "\n",
    "def mul(x, y):\n",
    "    return x*y\n",
    "\n",
    "a = [1,2,3,4,5]\n",
    "print(reduce(mul, a))"
   ]
  },
  {
   "cell_type": "markdown",
   "metadata": {},
   "source": [
    "**syntax of reduce**"
   ]
  },
  {
   "cell_type": "markdown",
   "metadata": {},
   "source": [
    "*functools.reduce(function, iterable[, initializer])*"
   ]
  },
  {
   "cell_type": "markdown",
   "metadata": {},
   "source": [
    "function: A function that takes two arguments and performs an operation on them.\n",
    "\n",
    "iterable: An iterable whose elements are processed by the function.\n",
    "\n",
    "initializer (optional): A starting value for the operation. If provided, it is placed before the first element in the iterable."
   ]
  },
  {
   "cell_type": "markdown",
   "metadata": {},
   "source": [
    "**Using reduce() with lambda**"
   ]
  },
  {
   "cell_type": "code",
   "execution_count": 12,
   "metadata": {},
   "outputs": [
    {
     "name": "stdout",
     "output_type": "stream",
     "text": [
      "10\n"
     ]
    }
   ],
   "source": [
    "from functools import reduce\n",
    "\n",
    "b = [1,2,3,4]    \n",
    "print(reduce(lambda x,y: x+y, b)) \n"
   ]
  },
  {
   "cell_type": "markdown",
   "metadata": {},
   "source": [
    "**Using reduce() with operator functions**"
   ]
  },
  {
   "cell_type": "code",
   "execution_count": 20,
   "metadata": {},
   "outputs": [
    {
     "name": "stdout",
     "output_type": "stream",
     "text": [
      "20\n",
      "24\n",
      "bobbili sarath kumar\n"
     ]
    }
   ],
   "source": [
    "import functools\n",
    "import operator\n",
    "\n",
    "a = [2,3,5,2,3,5]\n",
    "print(functools.reduce(operator.add, a))\n",
    "print(functools.reduce(operator.mul, b))\n",
    "print(functools.reduce(operator.add, ['bobbili', ' sarath', ' kumar']))"
   ]
  },
  {
   "cell_type": "markdown",
   "metadata": {},
   "source": [
    "**Difference Between reduce() and accumulate()**"
   ]
  },
  {
   "cell_type": "markdown",
   "metadata": {},
   "source": [
    "**The accumulate() function from the itertools module also performs cumulative operations, but it returns an iterator containing intermediate results, unlike reduce(), which returns a single final value.**"
   ]
  },
  {
   "cell_type": "code",
   "execution_count": 26,
   "metadata": {},
   "outputs": [
    {
     "name": "stdout",
     "output_type": "stream",
     "text": [
      "[1, 3, 6, 11, 17]\n",
      "[1, 2, 6, 30, 180]\n",
      "['a', 'ab', 'abc']\n"
     ]
    }
   ],
   "source": [
    "from itertools import accumulate\n",
    "from operator import add, mul\n",
    "\n",
    "a = [1,2,3,5,6]\n",
    "print(list(accumulate(a, add)))\n",
    "print(list(accumulate(a, mul)))\n",
    "b = ['a', 'b', 'c']\n",
    "print(list(accumulate(b, add)))"
   ]
  },
  {
   "cell_type": "markdown",
   "metadata": {},
   "source": [
    "**Recursion in Python**"
   ]
  },
  {
   "cell_type": "code",
   "execution_count": 39,
   "metadata": {},
   "outputs": [
    {
     "name": "stdout",
     "output_type": "stream",
     "text": [
      "6\n"
     ]
    }
   ],
   "source": [
    "def factor(n):\n",
    "    if n == 0:\n",
    "        return 1\n",
    "    else:\n",
    "        return n * factor(n-1)\n",
    "\n",
    "print(factor(3))"
   ]
  },
  {
   "cell_type": "markdown",
   "metadata": {},
   "source": [
    "**Base Case and Recursive Case**"
   ]
  },
  {
   "cell_type": "markdown",
   "metadata": {},
   "source": [
    "Base Case: This is the condition under which the recursion stops. It is crucial to prevent infinite loops and to ensure that each recursive call reduces the problem in some manner. In the factorial example, the base case is n == 1.\n",
    "\n",
    "Recursive Case: This is the part of the function that includes the call to itself. It must eventually lead to the base case. In the factorial example, the recursive case is return n * factorial(n-1)."
   ]
  },
  {
   "cell_type": "code",
   "execution_count": 2,
   "metadata": {},
   "outputs": [
    {
     "data": {
      "text/plain": [
       "2"
      ]
     },
     "execution_count": 2,
     "metadata": {},
     "output_type": "execute_result"
    }
   ],
   "source": [
    "def fibonaci(n):\n",
    "    if n == 0:\n",
    "        return 0\n",
    "    if n == 1:\n",
    "        return 1\n",
    "    else:\n",
    "        return fibonaci(n-1) + fibonaci(n-2)\n",
    "\n",
    "fibonaci(3)"
   ]
  },
  {
   "cell_type": "markdown",
   "metadata": {},
   "source": [
    "**1. If we not do the recursion properly, it will end up in infinit loop.**\n",
    "\n",
    "**2. So we need to plan the proper loop breaking**\n",
    "\n",
    "**3. Need to plan the recursion to achieve the goal**"
   ]
  },
  {
   "cell_type": "markdown",
   "metadata": {},
   "source": [
    "# OOPs"
   ]
  },
  {
   "cell_type": "markdown",
   "metadata": {},
   "source": [
    "**Class:** A class in Python is a user-defined template for creating objects"
   ]
  },
  {
   "cell_type": "code",
   "execution_count": 7,
   "metadata": {},
   "outputs": [
    {
     "name": "stdout",
     "output_type": "stream",
     "text": [
      "bark\n"
     ]
    }
   ],
   "source": [
    "# Let's create an object from the Dog class.\n",
    "# This is a Dog class template\n",
    "class Dog:\n",
    "    sound = \"bark\" \n",
    "\n",
    "# Here the instance of a Dog is created which is a object\n",
    "dog1 = Dog()\n",
    "\n",
    "# Accessing the element or data in the object\n",
    "print(dog1.sound)"
   ]
  },
  {
   "cell_type": "markdown",
   "metadata": {},
   "source": [
    "**Using __init__() Function**"
   ]
  },
  {
   "cell_type": "code",
   "execution_count": 31,
   "metadata": {},
   "outputs": [
    {
     "data": {
      "text/plain": [
       "'hyd'"
      ]
     },
     "execution_count": 31,
     "metadata": {},
     "output_type": "execute_result"
    }
   ],
   "source": [
    "# Name of the class\n",
    "class Person:\n",
    "    # Location of the where the class is working, this is a class varible common to all the object created\n",
    "    location = 'hyd'\n",
    "    def __init__(self, name, years): # This function is used to create the instance of a object\n",
    "        self.person_name = name\n",
    "        self.age = years\n",
    "        \n",
    "person1 = Person(\"Bob\", 24) # Abject is created by out of a class templete\n",
    "person1.person_name         # Here are accessing a fields in the object\n",
    "person1.age\n",
    "person1.location            # Accessingt "
   ]
  }
 ],
 "metadata": {
  "kernelspec": {
   "display_name": "Python 3",
   "language": "python",
   "name": "python3"
  },
  "language_info": {
   "codemirror_mode": {
    "name": "ipython",
    "version": 3
   },
   "file_extension": ".py",
   "mimetype": "text/x-python",
   "name": "python",
   "nbconvert_exporter": "python",
   "pygments_lexer": "ipython3",
   "version": "3.6.6"
  }
 },
 "nbformat": 4,
 "nbformat_minor": 4
}
