{
 "cells": [
  {
   "cell_type": "markdown",
   "metadata": {},
   "source": [
    "# https://www.learnbyexample.org/python-list-slicing/\n",
    "# https://www.programiz.com/python-programming/examples"
   ]
  },
  {
   "cell_type": "markdown",
   "metadata": {},
   "source": [
    "These shortcuts apply when you're not editing a cell (cell outline is blue):\n",
    "\n",
    "A – Insert cell above\n",
    "\n",
    "B – Insert cell below\n",
    "\n",
    "X – Cut selected cell\n",
    "\n",
    "C – Copy selected cell\n",
    "\n",
    "V – Paste cell below\n",
    "\n",
    "Shift + V – Paste cell above\n",
    "\n",
    "D D – Delete selected cell\n",
    "\n",
    "Z – Undo cell deletion\n",
    "\n",
    "Y – Change cell to code\n",
    "\n",
    "M – Change cell to Markdown\n",
    "\n",
    "Enter – Enter edit mode\n",
    "\n",
    "Shift + Enter – Run cell and move to the next\n",
    "\n",
    "Ctrl + Enter – Run cell (stay in same cell)\n",
    "\n",
    "Alt + Enter – Run cell and insert below\n",
    "\n",
    "Up / Down – Navigate between cells\n",
    "\n",
    "H – Show help (keyboard shortcuts)\n",
    "\n",
    "Edit Mode (press Enter to enter)\n",
    "These shortcuts apply when you're editing the cell (cell outline is green):\n",
    "\n",
    "Ctrl + Shift + - – Split cell at cursor\n",
    "\n",
    "Ctrl + / – Comment or uncomment selected lines\n",
    "\n",
    "Tab – Code completion / Indent\n",
    "\n",
    "Shift + Tab – Tooltip / Signature help\n",
    "\n",
    "Other Useful Shortcuts\n",
    "Ctrl + S – Save notebook\n",
    "\n",
    "Ctrl + Shift + P – Open command palette (like VS Code)"
   ]
  },
  {
   "cell_type": "code",
   "execution_count": 2,
   "metadata": {},
   "outputs": [
    {
     "name": "stdout",
     "output_type": "stream",
     "text": [
      "hello world\n"
     ]
    }
   ],
   "source": [
    "print(\"hello world\")"
   ]
  },
  {
   "cell_type": "code",
   "execution_count": 25,
   "metadata": {},
   "outputs": [
    {
     "name": "stdout",
     "output_type": "stream",
     "text": [
      "<class 'int'>\n",
      "1223444444444444444444444444444444444444 -20 30\n"
     ]
    }
   ],
   "source": [
    "x  = 1223444444444444444444444444444444444444\n",
    "y =  -20\n",
    "z = 30\n",
    "print(type(x))\n",
    "print(x,y,z)"
   ]
  },
  {
   "cell_type": "markdown",
   "metadata": {},
   "source": [
    "**Python number**"
   ]
  },
  {
   "cell_type": "code",
   "execution_count": 1,
   "metadata": {},
   "outputs": [
    {
     "name": "stdout",
     "output_type": "stream",
     "text": [
      "5\n",
      "10\n",
      "671\n",
      "1\n",
      "15\n",
      "16\n"
     ]
    }
   ],
   "source": [
    "# binary\n",
    "print(0b101)\n",
    "print(0B1010)\n",
    "# print(0b102)\n",
    "\n",
    "# Octal\n",
    "print(0o1237)\n",
    "print(0O1)\n",
    "# print(0o1238)\n",
    "\n",
    "# Hex\n",
    "print(0xF)\n",
    "print(0X10)\n",
    "# print(0x123G)"
   ]
  },
  {
   "cell_type": "markdown",
   "metadata": {},
   "source": [
    "**Bool type**"
   ]
  },
  {
   "cell_type": "code",
   "execution_count": 19,
   "metadata": {},
   "outputs": [
    {
     "name": "stdout",
     "output_type": "stream",
     "text": [
      "bool type is: True\n",
      "bool type is: False\n"
     ]
    }
   ],
   "source": [
    "x = True\n",
    "y = False\n",
    "print(\"bool type is:\",x)\n",
    "print(\"bool type is:\",y)"
   ]
  },
  {
   "cell_type": "markdown",
   "metadata": {},
   "source": [
    "**Floating Point numbers**"
   ]
  },
  {
   "cell_type": "code",
   "execution_count": 24,
   "metadata": {},
   "outputs": [
    {
     "name": "stdout",
     "output_type": "stream",
     "text": [
      "<class 'float'>\n",
      "1.2 1233.345 -385.25\n"
     ]
    }
   ],
   "source": [
    "x = 1.2\n",
    "y = 1233.345\n",
    "z = -385.25\n",
    "print(type(x))\n",
    "print(x, y, z)"
   ]
  },
  {
   "cell_type": "markdown",
   "metadata": {},
   "source": [
    "**Scientific Notation**"
   ]
  },
  {
   "cell_type": "code",
   "execution_count": 27,
   "metadata": {},
   "outputs": [
    {
     "name": "stdout",
     "output_type": "stream",
     "text": [
      "23000.0 230000.0 0.023\n"
     ]
    }
   ],
   "source": [
    "x = 23E3\n",
    "y = 23e4\n",
    "z = 23e-3\n",
    "print(x, y, z)"
   ]
  },
  {
   "cell_type": "markdown",
   "metadata": {},
   "source": [
    "**The maximum value a float can have is approximately 1.8×10308 . Any number greater than that is indicated by the string inf (infinity)**"
   ]
  },
  {
   "cell_type": "code",
   "execution_count": 39,
   "metadata": {},
   "outputs": [
    {
     "name": "stdout",
     "output_type": "stream",
     "text": [
      "1.79e+308\n",
      "inf\n"
     ]
    }
   ],
   "source": [
    "# Maximum value of a float\n",
    "print(1.79e308)\n",
    "# Prints 1.79e+308\n",
    "\n",
    "print(1.8e308)\n",
    "# Prints inf"
   ]
  },
  {
   "cell_type": "markdown",
   "metadata": {},
   "source": [
    "**However, the minimum value a float can have is approximately 5.0×10-324 . Any number, less than that is considered zero.**"
   ]
  },
  {
   "cell_type": "code",
   "execution_count": 4,
   "metadata": {},
   "outputs": [
    {
     "name": "stdout",
     "output_type": "stream",
     "text": [
      "5e-324\n",
      "5e-06\n"
     ]
    }
   ],
   "source": [
    "# Minimum value of a float\n",
    "print(5e-324)\n",
    "# Prints 4.94065645841e-324\n",
    "\n",
    "print(5e-6)\n",
    "# Prints 0.0"
   ]
  },
  {
   "cell_type": "markdown",
   "metadata": {},
   "source": [
    "**complex numbers**"
   ]
  },
  {
   "cell_type": "code",
   "execution_count": 1,
   "metadata": {},
   "outputs": [
    {
     "name": "stdout",
     "output_type": "stream",
     "text": [
      "<class 'complex'>\n",
      "(3+5j)\n"
     ]
    }
   ],
   "source": [
    "x = 2j\n",
    "y = 3+3J\n",
    "print(type(x))\n",
    "print(x+y)"
   ]
  },
  {
   "cell_type": "code",
   "execution_count": 44,
   "metadata": {},
   "outputs": [
    {
     "name": "stdout",
     "output_type": "stream",
     "text": [
      "real part: 2.0\n",
      "imaginary part: 6.0\n"
     ]
    }
   ],
   "source": [
    "# extract real part and img part of a real number\n",
    "a = 2+6j\n",
    "print(\"real part:\",a.real)\n",
    "print(\"imaginary part:\",a.imag)"
   ]
  },
  {
   "cell_type": "markdown",
   "metadata": {},
   "source": [
    "**Operators**"
   ]
  },
  {
   "cell_type": "code",
   "execution_count": 7,
   "metadata": {},
   "outputs": [
    {
     "name": "stdout",
     "output_type": "stream",
     "text": [
      "8\n",
      "0\n",
      "3\n",
      "-4\n",
      "3\n"
     ]
    }
   ],
   "source": [
    "x = 2\n",
    "y = 3\n",
    "print(x**y) #Exponetial operation\n",
    "print(x//y) #Floor division \n",
    "\n",
    "# What is floor division?\n",
    "# General Behavior:\n",
    "# Floor division always rounds down, not towards zero.\n",
    "# This is different from truncation which rounds toward zero.\n",
    "print(7 // 2)     # Result: 3 (because 7 ÷ 2 = 3.5, and floor of 3.5 is 3)\n",
    "print(-7 // 2)    # Result: -4 (because -7 ÷ 2 = -3.5, and floor of -3.5 is -4)\n",
    "print(11 // 3)"
   ]
  },
  {
   "cell_type": "markdown",
   "metadata": {},
   "source": [
    "Assignment operations"
   ]
  },
  {
   "cell_type": "code",
   "execution_count": 54,
   "metadata": {},
   "outputs": [
    {
     "name": "stdout",
     "output_type": "stream",
     "text": [
      "x*=3:  9\n",
      "x=x*3:  9\n"
     ]
    }
   ],
   "source": [
    "# operation + assigment operator\n",
    "# +=, -=, //=, **=, /=, *=, >>=, <<=, &=, ^=, |=  These if x *= 3 is equalent x = x*3\n",
    "x = 3\n",
    "x*=3\n",
    "print(\"x*=3: \", x)\n",
    "x = 3\n",
    "x=x*3\n",
    "print(\"x=x*3: \", x)"
   ]
  },
  {
   "cell_type": "markdown",
   "metadata": {},
   "source": [
    "**Comparision Operators**"
   ]
  },
  {
   "cell_type": "markdown",
   "metadata": {},
   "source": [
    "# ==, !=, <=, >=, <, > "
   ]
  },
  {
   "cell_type": "markdown",
   "metadata": {},
   "source": [
    "**Logical Operators**"
   ]
  },
  {
   "cell_type": "markdown",
   "metadata": {},
   "source": [
    "# and equalent to && in other languages \n",
    "# or equalent to // in other languages\n",
    "# not equalent to ! in other languges\n",
    "and\n",
    "# True and False     # False\n",
    "# False and True     # False\n",
    "# True and 5         # 5\n",
    "# 0 and 100          # 0\n",
    "# '' and 'hello'     # ''\n",
    "# 'hi' and 'hello'   # 'hello'\n",
    "Falsy: False, None, 0, '', [], {}, set()"
   ]
  },
  {
   "cell_type": "code",
   "execution_count": 67,
   "metadata": {},
   "outputs": [
    {
     "name": "stdout",
     "output_type": "stream",
     "text": [
      "False\n",
      "3\n",
      "False\n",
      "0\n",
      "set()\n"
     ]
    }
   ],
   "source": [
    "print(True and False)\n",
    "print(5 and 3)\n",
    "print(False and True)\n",
    "print(0 and 100)\n",
    "print(True and set())"
   ]
  },
  {
   "cell_type": "markdown",
   "metadata": {},
   "source": [
    "**Identity Operators**"
   ]
  },
  {
   "cell_type": "code",
   "execution_count": 77,
   "metadata": {},
   "outputs": [
    {
     "name": "stdout",
     "output_type": "stream",
     "text": [
      "False\n",
      "False\n",
      "True\n",
      "False\n"
     ]
    }
   ],
   "source": [
    "# is\n",
    "# is not\n",
    "x = 4 \n",
    "y = 4\n",
    "print(x is not y)\n",
    "print(z is u)\n",
    "\n",
    "x = [1, 2, 3]\n",
    "y = [1, 2, 3]\n",
    "\n",
    "print(x == y)  # True → because the contents are the same\n",
    "print(x is y)  # False → because they are two different list objects in memory"
   ]
  },
  {
   "cell_type": "markdown",
   "metadata": {},
   "source": [
    "**Membership Operators**"
   ]
  },
  {
   "cell_type": "code",
   "execution_count": 82,
   "metadata": {},
   "outputs": [
    {
     "name": "stdout",
     "output_type": "stream",
     "text": [
      "True\n",
      "False\n",
      "True\n",
      "True\n"
     ]
    }
   ],
   "source": [
    "# in               Returns True if a value is present in the sequence\n",
    "# not in           Returns True if a value is not present in the sequence\n",
    "\n",
    "L = ['red', 'green', 'blue']\n",
    "T = (1,2,3,4,5)\n",
    "D = {1:'a', 2:'c', 3:'d'}\n",
    "print('red' in L)\n",
    "print('orange' in L)\n",
    "print(3 in T)\n",
    "print(3 in D)"
   ]
  },
  {
   "cell_type": "markdown",
   "metadata": {},
   "source": [
    "**Bitwise Operators**"
   ]
  },
  {
   "cell_type": "markdown",
   "metadata": {},
   "source": [
    "# ~, ^, &, |, >>, <<"
   ]
  },
  {
   "cell_type": "markdown",
   "metadata": {},
   "source": [
    "**LIST**"
   ]
  },
  {
   "cell_type": "code",
   "execution_count": null,
   "metadata": {},
   "outputs": [],
   "source": [
    "# Lists are ordered – Lists remember the order of items inserted.\n",
    "# Accessed by index – Items in a list can be accessed using an index.\n",
    "# Lists can contain any sort of object – It can be numbers, strings, tuples and even other lists.\n",
    "# Lists are changeable (mutable) – You can change a list in-place, add new items, and delete or update existing items."
   ]
  },
  {
   "cell_type": "code",
   "execution_count": 134,
   "metadata": {},
   "outputs": [
    {
     "name": "stdout",
     "output_type": "stream",
     "text": [
      "[1, 3, 3, 5]\n",
      "['abc', 'efg', 'hij']\n",
      "['abg', 1, 2.53]\n",
      "<class 'list'>\n",
      "['a', 'b', 'c']\n",
      "[1, 2, 3]\n",
      "1\n",
      "1\n",
      "9\n",
      "(8, 9)\n",
      "['he', 'she']\n",
      "1\n",
      "[2, 6, ['she', 'he'], (8, 9)]\n",
      "[2, 6, ['she', 'he'], (8, 9), 9, {1, 3, 'c'}]\n",
      "[2, 6, ['she', 'he'], (8, 9), 3, 9, {1, 3, 'c'}]\n",
      "['grapes', 'apple', 'mango', 'kiwi', 'sapota']\n",
      "['red', 'green', 'yellow']\n",
      "['red', 'green', 'yellow', 1, 2, 3]\n",
      "['red', 'green', 'yellow', 1, 2, 3, 'red', 'green', 'yellow', 1, 2, 3]\n",
      "['red', 'green', 'yellow', 1, 2, 3, 'red', 'green', 'yellow', 1, 2, 3, 5, 6, 7]\n",
      "red\n",
      "['green', 1, 2, 3, 'red', 'green', 'yellow', 1, 2, 3, 5, 6, 7]\n",
      "['green', 2, 3, 'red', 'green', 'yellow', 1, 2, 3, 5, 6, 7]\n",
      "[2, 3, 'red', 'green', 'yellow', 1, 2, 3, 5, 6, 7]\n",
      "[2, 3, 'red', 'green', 'yellow', 1, 2, 3, 5, 6, 7, 'red']\n",
      "[2, 3, 'green', 'yellow', 1, 2, 3, 5, 6, 7, 'red']\n",
      "[2, 1, 2, 3, 5, 6, 7, 'red']\n",
      "[]\n",
      "['Red', 'Red', 'Red', 'Red']\n",
      "4\n",
      "yes\n",
      "no\n",
      "r\n",
      "q\n",
      "z\n"
     ]
    }
   ],
   "source": [
    "E = [] # empty list\n",
    "l = [1,3,3,5]\n",
    "print(l)\n",
    "g = [\"abc\", \"efg\", \"hij\"]\n",
    "print(g)\n",
    "\n",
    "# Mixed items in a list\n",
    "x = [\"abg\", 1, 2.53]\n",
    "print(x)\n",
    "\n",
    "# String to list\n",
    "x = list(\"abc\") # list() constructor\n",
    "print(type(x))\n",
    "print(x)\n",
    "\n",
    "# tupel to list\n",
    "x = list((1,2,3))\n",
    "print(x)\n",
    "\n",
    "# Nested list\n",
    "x = [1,[1,3,3],['he','she'],(8,9)] \n",
    "print(x[0])\n",
    "print(x[1][0])\n",
    "print(x[3][1])\n",
    "\n",
    "# Negative indexing of list items\n",
    "print(x[-1])\n",
    "print(x[-2])\n",
    "\n",
    "# sling of list\n",
    "print(x[0:2][0])\n",
    "\n",
    "# change item in a list\n",
    "x[1] = 6\n",
    "x[0] = 2\n",
    "x[-2] = ['she', 'he']\n",
    "print(x)\n",
    "\n",
    "# Add item to a list\n",
    "x.append(9)\n",
    "x.append({1,3,\"c\"})\n",
    "print(x)\n",
    "x.insert(-2, 3)\n",
    "print(x)\n",
    "L = ['apple', 'mango', 'kiwi']\n",
    "L.append('sapota')\n",
    "L.insert(0,'grapes')\n",
    "print(L)\n",
    "\n",
    "# Combine Lists\n",
    "R = ['red', 'green', 'yellow']\n",
    "print(R)\n",
    "R.extend([1,2,3])\n",
    "print(R)\n",
    "R = R+R\n",
    "print(R)\n",
    "R +=[5,6,7]\n",
    "print(R)\n",
    "\n",
    "# Remove a item from the list\n",
    "# item by index\n",
    "# If no index is specified, pop() removes and returns the last item in the list.\n",
    "k = R.pop(0)\n",
    "print(k)\n",
    "R.pop(1)\n",
    "print(R)\n",
    "\n",
    "# Remove item by del statemet\n",
    "del R[1]\n",
    "print(R)\n",
    "del R[0]\n",
    "print(R)\n",
    "\n",
    "#If you’re not sure where the item is in the list, use remove() method to delete it by value.\n",
    "R.append('red')\n",
    "print(R)\n",
    "R.remove('red') # This removes the first occurance of the 'red'\n",
    "print(R)\n",
    "\n",
    "# Remove multiple items\n",
    "del R[1:4]\n",
    "print(R)\n",
    "\n",
    "# Remove all items\n",
    "R.clear()\n",
    "print(R)\n",
    "\n",
    "# List Replication\n",
    "L = ['Red']\n",
    "L = L*2\n",
    "L *=2\n",
    "print(L)\n",
    "\n",
    "# Find the length of the list\n",
    "print(len(L))\n",
    "\n",
    "# Check if item exists in a list\n",
    "# To determine whether a value is or isn’t in a list, you can use in and not in operators with if statement\n",
    "a = ['r', 'q', 'z']\n",
    "if 'a' in a:\n",
    "    print('yes')\n",
    "if 'z' not in a:\n",
    "    print('no')\n",
    "if 'z' in a:\n",
    "    print('yes')\n",
    "if 'a' not in a:\n",
    "    print('no')\n",
    "    \n",
    "# iterate through a list\n",
    "for i in a:\n",
    "    print(i)\n",
    "n = [1,3,4]\n",
    "print(n)\n",
    "for i in n:\n",
    "    n[i] = n[i] "
   ]
  },
  {
   "cell_type": "markdown",
   "metadata": {},
   "source": [
    "append()\tAdds an item to the end of the list\n",
    "insert()\tInserts an item at a given position\n",
    "extend()\tExtends the list by appending all the items from the iterable\n",
    "remove()\tRemoves first instance of the specified item\n",
    "pop()\tRemoves the item at the given position in the list\n",
    "clear()\tRemoves all items from the list\n",
    "copy()\tReturns a shallow copy of the list\n",
    "count()\tReturns the count of specified item in the list\n",
    "index()\tReturns the index of first instance of the specified item\n",
    "reverse()\tReverses the items of the list in place\n",
    "sort()\tSorts the items of the list in place"
   ]
  },
  {
   "cell_type": "markdown",
   "metadata": {},
   "source": [
    "**Nested list import**"
   ]
  },
  {
   "cell_type": "markdown",
   "metadata": {},
   "source": [
    "Nested lists in Python are lists that contain other lists as their elements. This structure allows you to create multi-dimensional data representations, which are particularly useful when working with matrices, tables, or other complex data arrangements."
   ]
  },
  {
   "cell_type": "code",
   "execution_count": 138,
   "metadata": {},
   "outputs": [
    {
     "name": "stdout",
     "output_type": "stream",
     "text": [
      "3\n",
      "3\n"
     ]
    }
   ],
   "source": [
    "# Basic nested list\n",
    "a = [[1,2,3],[5,6,7],[8,9,0]]\n",
    "# nested list with different size\n",
    "b = [[1,2],[1,2,3],1]\n",
    "# nested list with mixed data type\n",
    "c = [['apple',1],['mango',2],['orange',3]]\n",
    "# Deep nested list\n",
    "d = [1,2,['cc','dd',[5,6,7]]]\n",
    "# find the len of the list]\n",
    "print(len(c))\n",
    "print(len(d))"
   ]
  },
  {
   "cell_type": "markdown",
   "metadata": {},
   "source": [
    "**Use of a nested lists**"
   ]
  },
  {
   "cell_type": "code",
   "execution_count": 142,
   "metadata": {},
   "outputs": [],
   "source": [
    "# Matrix and 2D array\n",
    "Matrix = [\n",
    "          [1,2,4],\n",
    "          [5,6,7],\n",
    "          [4,5,6]\n",
    "         ]\n",
    "\n",
    "# Table of data\n",
    "Table = [\n",
    "         [\"Serial\", \"Age\", \"Name\"],\n",
    "         [1, 23, \"cat\"],\n",
    "         [2, 46, \"Dog\"]\n",
    "]\n",
    "\n",
    "# Graphs and trees\n",
    "\n",
    "graph = [\n",
    "         [1,2], #Neighbors of node 0\n",
    "         [0,3], #Neighbors of node 1\n",
    "         [0,3], #Neighbors of node 2\n",
    "         [1,2]  #Neighbors of node 3\n",
    "]"
   ]
  },
  {
   "cell_type": "markdown",
   "metadata": {},
   "source": [
    "**List slicing**"
   ]
  },
  {
   "cell_type": "code",
   "execution_count": 8,
   "metadata": {},
   "outputs": [
    {
     "name": "stdout",
     "output_type": "stream",
     "text": [
      "Every element after 1 step [2, 3, 4, 5, 6, 7]\n",
      "Every element after 2 step [2, 4, 6]\n",
      "Every element after 3 step [2, 5]\n"
     ]
    }
   ],
   "source": [
    "# This is incredibly useful when dealing with large datasets, manipulating specific ranges of data, or simply extracting the information you need.\n",
    "\n",
    "# List slicing example:\n",
    "# L[start:stop:stp]\n",
    "# start is starting index\n",
    "# stop is stop index\n",
    "# step is index step.\n",
    "L = [1,2,3,4,5,6,7,8,0]\n",
    "print(\"Every element after 1 step\",L[1:7:1])\n",
    "print(\"Every element after 2 step\",L[1:7:2])\n",
    "print(\"Every element after 3 step\",L[1:7:3])"
   ]
  },
  {
   "cell_type": "code",
   "execution_count": 8,
   "metadata": {},
   "outputs": [
    {
     "name": "stdout",
     "output_type": "stream",
     "text": [
      "['b', 'c', 'e', 'f']\n",
      "a\n",
      "['f', 'g', 'h']\n",
      "['a', 'b', 'c', 'e', 'f', 'g', 'h']\n",
      "i\n",
      "['b', 'c', 'e', 'f', 'g', 'h']\n",
      "['c', 'e', 'f', 'g']\n",
      "['h']\n",
      "['c', 'f', 'h']\n",
      "['a', 'b', 'c', 'e', 'f', 'g', 'h', 'i']\n",
      "['i', 'h', 'g', 'f', 'e', 'c', 'b']\n",
      "['i', 'h', 'g', 'f', 'e', 'c', 'b']\n",
      "['a', 'b', 'c']\n",
      "['h', 'i']\n",
      "['i', 'h', 'g', 'f', 'e', 'c', 'b', 'a']\n",
      "['a', 'e', 'c', 'b', 'f', 'g', 'h', 'i']\n",
      "['a', 'f', 'g', 'h', 'i']\n",
      "['a', 'i']\n",
      "[1, 2, 4, 4]\n",
      "[1, 2, 4, 4]\n",
      "[1, 5, 4, 4]\n",
      "original: [[1, 2], [3, 4]]\n",
      "shallow copy: [[99, 2], [3, 4]]\n",
      "original: [[99, 2], [3, 4]]\n",
      "original: [[1, 2], [3, 4]]\n",
      "deep copy: [[99, 2], [3, 4]]\n",
      "original: [[1, 2], [3, 4]]\n",
      "[5, 4, 4]\n",
      "[]\n"
     ]
    },
    {
     "ename": "ValueError",
     "evalue": "slice step cannot be zero",
     "output_type": "error",
     "traceback": [
      "\u001b[1;31m---------------------------------------------------------------------------\u001b[0m",
      "\u001b[1;31mValueError\u001b[0m                                Traceback (most recent call last)",
      "\u001b[1;32m<ipython-input-8-3c6e2c01db8f>\u001b[0m in \u001b[0;36m<module>\u001b[1;34m\u001b[0m\n\u001b[0;32m     71\u001b[0m \u001b[0mprint\u001b[0m\u001b[1;33m(\u001b[0m\u001b[0mL1\u001b[0m\u001b[1;33m[\u001b[0m\u001b[1;36m5\u001b[0m\u001b[1;33m:\u001b[0m\u001b[1;36m3\u001b[0m\u001b[1;33m]\u001b[0m\u001b[1;33m)\u001b[0m\u001b[1;33m\u001b[0m\u001b[0m\n\u001b[0;32m     72\u001b[0m \u001b[1;31m# Step Size of 0\u001b[0m\u001b[1;33m\u001b[0m\u001b[1;33m\u001b[0m\u001b[0m\n\u001b[1;32m---> 73\u001b[1;33m \u001b[0mprint\u001b[0m\u001b[1;33m(\u001b[0m\u001b[0mL1\u001b[0m\u001b[1;33m[\u001b[0m\u001b[1;36m1\u001b[0m\u001b[1;33m:\u001b[0m\u001b[1;36m2\u001b[0m\u001b[1;33m:\u001b[0m\u001b[1;36m0\u001b[0m\u001b[1;33m]\u001b[0m\u001b[1;33m)\u001b[0m \u001b[1;31m# Error\u001b[0m\u001b[1;33m\u001b[0m\u001b[0m\n\u001b[0m",
      "\u001b[1;31mValueError\u001b[0m: slice step cannot be zero"
     ]
    }
   ],
   "source": [
    "c = ['a', 'b', 'c', 'e', 'f', 'g', 'h', 'i']\n",
    "print(c[1:5]) # Here the 1 is the starting index which is included and 5 is the stop index which is excluded.b\n",
    "\n",
    "# slice with negative index\n",
    "print(c[-1*len(c)])\n",
    "print(c[-4:-1])\n",
    "print(c[-8:-1:1]) # the -8 start is included and -1 stop is excluded\n",
    "print(c[-1])\n",
    "\n",
    "# slice with positive and negative\n",
    "print(c[1:-1])\n",
    "print(c[2:-2])\n",
    "\n",
    "# NOTE: The slice index should move from left to right not right to left\n",
    "# Slice with step\n",
    "print(c[6:-1:1])\n",
    "print(c[2:-1:2])\n",
    "\n",
    "# Slice with Negative step. This will takes the elements in reverse order. A negative step reverses the order of elements.\n",
    "print(c[0:8:1])\n",
    "print(c[8:0:-1]) # Right to left with negative index\n",
    "print(c[8:0:-1]) # values are printed reverse\n",
    "\n",
    "# Slice at the Beginning and to the End\n",
    "print(c[:3])\n",
    "print(c[6:])\n",
    "\n",
    "# Reversing a List\n",
    "print(c[::-1])\n",
    "\n",
    "# Replacing a slice\n",
    "c[1:4] = ['e', 'c', 'b']\n",
    "print(c)\n",
    "\n",
    "# Removing a slice\n",
    "c[1:4] = []\n",
    "print(c)\n",
    "del c[1:4]\n",
    "print(c)\n",
    "\n",
    "# Copying the entire slice\n",
    "L1 = [1,2,4,4]\n",
    "L2 = L1[:]\n",
    "print(L2)\n",
    "L1[1] = 5\n",
    "print(L2)\n",
    "print(L1)\n",
    "\n",
    "# Deep copy and shallow copy\n",
    "import copy\n",
    "original = [[1, 2], [3, 4]]\n",
    "# Shallow copy\n",
    "shallow = copy.copy(original)\n",
    "print(\"original:\", original)\n",
    "shallow[0][0] = 99\n",
    "print(\"shallow copy:\", shallow)\n",
    "print(\"original:\", original)\n",
    "\n",
    "# Deep copy\n",
    "original = [[1, 2], [3, 4]]  # Reset original\n",
    "deep = copy.deepcopy(original)\n",
    "print(\"original:\", original)\n",
    "deep[0][0] = 99\n",
    "print(\"deep copy:\", deep)\n",
    "print(\"original:\", original)\n",
    "\n",
    "# Important Considerations\n",
    "# Out of Range Indices\n",
    "print(L1[1:100])\n",
    "# Empty Slice\n",
    "print(L1[5:3])\n",
    "# Step Size of 0\n",
    "print(L1[1:2:0]) # Error"
   ]
  },
  {
   "cell_type": "markdown",
   "metadata": {},
   "source": [
    "**List Comprehension**"
   ]
  },
  {
   "cell_type": "code",
   "execution_count": 31,
   "metadata": {},
   "outputs": [
    {
     "name": "stdout",
     "output_type": "stream",
     "text": [
      "[0, 1, 2, 3, 4]\n",
      "<class 'range'>\n",
      "New List: [0, 1, 2, 3, 4, 5, 6, 7]\n",
      "New List: [1, 3, 5, 7]\n",
      "Squire of the num list: [0, 1, 4, 9, 16, 25, 36, 49]\n",
      "['aaa', 'bbb', 'ccc']\n",
      "[3, 4, 5, 7, 8, 9]\n",
      "[1, 2, 4, 5, 7, 8]\n",
      "['red', 'blue', 'yellow']\n",
      "[(0, 0), (1, 1), (2, 4), (3, 9), (4, 16), (5, 25), (6, 36), (7, 49), (8, 64), (9, 81)]\n"
     ]
    }
   ],
   "source": [
    "# What is List Comprehension?\n",
    "# It saves you having to write several lines of code, and keeps the readability of your code neat.\n",
    "# i.e: 1\n",
    "L = []\n",
    "L.append(0)\n",
    "L.append(1)\n",
    "L.append(2)\n",
    "L.append(3)\n",
    "L.append(4)\n",
    "print(L)\n",
    "\n",
    "# i.e: 2. you could just use an iterator and the range() function:\n",
    "L = []\n",
    "print(type(range(1)))\n",
    "for i in range(8):\n",
    "    L.append(i)\n",
    "print(\"New List:\",L)\n",
    "\n",
    "L = []\n",
    "for i in range(1,8,2):\n",
    "    L.append(i)\n",
    "print(\"New List:\",L)\n",
    "\n",
    "# The general syntax for a list comprehension is:\n",
    "# [expression for variable in iterable]\n",
    "# expression = it is evaluated once for each item\n",
    "# variable = it takes items from iterable one by one\n",
    "# iterable = it is collection of items (from like: tuples,list ect)\n",
    "\n",
    "L = [x**2 for x in range(8)]\n",
    "# Here there 2 parts\n",
    "# 1st: x**2 is expression\n",
    "# 2nd: A regular for loor iterates over numbers\n",
    "print(\"Squire of the num list:\", L)\n",
    "\n",
    "L = [x*3 for x in \"abc\"]\n",
    "print(L)\n",
    "\n",
    "L = [-3,4,-5,-7,8,9] \n",
    "A = [abs(x) for x in L]\n",
    "print(A)\n",
    "  \n",
    "L = [x for x in range(10) if x%3]\n",
    "print(L)\n",
    "\n",
    "color = ['  red', '  blue', '  yellow']\n",
    "L = [c.strip() for c in color]\n",
    "print(L)\n",
    "\n",
    "# Tuple from range\n",
    "T = [(x,x**2) for x in range(10)]\n",
    "print(T)"
   ]
  },
  {
   "cell_type": "markdown",
   "metadata": {},
   "source": [
    "**List Comprehension with if Clause**"
   ]
  },
  {
   "cell_type": "markdown",
   "metadata": {},
   "source": [
    "[expression for variable in iterator if_clause]"
   ]
  },
  {
   "cell_type": "code",
   "execution_count": 37,
   "metadata": {},
   "outputs": [
    {
     "name": "stdout",
     "output_type": "stream",
     "text": [
      "True\n"
     ]
    }
   ],
   "source": [
    "# Filter list to exclude negative numbers\n",
    "vec = [-4, -2, 0, 2, 4]\n",
    "L = [x for x in vec if x>=0]\n",
    "# This list comprehension is the same as a for loop that contains an if statement\n",
    "vec = [-4, -2, 0, 2, 4]\n",
    "L1 = []\n",
    "for x in vec:\n",
    "    if x >= 0:\n",
    "        L1.append(x)\n",
    "print(L == L1)"
   ]
  },
  {
   "cell_type": "markdown",
   "metadata": {},
   "source": [
    "**Nested List Comprehensions**"
   ]
  },
  {
   "cell_type": "markdown",
   "metadata": {},
   "source": [
    "[expression for variable in iterable]\n",
    "     \n",
    "[expression for variable in iterable for variable in iterable]"
   ]
  },
  {
   "cell_type": "code",
   "execution_count": 71,
   "metadata": {},
   "outputs": [
    {
     "name": "stdout",
     "output_type": "stream",
     "text": [
      "[1, 2, 3, 4, 5, 6, 7, 8, 9]\n",
      "[1, 2, 3, 4, 5, 6, 7, 8, 9]\n"
     ]
    }
   ],
   "source": [
    "# With list comprehension\n",
    "vector = [[1, 2, 3], [4, 5, 6], [7, 8, 9]]\n",
    "L1 = [number for lst in vector for number in lst]\n",
    "print(L1)\n",
    "\n",
    "# Equalent to above\n",
    "vector = [[1,2,3],[4,5,6],[7,8,9]]\n",
    "L2 = []\n",
    "for lis in vector:\n",
    "    for number in lis:\n",
    "        L2.append(number)\n",
    "print(L2)"
   ]
  },
  {
   "cell_type": "code",
   "execution_count": 72,
   "metadata": {},
   "outputs": [
    {
     "name": "stdout",
     "output_type": "stream",
     "text": [
      "[[1, 4, 7], [2, 5, 8], [3, 6, 9]]\n",
      "[[1, 4, 7], [2, 5, 8], [3, 6, 9]]\n"
     ]
    }
   ],
   "source": [
    "# list comprehension that transposes rows and columns\n",
    "matrix = [[1,2,3],\n",
    "          [4,5,6],\n",
    "          [7,8,9]]\n",
    "# MatrixT = [[1,4,7],\n",
    "#            [2,5,6],\n",
    "#            [3,6,9]]\n",
    "C0 = []\n",
    "C1 = []\n",
    "C2 = []\n",
    "for rows in matrix:\n",
    "    j = 0\n",
    "    for x in rows:\n",
    "        if j == 0:\n",
    "           C0.append(x)\n",
    "        elif j == 1:\n",
    "           C1.append(x)\n",
    "        else:\n",
    "           C2.append(x)\n",
    "        j +=1\n",
    "matrixT = [C0,C1,C2]\n",
    "print(MatrixT)\n",
    "\n",
    "# The above code is written in one line\n",
    "L = [[row[i] for row in matrix] for i in range(3)]\n",
    "print(L)"
   ]
  },
  {
   "cell_type": "markdown",
   "metadata": {},
   "source": [
    "**List Comprehension vs map() + lambda**"
   ]
  },
  {
   "cell_type": "code",
   "execution_count": 81,
   "metadata": {},
   "outputs": [
    {
     "name": "stdout",
     "output_type": "stream",
     "text": [
      "[102, 111, 111]\n",
      "[102, 111, 111]\n",
      "[0, 1, 4, 9, 16, 25, 36, 49, 64, 81] \n",
      " [0, 1, 4, 9, 16, 25, 36, 49, 64, 81]\n"
     ]
    }
   ],
   "source": [
    "# map(f, L) is a little faster than the corresponding list comprehension [f(x) for x in L]\n",
    "L = [ord(x) for x in 'foo']\n",
    "print(L)\n",
    "# Prints [102, 111, 111]\n",
    "\n",
    "# With map() function\n",
    "L = list(map(ord, 'foo'))\n",
    "print(L)\n",
    "# Prints [102, 111, 111]\n",
    "\n",
    "# However, when evaluating any other expression, [some_expr for x in L] is faster and clearer than map(lambda x: some_expr, L),\n",
    "# because the map incurs an extra function call for each element. \n",
    "L1 = [x**2 for x in range(10)]\n",
    "L2 = list(map((lambda x: x**2), range(10)))\n",
    "print(L1,'\\n',L2)"
   ]
  },
  {
   "cell_type": "markdown",
   "metadata": {},
   "source": [
    "**List Comprehension vs filter() + lambda**"
   ]
  },
  {
   "cell_type": "code",
   "execution_count": 84,
   "metadata": {},
   "outputs": [
    {
     "name": "stdout",
     "output_type": "stream",
     "text": [
      "[0, 2, 4, 6, 8] \n",
      " [0, 2, 4, 6, 8]\n"
     ]
    }
   ],
   "source": [
    "# List comprehension\n",
    "L1 = [x for x in range(10) if x%2 == 0]\n",
    "\n",
    "# Using Filter() + lambda\n",
    "L2 = list(filter((lambda x: x%2 == 0), range(10)))\n",
    "print(L1,'\\n',L2)"
   ]
  },
  {
   "cell_type": "markdown",
   "metadata": {},
   "source": [
    "**NOTE:** As with map() function, filter() is slightly faster if you are using a built-in function. "
   ]
  },
  {
   "cell_type": "markdown",
   "metadata": {},
   "source": [
    "**List Comprehensions and Variable Scope**"
   ]
  },
  {
   "cell_type": "markdown",
   "metadata": {},
   "source": [
    "There is a issue in pytho2, but in python3\n",
    "Fortunately, this is not the case in Python 3 where the iteration variable remains private, so you need not worry."
   ]
  },
  {
   "cell_type": "code",
   "execution_count": null,
   "metadata": {},
   "outputs": [],
   "source": []
  },
  {
   "cell_type": "code",
   "execution_count": null,
   "metadata": {},
   "outputs": [],
   "source": []
  },
  {
   "cell_type": "markdown",
   "metadata": {},
   "source": [
    "**TUPLES**"
   ]
  },
  {
   "cell_type": "markdown",
   "metadata": {},
   "source": [
    "1. Tuples are ordered.\n",
    "2. Accessed by index.\n",
    "3. Tuples can contain any sort of object.\n",
    "4. Tuples are immutable.\n",
    "\n",
    "You can create a tuple by placing a comma-separated sequence of items in parentheses ()"
   ]
  },
  {
   "cell_type": "code",
   "execution_count": 115,
   "metadata": {},
   "outputs": [
    {
     "name": "stdout",
     "output_type": "stream",
     "text": [
      "(1, 2, 3)\n",
      "1 2 3\n",
      "1 2 3\n",
      "Red Green Yellow\n",
      "Red Green Yellow\n",
      "1 5.34 hello 1\n",
      "1 5.34 hello 3\n",
      "(1, 'abc', True, 1.345)\n",
      "<class 'tuple'>\n",
      "<class 'int'>\n",
      "(1, 3, 4, 5)\n",
      "('h', 'e', 'l', 'l', 'o')\n",
      "<class 'str'>\n",
      "yellow\n",
      "('red', 'Green', 'yellow', 'blue', 'white')\n",
      "red\n",
      "Green\n",
      "yellow\n",
      "blue\n",
      "white\n",
      "10 20\n",
      "20 10\n",
      "sarath gmail.com\n",
      "[1, 2, 3]\n",
      "a\n",
      "[-1] [-2]\n",
      "(3, 4, 6, 9)\n",
      "(5, 6)\n",
      "(3, 9)\n",
      "(1, ['xx', 4], 5)\n",
      "('a', 'b', 'c', 1, 2, 3)\n",
      "('a', 'z', 'y', 'a', 'z', 'y', 'a', 'z', 'y')\n",
      "('red', 'red', 'red')\n",
      "How many items in the tuple: 4\n",
      "No\n",
      "Red\n",
      "Yellow\n",
      "White\n",
      "Orange\n",
      "('aa', 'cc', 'dd', 'ee')\n",
      "(1, 3, 4, 4, 5, 6, 8)\n",
      "('aa', 'cc', 'dd', 'ee')\n",
      "index: 6\n",
      "True\n",
      "True\n",
      "<enumerate object at 0x000002AB7424CCA8>\n",
      "7\n",
      "5\n",
      "1\n",
      "19\n",
      "[1, 2, 2, 2, 3, 4, 5]\n"
     ]
    }
   ],
   "source": [
    "# Tuple with same type\n",
    "T = (1,2,3)\n",
    "print(T)\n",
    "print(T[0],T[1],T[2])\n",
    "print(T[-3],T[-2],T[-1])\n",
    "\n",
    "C = (\"Red\", \"Green\", \"Yellow\")\n",
    "print(C[0],C[1],C[2])\n",
    "print(C[-3],C[-2],C[-1])\n",
    "\n",
    "# Tuple can include multiple types\n",
    "T1 = (1, 5.34, \"hello\",[1,2,3])\n",
    "print(T1[0],T1[1],T1[2],T1[3][0])\n",
    "print(T1[-4],T1[-3],T1[-2],T1[-1][2])\n",
    "\n",
    "# Empty Tuple\n",
    "Et = ()\n",
    "\n",
    "# A tuple is just a comma-separated list of values.\n",
    "T = 1, \"abc\", True, 1.345\n",
    "print(T)\n",
    "\n",
    "# Singleton Tuple\n",
    "T = (4,)\n",
    "print(type(T))\n",
    "# Otherwise, Python will think you’ve just typed a value inside regular parentheses.\n",
    "T = (4)\n",
    "print(type(T))\n",
    "\n",
    "# Conversion: You can convert other data types to tuple using Python’s tuple() constructor.\n",
    "T = tuple([1,3,4,5])\n",
    "print(T)\n",
    "\n",
    "T = tuple(\"hello\")\n",
    "print(T)\n",
    "print(type(\"hello\"))\n",
    "\n",
    "# Nested Tuples\n",
    "T = ('red', ('green', 'blue'), 'yellow')\n",
    "print(T[2])\n",
    "\n",
    "# Tuple Packing & Unpacking\n",
    "# Tuple Packing:\n",
    "# When a tuple is created, the items in the tuple are packed together into the object.\n",
    "T = ('red', 'Green', 'yellow', 'blue', 'white')\n",
    "print(T)\n",
    "# In the above all the colours are packed as one item in the tuple item T\n",
    "\n",
    "# Tuple unpacking:\n",
    "(r,g,y,b,w) = T\n",
    "print(r)\n",
    "print(g)\n",
    "print(y)\n",
    "print(b)\n",
    "print(w)\n",
    "# When unpacking, the number of variables on the left must match the number of items in the tuple.\n",
    "T = ('red', 'green', 'blue', 'cyan')\n",
    "# (a, b) = T \n",
    "# ValueError: too many values to unpack (expected 2)\n",
    "\n",
    "# Usage: swap values of two variables without using a temporary variable.\n",
    "a = 10\n",
    "b = 20\n",
    "print(a,b)\n",
    "a, b = b, a\n",
    "print(a,b)\n",
    "\n",
    "# While unpacking a tuple, the right side can be any kind of sequence (tuple, string or list).\n",
    "addr = \"sarath@gmail.com\"\n",
    "username, domain = addr.split('@')\n",
    "print(username, domain)\n",
    "\n",
    "# Access Tuple Items\n",
    "# Tuple access is similar to list, that is by using a index\n",
    "T = (1,[1,2,3],6,7,\"abc\")\n",
    "print(T[1])\n",
    "print(T[4][0])\n",
    "print([-1],[-2])\n",
    "\n",
    "# Tuple access with Tuple Slicing\n",
    "T = (1,3,4,6,9,5,6,8)\n",
    "print(T[1:5])\n",
    "print(T[-3:-1])\n",
    "print(T[1:7:3])\n",
    "\n",
    "# Change Tuple Items\n",
    "T = (\"red\", \"x\", \"blue\")\n",
    "# TypeError: 'tuple' object does not support item assignment\n",
    "# T[1] = \"green\" \n",
    "T  = (1,[2,4],5)\n",
    "# No error there is no change is made the item of the tuple, only the change in the item of a tupel list. So no error.\n",
    "T[1][0] = 'xx'\n",
    "print(T)\n",
    "\n",
    "# Delete a Tuple\n",
    "T = (1,2,3,4)\n",
    "# del T[1]\n",
    "# del T[1:3] Tuples cannot be modified, so obviously you cannot delete any item from it\n",
    "# print(T) # It wont print any thing because it is deleted entire tuple\n",
    "\n",
    "# Tuple Concatenation & Repetition\n",
    "T = ('a', 'b', 'c') + (1,2,3)\n",
    "print(T)\n",
    "\n",
    "T  = ('a','z','y')\n",
    "T *= 3\n",
    "print(T)\n",
    "T  = ('red',) * 3\n",
    "print(T)\n",
    "\n",
    "# Find Tuple Length\n",
    "T = (1,2,3,4)\n",
    "print(\"How many items in the tuple:\",len(T))\n",
    "\n",
    "# Check if item exists in a tuple\n",
    "T = (\"adaf\", \"afad\", \"ajakdja\")\n",
    "if \"a\" in T:\n",
    "    print(\"yes\")\n",
    "if \"a\" not in T:\n",
    "    print(\"No\")\n",
    "    \n",
    "# Iterate through a tuple\n",
    "T  = ('Red', 'Yellow', 'White', 'Orange')\n",
    "for i in T:\n",
    "    print(i)\n",
    "    \n",
    "# Tuple Sorting\n",
    "# Method1: using built in method\n",
    "T = ('dd','aa','cc','ee')\n",
    "T1 = (1,5,8,4,6,4,3)\n",
    "print(tuple(sorted(T)))\n",
    "print(tuple(sorted(T1)))\n",
    "\n",
    "# Method2: Convert a tuple to a mutable object like list (using list constructor), gain access to a sorting method call (sort()) and\n",
    "# convert it back to tuple.\n",
    "T = ('dd','aa','cc','ee')\n",
    "T = list(T)\n",
    "T.sort()\n",
    "print(tuple(T))\n",
    "\n",
    "# Python Tuple Methods\n",
    "T  = (1,2,2,3,4,2,5)\n",
    "c  = T.count(2) # returns number of 2 present in the tuple\n",
    "\n",
    "i = T.index(5)\n",
    "print(\"index:\", i)\n",
    "\n",
    "# Built-in Functions with Tuple\n",
    "print(all(T))\n",
    "print(any(T))\n",
    "print(enumerate(T))\n",
    "print(len(T))\n",
    "print(max(T))\n",
    "print(min(T))\n",
    "print(sum(T))\n",
    "print(sorted(T))"
   ]
  },
  {
   "cell_type": "code",
   "execution_count": 28,
   "metadata": {},
   "outputs": [
    {
     "name": "stdout",
     "output_type": "stream",
     "text": [
      "(1, [20, 2, 3, 1, 3])\n"
     ]
    }
   ],
   "source": [
    "T = (1,32,3)\n",
    "T = T + (1,)\n",
    "T1 = (1,[1,2,3])\n",
    "T1[0].append(1)\n",
    "T1[1].append(3)\n",
    "T1[1][0] = 20\n",
    "print(T1)"
   ]
  },
  {
   "cell_type": "code",
   "execution_count": null,
   "metadata": {},
   "outputs": [],
   "source": []
  },
  {
   "cell_type": "markdown",
   "metadata": {},
   "source": [
    "# SET"
   ]
  },
  {
   "cell_type": "code",
   "execution_count": 17,
   "metadata": {},
   "outputs": [
    {
     "ename": "SyntaxError",
     "evalue": "invalid syntax (<ipython-input-17-6bd9ca118702>, line 1)",
     "output_type": "error",
     "traceback": [
      "\u001b[1;36m  File \u001b[1;32m\"<ipython-input-17-6bd9ca118702>\"\u001b[1;36m, line \u001b[1;32m1\u001b[0m\n\u001b[1;33m    ** Python set is an unordered collection of unique items **\u001b[0m\n\u001b[1;37m     ^\u001b[0m\n\u001b[1;31mSyntaxError\u001b[0m\u001b[1;31m:\u001b[0m invalid syntax\n"
     ]
    }
   ],
   "source": [
    "** Python set is an unordered collection of unique items **\n",
    "** They are commonly used for computing mathematical operations such as union, intersection, difference, and symmetric difference.**\n",
    "\n",
    "** Properties of the sets:**\n",
    "** 1. Sets are unordered.**\n",
    "** 2. Set items are unique.**\n",
    "** 3. Sets are unindexed.**\n",
    "** 4. Sets are changeable (mutable).**"
   ]
  },
  {
   "cell_type": "code",
   "execution_count": 90,
   "metadata": {},
   "outputs": [
    {
     "name": "stdout",
     "output_type": "stream",
     "text": [
      "{1, 2, 3, 4, 5}\n",
      "{0, 1.2345, 'hello', (1+2j)}\n",
      "0\n",
      "1.2345\n",
      "hello\n",
      "(1+2j)\n",
      "{'Green', 'Red', 'Blue'}\n",
      "{1, 2, (1, 3), 43, 'hello', 123}\n",
      "{'C', 'B', 'A'}\n",
      "{1, 2, 3}\n",
      "{1, 2, 3}\n",
      "{1, 2}\n",
      "{1, 2, 3, 4}\n",
      "{1, 2, 3, 4, 'hello', 'Hi'}\n",
      "{1, 4, 5, 'he', 'H'}\n",
      "{4, 5, 'he', 'H'}\n",
      "{4, 5, 'H'}\n",
      "white red\n",
      "{'green'}\n",
      "{'green'}\n",
      "set()\n",
      "0\n",
      "4\n",
      "B\n",
      "G\n",
      "R\n",
      "False\n",
      "{'green', 'blue', 'yellow', 'orange', 'red'}\n",
      "{'green', 'blue', 'yellow', 'orange', 'red'}\n",
      "{'red'}\n",
      "{'red'}\n",
      "diff:  {'blue', 'green'}\n",
      "diff:  {'blue', 'green'}\n",
      "symmetric diff:  {'green', 'blue', 'yellow', 'orange'}\n",
      "symmetric diff:  {'green', 'blue', 'yellow', 'orange'}\n"
     ]
    }
   ],
   "source": [
    "# Creating a set\n",
    "S = {1,2,3,4,5}\n",
    "print(S)\n",
    "# mixed set\n",
    "S = {0, \"hello\", 1.2345, False, 1+2j} # In python the True values is considered as 1 so it is a set there will be only one.\n",
    "print(S)\n",
    "\n",
    "# Printing a set\n",
    "for i in S:\n",
    "    print(i)\n",
    "    \n",
    "# Set don't allow duplicates, they are automatically removed during the creation of a set.\n",
    "S = {'Red', 'Green', \"Blue\", \"Red\", \"Green\"}\n",
    "print(S)\n",
    "\n",
    "# A set itself is mutable (changeable), but it cannot contain mutable objects.\n",
    "# immutable objects like numbers, strings, tuples can be a set item, but lists and dictionaries are mutable, so they cannot be.\n",
    "S = {1,2,43,(1,3),123,\"hello\"}\n",
    "print(S)\n",
    "# TypeError: unhashable type: 'list'\n",
    "# S = {1,2,[1,3,4],{'a':1,'b':2}}\n",
    "# print(S)\n",
    "\n",
    "# Set constructor\n",
    "S =  set(\"ABC\")\n",
    "print(S)\n",
    "\n",
    "S = set(range(1,4))\n",
    "print(S)\n",
    "\n",
    "S = set([1,2,3])\n",
    "print(S)\n",
    "\n",
    "# Add items to a set\n",
    "S = {1,} # empty set\n",
    "S.add(2)\n",
    "print(S)\n",
    "S.update([3,4])\n",
    "print(S)\n",
    "S.update([\"hello\",\"Hi\"])\n",
    "print(S)\n",
    "# There is no empty set and empty set is a dictionary\n",
    "\n",
    "# Remove Items from a Set\n",
    "# To remove a single item from a set, use remove() or discard() method.\n",
    "# Both methods work as same\n",
    "# remove() method raises KeyError\n",
    "# discard() method does nothing\n",
    "S = {1,4,5,\"he\",\"H\"}\n",
    "print(S)\n",
    "S.remove(1)\n",
    "# S.remove(2) this will create a key error\n",
    "print(S)\n",
    "S.discard(\"he\")\n",
    "print(S)\n",
    "S.discard(2) \n",
    "\n",
    "# The pop() method removes random item from a set and returns it.\n",
    "S = {'red', 'green', 'white'}\n",
    "i1  = S.pop()\n",
    "i2 = S.pop()\n",
    "print(i1,i2)\n",
    "print(S)\n",
    "\n",
    "# clear() method is to remove all the items from the set.\n",
    "print(S)\n",
    "S.clear()\n",
    "print(S)\n",
    "\n",
    "# Find Set Size\n",
    "print(len(S))\n",
    "S = {1,24,4,5}\n",
    "print(len(S))\n",
    "\n",
    "# Iterate Through a Set\n",
    "# To iterate over the items of a set, use a simple for loop.\n",
    "S = {'R', 'G', 'B'}\n",
    "for i in S:\n",
    "    print(i)\n",
    "    \n",
    "# Check if Item Exists in a Set\n",
    "S = {1,3,4,5,6,7}\n",
    "if 1 not in S:\n",
    "    print(True)\n",
    "else:\n",
    "    print(False)\n",
    "\n",
    "# Set Operations\n",
    "# Sets are commonly used for computing mathematical operations such as intersection, union, difference, and symmetric difference.\n",
    "C = {'red', 'green', 'blue'}\n",
    "F = {'orange', 'yellow', 'red'}\n",
    "\n",
    "# Union operation: ( All the unique items in C & F combined)\n",
    "D  = C | F\n",
    "D1 = C.union(F)\n",
    "print(D)\n",
    "print(D1)\n",
    "\n",
    "# Set intersection (The items that are present both in C and F)\n",
    "I = C.intersection(F)\n",
    "I1 = C & F\n",
    "print(I)\n",
    "print(I1)\n",
    "\n",
    "# Set difference ( All items in C but not in F)\n",
    "S = C - F\n",
    "S1 = C.difference(F)\n",
    "print(\"diff: \",S)\n",
    "print(\"diff: \",S1)\n",
    "\n",
    "# Set Symmetric Difference (All the items except the common items between C and F)\n",
    "SD  = C ^ F\n",
    "SD1 = C.symmetric_difference(F)\n",
    "print(\"symmetric diff: \", SD)\n",
    "print(\"symmetric diff: \", SD1)"
   ]
  },
  {
   "cell_type": "code",
   "execution_count": 40,
   "metadata": {},
   "outputs": [
    {
     "name": "stdout",
     "output_type": "stream",
     "text": [
      "{1, 2, 3, (2, 1)}\n",
      "{1, 2, 3, (2, 1)}\n"
     ]
    }
   ],
   "source": [
    "s = {1,}\n",
    "s.add((2,1))\n",
    "s.add(3)\n",
    "s.add(2)\n",
    "print(s)\n",
    "# s.update((3,2))\n",
    "print(s)"
   ]
  },
  {
   "cell_type": "markdown",
   "metadata": {},
   "source": [
    "# Other Set Operations"
   ]
  },
  {
   "cell_type": "markdown",
   "metadata": {},
   "source": [
    "1. intersection_update()\n",
    "2. isdisjoint()\n",
    "3. issubset()\n",
    "4. issuperset()"
   ]
  },
  {
   "cell_type": "markdown",
   "metadata": {},
   "source": [
    "Python Frozenset"
   ]
  },
  {
   "cell_type": "markdown",
   "metadata": {},
   "source": [
    "**Python provides another built-in type called a frozenset. Frozenset is just like set, only immutable (unchangeable).**"
   ]
  },
  {
   "cell_type": "code",
   "execution_count": 19,
   "metadata": {},
   "outputs": [
    {
     "name": "stdout",
     "output_type": "stream",
     "text": [
      "frozenset({'red', 'yellow', 'green'})\n",
      "3\n",
      "frozenset({'red', 'green', 'Pink', 'white', 'yellow'})\n"
     ]
    }
   ],
   "source": [
    "S  = frozenset({\"red\", \"yellow\", \"green\"})\n",
    "print(S)\n",
    "\n",
    "# find the size\n",
    "print(len(S))\n",
    "\n",
    "# perform union\n",
    "print( S | {\"white\",\"Pink\"})\n",
    "\n",
    "# modifing frogenset()\n",
    "# I = S.pop()\n",
    "# S.add(\"white\")\n",
    "\n",
    "# Unlike sets, frozensets are unchangeable so they can be used as keys to a dictionary.\n",
    "D = {frozenset(['dev','mgr']):'Bob'}"
   ]
  },
  {
   "cell_type": "markdown",
   "metadata": {},
   "source": [
    "# Built-in Functions with Set"
   ]
  },
  {
   "cell_type": "code",
   "execution_count": null,
   "metadata": {},
   "outputs": [],
   "source": [
    "all()\tReturns True if all items in a set are true\n",
    "any()\tReturns True if any item in a set is true\n",
    "enumerate()\tTakes a set and returns an enumerate object\n",
    "len()\tReturns the number of items in the set\n",
    "max()\tReturns the largest item of the set\n",
    "min()\tReturns the smallest item of the set\n",
    "sorted()\tReturns a sorted set\n",
    "sum()\tSums items of the set"
   ]
  },
  {
   "cell_type": "code",
   "execution_count": null,
   "metadata": {},
   "outputs": [],
   "source": []
  },
  {
   "cell_type": "markdown",
   "metadata": {},
   "source": [
    "# Dictionary"
   ]
  },
  {
   "cell_type": "markdown",
   "metadata": {},
   "source": [
    "Dictionaries are Python’s implementation of a data structure, generally known as associative arrays, hashes, or hashmaps.\n",
    "\n",
    "You can think of a dictionary as a mapping between a set of indexes (known as keys) and a set of values. \n",
    "Each key maps to a value.\n",
    "The association of a key and a value is called a key:value pair or sometimes an item."
   ]
  },
  {
   "cell_type": "code",
   "execution_count": 18,
   "metadata": {},
   "outputs": [
    {
     "name": "stdout",
     "output_type": "stream",
     "text": [
      "A\n"
     ]
    }
   ],
   "source": [
    "# Create a disctionary of a student\n",
    "Student = {\"Name\": \"Sarath\",\n",
    "           \"Section\": \"A\", \n",
    "           \"Roll_no\": 6, \n",
    "           \"Marks\": 96 }\n",
    "\n",
    "Employ_record = {\"Name\": \"Rocky\",\n",
    "                 \"Id\": \"TXO1TOR\",\n",
    "                 \"Number\": 12345667,\n",
    "                 \"Designation\": \"BAN\"\n",
    "                }\n",
    "print(Student.get(\"Section\"))"
   ]
  },
  {
   "cell_type": "markdown",
   "metadata": {},
   "source": [
    "**The dict() Constructor**"
   ]
  },
  {
   "cell_type": "code",
   "execution_count": 41,
   "metadata": {},
   "outputs": [
    {
     "name": "stdout",
     "output_type": "stream",
     "text": [
      "{'name': 'Bob', 'age': 25, 'job': 'Dev', 'id': 1245, 'Dep': 'MM'}\n",
      "{'name': 'Ros', 'age': 24, 'job': 'test', 'id': 1246, 'Dep': 'TT'}\n",
      "{'name': 'Rai', 'age': 23, 'id': 123, 'dep': 'TE'}\n",
      "{'name': 'marle', 'age': 25, 'id': 1253}\n",
      "{'a': 10, 'b': 10, 'c': 10, '': 10}\n"
     ]
    }
   ],
   "source": [
    "# You can convert two-value sequences into a dictionary with Python’s dict() constructor\n",
    "# M1:\n",
    "L = [('name', 'Bob'),\n",
    "     ('age', 25),\n",
    "     ('job', 'Dev'),\n",
    "     ('id', 1245),\n",
    "     ('Dep', 'MM')]\n",
    "D = dict(L)\n",
    "print(D)\n",
    "\n",
    "# M2:\n",
    "L1 = (['name','Ros'],\n",
    "     ['age', 24],\n",
    "     ['job', 'test'],\n",
    "     ['id', 1246],\n",
    "     ['Dep', 'TT'])\n",
    "D = dict(L1)\n",
    "print(D)\n",
    "\n",
    "# M3:\n",
    "D = dict(name = 'Rai',\n",
    "     age = 23,\n",
    "     id = 123,\n",
    "    dep = 'TE')\n",
    "print(D)\n",
    "\n",
    "# M4: Other Ways to Create Dictionaries\n",
    "# You can use dict() function along with the zip() function,\n",
    "# To combine separate lists of keys and values obtained dynamically at runtime.\n",
    "Keys = ['name', 'age', 'id']\n",
    "Value = ['marle', 25, 1253]\n",
    "D = dict(zip(Keys,Value))\n",
    "print(D)\n",
    "\n",
    "#M5: using  fromkeys()\n",
    "# you’ll often want to create a dictionary with default values for each key\n",
    "# Initialize dictionary with default value '0' for each key\n",
    "keys = ['a', 'b', 'c','']\n",
    "defaultValue = 10\n",
    "\n",
    "D = dict.fromkeys(keys,defaultValue)\n",
    "print(D)\n",
    "\n",
    "# NOTE: There is one more way to create a dictionary based on existing dictionary, called Dictionary comprehension.\n"
   ]
  },
  {
   "cell_type": "markdown",
   "metadata": {},
   "source": [
    "**Important Properties of a Dictionary**"
   ]
  },
  {
   "cell_type": "code",
   "execution_count": 42,
   "metadata": {},
   "outputs": [
    {
     "name": "stdout",
     "output_type": "stream",
     "text": [
      "{'Name': 'josh', 'Id': 24}\n"
     ]
    },
    {
     "ename": "TypeError",
     "evalue": "unhashable type: 'list'",
     "output_type": "error",
     "traceback": [
      "\u001b[1;31m---------------------------------------------------------------------------\u001b[0m",
      "\u001b[1;31mTypeError\u001b[0m                                 Traceback (most recent call last)",
      "\u001b[1;32m<ipython-input-42-c68b76b58919>\u001b[0m in \u001b[0;36m<module>\u001b[1;34m\u001b[0m\n\u001b[0;32m     12\u001b[0m      \u001b[1;32mTrue\u001b[0m\u001b[1;33m:\u001b[0m \u001b[1;36m1\u001b[0m\u001b[1;33m,\u001b[0m\u001b[1;33m\u001b[0m\u001b[0m\n\u001b[0;32m     13\u001b[0m      'name': 'box'}\n\u001b[1;32m---> 14\u001b[1;33m \u001b[0mD1\u001b[0m \u001b[1;33m=\u001b[0m \u001b[1;33m{\u001b[0m\u001b[1;33m(\u001b[0m\u001b[1;36m1\u001b[0m\u001b[1;33m,\u001b[0m\u001b[1;33m[\u001b[0m\u001b[1;36m2\u001b[0m\u001b[1;33m,\u001b[0m\u001b[1;36m4\u001b[0m\u001b[1;33m]\u001b[0m\u001b[1;33m)\u001b[0m\u001b[1;33m:\u001b[0m \u001b[1;36m6\u001b[0m\u001b[1;33m}\u001b[0m\u001b[1;33m\u001b[0m\u001b[0m\n\u001b[0m\u001b[0;32m     15\u001b[0m \u001b[1;31m#      {1,3}: 4} # TypeError: unhashable type: 'list'\u001b[0m\u001b[1;33m\u001b[0m\u001b[1;33m\u001b[0m\u001b[0m\n\u001b[0;32m     16\u001b[0m \u001b[0mprint\u001b[0m\u001b[1;33m(\u001b[0m\u001b[0mD\u001b[0m\u001b[1;33m)\u001b[0m\u001b[1;33m\u001b[0m\u001b[0m\n",
      "\u001b[1;31mTypeError\u001b[0m: unhashable type: 'list'"
     ]
    }
   ],
   "source": [
    "# 1. Keys must be unique\n",
    "D  = {'Name': 'Bob',\n",
    "      'Id': 24,\n",
    "      'Name': 'josh'}\n",
    "print(D)\n",
    "\n",
    "# Note: Even if you specify a key more than once during the creation of a dictionary, the last value for that key becomes the associated value.\n",
    "\n",
    "# Key must be immutable type:\n",
    "D  = {(2,2): 'a',\n",
    "      1: 'hello',\n",
    "     True: 1,\n",
    "     'name': 'box'}\n",
    "# D1 = {(1,[2,4]): 6} TypeError: unhashable type: 'list'\n",
    "#      {1,3}: 4} # TypeError: unhashable type: 'list'\n",
    "print(D)\n",
    "# print(D1)\n",
    "\n",
    "# Value can be of any type:\n",
    "D2 = {(2,2): [4,4],\n",
    "     1: 'hello',\n",
    "     True: 1,\n",
    "     'name': {'box','3'}}\n",
    "print(D2.get((2,2)))\n",
    "\n",
    "# Note: There are no restrictions on dictionary values. A dictionary value can be any type of object and can appear in a dictionary multiple times.\n",
    "\n",
    "D3 = {\"name\": 'berlin',\n",
    "      \"city\": 'berlin'}\n",
    "print(D3.get(\"name\"))\n",
    "print(D3.get(\"city\"))\n",
    "\n",
    "D4 = {'a': [1,1],\n",
    "      'b': [1,1],\n",
    "      'c': [1,1]}\n",
    "print(D4)"
   ]
  },
  {
   "cell_type": "markdown",
   "metadata": {},
   "source": [
    "**Access Dictionary Items**"
   ]
  },
  {
   "cell_type": "code",
   "execution_count": null,
   "metadata": {},
   "outputs": [],
   "source": [
    "# Note: The order of key:value pairs is not always the same. In fact, if you write the same example on another PC, you may get a different result.\n",
    "#       In general, the order of items in a dictionary is unpredictable.\n",
    "# Instead, you use the keys to access the corresponding values."
   ]
  },
  {
   "cell_type": "code",
   "execution_count": 72,
   "metadata": {},
   "outputs": [
    {
     "name": "stdout",
     "output_type": "stream",
     "text": [
      "Bob\n",
      "123\n",
      "5\n",
      "Bob\n",
      "None\n"
     ]
    }
   ],
   "source": [
    "# Accessing dictionary items\n",
    "\n",
    "# M1:\n",
    "D = {'name': 'Bob',\n",
    "     'Id': 123,\n",
    "     'Join Date': 5}\n",
    "print(D['name'])\n",
    "print(D['Id'])\n",
    "print(D['Join Date'])\n",
    "# print(D['Join']) # KeyError\n",
    "\n",
    "# To avoid such exception, you can use the special dictionary get() method. \n",
    "# This method returns the value for key if key is in the dictionary, else None.\n",
    "# M2: using get() method\n",
    "print(D.get(\"name\")) \n",
    "print(D.get(\"Name\")) # No error it will returns None."
   ]
  },
  {
   "cell_type": "markdown",
   "metadata": {},
   "source": [
    "**Add or Update Dictionary Items**"
   ]
  },
  {
   "cell_type": "code",
   "execution_count": 3,
   "metadata": {},
   "outputs": [
    {
     "name": "stdout",
     "output_type": "stream",
     "text": [
      "{'name': 'raj', 'Ph.no': 9462871}\n",
      "{'name': 'rat', 'Ph.no': 1234556}\n",
      "{'name': 'rat', 'Ph.no': 1234556, 'City': 'vizag'}\n",
      "{'name': 'kumar', 'City': 'singipur', 'age': 26, 'Job role': 'Dev', 'Pin': 530030}\n",
      "{'City': 'singipur', 'age': 26, 'Job role': 'Dev', 'Pin': 530030}\n",
      "kumar\n",
      "{'age': 26, 'Job role': 'Dev', 'Pin': 530030}\n",
      "{'age': 26, 'Job role': 'Dev'}\n",
      "('Pin', 530030)\n",
      "{'age': 26, 'Job role': 'Dev'}\n",
      "{}\n",
      "keys: <class 'dict_keys'>\n",
      "values: <class 'dict_values'>\n",
      "items: <class 'dict_items'>\n",
      "keys: ['name', 'id', 'loc']\n",
      "values: ['sarath', 2345, 'kor']\n",
      "items: [('name', 'sarath'), ('id', 2345), ('loc', 'kor')]\n",
      "name\n",
      "id\n",
      "loc\n",
      "sarath\n",
      "2345\n",
      "kor\n",
      "('name', 'sarath')\n",
      "('id', 2345)\n",
      "('loc', 'kor')\n",
      "True\n",
      "False\n",
      "True\n",
      "False\n"
     ]
    }
   ],
   "source": [
    "D = {'name': \"raj\",\n",
    "     'Ph.no': 9462871}\n",
    "print(D)\n",
    "D['name'] = 'rat'\n",
    "D['Ph.no'] = 1234556\n",
    "print(D)\n",
    "\n",
    "# Add new field to Dictionary\n",
    "D['City'] = 'vizag'\n",
    "print(D)\n",
    "\n",
    "# Merging two Dictionaries\n",
    "D = {'name': 'sarath',\n",
    "     'City': 'New York'}\n",
    "D1 = {'name': 'kumar',\n",
    "      'City': 'singipur',\n",
    "      'Pin': 530030}\n",
    "D2 = {'age': 26,\n",
    "      'Job role': 'Dev'}\n",
    "D.update(D2)\n",
    "D.update(D1)\n",
    "print(D)\n",
    "\n",
    "# Remove Dictionary Items, if you need the value\n",
    "x = D.pop('name')\n",
    "print(D)\n",
    "print(x)\n",
    "\n",
    "# If you don't want the value\n",
    "del D['City']\n",
    "print(D)\n",
    "\n",
    "# Remove Last Inserted Item\n",
    "x = D.popitem()\n",
    "print(D)\n",
    "print(x)\n",
    "\n",
    "# Remove all Items use clear\n",
    "print(D)\n",
    "D.clear()\n",
    "print(D)\n",
    "\n",
    "# Get All Keys, Values and Key:Value Pairs. value pairs: keys(), values(), and items() these are dictionary methods.\n",
    "# All the three methods return iterable object\n",
    "D = {'name': 'sarath',\n",
    "     'id': 2345,\n",
    "     'loc': 'kor'}\n",
    "print(\"keys:\", type(D.keys()))\n",
    "print(\"values:\", type(D.values()))\n",
    "print(\"items:\", type(D.items()))\n",
    "print(\"keys:\", list(D.keys()))\n",
    "print(\"values:\",list(D.values()))\n",
    "print(\"items:\", list(D.items()))\n",
    "\n",
    "# Iterate Through a Dictionary\n",
    "\n",
    "for i in D.keys():\n",
    "    print(i)\n",
    "for i in D.values():\n",
    "    print(i)\n",
    "for i in D.items():\n",
    "    print(i)\n",
    "    \n",
    "# Check if a Key or Value Exists\n",
    "D = {'name': 'sarath',\n",
    "     'id': 1234,\n",
    "     'company': 'BXC'}\n",
    "\n",
    "# To check in keys\n",
    "print('name' in D)\n",
    "print('city' in D)\n",
    "\n",
    "# To check the values\n",
    "print('BXC' in D.values())\n",
    "print('c' in D.values())\n",
    "\n",
    "# NOTE: The in operator uses different algorithms for lists and dictionaries. For lists, it uses a search algorithm. \n",
    "# As the list gets longer, the search time gets longer. For dictionaries, Python uses a different algorithm called Hash Table, \n",
    "# which has a remarkable property: the operator takes the same amount of time, regardless of how many items are in the dictionary."
   ]
  },
  {
   "cell_type": "markdown",
   "metadata": {},
   "source": [
    "**Find Dictionary Length**"
   ]
  },
  {
   "cell_type": "code",
   "execution_count": 4,
   "metadata": {},
   "outputs": [
    {
     "name": "stdout",
     "output_type": "stream",
     "text": [
      "3\n"
     ]
    }
   ],
   "source": [
    "# To find how many key:value pairs a dictionary has, use len() method.\n",
    "\n",
    "D = {'name': 'sarath',\n",
    "     'Id': 1234,\n",
    "     'Company': 'BXD'\n",
    "     ''}\n",
    "print(len(D))"
   ]
  },
  {
   "cell_type": "markdown",
   "metadata": {},
   "source": [
    "**python Dictionary Methods**"
   ]
  },
  {
   "cell_type": "code",
   "execution_count": null,
   "metadata": {},
   "outputs": [],
   "source": [
    "clear()\tRemoves all items from the dictionary\n",
    "copy()\tReturns a shallow copy of the dictionary\n",
    "fromkeys()\tCreates a new dictionary with the specified keys and values\n",
    "get()\tReturns the value of the specified key\n",
    "items()\tReturns a list of key:value pair\n",
    "keys()\tReturns a list of all keys from dictionary\n",
    "pop()\tRemoves and returns single dictionary item with specified key.\n",
    "popitem()\tRemoves and returns last inserted key:value pair from the dictionary.\n",
    "setdefault()\tReturns the value of the specified key, if present. Else, inserts the key with a specified value.\n",
    "update()\tUpdates the dictionary with the specified key:value pairs\n",
    "values()\tReturns a list of all values from dictionary"
   ]
  },
  {
   "cell_type": "markdown",
   "metadata": {},
   "source": [
    "**Built-in Functions with Dictionary**"
   ]
  },
  {
   "cell_type": "code",
   "execution_count": null,
   "metadata": {},
   "outputs": [],
   "source": [
    "all()\tReturns True if all list items are true\n",
    "any()\tReturns True if any list item is true\n",
    "len()\tReturns the number of items in the list\n",
    "sorted()\tReturns a sorted list"
   ]
  },
  {
   "cell_type": "code",
   "execution_count": null,
   "metadata": {},
   "outputs": [],
   "source": []
  },
  {
   "cell_type": "markdown",
   "metadata": {},
   "source": [
    "# Python Nested Dictionary"
   ]
  },
  {
   "cell_type": "code",
   "execution_count": 2,
   "metadata": {},
   "outputs": [
    {
     "name": "stdout",
     "output_type": "stream",
     "text": [
      "11\n",
      "23\n"
     ]
    }
   ],
   "source": [
    "# A nested dictionary is a dictionary where each key can map to another dictionary rather than a simple value like an integer or string\n",
    "# This can be extended to multiple levels, creating a hierarchy of dictionaries\n",
    "nest_dict = {'key1': {'subkey11':11,'subkey12':12,'subkey13':13}, \n",
    "             'key2':{'subkey21':21, 'subkey22':22,'subkey23':23}}\n",
    "print(nest_dict['key1']['subkey11'])\n",
    "print(nest_dict['key2']['subkey23'])"
   ]
  },
  {
   "cell_type": "markdown",
   "metadata": {},
   "source": [
    "**NOTE: The dictionaries in the python are similar to the json file format**"
   ]
  },
  {
   "cell_type": "markdown",
   "metadata": {},
   "source": [
    "**use cases:**\n",
    "    **Employee Records:** Organize employees by department, with each employee’s details in a nested dictionary.\n",
    "    **Inventory Systems:** Track product categories, subcategories, and individual product details.\n",
    "    **JSON Data:** Nested dictionaries naturally map to the structure of JSON data, making them essential for working with APIs and web services."
   ]
  },
  {
   "cell_type": "markdown",
   "metadata": {},
   "source": [
    "**Creating a Nested Dictionary**"
   ]
  },
  {
   "cell_type": "code",
   "execution_count": 43,
   "metadata": {},
   "outputs": [
    {
     "name": "stdout",
     "output_type": "stream",
     "text": [
      "{'emp1': {'name1': 'Bob', 'Level1': 1}, 'emp2': {'name2': 'Jak', 'Level2': 2}, 'emp3': {'name3': 'Roy', 'Level3': 3}}\n",
      "{'emp1': {'name1': 'Bob', 'Level1': 1}, 'emp2': {'name2': 'Jak', 'Level2': 2}, 'emp3': {'name3': 'Roy', 'Level3': 3}}\n",
      "{'emp1': {'name1': 'Bob', 'Level1': 1}, 'emp2': {'name2': 'Jak', 'Level2': 2}, 'emp3': {'name3': 'Roy', 'Level3': 3}}\n",
      "{'emp1': {'name1': 'bob', 'Level1': 1}, 'emp2': {'name1': 'bob', 'Level1': 1}, 'emp3': {'name1': 'bob', 'Level1': 1}}\n",
      "1\n",
      "1\n",
      "1\n",
      "None\n",
      "{'emp1': {'name1': 'box', 'Level1': 1}, 'emp2': {'name1': 'box', 'Level1': 1}, 'emp3': {'name1': 'box', 'Level1': 1}}\n",
      "\n",
      "Before modification:  {'emp1': {'name1': 'Bob', 'Level': 1}, 'emp2': {'name1': 'Jon', 'Level': 2}, 'emp3': {'name1': 'Rom', 'Level': 3}}\n",
      "After modification:  {'emp1': {'name1': 'Tob', 'Level': 1}, 'emp2': {'name1': 'Jon', 'Level': 2, 'level': 4}, 'emp3': {'name1': 'Sri', 'Level': 3}}\n",
      "{'emp1': {'name1': 'Tob', 'Level': 1, 'salary': 500}, 'emp2': {'name1': 'Jon', 'Level': 2, 'level': 4, 'salary': 600}, 'emp3': {'name1': 'Sri', 'Level': 3, 'salary': 700}, 'emp4': {'name1': 'Sob', 'Level1': 4}, 'emp5': {'name1': 'Sar', 'Level1': 4, 'salary': 6000}}\n",
      "{'emp1': {'name': 'Sar', 'level': 1, 'salary': 50000}, 'emp2': {'name': 'Sam', 'level': 2, 'salary': 60000}}\n",
      "{'emp1': {'Salary': 30000}, 'emp2': {'Name': 'Tar', 'Emp_id': 2, 'salary': 35000}}\n"
     ]
    },
    {
     "ename": "TypeError",
     "evalue": "unsupported operand type(s) for +: 'dict' and 'dict'",
     "output_type": "error",
     "traceback": [
      "\u001b[1;31m---------------------------------------------------------------------------\u001b[0m",
      "\u001b[1;31mTypeError\u001b[0m                                 Traceback (most recent call last)",
      "\u001b[1;32m<ipython-input-43-fc516849cf03>\u001b[0m in \u001b[0;36m<module>\u001b[1;34m\u001b[0m\n\u001b[0;32m     82\u001b[0m \u001b[0mD1\u001b[0m\u001b[1;33m.\u001b[0m\u001b[0mupdate\u001b[0m\u001b[1;33m(\u001b[0m\u001b[0mD2\u001b[0m\u001b[1;33m)\u001b[0m\u001b[1;33m\u001b[0m\u001b[0m\n\u001b[0;32m     83\u001b[0m \u001b[0mprint\u001b[0m\u001b[1;33m(\u001b[0m\u001b[0mD1\u001b[0m\u001b[1;33m)\u001b[0m\u001b[1;33m\u001b[0m\u001b[0m\n\u001b[1;32m---> 84\u001b[1;33m \u001b[0mprint\u001b[0m\u001b[1;33m(\u001b[0m\u001b[0mD1\u001b[0m \u001b[1;33m+\u001b[0m \u001b[0mD2\u001b[0m\u001b[1;33m)\u001b[0m\u001b[1;33m\u001b[0m\u001b[0m\n\u001b[0m\u001b[0;32m     85\u001b[0m \u001b[1;31m# NOTE: In the above example the emp1 in D1 is replaced by emp1 of the D2 because of shallow copy.\u001b[0m\u001b[1;33m\u001b[0m\u001b[1;33m\u001b[0m\u001b[0m\n\u001b[0;32m     86\u001b[0m \u001b[1;33m\u001b[0m\u001b[0m\n",
      "\u001b[1;31mTypeError\u001b[0m: unsupported operand type(s) for +: 'dict' and 'dict'"
     ]
    }
   ],
   "source": [
    "# Direct creation of a dictionary\n",
    "D = {'emp1':{'name1': 'Bob', 'Level1': 1},\n",
    "     'emp2':{'name2': 'Jak', 'Level2': 2},\n",
    "     'emp3':{'name3': 'Roy', 'Level3': 3}\n",
    "    }\n",
    "print(D)\n",
    "\n",
    "# Using dict() constructor\n",
    "D  = dict(emp1 = {'name1': 'Bob', 'Level1': 1},\n",
    "          emp2 = {'name2': 'Jak', 'Level2': 2},\n",
    "          emp3 = {'name3': 'Roy', 'Level3': 3})\n",
    "print(D)\n",
    "\n",
    "# If you have seperated list of keys and value pairs we can combine them using zip and dict() constructor.\n",
    "keys = ['emp1','emp2','emp3']\n",
    "info = [{'name1': 'Bob', 'Level1': 1},\n",
    "        {'name2': 'Jak', 'Level2': 2},\n",
    "        {'name3': 'Roy', 'Level3': 3}]\n",
    "D = dict(zip(keys,info))\n",
    "print(D)\n",
    "\n",
    "# Creating a Nested Dictionary with Default Values\n",
    "keys = ['emp1', 'emp2', 'emp3']\n",
    "defaultvalues = {'name1':'bob', 'Level1': 1}\n",
    "\n",
    "D = dict.fromkeys(keys, defaultvalues)\n",
    "print(D)\n",
    "\n",
    "# Accessing Elements in a Nested Dictionary\n",
    "\n",
    "# You can access elements within a nested dictionary by specifying multiple keys in a chain, using square brackets []\n",
    "print(D['emp1']['Level1'])\n",
    "print(D['emp2']['Level1'])\n",
    "print(D['emp3']['Level1'])\n",
    "\n",
    "# KeyError: 'name'\n",
    "\n",
    "# print(D['emp1']['name']) \n",
    "# Attempting to access a key that does not exist within the nested dictionary will raise a KeyError\n",
    "# To avoid the key error grace fully we will use the get method to return None\n",
    "print(D['emp1'].get('Level'))\n",
    "\n",
    "D['emp2']['name1'] = 'box'\n",
    "print(D)\n",
    "# NOTE: They are not three separate dictionaries — just three references to the same defaultvalues dictionary. \n",
    "# So, if you modify the dictionary via one key, you’ll see the change reflected in all of them.\n",
    "# When we create a dictionary using fromkeys() all the values are points to the same value. That why when you modify one, it will be reflected in\n",
    "# objects also.\n",
    "\n",
    "# Modifying Elements in a Nested Dictionary\n",
    "\n",
    "D = {'emp1':{'name1': 'Bob', 'Level': 1},\n",
    "     'emp2':{'name1': 'Jon', 'Level': 2},\n",
    "     'emp3':{'name1': 'Rom', 'Level': 3}}\n",
    "print(\"\\nBefore modification: \", D)\n",
    "D['emp1']['name1'] = 'Tob'\n",
    "D['emp2']['level'] = 4\n",
    "D['emp3']['name1'] = 'Sri'\n",
    "print(\"After modification: \", D)\n",
    "\n",
    "# Adding Elements to a Nested Dictionary\n",
    "D['emp1']['salary'] = 500\n",
    "D['emp2']['salary'] = 600\n",
    "D['emp3']['salary'] = 700\n",
    "D['emp4'] = {'name1': 'Sob', 'Level1': 4}\n",
    "D['emp5'] = {}\n",
    "D['emp5']['name1'] = 'Sar'\n",
    "D['emp5']['Level1'] = 4\n",
    "D['emp5']['salary'] = 6000\n",
    "print(D)\n",
    "\n",
    "# Merging Nested Dictionaries\n",
    "# Shallow merge\n",
    "D1 = {'emp1':{'name': 'Sar', 'level': 1,'salary': 50000}}\n",
    "D2 = {'emp2':{'name': 'Sam', 'level': 2,'salary': 60000}}\n",
    "D1.update(D2)\n",
    "print(D1)\n",
    "\n",
    "D1 = {'emp1':{'Name': 'Sar', 'Emp_id': 1, 'salary': 20000}}\n",
    "D2 = {'emp1':{'Salary': 30000},\n",
    "      'emp2':{'Name': 'Tar', 'Emp_id': 2, 'salary': 35000}}\n",
    "D1.update(D2)\n",
    "print(D1)\n",
    "# print(D1 + D2) unsupported operation of dict addition.\n",
    "# NOTE: In the above example the emp1 in D1 is replaced by emp1 of the D2 because of shallow copy.\n",
    "\n",
    "# Deep merge\n",
    "\n",
    "# However, it is important to note that this is a shallow merge, meaning that if there are overlapping keys, \n",
    "# the values from the second dictionary will overwrite the values in the first\n",
    "import collections.abc\n",
    "\n",
    "def deep_update(source, updates):\n",
    "    for key, value in updates.items():\n",
    "        if isinstance(value, collections.abc.Mapping):\n",
    "            source[key] = deep_update(source.get(key, {}), value)\n",
    "        else:\n",
    "            source[key] = value\n",
    "    return source\n",
    "\n",
    "D4 = {'emp1': {'Name':'A', 'ph_no': 2214, 'Salary': 25000}}\n",
    "D5 = {'emp1': {'Salary': 50000},\n",
    "      'emp2': {'Name':'B', 'ph_no': 2523, 'Salary': 36000}}\n",
    "deep_update(D4, D5)\n",
    "print(\"Deep merged dict: \", D4)"
   ]
  },
  {
   "cell_type": "markdown",
   "metadata": {},
   "source": [
    "**Removing Nested Dictionary Elements**"
   ]
  },
  {
   "cell_type": "code",
   "execution_count": 21,
   "metadata": {},
   "outputs": [
    {
     "name": "stdout",
     "output_type": "stream",
     "text": [
      "{'name': 'sarath', 'salary': 25000}\n",
      "sarath\n",
      "{'salary': 25000}\n",
      "{'emp2': {'name': 'maverick', 'salary': 60000}, 'emp3': {'name': 'dragon', 'salary': 120001}}\n",
      "{'emp2': {'salary': 60000}, 'emp3': {'name': 'dragon', 'salary': 120001}}\n",
      "{'emp2': {'salary': 60000}, 'emp3': {'name': 'dragon'}}\n",
      "{'emp1': {'name': 'prasanth', 'salary': 25000}, 'emp2': {'name': 'santh', 'salary': 28000}}\n",
      "('emp2', {'name': 'santh', 'salary': 28000})\n",
      "{'emp1': {'name': 'prasanth', 'salary': 25000}}\n",
      "('emp1', {'name': 'prasanth', 'salary': 25000})\n",
      "{}\n"
     ]
    }
   ],
   "source": [
    "# Pop() it remove the key-value pair and it returns the value\n",
    "D = {'emp1':{'name': 'sarath', 'salary': 25000},\n",
    "     'emp2':{'name': 'maverick', 'salary':60000},\n",
    "     'emp3':{'name': 'dragon', 'salary': 120001}}\n",
    "x  = D.pop('emp1')\n",
    "print(x)\n",
    "y = x.pop('name')\n",
    "print(y)\n",
    "print(x)\n",
    "print(D)\n",
    "\n",
    "# If you don't need the value\n",
    "del D['emp2']['name']\n",
    "print(D)\n",
    "del D['emp3']['salary']\n",
    "print(D)\n",
    "\n",
    "# Remove the last inserted \n",
    "D = {'emp1':{'name': 'prasanth', 'salary': 25000}}\n",
    "D['emp2'] = {'name': 'santh', 'salary': 28000}\n",
    "print(D)\n",
    "l = D.popitem()\n",
    "print(l)\n",
    "print(D)\n",
    "y = D.popitem()\n",
    "print(y)\n",
    "print(D)"
   ]
  },
  {
   "cell_type": "markdown",
   "metadata": {},
   "source": [
    "**Iterating Through a Nested Dictionary**"
   ]
  },
  {
   "cell_type": "code",
   "execution_count": 25,
   "metadata": {},
   "outputs": [
    {
     "name": "stdout",
     "output_type": "stream",
     "text": [
      "name andhra\n",
      "no_dist 16\n",
      "state1 {'name': 'andhra', 'no_dist': 16}\n",
      "name karnataka\n",
      "no_dist 32\n",
      "state2 {'name': 'karnataka', 'no_dist': 32}\n",
      "name odisa\n",
      "no_dist 22\n",
      "state3 {'name': 'odisa', 'no_dist': 22}\n"
     ]
    }
   ],
   "source": [
    "D = {'state1': {'name': 'andhra', 'no_dist': 16},\n",
    "     'state2': {'name': 'karnataka', 'no_dist': 32},\n",
    "     'state3': {'name': 'odisa', 'no_dist': 22}}\n",
    "for key1, value1 in D.items():\n",
    "    if isinstance(value1, collections.abc.Mapping):\n",
    "        for key2, value2 in value1.items():\n",
    "            print(key2, value2)\n",
    "    print(key1, value1)"
   ]
  },
  {
   "cell_type": "markdown",
   "metadata": {},
   "source": [
    "**Checking for Existence of Keys**"
   ]
  },
  {
   "cell_type": "code",
   "execution_count": 32,
   "metadata": {},
   "outputs": [
    {
     "name": "stdout",
     "output_type": "stream",
     "text": [
      "True\n",
      "True\n",
      "False\n"
     ]
    }
   ],
   "source": [
    "D = {'country1': {'name': 'india', 'pop': 140, 'states': ('up','mp','ka')},\n",
    "     'country2': {'name': 'usa', 'pop': 44, 'states': ('wd','ny','tx')}}\n",
    "print('country1' in D)\n",
    "print('pop' in D['country2'])\n",
    "print('d' in D)"
   ]
  },
  {
   "cell_type": "code",
   "execution_count": null,
   "metadata": {},
   "outputs": [],
   "source": []
  },
  {
   "cell_type": "markdown",
   "metadata": {},
   "source": [
    "# Python Dictionary Comprehension"
   ]
  },
  {
   "cell_type": "markdown",
   "metadata": {},
   "source": [
    "**A comprehension is a compact way of creating a Python data structure from iterators**\n",
    "**It saves you having to write several lines of code, and keeps the readability of your code neat. With comprehensions, you can combine loops and conditional tests with a less verbose syntax.** "
   ]
  },
  {
   "cell_type": "code",
   "execution_count": 15,
   "metadata": {},
   "outputs": [
    {
     "name": "stdout",
     "output_type": "stream",
     "text": [
      "{1: 1, 2: 4, 3: 9, 4: 16, 5: 25, 6: 36, 7: 49, 8: 64, 9: 81}\n",
      "{1: 1, 2: 4, 3: 9, 4: 16, 5: 25, 6: 36, 7: 49, 8: 64}\n",
      "Set with tuples:  {(6, 36), (8, 64), (4, 16), (5, 25), (3, 9), (2, 4), (1, 1), (7, 49)}\n",
      "set of tuples to dict:  {6: 36, 8: 64, 4: 16, 5: 25, 3: 9, 2: 4, 1: 1, 7: 49}\n",
      "tupels with list:  <generator object <genexpr> at 0x000002312B696F68>\n",
      "tuple to dict:  {1: 1, 2: 4, 3: 9, 4: 16, 5: 25, 6: 36, 7: 49, 8: 64}\n",
      "list with tupels:  [(1, 1), (2, 4), (3, 9), (4, 16), (5, 25), (6, 36), (7, 49), (8, 64)]\n",
      "list to dict:  {1: 1, 2: 4, 3: 9, 4: 16, 5: 25, 6: 36, 7: 49, 8: 64}\n"
     ]
    }
   ],
   "source": [
    "# Basic Example\n",
    "# suppose wanted to create a dictionary of value and its squire.\n",
    "D  = {}\n",
    "D[1] = 1\n",
    "D[2] = 4\n",
    "D[3] = 9\n",
    "D[4] = 16\n",
    "D[5] = 25\n",
    "D[6] = 36\n",
    "D[7] = 49\n",
    "D[8] = 64\n",
    "D[9] = 81\n",
    "print(D)\n",
    "\n",
    "# using range function\n",
    "D = {}\n",
    "for i in range(1,9):\n",
    "    D[i] = i * i\n",
    "print(D)\n",
    "\n",
    "# Using dictionary comperhension\n",
    "D =  {(i, i**2) for i in range(1,9)}\n",
    "print(\"Set with tuples: \", D)\n",
    "D = dict(D)\n",
    "print(\"set of tuples to dict: \",D)\n",
    "\n",
    "D = ([i, i**2] for i in range(1,9))\n",
    "print(\"tupels with list: \", D)\n",
    "D = dict(D)\n",
    "print(\"tuple to dict: \", D)\n",
    "\n",
    "D = [(i,i**2) for i in range(1,9)]\n",
    "print(\"list with tupels: \", D)\n",
    "D = dict(D)\n",
    "print(\"list to dict: \", D)"
   ]
  },
  {
   "cell_type": "markdown",
   "metadata": {},
   "source": [
    "**Pythonic way of creating the above dictionary by using dictionary comprehension**\n"
   ]
  },
  {
   "cell_type": "markdown",
   "metadata": {},
   "source": [
    "**{key:value for var in iterable}**\n",
    "\n",
    "The key and value can be of any expression, var takes one value at time from the iterable items."
   ]
  },
  {
   "cell_type": "code",
   "execution_count": 22,
   "metadata": {},
   "outputs": [
    {
     "name": "stdout",
     "output_type": "stream",
     "text": [
      "{1: 1, 2: 4, 3: 9, 4: 16, 5: 25, 6: 36, 7: 49, 8: 64}\n",
      "{'A': 'AAA', 'B': 'BBB', 'C': 'CCC'}\n",
      "{'red': 'RED', 'green': 'GREEN', 'blue': 'BLUE'}\n"
     ]
    }
   ],
   "source": [
    "D = {i:i**2 for i in range(1,9)} # Neat and clean code\n",
    "print(D)\n",
    "# first part: i:i**2 is different which is collects the key and value\n",
    "# sencond part : same as for loop\n",
    "\n",
    "# Dictionary comprehensions can iterate over any type of iterable such as lists, strings, files, ranges, and anything else \n",
    "# that supports the iteration protocol.\n",
    "\n",
    "# EX.1:\n",
    "D = {c:c*3 for c in \"ABC\"}\n",
    "print(D)\n",
    "\n",
    "# EX.2\n",
    "L = ['ReD', 'GrEen', 'BlUe']\n",
    "D = {c.lower():c.upper() for c in L}\n",
    "print(D)"
   ]
  },
  {
   "cell_type": "markdown",
   "metadata": {},
   "source": [
    "**Extracting a Subset of a Dictionary**"
   ]
  },
  {
   "cell_type": "code",
   "execution_count": 23,
   "metadata": {},
   "outputs": [
    {
     "name": "stdout",
     "output_type": "stream",
     "text": [
      "{0: 'A', 2: 'C', 3: 'D'}\n"
     ]
    }
   ],
   "source": [
    "D  ={0:'A', 1:'B', 2:'C', 3:'D', 4:'E', 5:'F', 6:'G', 7:'H', 8:'I'}\n",
    "selectedkeys = {0,2,3}\n",
    "\n",
    "S = {key:D[key] for key in selectedkeys}\n",
    "print(S)"
   ]
  },
  {
   "cell_type": "markdown",
   "metadata": {},
   "source": [
    "**Filter Dictionary Contents**"
   ]
  },
  {
   "cell_type": "code",
   "execution_count": 26,
   "metadata": {},
   "outputs": [
    {
     "name": "stdout",
     "output_type": "stream",
     "text": [
      "{1, 4, 5}\n"
     ]
    }
   ],
   "source": [
    "C  = {1,2,3,4,5} - {2,3} # set1 -set2 (intersection operation)\n",
    "print(C)"
   ]
  },
  {
   "cell_type": "code",
   "execution_count": 24,
   "metadata": {},
   "outputs": [
    {
     "name": "stdout",
     "output_type": "stream",
     "text": [
      "{1: 'B', 2: 'C', 4: 'E', 5: 'F', 7: 'H', 8: 'I', 9: 'J'}\n"
     ]
    }
   ],
   "source": [
    "D = {0:'A', 1:'B', 2:'C', 3:'D', 4:'E', 5:'F', 6:'G', 7:'H', 8:'I', 9:'J'}\n",
    "removekeys = {0,3,6}\n",
    "S = {key:D[key] for key in D.keys()-removekeys}\n",
    "print(S)"
   ]
  },
  {
   "cell_type": "markdown",
   "metadata": {},
   "source": [
    "**Invert Mapping / Reverse lookup**"
   ]
  },
  {
   "cell_type": "code",
   "execution_count": 27,
   "metadata": {},
   "outputs": [
    {
     "name": "stdout",
     "output_type": "stream",
     "text": [
      "{0: 'red', 1: 'green', 2: 'blue'}\n",
      "{'red': 0, 'green': 1, 'blue': 2}\n"
     ]
    }
   ],
   "source": [
    "D = {0:'red', 1:'green', 2:'blue'}\n",
    "print(D)\n",
    "IM = {D[key]:key for key in D}\n",
    "print(IM)"
   ]
  },
  {
   "cell_type": "markdown",
   "metadata": {},
   "source": [
    "**Dictionary Comprehension with Enumerate**"
   ]
  },
  {
   "cell_type": "markdown",
   "metadata": {},
   "source": [
    "**Difference between Enumerate and iterate**\n",
    "\n",
    "iterate\tJust the element\tWhen you only need the values.\n",
    "\n",
    "enumerate\tIndex and element\tWhen you need both index and value.\n",
    "\n",
    "Support enumerate over iterations (e.g., list, tuple, str, set, dict, generators, etc.).\n",
    "\n",
    "Unordered iterables (like set and dict), with this enumerate works but the order is not guareented."
   ]
  },
  {
   "cell_type": "code",
   "execution_count": 28,
   "metadata": {},
   "outputs": [
    {
     "name": "stdout",
     "output_type": "stream",
     "text": [
      "{0: 'red', 1: 'green', 2: 'blue'}\n"
     ]
    }
   ],
   "source": [
    "L = ['red', 'green', 'blue']\n",
    "D = {k:v for k,v in enumerate(L)}\n",
    "print(D)"
   ]
  },
  {
   "cell_type": "code",
   "execution_count": 30,
   "metadata": {},
   "outputs": [
    {
     "name": "stdout",
     "output_type": "stream",
     "text": [
      "{0: 'Hello\\n', 1: 'World\\n', 2: 'Stop fighting each other'}\n"
     ]
    }
   ],
   "source": [
    "# The enumeration is very usefull while dealing with files\n",
    "D  = {k:line for k,line in enumerate(open(\"untitled.txt\"))}\n",
    "print(D)"
   ]
  },
  {
   "cell_type": "markdown",
   "metadata": {},
   "source": [
    "**Initialize Dictionary with Comprehension**"
   ]
  },
  {
   "cell_type": "code",
   "execution_count": 43,
   "metadata": {},
   "outputs": [
    {
     "name": "stdout",
     "output_type": "stream",
     "text": [
      "{'red': 0, 'green': 0, 'blue': 0}\n",
      "{'red': 0, 'green': 0, 'blue': 0}\n",
      "{1: 'r', 2: 'g', 3: 'b'}\n",
      "{1: 'r', 2: 'g', 3: 'b'}\n"
     ]
    }
   ],
   "source": [
    "Keys = ['red', 'green', 'blue']\n",
    "D = {k:0 for k in Keys}\n",
    "print(D)\n",
    "\n",
    "D = dict.fromkeys(Keys, 0) # above one this are same result they will create.\n",
    "print(D)\n",
    "\n",
    "# using zip and comprehension\n",
    "keys=[1,2,3]\n",
    "values=['r', 'g', 'b']\n",
    "D = {k:v for (k,v) in zip(keys,values)}\n",
    "print(D)\n",
    "\n",
    "# the above is same as \n",
    "D = dict(zip(keys,values))\n",
    "print(D)"
   ]
  },
  {
   "cell_type": "markdown",
   "metadata": {},
   "source": [
    "**Dictionary Comprehension with if Clause**"
   ]
  },
  {
   "cell_type": "markdown",
   "metadata": {},
   "source": [
    "{Key expression:value expression for val in iterable if_clause}"
   ]
  },
  {
   "cell_type": "code",
   "execution_count": 60,
   "metadata": {},
   "outputs": [
    {
     "name": "stdout",
     "output_type": "stream",
     "text": [
      "{'name': 'sar', 'id': 123, 'com': 'Bosch'}\n",
      "{'com': 'Bosch'}\n",
      "{'name': 'sar', 'id': 123}\n",
      "{0: 0, 2: 4, 4: 16}\n",
      "{0: 0, 2: 4, 4: 16}\n",
      "{0: 0, 2: 4, 4: 16}\n"
     ]
    }
   ],
   "source": [
    "# EX.1\n",
    "D = {'name': 'sar', 'id':123, 'com': 'Bosch'}\n",
    "C = {k:v for (k,v) in D.items() if k=='com'}\n",
    "E = {k:v for (k,v) in D.items() if k!='com'}\n",
    "print(D)\n",
    "print(C)\n",
    "print(E)\n",
    "\n",
    "# EX.2\n",
    "D = {x:x**2 for x in range(6) if x%2 == 0}\n",
    "print(D)\n",
    "# Above code is converted to this\n",
    "D = {}\n",
    "for x in range(6):\n",
    "    if x%2 ==0:\n",
    "        D[x] = x**2\n",
    "print(D)\n",
    "D = {x:x**2 for x in range(0,6,2)}\n",
    "print(D)"
   ]
  },
  {
   "cell_type": "markdown",
   "metadata": {},
   "source": [
    "**Nested Dictionary Comprehension**"
   ]
  },
  {
   "cell_type": "markdown",
   "metadata": {},
   "source": [
    "**{key:{dictionary comprehension}for var in iterable}**"
   ]
  },
  {
   "cell_type": "code",
   "execution_count": 65,
   "metadata": {},
   "outputs": [
    {
     "name": "stdout",
     "output_type": "stream",
     "text": [
      "{(0, 0): 0, (0, 1): 1, (1, 0): 1, (1, 1): 2}\n",
      "{(0, 0): 0, (0, 1): 1, (1, 0): 1, (1, 1): 2}\n"
     ]
    }
   ],
   "source": [
    "D = {(k,v):k+v for k in range(2) for v in range(2)}\n",
    "print(D)\n",
    "\n",
    "D = {}\n",
    "for k in range(2):\n",
    "    for v in range(2):\n",
    "        D[(k,v)] = k+v\n",
    "print(D)"
   ]
  },
  {
   "cell_type": "code",
   "execution_count": null,
   "metadata": {},
   "outputs": [],
   "source": []
  },
  {
   "cell_type": "markdown",
   "metadata": {},
   "source": [
    "# Python String"
   ]
  },
  {
   "cell_type": "code",
   "execution_count": 84,
   "metadata": {},
   "outputs": [
    {
     "name": "stdout",
     "output_type": "stream",
     "text": [
      "Hello, World Hello, World\n",
      "This company name is S, it is located at X place in the Y location.\n",
      "The people in this location are very nice to each other\n",
      "Hello world, the top country is the usa, china, russia, europe \n",
      "there are other place in the world which looks very beatifull compared to any other country\n",
      " 10\n",
      "<class 'int'>\n",
      "<class 'str'>\n",
      "10\n",
      "42\n",
      "(2+2j)\n",
      "[1, 2]\n",
      "[1, 2]\n"
     ]
    }
   ],
   "source": [
    "# Create a String\n",
    "S  = 'Hello, World'\n",
    "S  = \"Hello, World\"\n",
    "print(S, S)\n",
    "\n",
    "# Multi line string\n",
    "# You can create a multiline string using triple-quotes: \"\"\"  \"\"\" or '''  '''.\n",
    "\n",
    "# S = \"I am sarath I am from odisa. My village name is singipur.\n",
    "# I like bird watching and nature lover\"\n",
    "S  = \"\"\"This company name is S, it is located at X place in the Y location.\n",
    "The people in this location are very nice to each other\"\"\"\n",
    "S1 = '''Hello world, the top country is the usa, china, russia, europe \n",
    "there are other place in the world which looks very beatifull compared to any other country'''\n",
    "print(S)\n",
    "print(S1)\n",
    "\n",
    "# The str() Constructor to covert any type to string type.\n",
    "t =  10\n",
    "print(\"\",t)\n",
    "print(type(t))\n",
    "print(type(str(t)))\n",
    "print(str(t))\n",
    "\n",
    "t = str(42)\n",
    "print(t)\n",
    "\n",
    "t = str(2+2j)\n",
    "print(t)\n",
    "\n",
    "t = str([1,2])\n",
    "print([1,2])\n",
    "print(t)"
   ]
  },
  {
   "cell_type": "markdown",
   "metadata": {},
   "source": [
    "**Access Characters by Index**"
   ]
  },
  {
   "cell_type": "code",
   "execution_count": 91,
   "metadata": {},
   "outputs": [
    {
     "name": "stdout",
     "output_type": "stream",
     "text": [
      "h\n",
      "e\n",
      "l\n",
      "l\n",
      "o\n",
      " \n",
      "w\n",
      "o\n",
      "r\n",
      "l\n",
      "d\n",
      "0 : d\n",
      "1 : l\n",
      "2 : r\n",
      "3 : o\n",
      "4 : w\n",
      "5 :  \n",
      "6 : o\n",
      "7 : l\n",
      "8 : l\n",
      "9 : e\n",
      "10 : h\n"
     ]
    }
   ],
   "source": [
    "s = \"hello world\"\n",
    "for i, v in enumerate(s):\n",
    "    print(s[i])\n",
    "    \n",
    "for i, v in enumerate(s):\n",
    "    print(i,':',s[-1*(i+1)])"
   ]
  },
  {
   "cell_type": "markdown",
   "metadata": {},
   "source": [
    "**Slicing a String**"
   ]
  },
  {
   "cell_type": "code",
   "execution_count": 100,
   "metadata": {},
   "outputs": [
    {
     "name": "stdout",
     "output_type": "stream",
     "text": [
      "Hel\n",
      " Wo\n",
      "ello Wor\n",
      "\n",
      "el o\n"
     ]
    }
   ],
   "source": [
    "S = \"Hello World\"\n",
    "print(S[0:3])\n",
    "print(S[5:8])\n",
    "print(S[1:-2])\n",
    "print(S[-2:1])\n",
    "print(S[1:8:2])"
   ]
  },
  {
   "cell_type": "markdown",
   "metadata": {},
   "source": [
    "**Modify a String**"
   ]
  },
  {
   "cell_type": "code",
   "execution_count": 104,
   "metadata": {},
   "outputs": [
    {
     "name": "stdout",
     "output_type": "stream",
     "text": [
      "Fello World\n"
     ]
    }
   ],
   "source": [
    "S = 'Hello World'\n",
    "# S[0] = 'D' TypeError: 'str' object does not support item assignment\n",
    "# NOTE: The reason for the error is that the strings are unchangeable (immutable) and \n",
    "#     because of which you cannot change the existing string\n",
    "S_new = 'F' + S[1:]\n",
    "print(S_new)"
   ]
  },
  {
   "cell_type": "markdown",
   "metadata": {},
   "source": [
    "**String Concatenation**"
   ]
  },
  {
   "cell_type": "code",
   "execution_count": 114,
   "metadata": {},
   "outputs": [
    {
     "name": "stdout",
     "output_type": "stream",
     "text": [
      "Hello, World\n",
      "Hello, World\n",
      "Hello, World\n"
     ]
    }
   ],
   "source": [
    "S1 = 'Hello,'\n",
    "S2 = ' World'\n",
    "S = S1 + S2\n",
    "print(S)\n",
    "\n",
    "S = 'Hello,' + ' World'\n",
    "print(S)\n",
    "\n",
    "S = 'Hello,'\n",
    "S += ' World'\n",
    "print(S)"
   ]
  },
  {
   "cell_type": "markdown",
   "metadata": {},
   "source": [
    "**In Python, two or more strings next to each other are automatically concatenated, known as Implicit concatenation.**"
   ]
  },
  {
   "cell_type": "code",
   "execution_count": 118,
   "metadata": {},
   "outputs": [
    {
     "name": "stdout",
     "output_type": "stream",
     "text": [
      "Hello, World from India\n"
     ]
    }
   ],
   "source": [
    "S  = 'Hello,' ' World' ' from India'\n",
    "print(S)"
   ]
  },
  {
   "cell_type": "code",
   "execution_count": 119,
   "metadata": {},
   "outputs": [
    {
     "name": "stdout",
     "output_type": "stream",
     "text": [
      "Put strings in parenthesis to join them together\n"
     ]
    }
   ],
   "source": [
    "S = ('Put strings in parenthesis' ' to join them together')\n",
    "print(S)"
   ]
  },
  {
   "cell_type": "code",
   "execution_count": 123,
   "metadata": {},
   "outputs": [
    {
     "name": "stdout",
     "output_type": "stream",
     "text": [
      "____________________\n"
     ]
    }
   ],
   "source": [
    "# You can replicate substrings in a string using the replication operator *\n",
    "S = '___________' # this hard way\n",
    "S = '_'*20        # simplest way\n",
    "print(S)"
   ]
  },
  {
   "cell_type": "markdown",
   "metadata": {},
   "source": [
    "**Finding the string length**"
   ]
  },
  {
   "cell_type": "code",
   "execution_count": 124,
   "metadata": {},
   "outputs": [
    {
     "name": "stdout",
     "output_type": "stream",
     "text": [
      "26\n"
     ]
    }
   ],
   "source": [
    "S = \"World is very fassionating\"\n",
    "print(len(S))"
   ]
  },
  {
   "cell_type": "markdown",
   "metadata": {},
   "source": [
    "**Replace Text Within a String**"
   ]
  },
  {
   "cell_type": "code",
   "execution_count": 127,
   "metadata": {},
   "outputs": [
    {
     "name": "stdout",
     "output_type": "stream",
     "text": [
      "The Nature has lots of things that are very interesting and beautiful\n",
      "The World has lots of things that are very interesting and beautiful\n"
     ]
    }
   ],
   "source": [
    "S = \"The Nature has lots of things that are very interesting and beautiful\"\n",
    "print(S)\n",
    "x = S.replace('Nature', 'World')\n",
    "print(x)"
   ]
  },
  {
   "cell_type": "markdown",
   "metadata": {},
   "source": [
    "**Split and Join a String**"
   ]
  },
  {
   "cell_type": "code",
   "execution_count": 137,
   "metadata": {},
   "outputs": [
    {
     "name": "stdout",
     "output_type": "stream",
     "text": [
      "Before spliting:  bosch@gmail.com\n",
      "After spliting:  bosch gmail.com\n",
      "After joining again:  bosch@gmail.com\n"
     ]
    }
   ],
   "source": [
    "S = 'bosch@gmail.com'\n",
    "print(\"Before spliting: \",S)\n",
    "S1 = S.split('@')\n",
    "print(\"After spliting: \",S1[0], S1[1])\n",
    "S2 = '@'.join(S1)\n",
    "print(\"After joining again: \", S2)"
   ]
  },
  {
   "cell_type": "markdown",
   "metadata": {},
   "source": [
    "**String Case Conversion**"
   ]
  },
  {
   "cell_type": "code",
   "execution_count": 146,
   "metadata": {},
   "outputs": [
    {
     "name": "stdout",
     "output_type": "stream",
     "text": [
      "Lower:  sarath kumar bobbili \n",
      "Upper:  SARATH KUMAR BOBBILI\n",
      "Swap case:  sARATH kUMAR BOBBILI\n",
      "Capitalize:  Sarath kumar bobbili\n",
      "title:  Hello World\n"
     ]
    }
   ],
   "source": [
    "S = \"Sarath Kumar bobbili\"\n",
    "L = S.lower()\n",
    "U = S.upper()\n",
    "print('Lower: ',L,'\\nUpper: ',U)\n",
    "\n",
    "print(\"Swap case: \", S.swapcase())\n",
    "print(\"Capitalize: \", S.capitalize())\n",
    "S = \"hello world\"\n",
    "print(\"title: \", S.title())"
   ]
  },
  {
   "cell_type": "markdown",
   "metadata": {},
   "source": [
    "**Check if Substring Contains in a String**"
   ]
  },
  {
   "cell_type": "code",
   "execution_count": 157,
   "metadata": {},
   "outputs": [
    {
     "name": "stdout",
     "output_type": "stream",
     "text": [
      "True\n",
      "False\n",
      "True\n",
      "am from other universe\n"
     ]
    }
   ],
   "source": [
    "S = \"Hello world I am from other universe\"\n",
    "print(\"Hello\" in S)\n",
    "print(\"in\" in S)\n",
    "print(\"from\" in S)\n",
    "\n",
    "x = S.find(\"am\")\n",
    "print(S[x:])"
   ]
  },
  {
   "cell_type": "markdown",
   "metadata": {},
   "source": [
    "**Iterate Through a String**"
   ]
  },
  {
   "cell_type": "code",
   "execution_count": 163,
   "metadata": {},
   "outputs": [
    {
     "name": "stdout",
     "output_type": "stream",
     "text": [
      "H e l l o ,   W o r l d "
     ]
    }
   ],
   "source": [
    "S = \"Hello, World\"\n",
    "for letter in S:\n",
    "    print(letter, end=' ')"
   ]
  },
  {
   "cell_type": "markdown",
   "metadata": {},
   "source": [
    "**Python Escape Sequence: There are some escape characters that use in print function but they are not printed they will escape**"
   ]
  },
  {
   "cell_type": "code",
   "execution_count": 172,
   "metadata": {},
   "outputs": [
    {
     "name": "stdout",
     "output_type": "stream",
     "text": [
      "I what 'WoW!'\n",
      "Bob told me, \"Sam said, 'This won't work.'\"\n",
      "First line.\n",
      "\tSecond line.\n"
     ]
    }
   ],
   "source": [
    "# You can use quotes inside a string, as long as they don’t match the quotes surrounding the string.\n",
    "S  = \"Hello 'World'\"\n",
    "S  = \"I said wow!\"\n",
    "S  = \"I what 'WoW!'\"\n",
    "print(S)\n",
    "S1 = \"Bob told me, \\\"Sam said, 'This won't work.'\\\"\"\n",
    "print(S1)\n",
    "S = str('First line.\\n\\tSecond line.')\n",
    "print(S)"
   ]
  },
  {
   "cell_type": "markdown",
   "metadata": {},
   "source": [
    "\\newline\tBackslash and newline ignored\n",
    "\\\\\tBackslash (\\)\n",
    "\\’\tSingle quote (‘)\n",
    "\\”\tDouble quote (“)\n",
    "\\a\tASCII Bell (BEL)\n",
    "\\b\tASCII Backspace (BS)\n",
    "\\f\tASCII Formfeed (FF)\n",
    "\\n\tASCII Linefeed (LF)\n",
    "\\r\tASCII Carriage Return (CR)\n",
    "\\t\tASCII Horizontal Tab (TAB)\n",
    "\\v\tASCII Vertical Tab (VT)\n",
    "\\ooo\tCharacter with octal value ooo\n",
    "\\xhh\tCharacter with hex value hh"
   ]
  },
  {
   "cell_type": "markdown",
   "metadata": {},
   "source": [
    "**String Formatting/String Interpolation**"
   ]
  },
  {
   "cell_type": "code",
   "execution_count": 175,
   "metadata": {},
   "outputs": [
    {
     "name": "stdout",
     "output_type": "stream",
     "text": [
      "Bob is 25 years old.\n",
      "Bob is 25 years old.\n",
      "Bob is 25 years old.\n"
     ]
    }
   ],
   "source": [
    "# printf-style % string formatting\n",
    "S = '%s is %d years old.' % ('Bob', 25)\n",
    "print(S)\n",
    "\n",
    "# format() Built-in Method\n",
    "S = '{1} is {0} years old.'.format(25,'Bob')\n",
    "print(S)\n",
    "\n",
    "# f-String Formatter\n",
    "name = 'Bob'\n",
    "age = 25\n",
    "S = f\"{name} is {age} years old.\"\n",
    "print(S)"
   ]
  },
  {
   "cell_type": "markdown",
   "metadata": {},
   "source": [
    "**Python String Methods**"
   ]
  },
  {
   "cell_type": "code",
   "execution_count": null,
   "metadata": {},
   "outputs": [],
   "source": [
    "Method\tDescription\n",
    "capitalize()\tCapitalizes first character of the string\n",
    "casefold()\tReturns a casefolded string\n",
    "center()\tReturns center-aligned string\n",
    "count()\tCounts occurrences of a substring in a string\n",
    "encode()\tReturn an encoded version of the string as a bytes object\n",
    "endswith()\tDetermines whether the string ends with a given suffix\n",
    "expandtabs()\tReplaces tabs with spaces\n",
    "find()\tSearches the string for a given substring\n",
    "format()\tPerform a string formatting operation\n",
    "format_map()\tPerform a string formatting operation\n",
    "index()\tSearches the string for a given substring\n",
    "isalnum()\tDetermines whether the string contains alphanumeric characters\n",
    "isalpha()\tDetermines whether the string contains alphabetic characters\n",
    "isdecimal()\tDetermines whether the string contains decimal characters\n",
    "isdigit()\tDetermines whether the string contains digits\n",
    "isidentifier()\tDetermines whether the string is a valid Python identifier\n",
    "islower()\tDetermines whether string contains lowercase characters\n",
    "isnumeric()\tDetermines whether the string contains numeric characters\n",
    "isprintable()\tDetermines whether string contains printable characters\n",
    "isspace()\tDetermines whether the string contains only whitespace characters\n",
    "istitle()\tDetermines whether the string is a titlecased string\n",
    "isupper()\tDetermines whether string contains uppercase characters\n",
    "join()\tJoins all items in an iterable into a single string\n",
    "ljust()\tReturns left-aligned string\n",
    "lower()\tConverts all characters in a string to lowercase\n",
    "lstrip()\tStrips characters from the left end of a string\n",
    "maketrans()\tReturns a translation table to be used in translations\n",
    "partition()\tDivides a string based on a separator\n",
    "replace()\tReplaces occurrences of a substring within a string\n",
    "rfind()\tSearches the string for a given substring\n",
    "rindex()\tSearches the string for a given substring\n",
    "rjust()\tReturns right-aligned string\n",
    "rpartition()\tDivides a string based on a separator\n",
    "rsplit()\tSplits a string into a list of substrings\n",
    "rstrip()\tStrips characters from the right end of a string\n",
    "split()\tSplits a string into a list of substrings\n",
    "splitlines()\tSplits the string at line breaks\n",
    "startswith()\tDetermines whether the string starts with a given substring\n",
    "strip()\tStrips leading and trailing characters\n",
    "swapcase()\tSwaps case of all characters in a string\n",
    "title()\tConverts string to “Title Case”\n",
    "translate()\tReturns a translated string\n",
    "upper()\tConverts all characters in a string to uppercase\n",
    "zfill()\tPads a string on the le with zeros"
   ]
  },
  {
   "cell_type": "markdown",
   "metadata": {},
   "source": [
    "**Python String Slicing**"
   ]
  },
  {
   "cell_type": "markdown",
   "metadata": {},
   "source": [
    "*Slicing a String*"
   ]
  },
  {
   "cell_type": "markdown",
   "metadata": {},
   "source": [
    "**S[ start : stop : step]**"
   ]
  },
  {
   "cell_type": "code",
   "execution_count": 203,
   "metadata": {},
   "outputs": [
    {
     "name": "stdout",
     "output_type": "stream",
     "text": [
      "CD\n",
      "ABCDEFGHIJKL\n",
      "CDEFG\n",
      "ABCDEFGHIJK\n",
      "BCDEFGHIJK\n",
      "L\n",
      "ACEGI\n",
      "ADG\n",
      "JIHGFEDC\n",
      "ABCDEFGHI\n",
      "ABCDEFGHIJKL\n",
      "LKJIHGFEDCB\n",
      "LKJIHGFEDCBA\n"
     ]
    }
   ],
   "source": [
    "# Basic Example\n",
    "S = \"ABCDEFGHIJKL\"\n",
    "print(S[2:4])\n",
    "print(S[0:len(S)])\n",
    "print(S[2:7]) # Note that the item at index 7 'H' is not included.\n",
    "\n",
    "# Slice with Negative Indices\n",
    "print(S[-1*len(S):-1])\n",
    "\n",
    "# Slice with Positive & Negative Indices\n",
    "print(S[1:-1])\n",
    "print(S[-1]) # this is last index but the -1 is not included when range is mentioned\n",
    "\n",
    "# Specify Step of the Slicing\n",
    "print(S[0:9:2])\n",
    "print(S[0:9:3])\n",
    "\n",
    "# Specify Nagetive Step size to reverse the characters\n",
    "print(S[9:1:-1])\n",
    "\n",
    "# Slice at Beginning & End\n",
    "print(S[:9])\n",
    "print(S[0:])\n",
    "\n",
    "# Reverse a String\n",
    "print(S[len(S):0:-1])\n",
    "print(S[::-1])"
   ]
  },
  {
   "cell_type": "code",
   "execution_count": null,
   "metadata": {},
   "outputs": [],
   "source": []
  },
  {
   "cell_type": "markdown",
   "metadata": {},
   "source": [
    "# Python if else elif Statement"
   ]
  },
  {
   "cell_type": "markdown",
   "metadata": {},
   "source": [
    "if Statement: use it to execute a block of code, if a specified condition is true\n",
    "else Statement: use it to execute a block of code, if the same condition is false\n",
    "elif (else if) Statement: use it to specify a new condition to test, if the first condition is false"
   ]
  },
  {
   "cell_type": "markdown",
   "metadata": {},
   "source": [
    "if condition:\n",
    "    statement1\n",
    "    statement2\n",
    "    ........\n",
    "    ........\n",
    "following statements\n",
    "\n",
    "Any Conditional statement that is evaluted to true or false"
   ]
  },
  {
   "cell_type": "code",
   "execution_count": 206,
   "metadata": {},
   "outputs": [
    {
     "name": "stdout",
     "output_type": "stream",
     "text": [
      "7\n"
     ]
    }
   ],
   "source": [
    "x, y = 7, 5\n",
    "if x < y:\n",
    "    print(x)\n",
    "else:\n",
    "    print(x)"
   ]
  },
  {
   "cell_type": "markdown",
   "metadata": {},
   "source": [
    "Operator\tMeaning\tExample\n",
    "==\tEquals\tif x == y\n",
    "!=\tNot equals\tif x != y\n",
    ">\tGreater than\tif x > y\n",
    ">=\tGreater than or equal to\tif x >= y\n",
    "<\tLess than\tif x < y\n",
    "<=\tLess than or equal to\tif x <= y"
   ]
  },
  {
   "cell_type": "code",
   "execution_count": 209,
   "metadata": {},
   "outputs": [
    {
     "name": "stdout",
     "output_type": "stream",
     "text": [
      "True\n",
      "True\n",
      "True\n"
     ]
    }
   ],
   "source": [
    "# In Python, any non-zero value or nonempty container is considered TRUE, whereas Zero, None, and empty container is considered FALSE.\n",
    "# Any non-zero value\n",
    "if -3:\n",
    "    print(True)\n",
    "\n",
    "# mathematical expression\n",
    "x, y = 2, 4\n",
    "if x+y:\n",
    "    print(True)\n",
    "\n",
    "# non-empty container\n",
    "L = ['green', 'red']\n",
    "if L:\n",
    "    print(True)"
   ]
  },
  {
   "cell_type": "markdown",
   "metadata": {},
   "source": [
    "**Significance of Indentation**"
   ]
  },
  {
   "cell_type": "code",
   "execution_count": 211,
   "metadata": {},
   "outputs": [],
   "source": [
    "x, y = 1, 4\n",
    "if x >=y:\n",
    "print(Hello)"
   ]
  },
  {
   "cell_type": "markdown",
   "metadata": {},
   "source": [
    "**Nested if Statement**"
   ]
  },
  {
   "cell_type": "code",
   "execution_count": 220,
   "metadata": {},
   "outputs": [
    {
     "name": "stdin",
     "output_type": "stream",
     "text": [
      " 1\n",
      " 2\n",
      " 5\n"
     ]
    }
   ],
   "source": [
    "x = input()\n",
    "y = input()\n",
    "z = input()\n",
    "if x > y:\n",
    "    if z > x :\n",
    "        print(\"z is greater than x and y\")"
   ]
  },
  {
   "cell_type": "markdown",
   "metadata": {},
   "source": [
    "**The else Statement**"
   ]
  },
  {
   "cell_type": "code",
   "execution_count": 221,
   "metadata": {},
   "outputs": [
    {
     "name": "stdout",
     "output_type": "stream",
     "text": [
      "x is less than or equal to y\n"
     ]
    }
   ],
   "source": [
    "x, y, z = 10, 203, 34\n",
    "if x <= y:\n",
    "   print (\"x is less than or equal to y\")\n",
    "else:\n",
    "    print(\"y is greater than x\")"
   ]
  },
  {
   "cell_type": "markdown",
   "metadata": {},
   "source": [
    "**The elif (else if) Statement**"
   ]
  },
  {
   "cell_type": "markdown",
   "metadata": {},
   "source": [
    "if condition:\n",
    "    statement\n",
    "    ...\n",
    "elif condition:\n",
    "    statement\n",
    "    ...\n",
    "else:\n",
    "    statement\n",
    "\n",
    "following statements"
   ]
  },
  {
   "cell_type": "code",
   "execution_count": 222,
   "metadata": {},
   "outputs": [
    {
     "name": "stdout",
     "output_type": "stream",
     "text": [
      "x is equal to y\n"
     ]
    }
   ],
   "source": [
    "x, y = 5, 5\n",
    "\n",
    "if x > y:\n",
    "    print(\"x and y are equal\")\n",
    "elif x < y:\n",
    "    print(\"x is less than y\")\n",
    "else:\n",
    "    print(\"x is equal to y\")"
   ]
  },
  {
   "cell_type": "markdown",
   "metadata": {},
   "source": [
    "**Substitute for Switch Case**"
   ]
  },
  {
   "cell_type": "code",
   "execution_count": 227,
   "metadata": {},
   "outputs": [
    {
     "name": "stdin",
     "output_type": "stream",
     "text": [
      " 4\n"
     ]
    },
    {
     "name": "stdout",
     "output_type": "stream",
     "text": [
      "choice is other than 1,2,3...\n"
     ]
    }
   ],
   "source": [
    "choice = int(input())\n",
    "if choice == 1:\n",
    "    print(\"choice is 1\")\n",
    "elif choice == 2:\n",
    "    print(\"choice is 2\")\n",
    "elif choice == 3:\n",
    "    print(\"choice is 3\")\n",
    "else:\n",
    "    print(\"choice is other than 1,2,3...\")"
   ]
  },
  {
   "cell_type": "markdown",
   "metadata": {},
   "source": [
    "**Multiple Conditions**"
   ]
  },
  {
   "cell_type": "code",
   "execution_count": 233,
   "metadata": {},
   "outputs": [
    {
     "name": "stdout",
     "output_type": "stream",
     "text": [
      "1\n",
      "4\n"
     ]
    }
   ],
   "source": [
    "x, y, z, m = 1,3,4,5\n",
    "if x > y and m < z:\n",
    "    print(x+y+m+z)\n",
    "if x < y or m < x:\n",
    "    print(x)\n",
    "if not m < z:\n",
    "    print(z)"
   ]
  },
  {
   "cell_type": "markdown",
   "metadata": {},
   "source": [
    "**One line if statement**"
   ]
  },
  {
   "cell_type": "code",
   "execution_count": 237,
   "metadata": {},
   "outputs": [
    {
     "name": "stdout",
     "output_type": "stream",
     "text": [
      "values are not same please check once\n",
      "add the number\n",
      "add more\n"
     ]
    }
   ],
   "source": [
    "z = 10\n",
    "if z == 10: print(\"values are not same please check once\"); print(\"add the number\");print(\"add more\")"
   ]
  },
  {
   "cell_type": "markdown",
   "metadata": {},
   "source": [
    "**Conditional Expressions (ternary operator)**"
   ]
  },
  {
   "cell_type": "code",
   "execution_count": 238,
   "metadata": {},
   "outputs": [
    {
     "name": "stdout",
     "output_type": "stream",
     "text": [
      "9\n"
     ]
    }
   ],
   "source": [
    "x , y  = 9, 10\n",
    "z = x if x < y else print(\"x is greater than y\")\n",
    "print(z)"
   ]
  },
  {
   "cell_type": "markdown",
   "metadata": {},
   "source": [
    "**Find the value is present are not**"
   ]
  },
  {
   "cell_type": "code",
   "execution_count": 241,
   "metadata": {},
   "outputs": [
    {
     "name": "stdout",
     "output_type": "stream",
     "text": [
      "True\n"
     ]
    }
   ],
   "source": [
    "a = ['hello', 'world', 'From', 'England']\n",
    "if 'hello' in a:\n",
    "    print(True)\n",
    "if 'From' not in a:\n",
    "    print(True)"
   ]
  },
  {
   "cell_type": "code",
   "execution_count": null,
   "metadata": {},
   "outputs": [],
   "source": []
  },
  {
   "cell_type": "markdown",
   "metadata": {},
   "source": [
    "# Python While Loop"
   ]
  },
  {
   "cell_type": "markdown",
   "metadata": {},
   "source": [
    "# syntax\n",
    "while condition:\n",
    "    statement\n",
    "    statement\n",
    "    ........\n",
    "else:\n",
    "    statement\n",
    "following statement"
   ]
  },
  {
   "cell_type": "code",
   "execution_count": 249,
   "metadata": {},
   "outputs": [
    {
     "name": "stdout",
     "output_type": "stream",
     "text": [
      "6\n",
      "5\n",
      "4\n",
      "3\n",
      "2\n",
      "1\n",
      "6\n",
      "5\n",
      "4\n",
      "3\n",
      "2\n",
      "1\n",
      "loop ended\n",
      "yellow\n",
      "red\n",
      "green\n",
      "[]\n",
      "hello\n",
      "ello\n",
      "llo\n",
      "lo\n",
      "o\n",
      "hello\n",
      "initial condition failed\n"
     ]
    }
   ],
   "source": [
    "# EX.1\n",
    "x = 6\n",
    "while x:\n",
    "    print(x)\n",
    "    x -= 1\n",
    "\n",
    "# EX.2    \n",
    "x = 6\n",
    "while x:\n",
    "    print(x)\n",
    "    x -= 1\n",
    "else:\n",
    "    print(\"loop ended\")\n",
    "\n",
    "# EX.3\n",
    "L = [\"green\", 'red', 'yellow']\n",
    "while L:\n",
    "    print(L.pop())\n",
    "else:\n",
    "    print(L)\n",
    "\n",
    "# EX.4\n",
    "x = 'hello'\n",
    "while x:\n",
    "    print(x)\n",
    "    x = x[1:]\n",
    "else:\n",
    "    x = \"hello\"\n",
    "print(x)\n",
    "\n",
    "# EX.5\n",
    "x = 0\n",
    "while x:\n",
    "    print(x)\n",
    "    x -= 1\n",
    "else:\n",
    "    print(\"initial condition failed\")"
   ]
  },
  {
   "cell_type": "markdown",
   "metadata": {},
   "source": [
    "**Break in while Loop**"
   ]
  },
  {
   "cell_type": "code",
   "execution_count": 250,
   "metadata": {},
   "outputs": [
    {
     "name": "stdout",
     "output_type": "stream",
     "text": [
      "10\n",
      "9\n",
      "8\n",
      "7\n",
      "6\n",
      "5\n"
     ]
    }
   ],
   "source": [
    "x = 10\n",
    "while x:\n",
    "    print(x)\n",
    "    x -= 1\n",
    "    if x == 4:\n",
    "        break"
   ]
  },
  {
   "cell_type": "markdown",
   "metadata": {},
   "source": [
    "**Continue in while Loop**"
   ]
  },
  {
   "cell_type": "code",
   "execution_count": 256,
   "metadata": {},
   "outputs": [
    {
     "name": "stdout",
     "output_type": "stream",
     "text": [
      "10\n",
      "this will be printed because it is present before continue\n",
      "9\n",
      "this will be printed because it is present before continue\n",
      "8\n",
      "this will be printed because it is present before continue\n",
      "7\n",
      "this will be printed because it is present before continue\n",
      "6\n",
      "this will be printed because it is present before continue\n",
      "5\n",
      "I won't print until the if is true and stop once the if is false\n"
     ]
    }
   ],
   "source": [
    "x = 10\n",
    "while x:\n",
    "    print(x)\n",
    "    x -= 1\n",
    "    if x >= 5:\n",
    "        print(\"this will be printed because it is present before continue\")\n",
    "        continue\n",
    "        print(\"this will not be printed because it is present after continue\")\n",
    "    print(\"I won't print until the if is true and stop once the if is false\")\n",
    "    break"
   ]
  },
  {
   "cell_type": "markdown",
   "metadata": {},
   "source": [
    "**Else in While Loop**"
   ]
  },
  {
   "cell_type": "code",
   "execution_count": 260,
   "metadata": {},
   "outputs": [
    {
     "name": "stdout",
     "output_type": "stream",
     "text": [
      "5\n",
      "4\n",
      "3\n",
      "2\n",
      "1\n",
      "while loop ended\n",
      "10\n",
      "9\n",
      "8\n",
      "7\n",
      "6\n",
      "5\n",
      "4\n"
     ]
    }
   ],
   "source": [
    "# EX.1\n",
    "x = 5\n",
    "while x:\n",
    "    print(x)\n",
    "    x -= 1\n",
    "else:\n",
    "    print(\"while loop ended\")\n",
    "\n",
    "# EX.2\n",
    "x = 10\n",
    "while x:\n",
    "    print(x)\n",
    "    if x == 4:\n",
    "        break\n",
    "    x -= 1\n",
    "else:\n",
    "    print(\"It won't print\")"
   ]
  },
  {
   "cell_type": "markdown",
   "metadata": {},
   "source": [
    "**Infinte Loop (while true)**"
   ]
  },
  {
   "cell_type": "code",
   "execution_count": 263,
   "metadata": {},
   "outputs": [
    {
     "name": "stdout",
     "output_type": "stream",
     "text": [
      "ctrl + c to stop me!\n"
     ]
    },
    {
     "name": "stdin",
     "output_type": "stream",
     "text": [
      "enter name: hello\n"
     ]
    },
    {
     "name": "stdout",
     "output_type": "stream",
     "text": [
      "hello hello\n"
     ]
    },
    {
     "name": "stdin",
     "output_type": "stream",
     "text": [
      "enter name: sarath\n"
     ]
    },
    {
     "name": "stdout",
     "output_type": "stream",
     "text": [
      "hello sarath\n"
     ]
    },
    {
     "name": "stdin",
     "output_type": "stream",
     "text": [
      "enter name: stop\n"
     ]
    }
   ],
   "source": [
    "# EX.1\n",
    "while True:\n",
    "    print(\"ctrl + c to stop me!\")\n",
    "    break\n",
    "\n",
    "# EX.2\n",
    "while True:\n",
    "    name = input(\"enter name:\")\n",
    "    if name == 'stop': break\n",
    "    print(\"hello\",name)"
   ]
  },
  {
   "cell_type": "markdown",
   "metadata": {},
   "source": [
    "**Python for Loop**"
   ]
  },
  {
   "cell_type": "markdown",
   "metadata": {},
   "source": [
    "for var in iterable:\n",
    "    statement\n",
    "    statement\n",
    "    .........\n",
    "else:\n",
    "    statement\n",
    "    .........\n",
    "following statement"
   ]
  },
  {
   "cell_type": "code",
   "execution_count": 272,
   "metadata": {},
   "outputs": [
    {
     "name": "stdout",
     "output_type": "stream",
     "text": [
      "green\n",
      "red\n",
      "white\n",
      "H\n",
      "e\n",
      "l\n",
      "l\n",
      "o\n",
      "0\n",
      "1\n",
      "2\n",
      "3\n",
      "green\n",
      "red\n",
      "orange\n",
      "green\n",
      "red\n",
      "white\n",
      "orange\n",
      "orange\n"
     ]
    }
   ],
   "source": [
    "# EX.1\n",
    "L = ['green', 'red', 'white']\n",
    "for i in L:\n",
    "    print(i)\n",
    "\n",
    "# EX.2\n",
    "S = 'Hello'\n",
    "for i in S:\n",
    "    print(i)\n",
    "\n",
    "# EX.3\n",
    "for i in range(10):\n",
    "    if i == 4:\n",
    "        break\n",
    "    print(i)\n",
    "\n",
    "# EX.4\n",
    "L = ['green', 'red', 'white', 'orange']\n",
    "for x in L:\n",
    "    if 'white' == x:\n",
    "        continue\n",
    "    print(x)\n",
    "\n",
    "# EX.5\n",
    "L = ['green', 'red', 'white', 'orange']\n",
    "for x in L:\n",
    "    print(x)\n",
    "else:\n",
    "    print(x)"
   ]
  },
  {
   "cell_type": "markdown",
   "metadata": {},
   "source": [
    "**range() function in for loop**"
   ]
  },
  {
   "cell_type": "code",
   "execution_count": 280,
   "metadata": {},
   "outputs": [
    {
     "name": "stdout",
     "output_type": "stream",
     "text": [
      "1\n",
      "2\n",
      "3\n",
      "4\n",
      "2\n",
      "5\n",
      "8\n",
      "-5\n",
      "-4\n",
      "-3\n",
      "-2\n",
      "-1\n"
     ]
    }
   ],
   "source": [
    "# The range(start,stop,step) function generates a sequence of numbers from 0 up to\n",
    "\n",
    "# EX.1\n",
    "for i in range(6):\n",
    "    i = 3\n",
    "\n",
    "# EX.2\n",
    "for i in range(1,5):\n",
    "    print(i)\n",
    "\n",
    "# EX.3\n",
    "for i in range(2,10,3):\n",
    "    print(i)\n",
    "\n",
    "# EX.4\n",
    "for i in range(-5,0):\n",
    "    print(i)"
   ]
  },
  {
   "cell_type": "markdown",
   "metadata": {},
   "source": [
    "**Nested for Loop**"
   ]
  },
  {
   "cell_type": "code",
   "execution_count": 282,
   "metadata": {},
   "outputs": [
    {
     "name": "stdout",
     "output_type": "stream",
     "text": [
      "1\n",
      "2\n",
      "3\n",
      "4\n",
      "5\n",
      "6\n",
      "7\n",
      "8\n",
      "9\n"
     ]
    }
   ],
   "source": [
    "M = [[1,2,3],[4,5,6],[7,8,9]]\n",
    "for r in M:\n",
    "    for c in r:\n",
    "        print(c)"
   ]
  },
  {
   "cell_type": "markdown",
   "metadata": {},
   "source": [
    "**Access Index in for Loop**"
   ]
  },
  {
   "cell_type": "code",
   "execution_count": 285,
   "metadata": {},
   "outputs": [
    {
     "name": "stdout",
     "output_type": "stream",
     "text": [
      "0 red\n",
      "1 green\n",
      "2 orange\n",
      "0 red\n",
      "1 green\n",
      "2 orange\n"
     ]
    }
   ],
   "source": [
    "# EX.1\n",
    "L = ['red', 'green', 'orange']\n",
    "for i in range(len(L)):\n",
    "    print(i, L[i] )\n",
    "\n",
    "# EX.2\n",
    "L = ['red', 'green', 'orange']\n",
    "for i, value in enumerate(L):\n",
    "    print(i, value)"
   ]
  },
  {
   "cell_type": "markdown",
   "metadata": {},
   "source": [
    "**Unpacking in a for loop**"
   ]
  },
  {
   "cell_type": "code",
   "execution_count": 287,
   "metadata": {},
   "outputs": [
    {
     "name": "stdout",
     "output_type": "stream",
     "text": [
      "1 3\n",
      "1 4\n",
      "2 5\n",
      "key:  name  value:  sarath\n",
      "key:  phno  value:  9121421\n"
     ]
    }
   ],
   "source": [
    "# EX.1\n",
    "L = [(1,3),(1,4),(2,5)]\n",
    "for (a,b) in L:\n",
    "    print(a,b)\n",
    "\n",
    "# EX.2\n",
    "D = {\"name\": 'sarath', 'phno': 9121421}\n",
    "for k,v in D.items():\n",
    "    print(\"key: \",k,\" value: \",v)"
   ]
  },
  {
   "cell_type": "markdown",
   "metadata": {},
   "source": [
    "**Modify a List While Iterating**"
   ]
  },
  {
   "cell_type": "code",
   "execution_count": 5,
   "metadata": {},
   "outputs": [
    {
     "name": "stdout",
     "output_type": "stream",
     "text": [
      "['red', 'blue']\n",
      "['red', 'blue']\n",
      "['red', 'blue', 'green']\n",
      "['red', 'blue', 'green']\n"
     ]
    }
   ],
   "source": [
    "colors = ['red', 'green', 'blue']\n",
    "\n",
    "# Modifying original list while iterating over it (bad idea)\n",
    "for color in colors:\n",
    "    if color == 'green':\n",
    "        colors.remove(color)  # This modifies the list during iteration\n",
    "print(colors)  # Might give unexpected result\n",
    "\n",
    "# Correct way: iterate over a copy\n",
    "colors = ['red', 'green', 'blue']\n",
    "for color in colors[:]:\n",
    "    if color == 'green':\n",
    "        colors.remove(color)\n",
    "print(colors)  # Safe and expected result\n",
    "\n",
    "colors = ['red', 'green']\n",
    "\n",
    "# Unsafe: iterating over the original list while modifying it\n",
    "for color in colors:\n",
    "    if color == 'red':\n",
    "        colors.insert(1, 'blue')\n",
    "print(colors)  # Output may vary or skip items\n",
    "\n",
    "# Safe: iterate over a copy while modifying the original\n",
    "colors = ['red', 'green']\n",
    "for color in colors[:]:\n",
    "    if color == 'red':\n",
    "        colors.insert(1, 'blue')\n",
    "print(colors)  # ['red', 'blue', 'green']"
   ]
  },
  {
   "cell_type": "markdown",
   "metadata": {},
   "source": [
    "**Looping Through Multiple Lists**"
   ]
  },
  {
   "cell_type": "code",
   "execution_count": 8,
   "metadata": {},
   "outputs": [
    {
     "name": "stdout",
     "output_type": "stream",
     "text": [
      "sarath AI\n",
      "sathvik front_end\n",
      "yaswanth Chip\n",
      "imran Em_soft\n"
     ]
    }
   ],
   "source": [
    "name = ['sarath', 'sathvik', 'yaswanth', 'imran']\n",
    "role = ['AI', 'front_end', 'Chip', 'Em_soft']\n",
    "for (a,b) in zip(name,role):\n",
    "    print(a,b)"
   ]
  },
  {
   "cell_type": "code",
   "execution_count": null,
   "metadata": {},
   "outputs": [],
   "source": []
  },
  {
   "cell_type": "markdown",
   "metadata": {},
   "source": [
    "# Python Functions"
   ]
  },
  {
   "cell_type": "markdown",
   "metadata": {},
   "source": [
    "# SYNTAX of a funtion:\n",
    "# Functions are the first step to code reuse. \n",
    "def function_name(arguments):\n",
    "    statement\n",
    "    statement\n",
    "    .........\n",
    "    return value"
   ]
  },
  {
   "cell_type": "markdown",
   "metadata": {},
   "source": [
    "**Create a Function and call a function**"
   ]
  },
  {
   "cell_type": "code",
   "execution_count": 2,
   "metadata": {},
   "outputs": [
    {
     "name": "stdout",
     "output_type": "stream",
     "text": [
      "hello world\n",
      "None\n"
     ]
    }
   ],
   "source": [
    "def hello():\n",
    "    print(\"hello world\")\n",
    "\n",
    "x = hello()\n",
    "print(x)"
   ]
  },
  {
   "cell_type": "markdown",
   "metadata": {},
   "source": [
    "**Pass Arguments and Types of Arguments**"
   ]
  },
  {
   "cell_type": "markdown",
   "metadata": {},
   "source": [
    "1. Positional Arguments\n",
    "2. Keyword Arguments\n",
    "3. Default Arguments\n",
    "4. Variable Length Positional Arguments (*args)\n",
    "5. Variable Length Keyword Arguments (**kwargs)"
   ]
  },
  {
   "cell_type": "code",
   "execution_count": 6,
   "metadata": {},
   "outputs": [
    {
     "name": "stdout",
     "output_type": "stream",
     "text": [
      "Sarath is working in developer profession\n",
      "developer is woring in sarath\n"
     ]
    }
   ],
   "source": [
    "# Positional Arguments, here we have to pass the arguments as we define the function definition.\n",
    "# The most common are positional arguments, whose values are copied to their corresponding parameters in order.\n",
    "# EX.1\n",
    "def fun(name, job):\n",
    "    S = f'{name} is working in {job} profession'\n",
    "    print(S)\n",
    "\n",
    "fun(\"Sarath\", \"developer\")\n",
    "\n",
    "# EX.2\n",
    "def fun2(name, job):\n",
    "    S = f'{name} is woring as {job}'\n",
    "    print(S)\n",
    "\n",
    "fun2(\"developer\", \"sarath\")"
   ]
  },
  {
   "cell_type": "code",
   "execution_count": 13,
   "metadata": {},
   "outputs": [
    {
     "name": "stdout",
     "output_type": "stream",
     "text": [
      "sarath is working from 25 years\n",
      "nagraj is working from 9 years\n",
      "sarath is working from 10 years\n",
      "sarath is working from 9 years\n"
     ]
    }
   ],
   "source": [
    "# Keyword Arguments\n",
    "def work_year(name, years):\n",
    "    s = f'{name} is working from {years} years'\n",
    "    print(s)\n",
    "\n",
    "work_year(name='sarath', years=25)\n",
    "work_year(years=9, name=\"nagraj\")\n",
    "work_year(years=10, name=\"sarath\")\n",
    "work_year(name=\"sarath\", years=9)"
   ]
  },
  {
   "cell_type": "code",
   "execution_count": 6,
   "metadata": {},
   "outputs": [
    {
     "name": "stdout",
     "output_type": "stream",
     "text": [
      "someone 18 1\n",
      "sara 20 35\n"
     ]
    }
   ],
   "source": [
    "# Default Arguments\n",
    "# EX.1\n",
    "def default_args(name=\"someone\", age=18, marks=35):\n",
    "    print(name, age, marks)\n",
    "default_args(marks=1)\n",
    "\n",
    "# EX.2\n",
    "def default_args(name, age=20, marks=35):\n",
    "    print(name, age, marks)\n",
    "default_args('sara',)\n",
    "# default_args('sara',20, 40) \n",
    "\n",
    "# EX.3\n",
    "# SyntaxError: non-default argument follows default argument which is defined in the function arguments\n",
    "# def default_args_ex3(sports, position=0, top_players):\n",
    "#     print(sports, position, top_payers)\n",
    "# default_args_ex3(\"cricket\", 2, 11) "
   ]
  },
  {
   "cell_type": "markdown",
   "metadata": {},
   "source": [
    "**Variable Length Arguments (*args and **kwargs)**"
   ]
  },
  {
   "cell_type": "code",
   "execution_count": 9,
   "metadata": {},
   "outputs": [
    {
     "name": "stdout",
     "output_type": "stream",
     "text": [
      "type of the variable:  <class 'tuple'>\n",
      "(1, 3, 3, 4, 5, 6, 6)\n",
      "accessing individual values 1\n"
     ]
    }
   ],
   "source": [
    "# *args (collection of arguments in a tuple)\n",
    "# When you prefix a parameter with an asterisk * , it collects all the unmatched positional arguments into a tuple. \n",
    "# Because it is a normal tuple object, you can perform any operation that a tuple supports, like indexing, iteration etc.\n",
    "\n",
    "def mult_args(*args):\n",
    "    print(\"type of the variable: \",type(args))\n",
    "    print(args)\n",
    "    print(\"accessing individual values\", args[0])\n",
    "\n",
    "# when *args is argument of a function def. When argument are passed they are collected as tupple. \n",
    "mult_args(1,3,3,4,5,6,6)"
   ]
  },
  {
   "cell_type": "code",
   "execution_count": 10,
   "metadata": {},
   "outputs": [
    {
     "name": "stdout",
     "output_type": "stream",
     "text": [
      "Type of the argument:  <class 'dict'>\n",
      "{'name': 'sai', 'age': 24, 'loc': 'kor'}\n"
     ]
    }
   ],
   "source": [
    "# **kwargs this collection of values in a dictionary.\n",
    "# The ** syntax is similar, but it only works for keyword arguments. \n",
    "# It collects them into a new dictionary, where the argument names are the keys, and their values are the corresponding dictionary values.\n",
    "\n",
    "def print_arguments(**kwargs):\n",
    "    print(\"Type of the argument: \", type(kwargs))\n",
    "    print(kwargs)\n",
    "\n",
    "# when function arguments are **kwargs, the arguments are collected as dictionary.\n",
    "# Based on the function definition the passed argument are considered as keyword args or diction of key:value pairs.\n",
    "print_arguments(name='sai', age=24, loc='kor') "
   ]
  },
  {
   "cell_type": "markdown",
   "metadata": {},
   "source": [
    "**Return Value**"
   ]
  },
  {
   "cell_type": "code",
   "execution_count": 58,
   "metadata": {},
   "outputs": [
    {
     "name": "stdout",
     "output_type": "stream",
     "text": [
      "30\n",
      "[50, [30, 20]]\n",
      "5 6\n"
     ]
    }
   ],
   "source": [
    "# EX.1  Returning single values\n",
    "def sum(a, b):\n",
    "    return a+b\n",
    "a = sum(10,20)\n",
    "print(a)\n",
    "\n",
    "# EX.2 Returning multiple values\n",
    "def sum_sub(a, b):\n",
    "    return [a+b, [a,b]]\n",
    "\n",
    "b = sum_sub(30, 20)\n",
    "print(b)\n",
    "\n",
    "# EX.3 returning multiple values\n",
    "def mutli(c, d):\n",
    "    return c+d, c*d\n",
    "\n",
    "add, mul = mutli(3,2)\n",
    "print(add, mul)"
   ]
  },
  {
   "cell_type": "markdown",
   "metadata": {},
   "source": [
    "**Docstring**"
   ]
  },
  {
   "cell_type": "code",
   "execution_count": 11,
   "metadata": {},
   "outputs": [
    {
     "name": "stdout",
     "output_type": "stream",
     "text": [
      "hello this is a example of\n",
      "       docstring\n",
      "this is the second example\n",
      "hello\n",
      "focus on the right things, start as early as you stop, bounce back bounce back\n"
     ]
    }
   ],
   "source": [
    "def hello():\n",
    "    \"\"\"hello this is a example of\n",
    "       docstring\"\"\"\n",
    "    print('hello')\n",
    "\n",
    "def doc():\n",
    "    \"\"\"this is the second example\"\"\"\n",
    "    print(\"focus on the right things, start as early as you stop, bounce back bounce back\")\n",
    "\n",
    "print(hello.__doc__)\n",
    "print(doc.__doc__)\n",
    "hello()\n",
    "doc()"
   ]
  },
  {
   "cell_type": "markdown",
   "metadata": {},
   "source": [
    "**Composition**"
   ]
  },
  {
   "cell_type": "code",
   "execution_count": 68,
   "metadata": {},
   "outputs": [
    {
     "name": "stdout",
     "output_type": "stream",
     "text": [
      "-3.133115067780141e-14\n",
      "3.1399999999999997\n"
     ]
    }
   ],
   "source": [
    "# One of the most useful features of Python is its ability to take small building blocks and compose them. For example, \n",
    "# the argument of a function can be any type of expression, including arithmetic operators:\n",
    "# EX.1\n",
    "import math\n",
    "\n",
    "x = math.sin(360*2*math.pi)\n",
    "print(x)\n",
    "\n",
    "# EX.2\n",
    "x = math.exp(math.log(3.14))\n",
    "print(x)"
   ]
  },
  {
   "cell_type": "markdown",
   "metadata": {},
   "source": [
    "**Nested Functions**"
   ]
  },
  {
   "cell_type": "code",
   "execution_count": 70,
   "metadata": {},
   "outputs": [
    {
     "name": "stdout",
     "output_type": "stream",
     "text": [
      "30\n"
     ]
    }
   ],
   "source": [
    "# A Nested function is a function defined within other function. They are useful when performing complex task multiple \n",
    "# times within another function, to avoid loops or code duplication.\n",
    "def outer(a, b):\n",
    "    def inner(c, d):\n",
    "        return c+d\n",
    "    return inner(a,b)\n",
    "print(outer(10,20))\n",
    "# A nested function can act as a closure."
   ]
  },
  {
   "cell_type": "markdown",
   "metadata": {},
   "source": [
    "**Recursion**"
   ]
  },
  {
   "cell_type": "code",
   "execution_count": 73,
   "metadata": {},
   "outputs": [
    {
     "name": "stdout",
     "output_type": "stream",
     "text": [
      "4\n",
      "3\n",
      "2\n",
      "1\n",
      "stop\n"
     ]
    }
   ],
   "source": [
    "def countdown(num):\n",
    "    if num <= 0:\n",
    "        print('stop')\n",
    "    else:\n",
    "        print(num)\n",
    "        countdown(num-1)\n",
    "\n",
    "countdown(4)"
   ]
  },
  {
   "cell_type": "markdown",
   "metadata": {},
   "source": [
    "**Assigning Functions to Variables**"
   ]
  },
  {
   "cell_type": "code",
   "execution_count": 76,
   "metadata": {},
   "outputs": [
    {
     "name": "stdout",
     "output_type": "stream",
     "text": [
      "sarath\n",
      "bangalore\n"
     ]
    }
   ],
   "source": [
    "# You can assign a different name to it anytime and call through the new name.\n",
    "def hello(name):\n",
    "    print(name)\n",
    "\n",
    "x = hello\n",
    "x(\"sarath\")\n",
    "hi = hello\n",
    "hi(\"bangalore\")"
   ]
  },
  {
   "cell_type": "code",
   "execution_count": 79,
   "metadata": {},
   "outputs": [
    {
     "name": "stdout",
     "output_type": "stream",
     "text": [
      "4\n",
      "27\n"
     ]
    }
   ],
   "source": [
    "# You can use this feature to implement jump table. Jump table is a dictionary of functions to be called on demand.\n",
    "def findsquire(num):\n",
    "    return num**2\n",
    "\n",
    "def findcube(num):\n",
    "    return num**3\n",
    "\n",
    "exepected = {'squire': findsquire, 'cube': findcube}\n",
    "print(exepected['squire'](2))\n",
    "print(exepected['cube'](3))"
   ]
  },
  {
   "cell_type": "markdown",
   "metadata": {},
   "source": [
    "**Python Function Executes at Runtime**"
   ]
  },
  {
   "cell_type": "code",
   "execution_count": 11,
   "metadata": {},
   "outputs": [
    {
     "name": "stdin",
     "output_type": "stream",
     "text": [
      "enter a integer 3\n"
     ]
    },
    {
     "name": "stdout",
     "output_type": "stream",
     "text": [
      "x value is 0\n"
     ]
    }
   ],
   "source": [
    "x = input(\"enter a integer\")\n",
    "x = int(x)\n",
    "if x==1:\n",
    "    def hello():\n",
    "        print(\"x value is 1\")\n",
    "    hello()\n",
    "elif x == 2:\n",
    "    def challo():\n",
    "        print(\"Welcome to india\")\n",
    "    challo()\n",
    "else:\n",
    "    def hello():\n",
    "        print(\"x value is 0\")\n",
    "    hello()"
   ]
  },
  {
   "cell_type": "code",
   "execution_count": null,
   "metadata": {},
   "outputs": [],
   "source": []
  },
  {
   "cell_type": "markdown",
   "metadata": {},
   "source": [
    "# Python Variables Scope"
   ]
  },
  {
   "cell_type": "code",
   "execution_count": 12,
   "metadata": {},
   "outputs": [],
   "source": [
    "# Not all variables are accessible from all parts of our program. The part of the program where the variable is accessible \n",
    "# is called its “scope” and is determined by where the variable is declared.\n",
    "\n",
    "# Python has three different variable scopes:\n",
    "\n",
    "# Local scope\n",
    "# Global scope\n",
    "# Enclosing scope"
   ]
  },
  {
   "cell_type": "markdown",
   "metadata": {},
   "source": [
    "**Local Scope**"
   ]
  },
  {
   "cell_type": "markdown",
   "metadata": {},
   "source": [
    "# A variable declared within a function has a LOCAL SCOPE. It is accessible from the point at which it is declared until the end of the function, \n",
    "# and exists for as long as the function is executing."
   ]
  },
  {
   "cell_type": "code",
   "execution_count": 14,
   "metadata": {},
   "outputs": [
    {
     "name": "stdout",
     "output_type": "stream",
     "text": [
      "1\n"
     ]
    }
   ],
   "source": [
    "def local():\n",
    "    x = 1\n",
    "    print(x)\n",
    "local()"
   ]
  },
  {
   "cell_type": "code",
   "execution_count": 13,
   "metadata": {},
   "outputs": [],
   "source": [
    "# Local variables are removed from memory when the function call exits. Therefore, trying to get the value of the local \n",
    "# variable outside the function causes an error.\n",
    "def func():\n",
    "    q = 10\n",
    "func()\n",
    "# print(q)"
   ]
  },
  {
   "cell_type": "markdown",
   "metadata": {},
   "source": [
    "**Global Scope**"
   ]
  },
  {
   "cell_type": "code",
   "execution_count": 25,
   "metadata": {},
   "outputs": [
    {
     "name": "stdout",
     "output_type": "stream",
     "text": [
      "50\n"
     ]
    }
   ],
   "source": [
    "# A variable declared outside all functions has a GLOBAL SCOPE. It is accessible throughout the file, \n",
    "# and also inside any file which imports that file.\n",
    "s = 42\n",
    "def test_fun():\n",
    "    global s\n",
    "#     print(s)\n",
    "    s = 50\n",
    "test_fun()\n",
    "print(s)"
   ]
  },
  {
   "cell_type": "code",
   "execution_count": 12,
   "metadata": {},
   "outputs": [
    {
     "name": "stdout",
     "output_type": "stream",
     "text": [
      "there is error in the code\n"
     ]
    }
   ],
   "source": [
    "verbose = 1\n",
    "def opt():\n",
    "    if verbose ==1:\n",
    "        print(\"there is error in the code\")\n",
    "opt()"
   ]
  },
  {
   "cell_type": "markdown",
   "metadata": {},
   "source": [
    "**Modifying Globals Inside a Function**"
   ]
  },
  {
   "cell_type": "code",
   "execution_count": 14,
   "metadata": {},
   "outputs": [
    {
     "name": "stdout",
     "output_type": "stream",
     "text": [
      "0\n",
      "42\n"
     ]
    }
   ],
   "source": [
    "x = 42          # global scope x\n",
    "def myfunc():\n",
    "    x = 0\n",
    "    print(x)    # local x is 0\n",
    "\n",
    "myfunc()\n",
    "print(x)"
   ]
  },
  {
   "cell_type": "code",
   "execution_count": 15,
   "metadata": {},
   "outputs": [
    {
     "name": "stdout",
     "output_type": "stream",
     "text": [
      "20\n",
      "25\n"
     ]
    }
   ],
   "source": [
    "x = 20\n",
    "def mytest():\n",
    "    global x\n",
    "    print(x)\n",
    "    x = x+5\n",
    "mytest()\n",
    "print(x)"
   ]
  },
  {
   "cell_type": "markdown",
   "metadata": {},
   "source": [
    "**There’s another way to update a global variable from a no-global scope – use globals() function.**"
   ]
  },
  {
   "cell_type": "markdown",
   "metadata": {},
   "source": [
    "**Enclosing scope**"
   ]
  },
  {
   "cell_type": "code",
   "execution_count": 42,
   "metadata": {},
   "outputs": [
    {
     "name": "stdout",
     "output_type": "stream",
     "text": [
      "20\n",
      "10\n",
      "21\n",
      "21\n"
     ]
    }
   ],
   "source": [
    "# EX.1\n",
    "def fun1():\n",
    "    x = 10\n",
    "    def fun2():\n",
    "        x = 20\n",
    "        print(x)\n",
    "    fun2()\n",
    "    print(x)\n",
    "fun1()\n",
    "\n",
    "# EX.2\n",
    "def fun3():\n",
    "    x = 20\n",
    "    def fun4():\n",
    "        nonlocal x\n",
    "        x = x + 1\n",
    "        print(x)\n",
    "    fun4()\n",
    "    print(x)\n",
    "fun3()"
   ]
  },
  {
   "cell_type": "markdown",
   "metadata": {},
   "source": [
    "**When a variable is referenced, Python follows LEGB rule and searches up to four scopes in this order. and stops at the first occurrence. If no match is found, Python raises a NameError exception.**"
   ]
  },
  {
   "cell_type": "code",
   "execution_count": null,
   "metadata": {},
   "outputs": [],
   "source": []
  },
  {
   "cell_type": "markdown",
   "metadata": {},
   "source": [
    "# Python Lambda Function"
   ]
  },
  {
   "cell_type": "markdown",
   "metadata": {},
   "source": [
    "1. Lambda functions let you write small functions in one line without a def block.\n",
    "2. Anonymous Functions (No Name Needed). You can use lambdas without giving them a name, especially when passing them as arguments.\n",
    "3. Used Inline (Functional Programming). Since lambdas are simple one-liners and often used temporarily, they help avoid polluting the namespace with unnecessary function names.\n",
    "4. Limited Scope. Since lambdas are simple one-liners and often used temporarily, they help avoid polluting the namespace with unnecessary function names."
   ]
  },
  {
   "cell_type": "markdown",
   "metadata": {},
   "source": [
    "**Basic Example**"
   ]
  },
  {
   "cell_type": "code",
   "execution_count": 45,
   "metadata": {},
   "outputs": [
    {
     "name": "stdout",
     "output_type": "stream",
     "text": [
      "4\n",
      "6\n"
     ]
    }
   ],
   "source": [
    "# using def\n",
    "def doubler(x):\n",
    "    return x*2\n",
    "\n",
    "print(doubler(2))\n",
    "print(doubler(3))"
   ]
  },
  {
   "cell_type": "code",
   "execution_count": 47,
   "metadata": {},
   "outputs": [
    {
     "name": "stdout",
     "output_type": "stream",
     "text": [
      "4\n",
      "6\n"
     ]
    }
   ],
   "source": [
    "lambda1 = lambda x: x*2\n",
    "print(lambda1(2))\n",
    "print(lambda1(3))"
   ]
  },
  {
   "cell_type": "markdown",
   "metadata": {},
   "source": [
    "# Syntax\n",
    "\n",
    "**lambda** *parameters*: *expression*\n",
    "\n",
    "paramete is like variables and expression is like the statements."
   ]
  },
  {
   "cell_type": "markdown",
   "metadata": {},
   "source": [
    "**Note**\n",
    "that instead of using **def**, the keyword **lambda** is used"
   ]
  },
  {
   "cell_type": "markdown",
   "metadata": {},
   "source": [
    "**No Statements Allowed**"
   ]
  },
  {
   "cell_type": "markdown",
   "metadata": {},
   "source": [
    "# A lambda function can not contain any statements in its body. Statements such as return, raise, pass, or assert in a lambda \n",
    "# function will raise a SyntaxError."
   ]
  },
  {
   "cell_type": "code",
   "execution_count": 53,
   "metadata": {},
   "outputs": [],
   "source": [
    "# lambda x: assert x*2  # SyntaxError: invalid syntax\n",
    "# lambda x: return x"
   ]
  },
  {
   "cell_type": "markdown",
   "metadata": {},
   "source": [
    "**Single Expression Only**"
   ]
  },
  {
   "cell_type": "markdown",
   "metadata": {},
   "source": [
    "1. Unlike a normal function, a lambda function contains only a single expression.\n",
    "2. Although, you can spread the expression over multiple lines using parentheses or a multiline string, \n",
    "but it should only remain as a single expression."
   ]
  },
  {
   "cell_type": "code",
   "execution_count": 57,
   "metadata": {},
   "outputs": [
    {
     "name": "stdout",
     "output_type": "stream",
     "text": [
      "even\n"
     ]
    }
   ],
   "source": [
    "oddOeven = (lambda x: 'odd' if x%2 else 'even')\n",
    "print(oddOeven(4))"
   ]
  },
  {
   "cell_type": "markdown",
   "metadata": {},
   "source": [
    "**Immediately Invoked Function Expression (IIFE)**"
   ]
  },
  {
   "cell_type": "code",
   "execution_count": 60,
   "metadata": {},
   "outputs": [
    {
     "name": "stdout",
     "output_type": "stream",
     "text": [
      "6\n"
     ]
    }
   ],
   "source": [
    "print((lambda x: x*2)(3)) # the lambda is defined and it is immidiately call with 3 value."
   ]
  },
  {
   "cell_type": "markdown",
   "metadata": {},
   "source": [
    "**Multiple Arguments**"
   ]
  },
  {
   "cell_type": "code",
   "execution_count": 63,
   "metadata": {},
   "outputs": [
    {
     "name": "stdout",
     "output_type": "stream",
     "text": [
      "4\n",
      "3\n"
     ]
    }
   ],
   "source": [
    "l = lambda x, y: x+y # multiple arguments\n",
    "print(l(1,3))\n",
    "\n",
    "l2 = lambda x,y,z: z+x-y\n",
    "print(l2(1,2,4))"
   ]
  },
  {
   "cell_type": "markdown",
   "metadata": {},
   "source": [
    "**Ways to Pass Arguments**"
   ]
  },
  {
   "cell_type": "markdown",
   "metadata": {},
   "source": [
    "*Like a normal function, a lambda function supports all the different ways of passing arguments. This includes:*"
   ]
  },
  {
   "cell_type": "markdown",
   "metadata": {},
   "source": [
    "Positional arguments\n",
    "Keyword arguments\n",
    "Default argument\n",
    "Variable list of arguments (*args)\n",
    "Variable list of keyword arguments (**args)"
   ]
  },
  {
   "cell_type": "markdown",
   "metadata": {},
   "source": [
    "**SyntaxError: non-default argument follows default argument**"
   ]
  },
  {
   "cell_type": "code",
   "execution_count": 101,
   "metadata": {},
   "outputs": [
    {
     "name": "stdout",
     "output_type": "stream",
     "text": [
      "6\n",
      "5\n",
      "12\n",
      "20\n",
      "20\n",
      "6\n",
      "3\n",
      "sarath\n",
      "6\n"
     ]
    }
   ],
   "source": [
    "# positional argument\n",
    "t = lambda x,y,z: x+y+z\n",
    "print(t(1,2,3))\n",
    "\n",
    "# Keyword argument\n",
    "key_word = lambda x,y,z: x+y*z\n",
    "print(key_word(y=1,x=2,z=3))\n",
    "\n",
    "# Default argument\n",
    "# EX.1\n",
    "default = lambda x,y,z=3: z+x+y \n",
    "print(default(6,3))\n",
    "# We need to define the default arguments from right to left.\n",
    "\n",
    "# EX.2\n",
    "default1 = lambda x,y=6,z=10: z+x+y\n",
    "print(default1(4))\n",
    "\n",
    "# EX.3\n",
    "default2 = lambda x=10,y=10,z=20: z+x-y\n",
    "print(default2())\n",
    "\n",
    "# EX.4 SyntaxError: non-default argument follows default argument\n",
    "# default3 = lambda x=2,y=3,z: z+x-y\n",
    "# print(default3(1,2,3))\n",
    "\n",
    "# Variable list of arguments\n",
    "\n",
    "var_list = lambda *args: sum(args)\n",
    "print(var_list(1,2,3))\n",
    "\n",
    "var_list1 = lambda *args: max(args)\n",
    "print(var_list1(1,2,3))\n",
    "\n",
    "# **kwarg dictionary\n",
    "dic_var = lambda **args: args['name']\n",
    "print(dic_var(name='sarath',dep='sec'))\n",
    "\n",
    "# **kwargs\n",
    "dic_kwargs = lambda **kwargs: sum(kwargs.values())\n",
    "print(dic_kwargs(a=1,b=2,c=3))"
   ]
  },
  {
   "cell_type": "markdown",
   "metadata": {},
   "source": [
    "**Lambdas With Map, Filter, and Reduce**"
   ]
  },
  {
   "cell_type": "code",
   "execution_count": null,
   "metadata": {},
   "outputs": [],
   "source": [
    "# The Python core library has three methods called map(), filter(), and reduce().\n",
    "# These methods are possibly the best reasons to use lambda functions."
   ]
  },
  {
   "cell_type": "markdown",
   "metadata": {},
   "source": [
    "**With map()**"
   ]
  },
  {
   "cell_type": "code",
   "execution_count": 22,
   "metadata": {},
   "outputs": [
    {
     "name": "stdout",
     "output_type": "stream",
     "text": [
      "[2, 4, 6, 8, 10, 12]\n",
      "[2, 4, 6, 8, 10, 12]\n"
     ]
    }
   ],
   "source": [
    "# The map() function expects two arguments: a function and a list. It takes that function and applies it on every item of the list and \n",
    "# returns the modified list.\n",
    "def double(x):\n",
    "    return x*2\n",
    "L = [1,2,3,4,5,6]\n",
    "print(list(map(double, L)))\n",
    "print(list(map(lambda x: x*2, L)))"
   ]
  },
  {
   "cell_type": "markdown",
   "metadata": {},
   "source": [
    "**With Filter()**"
   ]
  },
  {
   "cell_type": "code",
   "execution_count": null,
   "metadata": {},
   "outputs": [],
   "source": [
    "def squire(x):\n",
    "    return x**2\n",
    "L = [1,2,3,4,5]\n",
    "squire_list = "
   ]
  },
  {
   "cell_type": "markdown",
   "metadata": {},
   "source": [
    "# Python Classes and Objects"
   ]
  },
  {
   "cell_type": "markdown",
   "metadata": {},
   "source": [
    "1. Can we define each component of a car—like tires, engine, and steering—as separate classes and include them in the Car class using inheritance?\n",
    "   No we can't do this\n",
    "   \n",
    "2. In the above case use the composition. Not inheritance.\n",
    "3. Inheritance is used when something is a type of something else (e.g., a SportsCar is a Car).\n",
    "4. Composition is used when something has other parts (e.g., a Car has an Engine, Tire, etc.)."
   ]
  },
  {
   "cell_type": "markdown",
   "metadata": {},
   "source": [
    "**Example of Composition: if you wanted to make some thing by combining multiple things is called composition.**\n",
    "    \n",
    "    class Engine {\n",
    "    public:\n",
    "        void start() { /* logic */ }\n",
    "    };\n",
    "\n",
    "    class Tire {\n",
    "    public:\n",
    "        void rotate() { /* logic */ }\n",
    "    };\n",
    "\n",
    "    class Steering {\n",
    "    public:\n",
    "        void turn() { /* logic */ }\n",
    "    };\n",
    "\n",
    "    class Car {\n",
    "    private:\n",
    "        Engine engine;\n",
    "        Tire tires[4];\n",
    "        Steering steering;\n",
    "\n",
    "    public:\n",
    "        void drive() {\n",
    "            engine.start();\n",
    "            for (int i = 0; i < 4; ++i) {\n",
    "                tires[i].rotate();\n",
    "            }\n",
    "            steering.turn();\n",
    "        }\n",
    "    };"
   ]
  },
  {
   "cell_type": "markdown",
   "metadata": {},
   "source": [
    "1. The concept of creating a ElectricCar from a car class is inheritance. If we are creating a Car from ElectriCar is this also inheritance.\n",
    "\n",
    "**NOTE: The child class (derived) should always be a specialized version of the parent (base) class.**\n",
    "\n",
    "**Example ofclass Car inheritance:**\n",
    "\n",
    "    {\n",
    "    public:\n",
    "        virtual void drive() = 0;\n",
    "    };\n",
    "\n",
    "    class ElectricCar : public Car {\n",
    "        void drive() override {\n",
    "            // drive using battery\n",
    "        }\n",
    "    };  "
   ]
  },
  {
   "cell_type": "markdown",
   "metadata": {},
   "source": [
    "**When we inherit the car will all the methods in can car can be accessed by the ElecticCar ?**\n",
    "\n",
    "    class Car {\n",
    "    public:\n",
    "        void start() {\n",
    "            cout << \"Car starting...\" << endl;\n",
    "        }\n",
    "\n",
    "    protected:\n",
    "        void accelerate() {\n",
    "            cout << \"Car accelerating...\" << endl;\n",
    "        }\n",
    "\n",
    "    private:\n",
    "        void secretFeature() {\n",
    "            cout << \"Secret feature\" << endl;\n",
    "        }\n",
    "    };\n",
    "\n",
    "    class ElectricCar : public Car {\n",
    "    public:\n",
    "        void chargeBattery() {\n",
    "            cout << \"Charging battery...\" << endl;\n",
    "        }\n",
    "\n",
    "        void drive() {\n",
    "            start();        // ✅ allowed (public)\n",
    "            accelerate();   // ✅ allowed (protected)\n",
    "            // secretFeature(); ❌ error - private methods are not accessible\n",
    "        }\n",
    "    };"
   ]
  },
  {
   "cell_type": "markdown",
   "metadata": {},
   "source": [
    "| Access Specifier | Accessible in Derived Class?  | Accessible Outside the Class? |\n",
    "| ---------------- | ----------------------------  | ----------------------------- |\n",
    "| `public`         | ✅ Yes                        | ✅ Yes                      |\n",
    "| `protected`      | ✅ Yes                        | ❌ No                       |\n",
    "| `private`        | ❌ No                         | ❌ No                       |"
   ]
  },
  {
   "cell_type": "markdown",
   "metadata": {},
   "source": [
    "I.E: How we use our social media which things we wanted to show to outside we put public and which we don't wanted to show outside private.\n",
    "     then what is protected. Protected is like we will give access to cetain situation."
   ]
  },
  {
   "cell_type": "markdown",
   "metadata": {},
   "source": [
    "**There are two different class with no relation ship is that ok to inherit one from other**\n",
    "    \n",
    "    1. If two classes have no logical relationship, then you should NOT use inheritance between them.\n",
    "    2. Inheritance means \"is-a\" — if that doesn't make sense between two classes, using inheritance leads to bad design, confusion, and future bugs.\n",
    "    3. I.E: A is a B:  \"A is-a B\" means that A is a specialized type of B.\n",
    "\n",
    "       a. Similarly ElectricCar is a specialized tyoe of Car.✅ Yes  \n",
    "       b. Dog is a type of animal. ✅ Yes  \n",
    "       c. Car is a type of engine. ❌ No \n",
    "       d. Userinterface is a type of Database. ❌ No  "
   ]
  },
  {
   "cell_type": "markdown",
   "metadata": {},
   "source": [
    "**What does protected mean?**\n",
    "    \n",
    "    protected members are:\n",
    "        accessible within the same class ✅\n",
    "        accessible in derived (child) classes ✅\n",
    "        NOT accessible from outside the class ❌"
   ]
  },
  {
   "cell_type": "code",
   "execution_count": 7,
   "metadata": {},
   "outputs": [],
   "source": [
    "class car:\n",
    "    pass  # pass states that this class is empty"
   ]
  },
  {
   "cell_type": "code",
   "execution_count": 8,
   "metadata": {},
   "outputs": [
    {
     "ename": "NameError",
     "evalue": "name '__init__' is not defined",
     "output_type": "error",
     "traceback": [
      "\u001b[1;31m---------------------------------------------------------------------------\u001b[0m",
      "\u001b[1;31mNameError\u001b[0m                                 Traceback (most recent call last)",
      "\u001b[1;32m<ipython-input-8-15f9e623d6c4>\u001b[0m in \u001b[0;36m<module>\u001b[1;34m\u001b[0m\n\u001b[1;32m----> 1\u001b[1;33m \u001b[0m__init__\u001b[0m\u001b[1;33m(\u001b[0m\u001b[1;33m)\u001b[0m\u001b[1;33m\u001b[0m\u001b[0m\n\u001b[0m\u001b[0;32m      2\u001b[0m \u001b[1;31m# 1. This a special method used for initialize a class object\u001b[0m\u001b[1;33m\u001b[0m\u001b[1;33m\u001b[0m\u001b[0m\n\u001b[0;32m      3\u001b[0m \u001b[1;31m# 2. This method runs automatically each time an object of a class is created.\u001b[0m\u001b[1;33m\u001b[0m\u001b[1;33m\u001b[0m\u001b[0m\n\u001b[0;32m      4\u001b[0m \u001b[1;31m# 3. The __init__() method is generally used to perform operations that are necessary before the object is created.\u001b[0m\u001b[1;33m\u001b[0m\u001b[1;33m\u001b[0m\u001b[0m\n",
      "\u001b[1;31mNameError\u001b[0m: name '__init__' is not defined"
     ]
    }
   ],
   "source": [
    "__init__()\n",
    "# 1. This a special method used for initialize a class object\n",
    "# 2. This method runs automatically each time an object of a class is created.\n",
    "# 3. The __init__() method is generally used to perform operations that are necessary before the object is created. "
   ]
  },
  {
   "cell_type": "code",
   "execution_count": 9,
   "metadata": {},
   "outputs": [],
   "source": [
    "class Car:\n",
    "    # initializer\n",
    "    def __init__(self):\n",
    "        pass\n",
    "    \n",
    "# 1. When you define __init__() in a class definition, its first parameter should be self\n",
    "# 2. The self parameter refers to the individual object itself. It is used to fetch or set attributes of the particular instance.\n",
    "# 3. "
   ]
  },
  {
   "cell_type": "markdown",
   "metadata": {},
   "source": [
    "# Attributes"
   ]
  },
  {
   "cell_type": "code",
   "execution_count": null,
   "metadata": {},
   "outputs": [],
   "source": [
    "# 1. Every class you write in Python has two basic features: attributes and methods\n",
    "# 2. Attributes are the individual things that differentiate one object from another. \n",
    "#    They determine the appearance, state, or other qualities of that object.\n",
    "# 3. In our case, the ‘Car’ class might have the following attributes: \n",
    "    # style: sedan, suv, coupe etc\n",
    "    # Color: Silver, Black, White\n",
    "    # Wheels: Four\n",
    "\n",
    "# In python attributes of a object are defined by variables."
   ]
  },
  {
   "cell_type": "markdown",
   "metadata": {},
   "source": [
    "**There are two types of attributes: Instance attributes and Class attributes.**"
   ]
  },
  {
   "cell_type": "markdown",
   "metadata": {},
   "source": [
    "**1. Instance attributes:** These are unique to each object created.\n",
    "\n",
    "**2. Class attributes:** These are common to all the object instances created.    "
   ]
  },
  {
   "cell_type": "code",
   "execution_count": 11,
   "metadata": {},
   "outputs": [],
   "source": [
    "# Instance attributes ex:\n",
    "\n",
    "class car:\n",
    "    \n",
    "    def __init__(self, color, style):\n",
    "        self.color = color\n",
    "        self.style = style"
   ]
  },
  {
   "cell_type": "code",
   "execution_count": 17,
   "metadata": {},
   "outputs": [
    {
     "data": {
      "text/plain": [
       "'Black'"
      ]
     },
     "execution_count": 17,
     "metadata": {},
     "output_type": "execute_result"
    }
   ],
   "source": [
    "# Class attributes ex:\n",
    "\n",
    "# Create an object from the 'Car' class by passing style and color\n",
    "class Car:\n",
    "\n",
    "    # class attribute\n",
    "    wheels = 4\n",
    "\n",
    "    # initializer with instance attributes\n",
    "    def __init__(self, color, style):\n",
    "        self.color = color\n",
    "        self.style = style\n",
    "\n",
    "c = Car('Sedan', 'Black')\n",
    "c.wheels\n",
    "c.style\n",
    "# c.color"
   ]
  },
  {
   "cell_type": "markdown",
   "metadata": {},
   "source": [
    "# Access and Modify Attributes"
   ]
  },
  {
   "cell_type": "markdown",
   "metadata": {},
   "source": [
    "**The attributes of an instance are accessed and assigned to by using dot . notation.**"
   ]
  },
  {
   "cell_type": "code",
   "execution_count": 24,
   "metadata": {},
   "outputs": [
    {
     "data": {
      "text/plain": [
       "'Sedan'"
      ]
     },
     "execution_count": 24,
     "metadata": {},
     "output_type": "execute_result"
    }
   ],
   "source": [
    "c.wheels\n",
    "c.style\n",
    "c.color"
   ]
  },
  {
   "cell_type": "markdown",
   "metadata": {},
   "source": [
    "# Methods"
   ]
  },
  {
   "cell_type": "markdown",
   "metadata": {},
   "source": [
    "**Note:** Methods determine what type of functionality a class has, how it handles its data, and its overall behavior.\n",
    "Without methods, a class would simply be a structure."
   ]
  },
  {
   "cell_type": "markdown",
   "metadata": {},
   "source": [
    "In our case, the ‘Car’ class might have the following methods:   \n",
    "\n",
    "Change color\n",
    "Start engine\n",
    "Stop engine\n",
    "Change gear"
   ]
  },
  {
   "cell_type": "markdown",
   "metadata": {},
   "source": [
    "**Just as there are instance and class attributes, there are also instance and class methods.**"
   ]
  },
  {
   "cell_type": "markdown",
   "metadata": {},
   "source": [
    "| Access Level | Syntax   | Meaning                                    |\n",
    "| ------------ | -------- | ------------------------------------------ |\n",
    "| Public       | `name`   | Accessible from anywhere (default) ✅       |\n",
    "| Protected    | `_name`  | Convention: internal use (not enforced) ⚠️ |\n",
    "| Private      | `__name` | Name mangling: harder to access ❌          |\n"
   ]
  },
  {
   "cell_type": "code",
   "execution_count": 26,
   "metadata": {},
   "outputs": [
    {
     "name": "stdout",
     "output_type": "stream",
     "text": [
      "Total cars: 0\n",
      "Total cars: 2\n",
      "Total cars: 2\n"
     ]
    }
   ],
   "source": [
    "class Car:\n",
    "    total_cars = 0\n",
    "\n",
    "    def __init__(self, brand):\n",
    "        self.brand = brand\n",
    "        Car.total_cars += 1\n",
    "\n",
    "    @classmethod\n",
    "    def show_total_cars(cls):  # class method\n",
    "        print(f\"Total cars: {cls.total_cars}\")\n",
    "\n",
    "# Call using class name\n",
    "Car.show_total_cars()  # ✅ Output: Total cars: 0\n",
    "\n",
    "# Create objects\n",
    "c1 = Car(\"Honda\")\n",
    "c2 = Car(\"BMW\")\n",
    "\n",
    "# Call using class again\n",
    "Car.show_total_cars()  # ✅ Output: Total cars: 2\n",
    "\n",
    "# You can also call from an object\n",
    "c1.show_total_cars()  # ✅ Also works: Output: Total cars: 2"
   ]
  },
  {
   "cell_type": "markdown",
   "metadata": {},
   "source": [
    "# Delete Attributes and Objects"
   ]
  },
  {
   "cell_type": "code",
   "execution_count": 3,
   "metadata": {},
   "outputs": [
    {
     "ename": "NameError",
     "evalue": "name 'c' is not defined",
     "output_type": "error",
     "traceback": [
      "\u001b[1;31m---------------------------------------------------------------------------\u001b[0m",
      "\u001b[1;31mNameError\u001b[0m                                 Traceback (most recent call last)",
      "\u001b[1;32m<ipython-input-3-6d6f4c0a9c36>\u001b[0m in \u001b[0;36m<module>\u001b[1;34m\u001b[0m\n\u001b[1;32m----> 1\u001b[1;33m \u001b[1;32mdel\u001b[0m \u001b[0mc\u001b[0m\u001b[1;33m.\u001b[0m\u001b[0mcolor\u001b[0m \u001b[1;31m# del c.color is how you delete the attribute from the object.\u001b[0m\u001b[1;33m\u001b[0m\u001b[0m\n\u001b[0m\u001b[0;32m      2\u001b[0m \u001b[1;32mdel\u001b[0m \u001b[0mc\u001b[0m\u001b[1;33m\u001b[0m\u001b[0m\n\u001b[0;32m      3\u001b[0m \u001b[1;33m\u001b[0m\u001b[0m\n\u001b[0;32m      4\u001b[0m \u001b[1;31m# After deletion, if you try to access c.color, you will get an AttributeError:\u001b[0m\u001b[1;33m\u001b[0m\u001b[1;33m\u001b[0m\u001b[0m\n",
      "\u001b[1;31mNameError\u001b[0m: name 'c' is not defined"
     ]
    }
   ],
   "source": [
    "del c.color # del c.color is how you delete the attribute from the object.\n",
    "del c\n",
    "# After deletion, if you try to access c.color, you will get an AttributeError:"
   ]
  },
  {
   "cell_type": "markdown",
   "metadata": {},
   "source": [
    "# Python Inheritance"
   ]
  },
  {
   "cell_type": "markdown",
   "metadata": {},
   "source": [
    "1. When you want to extend the functionality of an existing class, you can just modify that class. But there’s a good \n",
    "   chance you’ll make it more complicated or break something that used to work.\n",
    "2. Of course, you can write a new class. But that means you have more code to maintain, \n",
    "   and the parts of the old class that used to work might drift apart.\n",
    "\n",
    "The solution is inheritance."
   ]
  },
  {
   "cell_type": "markdown",
   "metadata": {},
   "source": [
    "# What Is Inheritance?"
   ]
  },
  {
   "cell_type": "markdown",
   "metadata": {},
   "source": [
    "1. Inheritance is the process of creating a new class from an existing one.\n",
    "2. A class created through inheritance can use all the code (e.g. attributes and methods) from the old class.\n",
    "3. When one class inherits from another, the inheriting class is known as a child, subclass, or derived class,\n",
    "   and the class it inherits from is known as its parent, superclass, or base class."
   ]
  },
  {
   "cell_type": "markdown",
   "metadata": {},
   "source": [
    "# Analogy"
   ]
  },
  {
   "cell_type": "code",
   "execution_count": null,
   "metadata": {},
   "outputs": [],
   "source": [
    "1. There exists a hierarchy relationship between classes. It’s similar to relationships that you know from real life.\n",
    "2. Think about vehicles, for example. Bikes, cars, buses and trucks, all share the characteristics of vehicles (speed, color, gear).\n",
    "   Yet each has additional features that make them different.\n",
    "3. Keeping that in mind, you could implement a Vehicle (as a base) class in Python. Whereas, Cars, Buses and Trucks and Bikes can be implemented as subclasses \n",
    "   which will inherit from vehicle.\n",
    "    \n",
    "4. ![image info](Python-Inheritance-Illustration (1).png)"
   ]
  },
  {
   "cell_type": "code",
   "execution_count": 11,
   "metadata": {},
   "outputs": [],
   "source": [
    "class Vehicle:\n",
    "    def description(self):\n",
    "        print(\"I am a vehicle\")"
   ]
  },
  {
   "cell_type": "code",
   "execution_count": 21,
   "metadata": {},
   "outputs": [
    {
     "name": "stdout",
     "output_type": "stream",
     "text": [
      "I am a vehicle\n",
      "the speed of the vehicle 10\n",
      "I am a vehicle\n"
     ]
    }
   ],
   "source": [
    "class car(Vehicle):\n",
    "    def speed(self,a):\n",
    "            print(\"the speed of the vehicle\", a)\n",
    "#     def description(self):\n",
    "#         print(\"I am a car\")\n",
    "\n",
    "c =  car()\n",
    "c.description()\n",
    "c.speed(10)\n",
    "v = Vehicle()\n",
    "v.description()"
   ]
  },
  {
   "cell_type": "code",
   "execution_count": null,
   "metadata": {},
   "outputs": [],
   "source": [
    "1. Notice that without doing anything special, the new Car class automatically gained all of the characteristics of Vehicle, such as its description() method."
   ]
  },
  {
   "cell_type": "markdown",
   "metadata": {},
   "source": [
    "# Override a Method"
   ]
  },
  {
   "cell_type": "code",
   "execution_count": 30,
   "metadata": {},
   "outputs": [
    {
     "name": "stdout",
     "output_type": "stream",
     "text": [
      "I am a Car\n",
      "Suv\n",
      "I am a Vehicle\n"
     ]
    }
   ],
   "source": [
    "class Vehicle():\n",
    "    def description(self):\n",
    "        print(\"I am a Vehicle\")\n",
    "\n",
    "class Car():\n",
    "    def description(self):\n",
    "        print(\"I am a Car\")\n",
    "    def model(self):\n",
    "        print(\"Suv\")\n",
    "car = Car()\n",
    "car.description()\n",
    "car.model()\n",
    "vehicle =  Vehicle()\n",
    "vehicle.description()"
   ]
  },
  {
   "cell_type": "markdown",
   "metadata": {},
   "source": [
    "**When a subclass provides its own custom implementation of a method that is already provided by its base class, it is known as overriding.**"
   ]
  },
  {
   "cell_type": "code",
   "execution_count": 39,
   "metadata": {},
   "outputs": [
    {
     "name": "stdout",
     "output_type": "stream",
     "text": [
      "1\n",
      "1\n",
      "10\n"
     ]
    }
   ],
   "source": [
    "class Vehicle():\n",
    "    wheel = 1\n",
    "    def description(self):\n",
    "        print(\"I am a Vehicle\")\n",
    "\n",
    "class Car(Vehicle):\n",
    "    type = \"suv\"\n",
    "    def desciption(self):\n",
    "        print(\"I am a Car\")\n",
    "    def owner(self, owner):\n",
    "        print(\"I am {} owner of this car\")\n",
    "    \n",
    "c = Car()\n",
    "v = Vehicle()\n",
    "print(c.wheel)\n",
    "c.wheel = 10\n",
    "print(v.wheel)\n",
    "print(c.wheel)"
   ]
  },
  {
   "cell_type": "markdown",
   "metadata": {},
   "source": [
    "**There is no need to define data variable like c++**"
   ]
  },
  {
   "cell_type": "code",
   "execution_count": 44,
   "metadata": {},
   "outputs": [
    {
     "name": "stdout",
     "output_type": "stream",
     "text": [
      "Car Suv MRF\n"
     ]
    }
   ],
   "source": [
    "class Vehicle():\n",
    "    def __init__(self):\n",
    "        self.type = \"Car\"\n",
    "        self.model = \"Suv\"\n",
    "        self.tire_type = \"MRF\"\n",
    "car = Vehicle()\n",
    "print(car.type, car.model, car.tire_type)"
   ]
  },
  {
   "cell_type": "code",
   "execution_count": 71,
   "metadata": {},
   "outputs": [
    {
     "name": "stdout",
     "output_type": "stream",
     "text": [
      " Access through object:  5 Access with class: 5\n",
      "The speed default\n",
      "The speed default\n",
      "10\n"
     ]
    }
   ],
   "source": [
    "class Vehicle():\n",
    "    def description(self):\n",
    "        print(\"I am a Vehicle\")\n",
    "        \n",
    "class Car(Vehicle):\n",
    "    wheels = 5\n",
    "    def __init__(self):\n",
    "        self.speed = 50    \n",
    "    def description(self):\n",
    "        print(\"I am a Car\")\n",
    "    def setspeed(self, speed):\n",
    "        self.speed = speed\n",
    "    @classmethod\n",
    "    def currentspeed(cls):\n",
    "        print(\"The speed default\")\n",
    "car = Car()\n",
    "car.speed\n",
    "car.setspeed(100)\n",
    "car.speed\n",
    "print(\" Access through object: \",car.wheels, \"Access with class:\", Car.wheels)\n",
    "car.wheels = 6\n",
    "Car.currentspeed()\n",
    "car.currentspeed()\n",
    "# Car.setspeed()\n",
    "# Car.description()\n",
    "Car.speed = 10\n",
    "print(Car.speed)"
   ]
  },
  {
   "cell_type": "code",
   "execution_count": null,
   "metadata": {},
   "outputs": [],
   "source": [
    "1. Class can not access the object methods unless obj of the class is created.\n",
    "2. Class attibutes or variable can be accessed by the class name and its objects.\n",
    "3. Class methods can be accessed by class name and class instance(obj).\n",
    "4. Class can access the object attributes or variables as object (public)"
   ]
  },
  {
   "cell_type": "markdown",
   "metadata": {},
   "source": [
    "# The super() Function"
   ]
  },
  {
   "cell_type": "markdown",
   "metadata": {},
   "source": [
    "1. When you override a method, you sometimes want to reuse the method of the base class and add some new stuff. You can achieve this by using the super() Function."
   ]
  },
  {
   "cell_type": "code",
   "execution_count": 78,
   "metadata": {},
   "outputs": [
    {
     "name": "stdout",
     "output_type": "stream",
     "text": [
      "<__main__.Car object at 0x0000011BBC1B1EB8>\n",
      "red suv\n"
     ]
    }
   ],
   "source": [
    "class Vehicle():\n",
    "    def __init__(self, color):\n",
    "        self.color = color\n",
    "    def description():\n",
    "        print(\"I am a Vehicle\")\n",
    "    \n",
    "class Car(Vehicle):\n",
    "    def __init__(self, color, model):\n",
    "        super().__init__(color)\n",
    "        self.model = model\n",
    "    def description(self):\n",
    "        print(\"I am a car\")\n",
    "\n",
    "Maruthi34 = Car(\"red\",\"suv\")\n",
    "print(Maruthi34)\n",
    "print(Maruthi34.color, Maruthi34.model)"
   ]
  },
  {
   "cell_type": "markdown",
   "metadata": {},
   "source": [
    "# Multiple Inheritance"
   ]
  },
  {
   "cell_type": "code",
   "execution_count": 88,
   "metadata": {},
   "outputs": [
    {
     "name": "stdout",
     "output_type": "stream",
     "text": [
      "I am a Flying Vehicle\n",
      "Flying in the air\n",
      "Runing on the road\n"
     ]
    }
   ],
   "source": [
    "class GroundCar():\n",
    "    def description(self):\n",
    "        print(\"I am a Ground Car\")\n",
    "    def run(self):\n",
    "        print(\"Runing on the road\")\n",
    "class FlyingCar(GroundCar):\n",
    "    def description(self):\n",
    "        print(\"I am a FlyingCar\")\n",
    "    def fly(self):\n",
    "        print(\"Flying in the air\")\n",
    "class FlyingVehicle(FlyingCar):           # (GroundCar, FlyingCar create issue)\n",
    "    def description(self):\n",
    "        print(\"I am a Flying Vehicle\")\n",
    "Heli = FlyingVehicle()\n",
    "Heli.description()\n",
    "Heli.fly()\n",
    "Heli.run()"
   ]
  },
  {
   "cell_type": "code",
   "execution_count": 89,
   "metadata": {},
   "outputs": [
    {
     "name": "stdout",
     "output_type": "stream",
     "text": [
      "A\n"
     ]
    }
   ],
   "source": [
    "class A():\n",
    "    print(\"A\")\n",
    "class B(A):\n",
    "    pass\n",
    "class C(A):\n",
    "    pass\n",
    "class D(B,C):\n",
    "    pass"
   ]
  },
  {
   "cell_type": "markdown",
   "metadata": {},
   "source": [
    "**Here, Python uses the Method Resolution Order (MRO) to avoid ambiguity:**"
   ]
  },
  {
   "cell_type": "code",
   "execution_count": 91,
   "metadata": {},
   "outputs": [
    {
     "name": "stdout",
     "output_type": "stream",
     "text": [
      "[<class '__main__.D'>, <class '__main__.B'>, <class '__main__.C'>, <class '__main__.A'>, <class 'object'>]\n"
     ]
    }
   ],
   "source": [
    "print(D.mro())"
   ]
  },
  {
   "cell_type": "markdown",
   "metadata": {},
   "source": [
    "**NOTE: A included 2 times but in the mro there is only one class is included**\n",
    "1. Just consider inheritance is just combining two or more class es effectively."
   ]
  },
  {
   "cell_type": "code",
   "execution_count": 5,
   "metadata": {},
   "outputs": [
    {
     "name": "stdout",
     "output_type": "stream",
     "text": [
      "Glasses and Plates are Arranged\n",
      "Sit Comfortabily\n"
     ]
    }
   ],
   "source": [
    "class Table():\n",
    "    def put_things(self):\n",
    "        print(\"Glasses and Plates are Arranged\")\n",
    "class Chair():\n",
    "    def sitting(self):\n",
    "        print(\"Sit Comfortabily\")\n",
    "class Hotel(Table, Chair):\n",
    "    pass\n",
    "\n",
    "hotel = Hotel()\n",
    "hotel.put_things()\n",
    "hotel.sitting()"
   ]
  },
  {
   "cell_type": "markdown",
   "metadata": {},
   "source": [
    "# Python Decorators"
   ]
  },
  {
   "cell_type": "markdown",
   "metadata": {},
   "source": [
    "**1. Sometimes you want to modify an existing function without changing its source code.**\n",
    "\n",
    "**2. A common example is adding extra processing <span style='color: red;'>(e.g. logging, timing, etc.)</span> to the function.**\n",
    "\n",
    "**3. A decorator is a function that accepts a function as input and returns a new function as output, allowing you to extend the behavior of the function without explicitly modifying it**"
   ]
  },
  {
   "cell_type": "markdown",
   "metadata": {},
   "source": [
    "**Every decorator is a form of metaprogramming.**\n",
    "\n",
    "*Metaprogramming is about creating functions and classes whose main goal is to manipulate code (e.g., modifying, generating, or wrapping existing code).*"
   ]
  },
  {
   "cell_type": "markdown",
   "metadata": {},
   "source": [
    "# Python Functions"
   ]
  },
  {
   "cell_type": "markdown",
   "metadata": {},
   "source": [
    "* In Python, functions are first-class objects. This means that they can be passed as arguments, *\n",
    "\n",
    "* Just like any other object (string, int, float, list etc.). It is like map or filter before, then you already know about it.*"
   ]
  },
  {
   "cell_type": "markdown",
   "metadata": {},
   "source": [
    "# Pass Function as Arguments"
   ]
  },
  {
   "cell_type": "code",
   "execution_count": 32,
   "metadata": {},
   "outputs": [
    {
     "name": "stdout",
     "output_type": "stream",
     "text": [
      "Hello from to hello1\n",
      "Hello from to hello2\n"
     ]
    }
   ],
   "source": [
    "def hello1():\n",
    "    print(\"Hello from to hello1\")\n",
    "\n",
    "def hello2():\n",
    "    print(\"Hello from to hello2\")\n",
    "\n",
    "def fun(func):\n",
    "    func()\n",
    "\n",
    "fun(hello1)\n",
    "fun(hello2)"
   ]
  },
  {
   "cell_type": "code",
   "execution_count": 35,
   "metadata": {},
   "outputs": [
    {
     "name": "stdout",
     "output_type": "stream",
     "text": [
      "30\n",
      "-20\n"
     ]
    }
   ],
   "source": [
    "def sum(a, b):\n",
    "    return a+b\n",
    "\n",
    "def sub(c, d):\n",
    "    return c-d\n",
    "\n",
    "def fun(func):\n",
    "    print(func())\n",
    "\n",
    "fun(lambda: sum(10,20))\n",
    "fun(lambda: sub(10, 30))"
   ]
  },
  {
   "cell_type": "markdown",
   "metadata": {},
   "source": [
    "# Inner Functions"
   ]
  },
  {
   "cell_type": "code",
   "execution_count": 36,
   "metadata": {},
   "outputs": [
    {
     "name": "stdout",
     "output_type": "stream",
     "text": [
      "Running inner\n"
     ]
    }
   ],
   "source": [
    "def outer_function():\n",
    "    def inner_function():\n",
    "        print(\"Running inner\")\n",
    "    inner_function()\n",
    "\n",
    "outer_function()"
   ]
  },
  {
   "cell_type": "markdown",
   "metadata": {},
   "source": [
    "# Returning a Function"
   ]
  },
  {
   "cell_type": "code",
   "execution_count": 41,
   "metadata": {},
   "outputs": [
    {
     "name": "stdout",
     "output_type": "stream",
     "text": [
      "10\n",
      "hello\n"
     ]
    }
   ],
   "source": [
    "def returning_fun():\n",
    "    def wrap(a):\n",
    "        print(a)\n",
    "    return wrap\n",
    "\n",
    "fun = returning_fun()\n",
    "fun(10)\n",
    "fun(\"hello\")"
   ]
  },
  {
   "cell_type": "markdown",
   "metadata": {},
   "source": [
    "**Now that you’ve learned that functions are just like any other object in Python, you are now ready to learn decorators.**"
   ]
  },
  {
   "cell_type": "markdown",
   "metadata": {},
   "source": [
    "# Simple Decorator: Below topics helps to write decorators in python"
   ]
  },
  {
   "cell_type": "markdown",
   "metadata": {},
   "source": [
    "1. Passing function as argument\n",
    "2. Defining function inside a function definition\n",
    "3. Return a function like any regular type."
   ]
  },
  {
   "cell_type": "code",
   "execution_count": 76,
   "metadata": {},
   "outputs": [
    {
     "name": "stdout",
     "output_type": "stream",
     "text": [
      "starting time\n",
      "ending time\n"
     ]
    }
   ],
   "source": [
    "def simple_decorator(func):\n",
    "    def wrapper():\n",
    "        print(\"starting time\")\n",
    "        func()\n",
    "        print(\"ending time\")\n",
    "    return wrapper\n",
    "\n",
    "def simple_decorator(func):\n",
    "    def wrapper(*args, **kwargs):\n",
    "        print(\"starting time\")\n",
    "        func(*args,*kwargs)\n",
    "        print(\"ending time\")\n",
    "    return wrapper\n",
    "\n",
    "def fun(a,b):\n",
    "    a+b\n",
    "\n",
    "# fun =  simple_decorator(lambda: fun(10,20))\n",
    "fun = simple_decorator(fun)\n",
    "fun(10, 20)"
   ]
  },
  {
   "cell_type": "code",
   "execution_count": 77,
   "metadata": {},
   "outputs": [
    {
     "name": "stdout",
     "output_type": "stream",
     "text": [
      "Before function call\n",
      "inside the wrapper\n",
      "After function call\n",
      "Before function call\n",
      "Before function call\n",
      "inside the wrapper\n",
      "After function call\n",
      "After function call\n"
     ]
    }
   ],
   "source": [
    "def decorate_it(func):\n",
    "    def wrapper():\n",
    "        print(\"Before function call\")\n",
    "        func()\n",
    "        print(\"After function call\")\n",
    "    return wrapper\n",
    "\n",
    "@decorate_it\n",
    "def hello():\n",
    "    print(\"inside the wrapper\")\n",
    "\n",
    "hello() # This is equalent to hello =  decorate_it(hello)\n",
    "hello = decorate_it(hello)\n",
    "hello()\n",
    "# fun = simple_decorator(lambda: fun(10,20))\n",
    "# fun()"
   ]
  },
  {
   "cell_type": "markdown",
   "metadata": {},
   "source": [
    "# Decorating Functions that Takes Arguments"
   ]
  },
  {
   "cell_type": "code",
   "execution_count": 82,
   "metadata": {},
   "outputs": [
    {
     "ename": "TypeError",
     "evalue": "wrap() takes 0 positional arguments but 1 was given",
     "output_type": "error",
     "traceback": [
      "\u001b[1;31m---------------------------------------------------------------------------\u001b[0m",
      "\u001b[1;31mTypeError\u001b[0m                                 Traceback (most recent call last)",
      "\u001b[1;32m<ipython-input-82-2746860b0618>\u001b[0m in \u001b[0;36m<module>\u001b[1;34m\u001b[0m\n\u001b[0;32m     10\u001b[0m     \u001b[0mprint\u001b[0m\u001b[1;33m(\u001b[0m\u001b[0marg\u001b[0m\u001b[1;33m)\u001b[0m\u001b[1;33m\u001b[0m\u001b[0m\n\u001b[0;32m     11\u001b[0m \u001b[1;33m\u001b[0m\u001b[0m\n\u001b[1;32m---> 12\u001b[1;33m \u001b[0mhello\u001b[0m\u001b[1;33m(\u001b[0m\u001b[1;34m\"hello\"\u001b[0m\u001b[1;33m)\u001b[0m\u001b[1;33m\u001b[0m\u001b[0m\n\u001b[0m",
      "\u001b[1;31mTypeError\u001b[0m: wrap() takes 0 positional arguments but 1 was given"
     ]
    }
   ],
   "source": [
    "def decorate(func):\n",
    "    def wrap():\n",
    "        print(\"before\")\n",
    "        func()\n",
    "        print(\"after\")\n",
    "    return wrap\n",
    "\n",
    "@decorate\n",
    "def hello(arg):\n",
    "    print(arg)\n",
    "    \n",
    "hello(\"hello\")"
   ]
  },
  {
   "cell_type": "markdown",
   "metadata": {},
   "source": [
    "* Because, the inner function wrapper() does not take any arguments, but we passed one argument.*"
   ]
  },
  {
   "cell_type": "markdown",
   "metadata": {},
   "source": [
    "* The solution is to include *args and **kwargs in the inner wrapper function. The use of *args and **kwargs is there to make sure that any number of input arguments can be accepted.*"
   ]
  },
  {
   "cell_type": "code",
   "execution_count": 85,
   "metadata": {},
   "outputs": [
    {
     "name": "stdout",
     "output_type": "stream",
     "text": [
      "before\n",
      "world\n",
      "after\n"
     ]
    }
   ],
   "source": [
    "def decorate(func):\n",
    "    def wrap(*args, **kwargs):\n",
    "        print(\"before\")\n",
    "        func(*args, **kwargs)\n",
    "        print(\"after\")\n",
    "    return wrap\n",
    "\n",
    "@decorate\n",
    "def hello(arg):\n",
    "    print(arg)\n",
    "\n",
    "hello(\"world\")"
   ]
  },
  {
   "cell_type": "code",
   "execution_count": 92,
   "metadata": {},
   "outputs": [
    {
     "name": "stdout",
     "output_type": "stream",
     "text": [
      "before\n",
      "after\n",
      "None\n"
     ]
    }
   ],
   "source": [
    "def decorate1(func):\n",
    "    def wrap(*args, **kwargs):\n",
    "        print(\"before\")\n",
    "        func(*args, **kwargs)\n",
    "        print(\"after\")\n",
    "    return wrap\n",
    "\n",
    "@decorate1\n",
    "def hello(name):\n",
    "    return \"Hello\" + name\n",
    "\n",
    "result = hello(\"bob\")\n",
    "print(result)"
   ]
  },
  {
   "cell_type": "markdown",
   "metadata": {},
   "source": [
    "**1. Because the decorate_it() doesn’t explicitly return a value, the call hello(\"Bob\") ended up returning None.**\n",
    "\n",
    "**2. To fix this, you need to make sure the wrapper function returns the return value of the inner function.**`"
   ]
  },
  {
   "cell_type": "code",
   "execution_count": 98,
   "metadata": {},
   "outputs": [
    {
     "name": "stdout",
     "output_type": "stream",
     "text": [
      "Before\n",
      "After\n",
      "Hello Bob\n"
     ]
    }
   ],
   "source": [
    "def decorate(func):\n",
    "    def wrap(*a, **kw):\n",
    "        print(\"Before\")\n",
    "        Result = func(*a, **kw)\n",
    "        print(\"After\")\n",
    "        return Result\n",
    "    return wrap\n",
    "\n",
    "@decorate\n",
    "def hello(name):\n",
    "    return \"Hello \" + name\n",
    "\n",
    "result = hello(\"Bob\")\n",
    "print(result)"
   ]
  },
  {
   "cell_type": "markdown",
   "metadata": {},
   "source": [
    "# Preserving Function Metadata"
   ]
  },
  {
   "cell_type": "code",
   "execution_count": 26,
   "metadata": {},
   "outputs": [
    {
     "name": "stdout",
     "output_type": "stream",
     "text": [
      "Before\n",
      "Hello\n",
      "After\n"
     ]
    }
   ],
   "source": [
    "def decorate1(func):\n",
    "    def wrapper():\n",
    "#         '''Function that greets'''\n",
    "        print(\"Before\")\n",
    "        func()\n",
    "        print(\"After\")\n",
    "    return wrapper\n",
    "    \n",
    "@decorate1\n",
    "def hello1():\n",
    "    '''Function that greets'''\n",
    "    print(\"Hello\")\n",
    "\n",
    "hello1()"
   ]
  },
  {
   "cell_type": "markdown",
   "metadata": {},
   "source": [
    "**Copying decorator metadata is an important part of writing decorators.**\n",
    "\n",
    "**When you apply a decorator to a function, important metadata such as the name, doc string, annotations, and calling signature are lost.**"
   ]
  },
  {
   "cell_type": "code",
   "execution_count": 27,
   "metadata": {},
   "outputs": [
    {
     "name": "stdout",
     "output_type": "stream",
     "text": [
      "wrapper\n",
      "None\n",
      "<function decorate1.<locals>.wrapper at 0x000001A058827C80>\n"
     ]
    }
   ],
   "source": [
    "print(hello1.__name__)\n",
    "print(hello1.__doc__)\n",
    "print(hello1)"
   ]
  },
  {
   "cell_type": "markdown",
   "metadata": {},
   "source": [
    "**To fix this, apply the @wraps decorator from the functools library to the underlying wrapp**"
   ]
  },
  {
   "cell_type": "markdown",
   "metadata": {},
   "source": [
    "**1. In the above it has to show the actual function detail instead of the wrapper function details. So to get the original function details we use @wraps**"
   ]
  },
  {
   "cell_type": "code",
   "execution_count": 7,
   "metadata": {},
   "outputs": [
    {
     "name": "stdout",
     "output_type": "stream",
     "text": [
      "hello\n",
      "This is Greeting function\n",
      "<function hello at 0x00000175E7DCA378>\n"
     ]
    }
   ],
   "source": [
    "from functools import wraps\n",
    "\n",
    "def dec(func):\n",
    "    @wraps(func)\n",
    "    def wrap():\n",
    "        print(\"Before\")\n",
    "        func()\n",
    "        print(\"After\")\n",
    "    return wrap\n",
    "\n",
    "@dec\n",
    "def hello():\n",
    "    '''This is Greeting function'''\n",
    "    print(\"Hello Original\")\n",
    "    \n",
    "print(hello.__name__)\n",
    "print(hello.__doc__)\n",
    "print(hello)"
   ]
  },
  {
   "cell_type": "markdown",
   "metadata": {},
   "source": [
    "# Unwrapping a Decorator"
   ]
  },
  {
   "cell_type": "code",
   "execution_count": 8,
   "metadata": {},
   "outputs": [
    {
     "name": "stdout",
     "output_type": "stream",
     "text": [
      "Hello Original\n"
     ]
    }
   ],
   "source": [
    "original_fun = hello.__wrapped__\n",
    "original_fun()"
   ]
  },
  {
   "cell_type": "markdown",
   "metadata": {},
   "source": [
    "# Nesting Decorators"
   ]
  },
  {
   "cell_type": "markdown",
   "metadata": {},
   "source": [
    "**You can have more than one decorator for a function. To demonstrate this let’s write two decorators:**"
   ]
  },
  {
   "cell_type": "code",
   "execution_count": 17,
   "metadata": {},
   "outputs": [
    {
     "name": "stdout",
     "output_type": "stream",
     "text": [
      "Before\n",
      "Before\n",
      "dec_squire:  3\n",
      "dec_double:  9\n",
      "18\n"
     ]
    }
   ],
   "source": [
    "from functools import wraps\n",
    "\n",
    "def dec_double(func):\n",
    "    @wraps(func)\n",
    "    def wrapper(*args, **kwargs):\n",
    "        print(\"Before\")\n",
    "        result = func(*args, **kwargs)\n",
    "        print(\"dec_double: \", result)\n",
    "        return result * 2\n",
    "    return wrapper\n",
    "\n",
    "def dec_squire(func):\n",
    "    @wraps(func)\n",
    "    def wrapper(*args, **kwargs):\n",
    "        print(\"Before\")\n",
    "        result = func(*args, **kwargs)\n",
    "        print(\"dec_squire: \", result)\n",
    "        return result * result\n",
    "    return wrapper\n",
    "\n",
    "\n",
    "@dec_double\n",
    "@dec_squire\n",
    "def add(a,b):\n",
    "    return a+b\n",
    "\n",
    "print(add(1,2))"
   ]
  },
  {
   "cell_type": "markdown",
   "metadata": {},
   "source": [
    "# Execution order of decorators: \n",
    "The decorator closest to the function (just above the def) runs first and then the one above it."
   ]
  },
  {
   "cell_type": "markdown",
   "metadata": {},
   "source": [
    "# Applying Decorators to Built-in Functions"
   ]
  },
  {
   "cell_type": "code",
   "execution_count": 16,
   "metadata": {},
   "outputs": [
    {
     "name": "stdout",
     "output_type": "stream",
     "text": [
      "before\n",
      "after\n",
      "10\n"
     ]
    }
   ],
   "source": [
    "from functools import wraps\n",
    "\n",
    "def deco_it(func):\n",
    "    @wraps(func)\n",
    "    def wrapper(*args, **kwargs):\n",
    "        print(\"before\")\n",
    "        result = func(*args, **kwargs)\n",
    "        print(\"after\")\n",
    "        return result\n",
    "    return wrapper\n",
    "\n",
    "sum_result = deco_it(min)\n",
    "# sum_result = deco_it(sum)\n",
    "# sum_result = deco_it(max)\n",
    "print(sum_result([10,20,30]))"
   ]
  },
  {
   "cell_type": "markdown",
   "metadata": {},
   "source": [
    "# Real World Examples"
   ]
  },
  {
   "cell_type": "markdown",
   "metadata": {},
   "source": [
    "**Debugger decoratore which will do these**\n",
    "\n",
    "    Print the function’s name\n",
    "    Print the values of its arguments\n",
    "    Run the function with the arguments\n",
    "    Print the result\n",
    "    Return the modified function for use"
   ]
  },
  {
   "cell_type": "markdown",
   "metadata": {},
   "source": [
    "from functools import wraps\n",
    "\n",
    "def debugger_dec(func):\n",
    "#     print(\"Name of the fucntion: \", func.__name__)\n",
    "    @wraps(func)\n",
    "    def wrapper(*args, **kwargs):\n",
    "        print(\"Name of the fucntion: \", func.__name__)\n",
    "        print(\"Positional Arguments: \", args)\n",
    "        print(\"Keyward Arguments\", kwargs)\n",
    "        result = func(*args, **kwargs)\n",
    "        print(\"Result: \", result)\n",
    "        return result\n",
    "    return wrapper\n",
    "\n",
    "@debugger_dec\n",
    "def hello(name):\n",
    "    return \"Hello \" + name\n",
    "\n",
    "h = hello(\"Sarath\")\n",
    "print(h)"
   ]
  },
  {
   "cell_type": "markdown",
   "metadata": {},
   "source": [
    "**Note:** *Decorators are independent of functions and they are like templates which can be applied on any function you desire.*\n",
    "\n",
    "**Debugging, Logging, Tracking, Tracing and Performace measurement is on of the application of the decorators**"
   ]
  },
  {
   "cell_type": "code",
   "execution_count": 5,
   "metadata": {},
   "outputs": [
    {
     "name": "stdout",
     "output_type": "stream",
     "text": [
      "Finished in 0.005 secs\n",
      "None\n",
      "Finished in 0.038 secs\n",
      "None\n"
     ]
    }
   ],
   "source": [
    "# TIMER decorator\n",
    "import time\n",
    "from functools import wraps\n",
    "\n",
    "def time_decorator(func):\n",
    "    @wraps(func)\n",
    "    def wrapper(*args, **kwargs):\n",
    "        start_time = time.time()\n",
    "        result = func(*args, **kwargs)\n",
    "        end_time = time.time()\n",
    "        print(\"Finished in {:.3f} secs\".format(end_time-start_time))\n",
    "        return result\n",
    "    return wrapper\n",
    "\n",
    "@time_decorator\n",
    "def add(a,b):\n",
    "    return a+b\n",
    "\n",
    "@time_decorator\n",
    "def countdown(n):\n",
    "    while n > 0:\n",
    "        n -= 1\n",
    "# result = add(10,20)\n",
    "result = countdown(100000)\n",
    "print(result)\n",
    "result = countdown(1000000)\n",
    "print(result)\n",
    "# print(\"Sum: \", result, \"Time_taken: \", time_taken)"
   ]
  },
  {
   "cell_type": "markdown",
   "metadata": {},
   "source": [
    "# Properties in Python"
   ]
  },
  {
   "cell_type": "markdown",
   "metadata": {},
   "source": [
    "*1. Some object-oriented languages such as Java and C# support private object attributes; which cannot be directly accessed from outside.* \n",
    "*Programmers often have to write getter and setter methods to access such private attributes.*\n",
    "\n",
    "*2. If you want to prevent direct access to an attribute, you should define it as a property.*\n",
    "\n",
    "*3. It is a simple way to customize access to an attribute.*"
   ]
  },
  {
   "cell_type": "markdown",
   "metadata": {},
   "source": [
    "# Define a Property"
   ]
  },
  {
   "cell_type": "markdown",
   "metadata": {},
   "source": [
    "*This class has a single attribute named hidden_name which we do not want people to access directly. \n",
    "Hence, two methods are defined in the class – a getter called get_name() and a setter called set_name().*"
   ]
  },
  {
   "cell_type": "code",
   "execution_count": null,
   "metadata": {},
   "outputs": [],
   "source": [
    "class Person():\n",
    "    def __init__(self, value):\n",
    "        self.hidden_name = value\n",
    "    \n",
    "    def get_name(self):\n",
    "        print(\"Getting name\")\n",
    "        return self.hidden_name\n",
    "    \n",
    "    def set_name(self, name):\n",
    "        print(\"Setting name to:\", name)\n",
    "        self.hidden_name = name\n",
    "        \n",
    "    # make a property\n",
    "    name = property(get_name, set_name)\n",
    "\n",
    "\n",
    "p = Person(\"Bob\")\n",
    "print(p.name)\n",
    "\n",
    "p.name = \"Sam\"\n",
    "print(p.name)"
   ]
  },
  {
   "cell_type": "markdown",
   "metadata": {},
   "source": [
    "*A great feature of a property is that it looks like a normal attribute, but when you access it,\n",
    "it automatically triggers the getter and setter methods.*"
   ]
  },
  {
   "cell_type": "markdown",
   "metadata": {},
   "source": [
    "# property() Function"
   ]
  },
  {
   "cell_type": "markdown",
   "metadata": {},
   "source": [
    "You generate a property by calling the property() built-in function, passing in three methods (getter, setter and deleter) as well as the docstring for the property."
   ]
  },
  {
   "cell_type": "markdown",
   "metadata": {},
   "source": [
    "**Syntax of the property function:**\n",
    "    \n",
    "    attrib = property(fget, fset, fdel, doc)"
   ]
  },
  {
   "cell_type": "code",
   "execution_count": 27,
   "metadata": {},
   "outputs": [
    {
     "name": "stdout",
     "output_type": "stream",
     "text": [
      "Getting name:\n",
      "Bob\n",
      "Setting name to: Ram\n",
      "Getting name:\n",
      "Ram\n",
      "Docstring: Name of a Person\n",
      "Deleting the hidden_name attribute\n",
      "Getting name:\n"
     ]
    },
    {
     "ename": "AttributeError",
     "evalue": "'Person' object has no attribute 'hidden_name'",
     "output_type": "error",
     "traceback": [
      "\u001b[1;31m---------------------------------------------------------------------------\u001b[0m",
      "\u001b[1;31mAttributeError\u001b[0m                            Traceback (most recent call last)",
      "\u001b[1;32m<ipython-input-27-c39e761d29ab>\u001b[0m in \u001b[0;36m<module>\u001b[1;34m\u001b[0m\n\u001b[0;32m     27\u001b[0m \u001b[1;32mdel\u001b[0m \u001b[0mp\u001b[0m\u001b[1;33m.\u001b[0m\u001b[0mattrib\u001b[0m     \u001b[1;31m# When you execute del x.attrib, Python calls the fdel method.\u001b[0m\u001b[1;33m\u001b[0m\u001b[0m\n\u001b[0;32m     28\u001b[0m \u001b[1;33m\u001b[0m\u001b[0m\n\u001b[1;32m---> 29\u001b[1;33m \u001b[0mprint\u001b[0m\u001b[1;33m(\u001b[0m\u001b[0mp\u001b[0m\u001b[1;33m.\u001b[0m\u001b[0mattrib\u001b[0m\u001b[1;33m)\u001b[0m\u001b[1;33m\u001b[0m\u001b[0m\n\u001b[0m",
      "\u001b[1;32m<ipython-input-27-c39e761d29ab>\u001b[0m in \u001b[0;36mfget\u001b[1;34m(self)\u001b[0m\n\u001b[0;32m      5\u001b[0m     \u001b[1;32mdef\u001b[0m \u001b[0mfget\u001b[0m\u001b[1;33m(\u001b[0m\u001b[0mself\u001b[0m\u001b[1;33m)\u001b[0m\u001b[1;33m:\u001b[0m\u001b[1;33m\u001b[0m\u001b[0m\n\u001b[0;32m      6\u001b[0m         \u001b[0mprint\u001b[0m\u001b[1;33m(\u001b[0m\u001b[1;34m\"Getting name:\"\u001b[0m\u001b[1;33m)\u001b[0m\u001b[1;33m\u001b[0m\u001b[0m\n\u001b[1;32m----> 7\u001b[1;33m         \u001b[1;32mreturn\u001b[0m \u001b[0mself\u001b[0m\u001b[1;33m.\u001b[0m\u001b[0mhidden_name\u001b[0m\u001b[1;33m\u001b[0m\u001b[0m\n\u001b[0m\u001b[0;32m      8\u001b[0m \u001b[1;33m\u001b[0m\u001b[0m\n\u001b[0;32m      9\u001b[0m     \u001b[1;32mdef\u001b[0m \u001b[0mfset\u001b[0m\u001b[1;33m(\u001b[0m\u001b[0mself\u001b[0m\u001b[1;33m,\u001b[0m \u001b[0mname\u001b[0m\u001b[1;33m)\u001b[0m\u001b[1;33m:\u001b[0m\u001b[1;33m\u001b[0m\u001b[0m\n",
      "\u001b[1;31mAttributeError\u001b[0m: 'Person' object has no attribute 'hidden_name'"
     ]
    }
   ],
   "source": [
    "class Person():\n",
    "    def __init__(self, name):\n",
    "        self.hidden_name = name\n",
    "    \n",
    "    def fget(self):\n",
    "        print(\"Getting name:\")\n",
    "        return self.hidden_name\n",
    "    \n",
    "    def fset(self, name):\n",
    "        print(\"Setting name to:\", name)\n",
    "        self.hidden_name = name\n",
    "    \n",
    "    def fdel(self):\n",
    "        print(\"Deleting the hidden_name attribute\")\n",
    "        del self.hidden_name\n",
    "        \n",
    "    attrib = property(fget, fset, fdel, doc=\"Name of a Person\")\n",
    "\n",
    "p = Person(\"Bob\")\n",
    "print(p.attrib)  # Now, when you reference x.attrib, Python calls the fget method.\n",
    "\n",
    "p.attrib = 'Ram' # When you assign x.attrib = value, Python calls the fset method and passes value as an argument.\n",
    "print(p.attrib)\n",
    "\n",
    "print(\"Docstring:\", Person.attrib.__doc__)\n",
    "\n",
    "del p.attrib     # When you execute del x.attrib, Python calls the fdel method.\n",
    "\n",
    "print(p.attrib)"
   ]
  },
  {
   "cell_type": "markdown",
   "metadata": {},
   "source": [
    "# @property – Property as a Decorator"
   ]
  },
  {
   "cell_type": "markdown",
   "metadata": {},
   "source": [
    "*A more elegant syntax to define properties in a class is to use property as a decorator*\n",
    "\n",
    "*In the next example, we’ll define three different methods, each called name() but preceded by different decorators:*\n",
    "\n",
    "    @property decorator goes before the getter method\n",
    "    @name.setter decorator goes before the setter method\n",
    "    @name.deleter decorator goes before the deleter method"
   ]
  },
  {
   "cell_type": "markdown",
   "metadata": {},
   "source": [
    "The property decorator in Python is mainly used to:\n",
    "\n",
    "    🎯 Facilitate controlled access to private attributes\n",
    "    Private attributes (typically named with a leading _, like _value) aren't meant to be accessed directly. property lets you:\n",
    "\n",
    "    Expose them as public attributes (e.g., obj.value),\n",
    "\n",
    "    While still keeping control over how they're read, set, or deleted.\n",
    "\n",
    "🔐 Why use property?\n",
    "    Encapsulation — enforce validation or logic on attribute access.\n",
    "\n",
    "    Backward compatibility — turn a field into a method without changing external code.\n",
    "\n",
    "    Cleaner syntax — access methods like fields"
   ]
  },
  {
   "cell_type": "markdown",
   "metadata": {},
   "source": [
    "🔍 property is a class in Python\n",
    "\n",
    "    It’s defined as:\n",
    "    class property(object):\n",
    "        def __init__(self, fget=None, fset=None, fdel=None, doc=None): ...\n",
    "    So when you use the @property decorator, you're creating an instance of the property class, which acts as a descriptor."
   ]
  },
  {
   "cell_type": "markdown",
   "metadata": {},
   "source": [
    "property is part of Python's built-in standard library — more specifically, it’s a built-in class, so:\n",
    "\n",
    "    You don't need to import it.\n",
    "    It's always available in Python."
   ]
  },
  {
   "cell_type": "code",
   "execution_count": 7,
   "metadata": {},
   "outputs": [
    {
     "data": {
      "text/plain": [
       "type"
      ]
     },
     "execution_count": 7,
     "metadata": {},
     "output_type": "execute_result"
    }
   ],
   "source": [
    "type(property)"
   ]
  },
  {
   "cell_type": "code",
   "execution_count": 14,
   "metadata": {},
   "outputs": [
    {
     "name": "stdout",
     "output_type": "stream",
     "text": [
      "Gettes the name:  Bob\n",
      "Bob\n",
      "Sets the new name:  Syam\n",
      "Gettes the name:  Syam\n",
      "Syam\n",
      "name field is removed\n"
     ]
    }
   ],
   "source": [
    "class Person():\n",
    "    def __init__(self, name):\n",
    "        self.hidden_name = name\n",
    "        \n",
    "    @property\n",
    "    def name(self):\n",
    "        print(\"Gettes the name: \", self.hidden_name)\n",
    "        return self.hidden_name\n",
    "    \n",
    "    @name.setter\n",
    "    def name(self, name):\n",
    "        print(\"Sets the new name: \", name)\n",
    "        self.hidden_name = name\n",
    "        \n",
    "    @name.deleter\n",
    "    def name(self):\n",
    "        print(\"name field is removed\")\n",
    "        del self.hidden_name\n",
    "        \n",
    "P = Person(\"Bob\")\n",
    "print(P.name)\n",
    "P.name = \"Syam\"\n",
    "print(P.name)\n",
    "del P.name\n",
    "# print(P.name)\n",
    "# type(P.name)"
   ]
  },
  {
   "cell_type": "code",
   "execution_count": 19,
   "metadata": {},
   "outputs": [
    {
     "name": "stdout",
     "output_type": "stream",
     "text": [
      "<class 'property'>\n",
      "<class 'type'>\n"
     ]
    },
    {
     "data": {
      "text/plain": [
       "'builtins'"
      ]
     },
     "execution_count": 19,
     "metadata": {},
     "output_type": "execute_result"
    }
   ],
   "source": [
    "print(property)\n",
    "print(type(property))\n",
    "property.__module__"
   ]
  },
  {
   "cell_type": "markdown",
   "metadata": {},
   "source": [
    "All types (classes) in Python are derived from type.\n",
    "\n",
    "In Python, type is the metaclass of all classes."
   ]
  },
  {
   "cell_type": "markdown",
   "metadata": {},
   "source": [
    "# Real World Example"
   ]
  },
  {
   "cell_type": "code",
   "execution_count": 33,
   "metadata": {},
   "outputs": [
    {
     "name": "stdout",
     "output_type": "stream",
     "text": [
      "Sam\n",
      "Ram\n"
     ]
    },
    {
     "ename": "AttributeError",
     "evalue": "Can't delete attribute",
     "output_type": "error",
     "traceback": [
      "\u001b[1;31m---------------------------------------------------------------------------\u001b[0m",
      "\u001b[1;31mAttributeError\u001b[0m                            Traceback (most recent call last)",
      "\u001b[1;32m<ipython-input-33-8c019acb71fc>\u001b[0m in \u001b[0;36m<module>\u001b[1;34m\u001b[0m\n\u001b[0;32m     23\u001b[0m \u001b[0mP\u001b[0m\u001b[1;33m.\u001b[0m\u001b[0mname\u001b[0m \u001b[1;33m=\u001b[0m \u001b[1;34m\"Ram\"\u001b[0m\u001b[1;33m\u001b[0m\u001b[0m\n\u001b[0;32m     24\u001b[0m \u001b[0mprint\u001b[0m\u001b[1;33m(\u001b[0m\u001b[0mP\u001b[0m\u001b[1;33m.\u001b[0m\u001b[0mname\u001b[0m\u001b[1;33m)\u001b[0m\u001b[1;33m\u001b[0m\u001b[0m\n\u001b[1;32m---> 25\u001b[1;33m \u001b[1;32mdel\u001b[0m \u001b[0mP\u001b[0m\u001b[1;33m.\u001b[0m\u001b[0mname\u001b[0m\u001b[1;33m\u001b[0m\u001b[0m\n\u001b[0m",
      "\u001b[1;32m<ipython-input-33-8c019acb71fc>\u001b[0m in \u001b[0;36mname\u001b[1;34m(self)\u001b[0m\n\u001b[0;32m     15\u001b[0m     \u001b[1;33m@\u001b[0m\u001b[0mname\u001b[0m\u001b[1;33m.\u001b[0m\u001b[0mdeleter\u001b[0m\u001b[1;33m\u001b[0m\u001b[0m\n\u001b[0;32m     16\u001b[0m     \u001b[1;32mdef\u001b[0m \u001b[0mname\u001b[0m\u001b[1;33m(\u001b[0m\u001b[0mself\u001b[0m\u001b[1;33m)\u001b[0m\u001b[1;33m:\u001b[0m\u001b[1;33m\u001b[0m\u001b[0m\n\u001b[1;32m---> 17\u001b[1;33m         \u001b[1;32mraise\u001b[0m \u001b[0mAttributeError\u001b[0m\u001b[1;33m(\u001b[0m\u001b[1;34m\"Can't delete attribute\"\u001b[0m\u001b[1;33m)\u001b[0m\u001b[1;33m\u001b[0m\u001b[0m\n\u001b[0m\u001b[0;32m     18\u001b[0m \u001b[1;33m\u001b[0m\u001b[0m\n\u001b[0;32m     19\u001b[0m \u001b[0mP\u001b[0m \u001b[1;33m=\u001b[0m \u001b[0mPerson\u001b[0m\u001b[1;33m(\u001b[0m\u001b[1;34m\"Sam\"\u001b[0m\u001b[1;33m)\u001b[0m\u001b[1;33m\u001b[0m\u001b[0m\n",
      "\u001b[1;31mAttributeError\u001b[0m: Can't delete attribute"
     ]
    }
   ],
   "source": [
    "class Person():\n",
    "    def __init__(self, name):\n",
    "        self.name = name\n",
    "        \n",
    "    @property\n",
    "    def name(self):\n",
    "        return self._name\n",
    "    \n",
    "    @name.setter\n",
    "    def name(self, value):\n",
    "        if not isinstance(value, str):\n",
    "            raise TypeError(\"Expected a string\")\n",
    "        self._name = value\n",
    "        \n",
    "    @name.deleter\n",
    "    def name(self):\n",
    "        raise AttributeError(\"Can't delete attribute\")\n",
    "        \n",
    "#     @name.deleter\n",
    "#     def name(self):\n",
    "#         raise AttributeError(\"Can't delete attribute\")\n",
    "    \n",
    "P = Person(\"Sam\")\n",
    "# print(P.name)\n",
    "# P.name = 1\n",
    "print(P.name)\n",
    "P.name = \"Ram\"\n",
    "print(P.name)\n",
    "del P.name"
   ]
  },
  {
   "cell_type": "markdown",
   "metadata": {},
   "source": [
    "The whole point of our example is to apply type checking when setting an attribute which means that checking should also be done during initialization.\n",
    "\n",
    "That’s why the __init__() method sets self.name instead of self._name. By setting self name, the __init__() method automatically calls the setter method."
   ]
  },
  {
   "cell_type": "markdown",
   "metadata": {},
   "source": [
    "# Computed Attributes"
   ]
  },
  {
   "cell_type": "markdown",
   "metadata": {},
   "source": [
    "Properties can also be a way to define computed attributes – attributes that are not actually stored, but are calculated dynamically on demand."
   ]
  },
  {
   "cell_type": "code",
   "execution_count": 3,
   "metadata": {},
   "outputs": [
    {
     "name": "stdout",
     "output_type": "stream",
     "text": [
      "6\n",
      "20\n"
     ]
    },
    {
     "ename": "AttributeError",
     "evalue": "can't set attribute",
     "output_type": "error",
     "traceback": [
      "\u001b[1;31m---------------------------------------------------------------------------\u001b[0m",
      "\u001b[1;31mAttributeError\u001b[0m                            Traceback (most recent call last)",
      "\u001b[1;32m<ipython-input-3-6c2757f8ca74>\u001b[0m in \u001b[0;36m<module>\u001b[1;34m\u001b[0m\n\u001b[0;32m     15\u001b[0m \u001b[0mprint\u001b[0m\u001b[1;33m(\u001b[0m\u001b[0mr\u001b[0m\u001b[1;33m.\u001b[0m\u001b[0marea\u001b[0m\u001b[1;33m)\u001b[0m\u001b[1;33m\u001b[0m\u001b[0m\n\u001b[0;32m     16\u001b[0m \u001b[1;33m\u001b[0m\u001b[0m\n\u001b[1;32m---> 17\u001b[1;33m \u001b[0mr\u001b[0m\u001b[1;33m.\u001b[0m\u001b[0marea\u001b[0m \u001b[1;33m=\u001b[0m \u001b[1;36m30\u001b[0m\u001b[1;33m\u001b[0m\u001b[0m\n\u001b[0m",
      "\u001b[1;31mAttributeError\u001b[0m: can't set attribute"
     ]
    }
   ],
   "source": [
    "class Rectangle():\n",
    "    def __init__(self, len, wid):\n",
    "        self.length = len\n",
    "        self.width = wid\n",
    "        \n",
    "    @property\n",
    "    def area(self):\n",
    "        return self.length * self.width\n",
    "    \n",
    "r = Rectangle(2,3)\n",
    "print(r.area)        # Now you can call the area as if it were an attribute:\n",
    "\n",
    "r.length = 10\n",
    "r.width = 2\n",
    "print(r.area)\n",
    "\n",
    "# As you can see we have not specified setter property for an attribute, we can’t set it from the outside. This is handy for read-only attributes:\n",
    "r.area = 30 # Triggers AttributeError: can't set attribute"
   ]
  },
  {
   "cell_type": "markdown",
   "metadata": {},
   "source": [
    "# Extending a Property in a Subclass"
   ]
  },
  {
   "cell_type": "markdown",
   "metadata": {},
   "source": [
    "Because a property is not a single method but a collection of getter, setter, and deleter methods, extending it in a subclass introduces many problems.\n",
    "\n",
    "You need to figure out whether you will redefine all of the methods together or just one of the methods."
   ]
  },
  {
   "cell_type": "code",
   "execution_count": 7,
   "metadata": {},
   "outputs": [
    {
     "data": {
      "text/plain": [
       "'Bob'"
      ]
     },
     "execution_count": 7,
     "metadata": {},
     "output_type": "execute_result"
    }
   ],
   "source": [
    "class Person():\n",
    "    def __init__(self, name):\n",
    "        self.hidden_name = name\n",
    "        \n",
    "    @property\n",
    "    def name(self):\n",
    "        return self.hidden_name\n",
    "    \n",
    "    @name.setter\n",
    "    def name(self, value):\n",
    "        self.hidden_name = value\n",
    "    \n",
    "    @name.deleter\n",
    "    def name(self):\n",
    "        del self.hidden_name\n",
    "    \n",
    "p = Person(\"Bob\")\n",
    "p.hidden_name"
   ]
  },
  {
   "cell_type": "markdown",
   "metadata": {},
   "source": [
    "# So private is more about discipline and clarity, not strict enforcement"
   ]
  },
  {
   "cell_type": "code",
   "execution_count": 17,
   "metadata": {},
   "outputs": [
    {
     "name": "stdout",
     "output_type": "stream",
     "text": [
      "This is not strictly confidential, only for programmer understanding\n",
      "This is very confidential\n",
      "Confidential\n"
     ]
    }
   ],
   "source": [
    "\n",
    "class Car1():\n",
    "    def __init__(self, details):\n",
    "        self._engine_details = details # Private field but access ble out side, not strictly rule\n",
    "\n",
    "P = Car1(\"This is not strictly confidential, only for programmer understanding\")\n",
    "print(P._engine_details) \n",
    "\n",
    "class Car():\n",
    "    def __init__(self, details):\n",
    "        self.__engine = details\n",
    "    \n",
    "    def engine_get(self):\n",
    "        return self.__engine\n",
    "    \n",
    "    def engine_set(self, info):\n",
    "        self.__engine = info\n",
    "    \n",
    "    def engine_del(self):\n",
    "        del self.__engine\n",
    "C = Car(\"This is very confidential\")\n",
    "print(C.engine_get())\n",
    "C.engine_set(\"Confidential\")\n",
    "print(C.engine_get())\n",
    "# C.enginemax_speed()\n",
    "# C.__engine_details"
   ]
  },
  {
   "cell_type": "markdown",
   "metadata": {},
   "source": [
    "| Feature         | Manual `get/set` | `@property`   |\n",
    "| --------------- | ---------------- | ------------- |\n",
    "| Access style    | `obj.get_x()`    | `obj.x`       |\n",
    "| Setter          | `obj.set_x(val)` | `obj.x = val` |\n",
    "| Deleter         | `obj.del_x()`    | `del obj.x`   |\n",
    "| Looks like attr | ❌                | ✅             |\n",
    "| IDE support     | Basic            | Better        |\n"
   ]
  },
  {
   "cell_type": "markdown",
   "metadata": {},
   "source": [
    "*So, your approach is functionally correct, but @property gives a more elegant, Pythonic interface, especially for larger projects or libraries.*"
   ]
  },
  {
   "cell_type": "markdown",
   "metadata": {},
   "source": [
    "✅ 1. Cleaner, Natural Syntax\n",
    "\n",
    "✅ 2. Seamless Transition from Attribute → Method\n",
    "\n",
    "✅ 3. Better Integration with IDEs, Tools & Docs\n",
    "\n",
    "✅ 4. Encapsulation with Flexibility"
   ]
  },
  {
   "cell_type": "markdown",
   "metadata": {},
   "source": [
    "# Extending a Property in a Subclass"
   ]
  },
  {
   "cell_type": "markdown",
   "metadata": {},
   "source": [
    "1. Because a property is not a single method but a collection of getter, setter, and deleter methods, extending it in a subclass introduces many problems.\n",
    "2. You need to figure out whether you will redefine all of the methods together or just one of the methods."
   ]
  },
  {
   "cell_type": "code",
   "execution_count": 14,
   "metadata": {},
   "outputs": [],
   "source": [
    "class Person():\n",
    "    def __init__(self, value):\n",
    "        self.hidden_name = value\n",
    "        \n",
    "    @property\n",
    "    def name(self):\n",
    "        print(\"Getting name:\")\n",
    "        return self.hidden_name\n",
    "    \n",
    "    @name.setter\n",
    "    def name(self, name):\n",
    "        print(\"Setting the value:\")\n",
    "        self.hidden_name =name\n",
    "    \n",
    "    @name.deleter\n",
    "    def name(self):\n",
    "        print(\"Deleting the attribute\")\n",
    "        del self.hidden_name\n",
    "\n",
    "class SubPerson(Person):\n",
    "    @property\n",
    "    def name(self):\n",
    "        print(\"inside of SubPerson\")\n",
    "        return super().name\n",
    "    \n",
    "    @name.setter\n",
    "    def name(self, value):\n",
    "        print(\"inside of SubPerson\")\n",
    "        super(SubPerson, SubPerson).name.__set__(self, value)\n",
    "    \n",
    "    @name.deleter\n",
    "    def name(self):\n",
    "        print(\"inside of SubPerson\")\n",
    "        super(SubPerson, SubPerson).name.__delete__(self)\n",
    "        \n"
   ]
  },
  {
   "cell_type": "markdown",
   "metadata": {},
   "source": [
    "**All of the property methods are redefined together. Within each method, super() function is used to call the superclass’s implementation.**"
   ]
  },
  {
   "cell_type": "code",
   "execution_count": 16,
   "metadata": {},
   "outputs": [
    {
     "name": "stdout",
     "output_type": "stream",
     "text": [
      "inside of SubPerson\n",
      "Getting name:\n",
      "Bob\n",
      "inside of SubPerson\n",
      "Setting the value:\n",
      "inside of SubPerson\n",
      "Getting name:\n",
      "Sam\n",
      "inside of SubPerson\n",
      "Deleting the attribute\n"
     ]
    }
   ],
   "source": [
    "s = SubPerson(\"Bob\")\n",
    "print(s.name)\n",
    "\n",
    "\n",
    "s.name = \"Sam\"\n",
    "print(s.name)\n",
    "\n",
    "del s.name"
   ]
  },
  {
   "cell_type": "markdown",
   "metadata": {},
   "source": [
    "**If you only want to redefine one of the methods, it’s not enough to use @property by itself, use code such as the following:**"
   ]
  },
  {
   "cell_type": "code",
   "execution_count": null,
   "metadata": {},
   "outputs": [],
   "source": [
    "class SubPerson(Person):\n",
    "    @Person.name.getter\n",
    "    def name(self):\n",
    "        print(\"Inside the super getter\")\n",
    "        return super().name"
   ]
  },
  {
   "cell_type": "markdown",
   "metadata": {},
   "source": [
    "**If you just want to redefine the setter, use this code:**"
   ]
  },
  {
   "cell_type": "code",
   "execution_count": 26,
   "metadata": {},
   "outputs": [
    {
     "name": "stdout",
     "output_type": "stream",
     "text": [
      "Getting name:\n",
      "He\n"
     ]
    }
   ],
   "source": [
    "class SubPerson(Person):\n",
    "    @Person.name.setter\n",
    "    def name(self, value):\n",
    "        print(\"Inside the super setter\")\n",
    "        super(SubPerson, SubPerson).name.__set__(self, value)\n",
    "#         super().name = value\n",
    "\n",
    "s = SubPerson(\"He\")\n",
    "print(s.name)"
   ]
  },
  {
   "cell_type": "markdown",
   "metadata": {},
   "source": [
    "s.name = \"her\"\n",
    "print(s.name)"
   ]
  },
  {
   "cell_type": "markdown",
   "metadata": {},
   "source": []
  },
  {
   "cell_type": "markdown",
   "metadata": {},
   "source": [
    "# Python Exceptions (Try…Except)"
   ]
  },
  {
   "cell_type": "markdown",
   "metadata": {},
   "source": [
    "1. When executing Python code, different errors may occur: coding errors made by the programmer, errors due to wrong input, or other unforeseeable things.\n",
    "2. When an error occurs, Python’s default exception-handling behavior kicks in: it stops the program and prints an error message.\n",
    "3. If you don’t want this default behavior, you need to handle these exceptions."
   ]
  },
  {
   "cell_type": "markdown",
   "metadata": {},
   "source": [
    "**The try and except Block**"
   ]
  },
  {
   "cell_type": "markdown",
   "metadata": {},
   "source": [
    "**try:**\n",
    "\n",
    "    *statements } Run this as a normal part of the program*\n",
    "    ...\n",
    "    \n",
    "**except:**\n",
    "\n",
    "    *statements } Run this code when there is a exception occured in the try block*\n",
    "    ...\n",
    "    \n",
    "**following statements**"
   ]
  },
  {
   "cell_type": "markdown",
   "metadata": {},
   "source": [
    "**Python executes the try block as a normal part of the program. When an error occurs during its execution, the rest of the block is skipped and except block is executed.**"
   ]
  },
  {
   "cell_type": "code",
   "execution_count": 5,
   "metadata": {},
   "outputs": [
    {
     "name": "stdout",
     "output_type": "stream",
     "text": [
      "Some thing went wrong\n"
     ]
    }
   ],
   "source": [
    "try:\n",
    "    1/0\n",
    "except:\n",
    "    print(\"Some thing went wrong\")"
   ]
  },
  {
   "cell_type": "markdown",
   "metadata": {},
   "source": [
    "**Python don’t just handle exceptions if they occur immediately in the try block, but also if they occur inside**\n",
    "**functions that are called in the try block.**"
   ]
  },
  {
   "cell_type": "code",
   "execution_count": 7,
   "metadata": {},
   "outputs": [
    {
     "name": "stdout",
     "output_type": "stream",
     "text": [
      "division by zero\n"
     ]
    }
   ],
   "source": [
    "def func():\n",
    "    1/0\n",
    "try:\n",
    "    func()\n",
    "except Exception as e:\n",
    "    print(e)"
   ]
  },
  {
   "cell_type": "markdown",
   "metadata": {},
   "source": [
    "**Catch Multiple Exceptions**"
   ]
  },
  {
   "cell_type": "code",
   "execution_count": 9,
   "metadata": {},
   "outputs": [
    {
     "name": "stdout",
     "output_type": "stream",
     "text": [
      "Nuber is divided by zero\n"
     ]
    }
   ],
   "source": [
    "try:\n",
    "    1/0\n",
    "except ZeroDivisionError:\n",
    "    print(\"Nuber is divided by zero\")\n",
    "except:\n",
    "    print(\"Some thing else error\")"
   ]
  },
  {
   "cell_type": "code",
   "execution_count": 11,
   "metadata": {},
   "outputs": [
    {
     "name": "stdout",
     "output_type": "stream",
     "text": [
      "ZeroDivisionError or ValueError\n"
     ]
    }
   ],
   "source": [
    "try:\n",
    "    1/0\n",
    "except (ZeroDivisionError or ValueError):\n",
    "    print(\"ZeroDivisionError or ValueError\")\n",
    "except:\n",
    "    print(\"Something else went wrong\")"
   ]
  },
  {
   "cell_type": "markdown",
   "metadata": {},
   "source": [
    "**The Else Clause**"
   ]
  },
  {
   "cell_type": "markdown",
   "metadata": {},
   "source": [
    "*The try…except block has an optional else clause. The else clause is executed only if no exceptions are raised.*"
   ]
  },
  {
   "cell_type": "code",
   "execution_count": 15,
   "metadata": {},
   "outputs": [
    {
     "name": "stdout",
     "output_type": "stream",
     "text": [
      "continues\n"
     ]
    }
   ],
   "source": [
    "try:\n",
    "    1/1\n",
    "except:\n",
    "    print(\"Some thing is wrong\")\n",
    "else:\n",
    "    print(\"continues\")"
   ]
  },
  {
   "cell_type": "markdown",
   "metadata": {},
   "source": [
    "**The Finally Clause**"
   ]
  },
  {
   "cell_type": "code",
   "execution_count": 19,
   "metadata": {},
   "outputs": [
    {
     "name": "stdout",
     "output_type": "stream",
     "text": [
      "Some thing went wrong\n",
      "Always exicute this\n"
     ]
    }
   ],
   "source": [
    "try:\n",
    "    1/0 # try 1/1\n",
    "except:\n",
    "    print(\"Some thing went wrong\")\n",
    "else:\n",
    "    print(\"When try is exicuted\")\n",
    "finally:\n",
    "    print(\"Always exicute this\")"
   ]
  },
  {
   "cell_type": "markdown",
   "metadata": {},
   "source": [
    "**Use finally clause to define clean-up actions that must be executed under all circumstances e.g. closing a file.**"
   ]
  },
  {
   "cell_type": "code",
   "execution_count": 27,
   "metadata": {},
   "outputs": [
    {
     "name": "stdout",
     "output_type": "stream",
     "text": [
      "adhha\n"
     ]
    }
   ],
   "source": [
    "f = open('myfile.txt')\n",
    "try:\n",
    "    print(f.read())\n",
    "except:\n",
    "    print(\"Something went wrong\")\n",
    "finally:\n",
    "    f. close()"
   ]
  },
  {
   "cell_type": "markdown",
   "metadata": {},
   "source": [
    "**Raising an Exception**"
   ]
  },
  {
   "cell_type": "markdown",
   "metadata": {},
   "source": [
    "If you want to raise an exception when a certain condition occurs, use raise keyword."
   ]
  },
  {
   "cell_type": "code",
   "execution_count": 28,
   "metadata": {},
   "outputs": [
    {
     "ename": "NameError",
     "evalue": "An exception occured!",
     "output_type": "error",
     "traceback": [
      "\u001b[1;31m---------------------------------------------------------------------------\u001b[0m",
      "\u001b[1;31mNameError\u001b[0m                                 Traceback (most recent call last)",
      "\u001b[1;32m<ipython-input-28-dab2500e4c5f>\u001b[0m in \u001b[0;36m<module>\u001b[1;34m\u001b[0m\n\u001b[1;32m----> 1\u001b[1;33m \u001b[1;32mraise\u001b[0m \u001b[0mNameError\u001b[0m\u001b[1;33m(\u001b[0m\u001b[1;34m'An exception occured!'\u001b[0m\u001b[1;33m)\u001b[0m\u001b[1;33m\u001b[0m\u001b[0m\n\u001b[0m",
      "\u001b[1;31mNameError\u001b[0m: An exception occured!"
     ]
    }
   ],
   "source": [
    "raise NameError('An exception occured!')"
   ]
  },
  {
   "cell_type": "markdown",
   "metadata": {},
   "source": [
    "**User-defined Exceptions**"
   ]
  },
  {
   "cell_type": "code",
   "execution_count": 1,
   "metadata": {},
   "outputs": [
    {
     "ename": "InputError",
     "evalue": "there is exception occured",
     "output_type": "error",
     "traceback": [
      "\u001b[1;31m---------------------------------------------------------------------------\u001b[0m",
      "\u001b[1;31mInputError\u001b[0m                                Traceback (most recent call last)",
      "\u001b[1;32m<ipython-input-1-0b5ed3b3075b>\u001b[0m in \u001b[0;36m<module>\u001b[1;34m\u001b[0m\n\u001b[0;32m      1\u001b[0m \u001b[1;32mclass\u001b[0m \u001b[0mInputError\u001b[0m\u001b[1;33m(\u001b[0m\u001b[0mException\u001b[0m\u001b[1;33m)\u001b[0m\u001b[1;33m:\u001b[0m\u001b[1;33m\u001b[0m\u001b[0m\n\u001b[0;32m      2\u001b[0m     \u001b[1;32mpass\u001b[0m\u001b[1;33m\u001b[0m\u001b[0m\n\u001b[1;32m----> 3\u001b[1;33m \u001b[1;32mraise\u001b[0m \u001b[0mInputError\u001b[0m\u001b[1;33m(\u001b[0m\u001b[1;34m\"there is exception occured\"\u001b[0m\u001b[1;33m)\u001b[0m\u001b[1;33m\u001b[0m\u001b[0m\n\u001b[0m",
      "\u001b[1;31mInputError\u001b[0m: there is exception occured"
     ]
    }
   ],
   "source": [
    "class InputError(Exception):\n",
    "    pass\n",
    "raise InputError(\"there is exception occured\")"
   ]
  },
  {
   "cell_type": "markdown",
   "metadata": {},
   "source": [
    "# Python File Handling"
   ]
  },
  {
   "cell_type": "markdown",
   "metadata": {},
   "source": [
    "**Open a File**"
   ]
  },
  {
   "cell_type": "markdown",
   "metadata": {},
   "source": [
    "f = open(\"myfile.txt\") # if the file present in the same file.\n",
    "f = open(r'C:\\Python33\\Scripts\\myfile.txt') # if you wanted to read a file with absalute path."
   ]
  },
  {
   "cell_type": "markdown",
   "metadata": {},
   "source": [
    "**Specify File Mode**"
   ]
  },
  {
   "cell_type": "markdown",
   "metadata": {},
   "source": [
    "Character\tMode\tDescription\n",
    "\n",
    "‘r’\tRead (default)\tOpen a file for read only\n",
    "\n",
    "‘w’\tWrite\tOpen a file for write only (overwrite)\n",
    "\n",
    "‘a’\tAppend\tOpen a file for write only (append)\n",
    "\n",
    "‘r+’\tRead+Write\topen a file for both reading and writing\n",
    "\n",
    "‘x’\tCreate\tCreate a new file"
   ]
  },
  {
   "cell_type": "markdown",
   "metadata": {},
   "source": [
    "**You can also specify how the file should be handled**"
   ]
  },
  {
   "cell_type": "markdown",
   "metadata": {},
   "source": [
    "Character\tMode\tDescription\n",
    "\n",
    "‘t’\tText (default)\tRead and write strings from and to the file.\n",
    "\n",
    "‘b’\tBinary\tRead and write bytes objects from and to the file.This mode is used for all files that don’t contain text (e.g. images)."
   ]
  },
  {
   "cell_type": "code",
   "execution_count": 6,
   "metadata": {},
   "outputs": [],
   "source": [
    "f = open('myfile.txt')\n",
    "f = open('myfile.txt', 'r')\n",
    "# above both are same"
   ]
  },
  {
   "cell_type": "markdown",
   "metadata": {},
   "source": [
    "**Examples of file operation**"
   ]
  },
  {
   "cell_type": "code",
   "execution_count": 12,
   "metadata": {},
   "outputs": [
    {
     "ename": "FileExistsError",
     "evalue": "[Errno 17] File exists: 'test1.txt'",
     "output_type": "error",
     "traceback": [
      "\u001b[1;31m---------------------------------------------------------------------------\u001b[0m",
      "\u001b[1;31mFileExistsError\u001b[0m                           Traceback (most recent call last)",
      "\u001b[1;32m<ipython-input-12-5b8910d73655>\u001b[0m in \u001b[0;36m<module>\u001b[1;34m\u001b[0m\n\u001b[0;32m     15\u001b[0m \u001b[1;33m\u001b[0m\u001b[0m\n\u001b[0;32m     16\u001b[0m \u001b[1;31m# create a file if it is not exists\u001b[0m\u001b[1;33m\u001b[0m\u001b[1;33m\u001b[0m\u001b[0m\n\u001b[1;32m---> 17\u001b[1;33m \u001b[0mf\u001b[0m \u001b[1;33m=\u001b[0m \u001b[0mopen\u001b[0m\u001b[1;33m(\u001b[0m\u001b[1;34m'test1.txt'\u001b[0m\u001b[1;33m,\u001b[0m \u001b[1;34m'x'\u001b[0m\u001b[1;33m)\u001b[0m\u001b[1;33m\u001b[0m\u001b[0m\n\u001b[0m",
      "\u001b[1;31mFileExistsError\u001b[0m: [Errno 17] File exists: 'test1.txt'"
     ]
    }
   ],
   "source": [
    "# file is opened for reading\n",
    "f = open('myfile.txt')\n",
    "\n",
    "# file is opened for reading explicit mentioned\n",
    "f = open('myfile.txt', 'r')\n",
    "\n",
    "# file is opened for writing\n",
    "f = open('myfile.txt', 'w')\n",
    "\n",
    "# file is opened for read and write\n",
    "f = open('myfile.txt', 'r+')\n",
    "\n",
    "# open a binary file for reading\n",
    "f = open('myfile.txt', 'rb')\n",
    "\n",
    "# create a file if it is not exists\n",
    "f = open('test1.txt', 'x')"
   ]
  },
  {
   "cell_type": "markdown",
   "metadata": {},
   "source": [
    "**Read a File**"
   ]
  },
  {
   "cell_type": "code",
   "execution_count": 20,
   "metadata": {},
   "outputs": [
    {
     "name": "stdout",
     "output_type": "stream",
     "text": [
      "First line of the file.\n",
      "Second line of the file.\n",
      "Third line of the file.\n"
     ]
    }
   ],
   "source": [
    "f =  open('myfile.txt')\n",
    "print(f.read())"
   ]
  },
  {
   "cell_type": "code",
   "execution_count": 23,
   "metadata": {},
   "outputs": [
    {
     "name": "stdout",
     "output_type": "stream",
     "text": [
      "Fir\n"
     ]
    }
   ],
   "source": [
    "f1 = open('myfile.txt')\n",
    "print(f1.read(3))"
   ]
  },
  {
   "cell_type": "code",
   "execution_count": 24,
   "metadata": {},
   "outputs": [
    {
     "name": "stdout",
     "output_type": "stream",
     "text": [
      "First \n"
     ]
    }
   ],
   "source": [
    "f2 = open('myfile.txt')\n",
    "print(f2.read(6))"
   ]
  },
  {
   "cell_type": "markdown",
   "metadata": {},
   "source": [
    "**Read Lines**"
   ]
  },
  {
   "cell_type": "code",
   "execution_count": 28,
   "metadata": {},
   "outputs": [
    {
     "name": "stdout",
     "output_type": "stream",
     "text": [
      "First line of the file.\n",
      "\n",
      "Second line of the file.\n",
      "\n",
      "Third line of the file.\n"
     ]
    }
   ],
   "source": [
    "f2 = open('myfile.txt')\n",
    "print(f2.readline())\n",
    "print(f2.readline())\n",
    "print(f2.readline())"
   ]
  },
  {
   "cell_type": "code",
   "execution_count": 29,
   "metadata": {},
   "outputs": [
    {
     "name": "stdout",
     "output_type": "stream",
     "text": [
      "First line of the file.\n",
      "\n",
      "Second line of the file.\n",
      "\n",
      "Third line of the file.\n"
     ]
    }
   ],
   "source": [
    "f3 = open('myfile.txt')\n",
    "for line in f3:\n",
    "    print(line)"
   ]
  },
  {
   "cell_type": "code",
   "execution_count": 30,
   "metadata": {},
   "outputs": [
    {
     "name": "stdout",
     "output_type": "stream",
     "text": [
      "['First line of the file.\\n', 'Second line of the file.\\n', 'Third line of the file.']\n"
     ]
    }
   ],
   "source": [
    "f4 = open('myfile.txt')\n",
    "print(f4.readlines())"
   ]
  },
  {
   "cell_type": "markdown",
   "metadata": {},
   "source": [
    "**Write a File**"
   ]
  },
  {
   "cell_type": "code",
   "execution_count": 34,
   "metadata": {},
   "outputs": [
    {
     "name": "stdout",
     "output_type": "stream",
     "text": [
      "Overwrite the existing data\n"
     ]
    }
   ],
   "source": [
    "f = open('myfile.txt', 'w')\n",
    "f.write('Overwrite the existing data')\n",
    "l = open('myfile.txt')\n",
    "print(l.readline())"
   ]
  },
  {
   "cell_type": "markdown",
   "metadata": {},
   "source": [
    "**Append mode ‘a’**"
   ]
  },
  {
   "cell_type": "code",
   "execution_count": 5,
   "metadata": {},
   "outputs": [
    {
     "data": {
      "text/plain": [
       "['Overwrite the existing dataAppend this textAppend this textAppend this textAppend this textAppend this text']"
      ]
     },
     "execution_count": 5,
     "metadata": {},
     "output_type": "execute_result"
    }
   ],
   "source": [
    "f =  open('myfile.txt', 'a')\n",
    "f.write('Append this text')\n",
    "f.close()\n",
    "\n",
    "f = open('myfile.txt', 'r')\n",
    "f.readlines()"
   ]
  },
  {
   "cell_type": "markdown",
   "metadata": {},
   "source": [
    "**Read-write mode ‘r+’**: In ‘r+’ mode, the file is partially overwritten"
   ]
  },
  {
   "cell_type": "code",
   "execution_count": 9,
   "metadata": {},
   "outputs": [
    {
     "data": {
      "text/plain": [
       "'over write the content of the filethis textAppend this textAppend this textAppend this textAppend this text__over write content____over write content__'"
      ]
     },
     "execution_count": 9,
     "metadata": {},
     "output_type": "execute_result"
    }
   ],
   "source": [
    "f = open('myfile.txt', 'r+')\n",
    "f.write('__over write content__')\n",
    "f.readline()"
   ]
  },
  {
   "cell_type": "markdown",
   "metadata": {},
   "source": [
    "# Write Multiple Lines"
   ]
  },
  {
   "cell_type": "markdown",
   "metadata": {},
   "source": [
    "**To write multiple lines to a file at once, use writelines() method. This method accepts list of strings as an input.**"
   ]
  },
  {
   "cell_type": "code",
   "execution_count": 16,
   "metadata": {},
   "outputs": [
    {
     "data": {
      "text/plain": [
       "['hello world 1\\n', ' write rust applications 2\\n', ' Async programming 3\\n']"
      ]
     },
     "execution_count": 16,
     "metadata": {},
     "output_type": "execute_result"
    }
   ],
   "source": [
    "f =  open('myfile.txt', 'w')\n",
    "a = ['hello world 1\\n', ' write rust applications 2\\n', ' Async programming 3\\n']\n",
    "f.writelines(a)\n",
    "f =  open('myfile.txt')\n",
    "f.readlines()"
   ]
  },
  {
   "cell_type": "markdown",
   "metadata": {},
   "source": [
    "**Flush Output Buffer**"
   ]
  },
  {
   "cell_type": "markdown",
   "metadata": {},
   "source": [
    "*When you write to a file, the data is not immediately written to disk instead it is stored in buffer memory.* \n",
    "*It is written to disk only when you close the file or manually flush the output buffer.*"
   ]
  },
  {
   "cell_type": "code",
   "execution_count": 17,
   "metadata": {},
   "outputs": [],
   "source": [
    "f = open('myfile.txt', 'w')\n",
    "f.write('Add new line')\n",
    "f.flush()"
   ]
  },
  {
   "cell_type": "markdown",
   "metadata": {},
   "source": [
    "**Close a File**"
   ]
  },
  {
   "cell_type": "markdown",
   "metadata": {},
   "source": [
    "**It’s a good practice to close the file once you are finished with it. You don’t want an open file running around taking up resources!**"
   ]
  },
  {
   "cell_type": "code",
   "execution_count": 20,
   "metadata": {},
   "outputs": [
    {
     "name": "stdout",
     "output_type": "stream",
     "text": [
      "True\n"
     ]
    }
   ],
   "source": [
    "f = open('myfile.txt', 'r')\n",
    "f.close()\n",
    "print(f.closed)"
   ]
  },
  {
   "cell_type": "markdown",
   "metadata": {},
   "source": [
    "**There are two approaches to ensure that a file is closed properly, even in cases of error.**"
   ]
  },
  {
   "cell_type": "markdown",
   "metadata": {},
   "source": [
    "The first approach is to use the with keyword, which Python recommends, as it automatically takes\n",
    "care of closing the file once it leaves the with block (even in cases of error).\n",
    "\n",
    "Approach1:"
   ]
  },
  {
   "cell_type": "code",
   "execution_count": 21,
   "metadata": {},
   "outputs": [
    {
     "name": "stdout",
     "output_type": "stream",
     "text": [
      "Add new line\n"
     ]
    }
   ],
   "source": [
    "with open('myfile.txt') as f:\n",
    "    print(f.read())"
   ]
  },
  {
   "cell_type": "markdown",
   "metadata": {},
   "source": [
    "Approach2: The second approach is to use the try-finally block:"
   ]
  },
  {
   "cell_type": "code",
   "execution_count": 1,
   "metadata": {},
   "outputs": [
    {
     "name": "stdout",
     "output_type": "stream",
     "text": [
      "it is code block\n"
     ]
    }
   ],
   "source": [
    "f = open('myfile.txt')\n",
    "\n",
    "try:\n",
    "    # the file operation will go\n",
    "    print('it is code block')\n",
    "finally:\n",
    "    f.close()"
   ]
  },
  {
   "cell_type": "markdown",
   "metadata": {},
   "source": [
    "**Create a New File**"
   ]
  },
  {
   "cell_type": "code",
   "execution_count": 2,
   "metadata": {},
   "outputs": [],
   "source": [
    "# If you try to open a file for writing that does not exist, Python will automatically create the file for you.\n",
    "# create a file and open it for writing\n",
    "\n",
    "# create a file and open it in write mode\n",
    "f = open('myfile.txt', 'w')\n",
    "\n",
    "# Create a file and open it in append mode\n",
    "f = open('myfile.txt', 'a')\n",
    "\n",
    "# Create a file and open it in read and write mode\n",
    "f = open('myfile.txt', 'r+')"
   ]
  },
  {
   "cell_type": "code",
   "execution_count": 7,
   "metadata": {},
   "outputs": [
    {
     "ename": "FileExistsError",
     "evalue": "[Errno 17] File exists: 'myfile.txt'",
     "output_type": "error",
     "traceback": [
      "\u001b[1;31m---------------------------------------------------------------------------\u001b[0m",
      "\u001b[1;31mFileExistsError\u001b[0m                           Traceback (most recent call last)",
      "\u001b[1;32m<ipython-input-7-27e79980c46f>\u001b[0m in \u001b[0;36m<module>\u001b[1;34m\u001b[0m\n\u001b[0;32m      1\u001b[0m \u001b[1;31m# # Create a file exclusively\u001b[0m\u001b[1;33m\u001b[0m\u001b[1;33m\u001b[0m\u001b[0m\n\u001b[0;32m      2\u001b[0m \u001b[1;33m\u001b[0m\u001b[0m\n\u001b[1;32m----> 3\u001b[1;33m \u001b[0mf\u001b[0m \u001b[1;33m=\u001b[0m \u001b[0mopen\u001b[0m\u001b[1;33m(\u001b[0m\u001b[1;34m'myfile.txt'\u001b[0m\u001b[1;33m,\u001b[0m \u001b[1;34m'x'\u001b[0m\u001b[1;33m)\u001b[0m\u001b[1;33m\u001b[0m\u001b[0m\n\u001b[0m\u001b[0;32m      4\u001b[0m \u001b[1;33m\u001b[0m\u001b[0m\n\u001b[0;32m      5\u001b[0m \u001b[1;31m# Note when using this method the file should not present other wise python will raise a error.\u001b[0m\u001b[1;33m\u001b[0m\u001b[1;33m\u001b[0m\u001b[0m\n",
      "\u001b[1;31mFileExistsError\u001b[0m: [Errno 17] File exists: 'myfile.txt'"
     ]
    }
   ],
   "source": [
    "# # Create a file exclusively\n",
    "\n",
    "f = open('myfile.txt', 'x')\n",
    "\n",
    "# Note when using this method the file should not present other wise python will raise a error."
   ]
  },
  {
   "cell_type": "markdown",
   "metadata": {},
   "source": [
    "**Delete a File**"
   ]
  },
  {
   "cell_type": "code",
   "execution_count": 8,
   "metadata": {},
   "outputs": [
    {
     "ename": "FileNotFoundError",
     "evalue": "[WinError 2] The system cannot find the file specified: 'test1.txt'",
     "output_type": "error",
     "traceback": [
      "\u001b[1;31m---------------------------------------------------------------------------\u001b[0m",
      "\u001b[1;31mFileNotFoundError\u001b[0m                         Traceback (most recent call last)",
      "\u001b[1;32m<ipython-input-8-b3069a1314cd>\u001b[0m in \u001b[0;36m<module>\u001b[1;34m\u001b[0m\n\u001b[0;32m      1\u001b[0m \u001b[1;32mimport\u001b[0m \u001b[0mos\u001b[0m\u001b[1;33m\u001b[0m\u001b[0m\n\u001b[0;32m      2\u001b[0m \u001b[1;33m\u001b[0m\u001b[0m\n\u001b[1;32m----> 3\u001b[1;33m \u001b[0mos\u001b[0m\u001b[1;33m.\u001b[0m\u001b[0mremove\u001b[0m\u001b[1;33m(\u001b[0m\u001b[1;34m\"test1.txt\"\u001b[0m\u001b[1;33m)\u001b[0m\u001b[1;33m\u001b[0m\u001b[0m\n\u001b[0m",
      "\u001b[1;31mFileNotFoundError\u001b[0m: [WinError 2] The system cannot find the file specified: 'test1.txt'"
     ]
    }
   ],
   "source": [
    "import os\n",
    "\n",
    "os.remove(\"test1.txt\")"
   ]
  },
  {
   "cell_type": "markdown",
   "metadata": {},
   "source": [
    "**Check if File Exists**"
   ]
  },
  {
   "cell_type": "code",
   "execution_count": 9,
   "metadata": {},
   "outputs": [
    {
     "name": "stdout",
     "output_type": "stream",
     "text": [
      "The file is not present\n"
     ]
    }
   ],
   "source": [
    "import os\n",
    "\n",
    "if os.path.isfile('test1.txt'):\n",
    "    f = open('test1.txt')\n",
    "else:\n",
    "    print(\"The file is not present\")"
   ]
  },
  {
   "cell_type": "markdown",
   "metadata": {},
   "source": [
    "**Random Access**"
   ]
  },
  {
   "cell_type": "markdown",
   "metadata": {},
   "source": [
    "**Sometimes you need to read from the record in the middle of the file at that time you can use the seek(offset, from_what) method.**\n",
    "**This function moves the file pointer from its current position to a specific position.**"
   ]
  },
  {
   "cell_type": "markdown",
   "metadata": {},
   "source": [
    "The offset is the number of characters from the from_what parameter which has three possible values:\n",
    "\n",
    "0 – indicates the beginning of the file (default)\n",
    "\n",
    "1 – indicates the current pointer position\n",
    "\n",
    "2 – indicates the end of the file"
   ]
  },
  {
   "cell_type": "code",
   "execution_count": 19,
   "metadata": {},
   "outputs": [
    {
     "data": {
      "text/plain": [
       "36"
      ]
     },
     "execution_count": 19,
     "metadata": {},
     "output_type": "execute_result"
    }
   ],
   "source": [
    "f = open('file.txt', 'w')\n",
    "f.write('Suppose you have the following file.')"
   ]
  },
  {
   "cell_type": "code",
   "execution_count": 22,
   "metadata": {},
   "outputs": [
    {
     "name": "stdout",
     "output_type": "stream",
     "text": [
      "b'e'\n"
     ]
    }
   ],
   "source": [
    "f = open('file.txt', 'rb+')\n",
    "f.seek(6)\n",
    "print(f.read(1))"
   ]
  },
  {
   "cell_type": "code",
   "execution_count": 23,
   "metadata": {},
   "outputs": [
    {
     "name": "stdout",
     "output_type": "stream",
     "text": [
      "b'u'\n"
     ]
    }
   ],
   "source": [
    "f.seek(3, 1)\n",
    "print(f.read(1))"
   ]
  },
  {
   "cell_type": "code",
   "execution_count": 25,
   "metadata": {},
   "outputs": [
    {
     "name": "stdout",
     "output_type": "stream",
     "text": [
      "b'l'\n"
     ]
    }
   ],
   "source": [
    "f.seek(-3,2)\n",
    "print(f.read(1))"
   ]
  },
  {
   "cell_type": "markdown",
   "metadata": {},
   "source": [
    "**If you want to check the current position of the file pointer, use the tell() method.**"
   ]
  },
  {
   "cell_type": "code",
   "execution_count": 29,
   "metadata": {},
   "outputs": [
    {
     "name": "stdout",
     "output_type": "stream",
     "text": [
      "0\n",
      "5\n"
     ]
    }
   ],
   "source": [
    "f = open('file.txt')\n",
    "# Initial position\n",
    "print(f.tell())\n",
    "f.read(5)\n",
    "\n",
    "# After 5 characters\n",
    "print(f.tell())"
   ]
  },
  {
   "cell_type": "code",
   "execution_count": null,
   "metadata": {},
   "outputs": [],
   "source": []
  },
  {
   "cell_type": "markdown",
   "metadata": {},
   "source": [
    "# Reading and Writing CSV Files in Python"
   ]
  },
  {
   "cell_type": "markdown",
   "metadata": {},
   "source": [
    "**Open a CSV File**"
   ]
  },
  {
   "cell_type": "code",
   "execution_count": 39,
   "metadata": {},
   "outputs": [],
   "source": [
    "f = open('myfile.csv', 'w')\n",
    "f = open('C:\\\\Users\\\\BXO1KOR\\\\Desktop\\\\WIW\\\\python_prog\\\\myfile.csv')\n",
    "f = open(r'C:/Users/BXO1KOR/Desktop/WIW/python_prog/myfile.csv')"
   ]
  },
  {
   "cell_type": "code",
   "execution_count": null,
   "metadata": {},
   "outputs": [],
   "source": [
    "f = open('myfile.csv')\n",
    "f = open('myfile.csv', 'w')\n",
    "f = open('myfile.csv', 'a')"
   ]
  },
  {
   "cell_type": "markdown",
   "metadata": {},
   "source": [
    "**Close the csv file**"
   ]
  },
  {
   "cell_type": "code",
   "execution_count": 43,
   "metadata": {},
   "outputs": [
    {
     "name": "stdout",
     "output_type": "stream",
     "text": [
      "True\n"
     ]
    }
   ],
   "source": [
    "f = open('myfile.csv')\n",
    "f.close()\n",
    "print(f.closed)"
   ]
  },
  {
   "cell_type": "markdown",
   "metadata": {},
   "source": [
    "**The first approach is to use the with keyword, which Python recommends, as it automatically takes care of closing the file once it leaves the with block\n",
    "(even in cases of error).**"
   ]
  },
  {
   "cell_type": "code",
   "execution_count": 46,
   "metadata": {},
   "outputs": [
    {
     "name": "stdout",
     "output_type": "stream",
     "text": [
      "\n"
     ]
    }
   ],
   "source": [
    "# Approach 1\n",
    "with open('myfile.csv') as f:\n",
    "    print(f.read())"
   ]
  },
  {
   "cell_type": "code",
   "execution_count": 47,
   "metadata": {},
   "outputs": [],
   "source": [
    "# Approach 2\n",
    "f = open('myfile.csv')\n",
    "try:\n",
    "    f.read()\n",
    "finally:\n",
    "    f.close()"
   ]
  },
  {
   "cell_type": "markdown",
   "metadata": {},
   "source": [
    "**Write a CSV File**"
   ]
  },
  {
   "cell_type": "code",
   "execution_count": 55,
   "metadata": {},
   "outputs": [],
   "source": [
    "import csv\n",
    "with open('myfile.csv', 'w') as f:\n",
    "    write = csv.writer(f)\n",
    "    write.writerow(['name', 'age', 'job', 'city'])\n",
    "    write.writerow(['Bob', '25', 'engineer', 'ban'])\n",
    "    write.writerow(['Sam', '30', 'plumber', 'hyd'])"
   ]
  },
  {
   "cell_type": "markdown",
   "metadata": {},
   "source": [
    "**Read a CSV File**"
   ]
  },
  {
   "cell_type": "code",
   "execution_count": 56,
   "metadata": {},
   "outputs": [
    {
     "name": "stdout",
     "output_type": "stream",
     "text": [
      "['name', 'age', 'job', 'city']\n",
      "[]\n",
      "['Bob', '25', 'engineer', 'ban']\n",
      "[]\n",
      "['Sam', '30', 'plumber', 'hyd']\n",
      "[]\n"
     ]
    }
   ],
   "source": [
    "import csv\n",
    "with open('myfile.csv') as f:\n",
    "    read = csv.reader(f)\n",
    "    for row in read:\n",
    "        print(row)"
   ]
  },
  {
   "cell_type": "code",
   "execution_count": 57,
   "metadata": {},
   "outputs": [
    {
     "name": "stdout",
     "output_type": "stream",
     "text": [
      "OrderedDict([('name', 'Bob'), ('age', '25'), ('job', 'engineer'), ('city', 'ban')])\n",
      "OrderedDict([('name', 'Sam'), ('age', '30'), ('job', 'plumber'), ('city', 'hyd')])\n"
     ]
    }
   ],
   "source": [
    "import csv\n",
    "with open('myfile.csv') as f:\n",
    "    read = csv.DictReader(f)\n",
    "    for r in read:\n",
    "        print(r)"
   ]
  },
  {
   "cell_type": "code",
   "execution_count": 59,
   "metadata": {},
   "outputs": [
    {
     "name": "stdout",
     "output_type": "stream",
     "text": [
      "OrderedDict([('name', 'name'), ('age', 'age'), ('job', 'job'), ('city', 'city')])\n",
      "OrderedDict([('name', 'Bob'), ('age', '25'), ('job', 'engineer'), ('city', 'ban')])\n",
      "OrderedDict([('name', 'Sam'), ('age', '30'), ('job', 'plumber'), ('city', 'hyd')])\n"
     ]
    }
   ],
   "source": [
    "import csv\n",
    "\n",
    "with open('myfile.csv') as f:\n",
    "    keys = ['name', 'age', 'job', 'city']\n",
    "    read = csv.DictReader(f, fieldnames=keys)\n",
    "    for row in read:\n",
    "        print(row)"
   ]
  },
  {
   "cell_type": "code",
   "execution_count": 60,
   "metadata": {},
   "outputs": [],
   "source": [
    "import csv\n",
    "\n",
    "with open('myfile.csv', 'w') as f:\n",
    "    keys = ['name', 'age', 'job', 'city']\n",
    "    writer = csv.DictWriter(f, fieldnames=keys)\n",
    "    writer.writeheader()\n",
    "    writer.writerow({'job': 'engineer', 'age': '32', 'city': 'pune', 'name': 'sam'})\n",
    "    writer.writerow({'job': 'manager', 'age': '29', 'city': 'mum', 'name': 'sai'})"
   ]
  },
  {
   "cell_type": "code",
   "execution_count": 61,
   "metadata": {},
   "outputs": [
    {
     "name": "stdout",
     "output_type": "stream",
     "text": [
      "OrderedDict([('name', 'name'), ('age', 'age'), ('job', 'job'), ('city', 'city')])\n",
      "OrderedDict([('name', 'sam'), ('age', '32'), ('job', 'engineer'), ('city', 'pune')])\n",
      "OrderedDict([('name', 'sai'), ('age', '29'), ('job', 'manager'), ('city', 'mum')])\n"
     ]
    }
   ],
   "source": [
    "import csv\n",
    "with open('myfile.csv') as f:\n",
    "    keys = ['name', 'age', 'job', 'city']\n",
    "    reader = csv.DictReader(f, fieldnames = keys)\n",
    "    for row in reader:\n",
    "        print(row)"
   ]
  },
  {
   "cell_type": "markdown",
   "metadata": {},
   "source": [
    "**Use a different delimiter**"
   ]
  },
  {
   "cell_type": "markdown",
   "metadata": {},
   "source": [
    "**The comma , is not the only delimiter used in the CSV files. You can use any delimiter of your choice such as the pipe |, tab \\t, colon : or semi-colon ; etc.**"
   ]
  },
  {
   "cell_type": "code",
   "execution_count": 24,
   "metadata": {},
   "outputs": [],
   "source": [
    "import csv\n",
    "\n",
    "with open('myfile.csv', mode='w', newline='') as f:\n",
    "    writer = csv.writer(f, delimiter= ':')\n",
    "    writer.writerow(['Bob', '25', 'manager', 'Seattle'])\n",
    "    writer.writerow(['sam', '20', 'engineer', 'new york'])\n",
    "#     writer.writerow([''])"
   ]
  },
  {
   "cell_type": "code",
   "execution_count": 25,
   "metadata": {},
   "outputs": [
    {
     "name": "stdout",
     "output_type": "stream",
     "text": [
      "['Bob:25:manager:Seattle']\n",
      "['sam:20:engineer:new york']\n",
      "['']\n"
     ]
    }
   ],
   "source": [
    "import csv\n",
    "\n",
    "with open('myfile.csv', mode='r') as f:\n",
    "    read = csv.reader(f, delimiter=';')\n",
    "    for row in read:\n",
    "        print(row)"
   ]
  },
  {
   "cell_type": "markdown",
   "metadata": {},
   "source": [
    "import csv\n",
    "\n",
    "with open('myfile.csv', mode='r') as f:\n",
    "    reader = csv.reader(f, delimiter= ';')\n",
    "    for r in reader:\n",
    "        print(r)"
   ]
  },
  {
   "cell_type": "markdown",
   "metadata": {},
   "source": [
    "**Handle Comma Within a Data**"
   ]
  },
  {
   "cell_type": "markdown",
   "metadata": {},
   "source": [
    "Sometimes your CSV file contains fields such as an address that contains a comma. This can become a problem when working with a CSV file."
   ]
  },
  {
   "cell_type": "markdown",
   "metadata": {},
   "source": [
    "There are two different ways to handle this situation:\n",
    "\n",
    "1. Use a different delimiter as described earlier. In this way the comma can be safely used in the data itself.\n",
    "2. wrap data into quotes."
   ]
  },
  {
   "cell_type": "markdown",
   "metadata": {},
   "source": [
    "Python considers a comma in a quoted string as an ordinary character. While writing a file, you can specify the character to be used for quoting using the parameter quotechar."
   ]
  },
  {
   "cell_type": "code",
   "execution_count": 1,
   "metadata": {},
   "outputs": [],
   "source": [
    "import csv\n",
    "\n",
    "with open('myfile.csv', mode='w') as f:\n",
    "    writer = csv.writer(f, quotechar='\"')\n",
    "    writer.writerow(['Bob', '25', '123, hyd, pin 704435'])\n",
    "    writer.writerow(['Sam', '30', '120, ban, pin 500026']) "
   ]
  },
  {
   "cell_type": "code",
   "execution_count": 2,
   "metadata": {},
   "outputs": [
    {
     "name": "stdout",
     "output_type": "stream",
     "text": [
      "['Bob', '25', '123, hyd, pin 704435']\n",
      "[]\n",
      "['Sam', '30', '120, ban, pin 500026']\n",
      "[]\n"
     ]
    }
   ],
   "source": [
    "import csv\n",
    "\n",
    "with open('myfile.csv', mode='r') as f:\n",
    "    reader = csv.reader(f)\n",
    "    for r in reader:\n",
    "        print(r)"
   ]
  },
  {
   "cell_type": "code",
   "execution_count": 7,
   "metadata": {},
   "outputs": [],
   "source": [
    "import csv\n",
    "\n",
    "with open('myfile.csv', mode='w', newline='') as f:\n",
    "    write = csv.writer(f, quotechar='\"')\n",
    "    write.writerow(['Bobi', '21', '145, delhi, pin 1000012'])\n",
    "    write.writerow(['Nil', '24', '122, luk, pin 200123'])"
   ]
  },
  {
   "cell_type": "code",
   "execution_count": 8,
   "metadata": {},
   "outputs": [
    {
     "name": "stdout",
     "output_type": "stream",
     "text": [
      "['Bobi', '21', '145, delhi, pin 1000012']\n",
      "['Nil', '24', '122, luk, pin 200123']\n"
     ]
    }
   ],
   "source": [
    "import csv\n",
    "\n",
    "with open('myfile.csv', mode='r') as f:\n",
    "    read = csv.reader(f)\n",
    "    for row in read:\n",
    "        print(row)"
   ]
  },
  {
   "cell_type": "code",
   "execution_count": null,
   "metadata": {},
   "outputs": [],
   "source": []
  }
 ],
 "metadata": {
  "kernelspec": {
   "display_name": "Python 3",
   "language": "python",
   "name": "python3"
  },
  "language_info": {
   "codemirror_mode": {
    "name": "ipython",
    "version": 3
   },
   "file_extension": ".py",
   "mimetype": "text/x-python",
   "name": "python",
   "nbconvert_exporter": "python",
   "pygments_lexer": "ipython3",
   "version": "3.6.6"
  }
 },
 "nbformat": 4,
 "nbformat_minor": 2
}
