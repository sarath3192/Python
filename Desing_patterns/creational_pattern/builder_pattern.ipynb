{
 "cells": [
  {
   "cell_type": "markdown",
   "metadata": {},
   "source": [
    "# Builder"
   ]
  },
  {
   "cell_type": "markdown",
   "metadata": {},
   "source": [
    "**creational_pattern**"
   ]
  },
  {
   "cell_type": "code",
   "execution_count": 18,
   "metadata": {},
   "outputs": [
    {
     "name": "stdout",
     "output_type": "stream",
     "text": [
      "Car(engine=V8, transmission=Automatic, gps=True)\n"
     ]
    }
   ],
   "source": [
    "class Car:\n",
    "    def __init__(self, engine, transmission, wheels, airbags, audio, gps):\n",
    "        self.engine = engine\n",
    "        self.transmission = transmission\n",
    "        self.wheels = wheels\n",
    "        self.airbags = airbags\n",
    "        self.audio = audio\n",
    "        self.gps = gps\n",
    "\n",
    "    def __str__(self):\n",
    "        return f\"Car(engine={self.engine}, transmission={self.transmission}, gps={self.gps})\"\n",
    "\n",
    "\n",
    "class CarBuilder:\n",
    "    def __init__(self):\n",
    "        self.engine = None\n",
    "        self.transmission = None\n",
    "        self.wheels = 4\n",
    "        self.airbags = False\n",
    "        self.audio = None\n",
    "        self.gps = False\n",
    "\n",
    "    def set_engine(self, engine):\n",
    "        self.engine = engine\n",
    "        return self\n",
    "\n",
    "    def set_transmission(self, transmission):\n",
    "        self.transmission = transmission\n",
    "        return self\n",
    "\n",
    "    def add_gps(self):\n",
    "        self.gps = True\n",
    "        return self\n",
    "\n",
    "    def build(self):\n",
    "        return Car(self.engine, self.transmission, self.wheels, self.airbags, self.audio, self.gps)\n",
    "\n",
    "\n",
    "# Usage\n",
    "\n",
    "car = (\n",
    "    CarBuilder()\n",
    "    .set_engine(\"V8\")\n",
    "    .set_transmission(\"Automatic\")\n",
    "    .add_gps()\n",
    "    .build()\n",
    ")\n",
    "print(car)  # Car(engine=V8, transmission=Automatic, gps=True)"
   ]
  }
 ],
 "metadata": {
  "kernelspec": {
   "display_name": "Python 3",
   "language": "python",
   "name": "python3"
  },
  "language_info": {
   "codemirror_mode": {
    "name": "ipython",
    "version": 3
   },
   "file_extension": ".py",
   "mimetype": "text/x-python",
   "name": "python",
   "nbconvert_exporter": "python",
   "pygments_lexer": "ipython3",
   "version": "3.6.6"
  }
 },
 "nbformat": 4,
 "nbformat_minor": 4
}
